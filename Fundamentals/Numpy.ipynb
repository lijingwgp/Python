{
 "cells": [
  {
   "cell_type": "markdown",
   "id": "sublime-claim",
   "metadata": {},
   "source": [
    "# Numpy\n",
    "\n",
    "NumPy is a powerful linear algebra library for Python. What makes it so important is that almost all of the libraries in the PyData ecosystem (pandas, scipy, scikit-learn, etc.) rely on NumPy as one of their main building blocks.\n",
    "\n",
    "NumPy is also incredibly fast, as it has bindings to C libraries."
   ]
  },
  {
   "cell_type": "code",
   "execution_count": 1,
   "id": "sexual-burner",
   "metadata": {},
   "outputs": [],
   "source": [
    "import numpy as np"
   ]
  },
  {
   "cell_type": "markdown",
   "id": "geological-cargo",
   "metadata": {},
   "source": [
    "## A) - Creating Arrays\n",
    "\n",
    "1. From a python list\n",
    "2. Built-in methods\n",
    "        a. arange\n",
    "        b. zeros, ones, empty\n",
    "        c. linspace\n",
    "        d. eye\n",
    "3. Random\n",
    "        a. rand\n",
    "        b. randn\n",
    "        c. randint\n",
    "        d. normal"
   ]
  },
  {
   "cell_type": "markdown",
   "id": "tutorial-match",
   "metadata": {},
   "source": [
    "### 1. From a python list\n",
    "\n",
    "We can create an array by directly converting a list or list of lists."
   ]
  },
  {
   "cell_type": "code",
   "execution_count": 2,
   "id": "great-muslim",
   "metadata": {},
   "outputs": [
    {
     "data": {
      "text/plain": [
       "[1, 2, 3]"
      ]
     },
     "metadata": {},
     "output_type": "display_data"
    },
    {
     "data": {
      "text/plain": [
       "list"
      ]
     },
     "metadata": {},
     "output_type": "display_data"
    }
   ],
   "source": [
    "a = [[1,2,3],[4,5,6],[7,8,9]]\n",
    "display(a, type(a))"
   ]
  },
  {
   "cell_type": "code",
   "execution_count": 3,
   "id": "premium-hungary",
   "metadata": {},
   "outputs": [
    {
     "data": {
      "text/plain": [
       "array([1, 2, 3])"
      ]
     },
     "metadata": {},
     "output_type": "display_data"
    },
    {
     "data": {
      "text/plain": [
       "numpy.ndarray"
      ]
     },
     "metadata": {},
     "output_type": "display_data"
    }
   ],
   "source": [
    "b = np.array(a)\n",
    "display(b, type(b))"
   ]
  },
  {
   "cell_type": "markdown",
   "id": "human-original",
   "metadata": {},
   "source": [
    "### 2. Built-in Methods"
   ]
  },
  {
   "cell_type": "code",
   "execution_count": 6,
   "id": "optimum-usage",
   "metadata": {},
   "outputs": [
    {
     "data": {
      "text/plain": [
       "array([0, 1, 2, 3, 4, 5, 6, 7, 8, 9])"
      ]
     },
     "metadata": {},
     "output_type": "display_data"
    },
    {
     "data": {
      "text/plain": [
       "array([ 0,  2,  4,  6,  8, 10, 12])"
      ]
     },
     "metadata": {},
     "output_type": "display_data"
    }
   ],
   "source": [
    "# arange\n",
    "\n",
    "a = np.arange(0,10)\n",
    "b = np.arange(0,14,2)\n",
    "display(a, b)"
   ]
  },
  {
   "cell_type": "code",
   "execution_count": 7,
   "id": "pretty-psychology",
   "metadata": {},
   "outputs": [
    {
     "data": {
      "text/plain": [
       "array([0., 0., 0., 0., 0.])"
      ]
     },
     "metadata": {},
     "output_type": "display_data"
    },
    {
     "data": {
      "text/plain": [
       "array([[0., 0., 0., 0., 0.],\n",
       "       [0., 0., 0., 0., 0.],\n",
       "       [0., 0., 0., 0., 0.],\n",
       "       [0., 0., 0., 0., 0.],\n",
       "       [0., 0., 0., 0., 0.]])"
      ]
     },
     "metadata": {},
     "output_type": "display_data"
    }
   ],
   "source": [
    "# zeros\n",
    "\n",
    "display(np.zeros(5), np.zeros([5,5]))"
   ]
  },
  {
   "cell_type": "code",
   "execution_count": 8,
   "id": "genuine-while",
   "metadata": {},
   "outputs": [
    {
     "data": {
      "text/plain": [
       "array([1., 1., 1.])"
      ]
     },
     "metadata": {},
     "output_type": "display_data"
    },
    {
     "data": {
      "text/plain": [
       "array([[1., 1., 1.],\n",
       "       [1., 1., 1.],\n",
       "       [1., 1., 1.]])"
      ]
     },
     "metadata": {},
     "output_type": "display_data"
    }
   ],
   "source": [
    "# ones\n",
    "\n",
    "display(np.ones(3), np.ones([3,3]))"
   ]
  },
  {
   "cell_type": "code",
   "execution_count": 59,
   "id": "lonely-worry",
   "metadata": {},
   "outputs": [
    {
     "data": {
      "text/plain": [
       "array([[1.72723371e-077, 1.72723371e-077, 1.48219694e-323],\n",
       "       [0.00000000e+000, 0.00000000e+000, 4.17201348e-309]])"
      ]
     },
     "execution_count": 59,
     "metadata": {},
     "output_type": "execute_result"
    }
   ],
   "source": [
    "# empty\n",
    "\n",
    "np.empty((2, 3))"
   ]
  },
  {
   "cell_type": "code",
   "execution_count": 58,
   "id": "absent-metro",
   "metadata": {},
   "outputs": [
    {
     "data": {
      "text/plain": [
       "array([0.        , 0.26315789, 0.52631579, 0.78947368, 1.05263158,\n",
       "       1.31578947, 1.57894737, 1.84210526, 2.10526316, 2.36842105,\n",
       "       2.63157895, 2.89473684, 3.15789474, 3.42105263, 3.68421053,\n",
       "       3.94736842, 4.21052632, 4.47368421, 4.73684211, 5.        ])"
      ]
     },
     "execution_count": 58,
     "metadata": {},
     "output_type": "execute_result"
    }
   ],
   "source": [
    "# linspace - evenly spaced numbers over a specified interval\n",
    "\n",
    "np.linspace(0,5,20)"
   ]
  },
  {
   "cell_type": "code",
   "execution_count": 10,
   "id": "rotary-dietary",
   "metadata": {},
   "outputs": [
    {
     "data": {
      "text/plain": [
       "array([[1., 0., 0., 0.],\n",
       "       [0., 1., 0., 0.],\n",
       "       [0., 0., 1., 0.],\n",
       "       [0., 0., 0., 1.]])"
      ]
     },
     "execution_count": 10,
     "metadata": {},
     "output_type": "execute_result"
    }
   ],
   "source": [
    "# eye - identity matrix\n",
    "\n",
    "np.eye(4)"
   ]
  },
  {
   "cell_type": "markdown",
   "id": "technical-showcase",
   "metadata": {},
   "source": [
    "### 3. Random\n",
    "\n",
    "Random number arrays"
   ]
  },
  {
   "cell_type": "code",
   "execution_count": 11,
   "id": "imposed-yahoo",
   "metadata": {},
   "outputs": [
    {
     "data": {
      "text/plain": [
       "array([0.80764383, 0.76225714])"
      ]
     },
     "metadata": {},
     "output_type": "display_data"
    },
    {
     "data": {
      "text/plain": [
       "array([[0.27036834, 0.85678452],\n",
       "       [0.083802  , 0.64736165]])"
      ]
     },
     "metadata": {},
     "output_type": "display_data"
    }
   ],
   "source": [
    "# rand\n",
    "# creates an array of the given shape and populates it with random samples from a uniform distribution over [0, 1)\n",
    "\n",
    "display(np.random.rand(2), np.random.rand(2,2))"
   ]
  },
  {
   "cell_type": "code",
   "execution_count": 12,
   "id": "limiting-cliff",
   "metadata": {},
   "outputs": [
    {
     "data": {
      "text/plain": [
       "array([0.97431599, 0.61222468])"
      ]
     },
     "metadata": {},
     "output_type": "display_data"
    },
    {
     "data": {
      "text/plain": [
       "array([[-1.37835409, -1.65646371, -1.10385015,  0.45492453,  0.70092519],\n",
       "       [-0.8129949 ,  1.86516292,  0.92305086,  1.06490496,  0.49650507],\n",
       "       [ 0.33722707,  0.1904781 ,  0.47382141,  1.29301402,  0.81578696],\n",
       "       [ 1.42249774, -0.43088155, -1.86314652,  2.10253013, -1.44900436],\n",
       "       [-0.28452621,  0.62250103,  1.62261002,  1.93176   ,  0.68675902]])"
      ]
     },
     "metadata": {},
     "output_type": "display_data"
    }
   ],
   "source": [
    "# randn\n",
    "# returns a sample (or samples) from the \"standard normal\" distribution\n",
    "\n",
    "display(np.random.randn(2), np.random.randn(5,5))"
   ]
  },
  {
   "cell_type": "code",
   "execution_count": 13,
   "id": "genetic-advance",
   "metadata": {},
   "outputs": [
    {
     "data": {
      "text/plain": [
       "71"
      ]
     },
     "metadata": {},
     "output_type": "display_data"
    },
    {
     "data": {
      "text/plain": [
       "array([38, 26, 93, 99, 99, 50, 82, 28, 69, 25])"
      ]
     },
     "metadata": {},
     "output_type": "display_data"
    }
   ],
   "source": [
    "# randint\n",
    "# returns random integers from low (inclusive) to high (exclusive)\n",
    "\n",
    "display(np.random.randint(1,100), np.random.randint(1,100,10))"
   ]
  },
  {
   "cell_type": "code",
   "execution_count": 14,
   "id": "trying-edition",
   "metadata": {},
   "outputs": [
    {
     "data": {
      "text/plain": [
       "4.7041134746096995"
      ]
     },
     "execution_count": 14,
     "metadata": {},
     "output_type": "execute_result"
    }
   ],
   "source": [
    "# normal\n",
    "# returns a sample (or samples) from the \"normal\" distribution\n",
    "\n",
    "np.random.normal(loc = 5, scale = 2)"
   ]
  },
  {
   "cell_type": "markdown",
   "id": "interracial-character",
   "metadata": {},
   "source": [
    "## B) - Array Methods and Attributes\n",
    "\n",
    "1. Reshape\n",
    "2. Array Information\n",
    "        a. ndim\n",
    "        b. shape\n",
    "        c. size\n",
    "        d. dtype"
   ]
  },
  {
   "cell_type": "markdown",
   "id": "martial-education",
   "metadata": {},
   "source": [
    "### 1. Reshape\n",
    "\n",
    "returns an array containing the same data with a new shape"
   ]
  },
  {
   "cell_type": "code",
   "execution_count": 15,
   "id": "continuous-newport",
   "metadata": {},
   "outputs": [
    {
     "data": {
      "text/plain": [
       "array([ 0,  1,  2,  3,  4,  5,  6,  7,  8,  9, 10, 11, 12, 13, 14, 15, 16,\n",
       "       17, 18, 19, 20, 21, 22, 23, 24])"
      ]
     },
     "metadata": {},
     "output_type": "display_data"
    },
    {
     "data": {
      "text/plain": [
       "array([[ 0,  1,  2,  3,  4],\n",
       "       [ 5,  6,  7,  8,  9],\n",
       "       [10, 11, 12, 13, 14],\n",
       "       [15, 16, 17, 18, 19],\n",
       "       [20, 21, 22, 23, 24]])"
      ]
     },
     "metadata": {},
     "output_type": "display_data"
    }
   ],
   "source": [
    "arr = np.arange(25)\n",
    "display(arr, arr.reshape(5,5))"
   ]
  },
  {
   "cell_type": "markdown",
   "id": "prescribed-bathroom",
   "metadata": {},
   "source": [
    "### 2. Array Information"
   ]
  },
  {
   "cell_type": "code",
   "execution_count": 57,
   "id": "canadian-amino",
   "metadata": {},
   "outputs": [
    {
     "data": {
      "text/plain": [
       "2"
      ]
     },
     "metadata": {},
     "output_type": "display_data"
    },
    {
     "data": {
      "text/plain": [
       "(3, 5)"
      ]
     },
     "metadata": {},
     "output_type": "display_data"
    },
    {
     "data": {
      "text/plain": [
       "(5, 3)"
      ]
     },
     "metadata": {},
     "output_type": "display_data"
    },
    {
     "data": {
      "text/plain": [
       "15"
      ]
     },
     "metadata": {},
     "output_type": "display_data"
    },
    {
     "data": {
      "text/plain": [
       "dtype('int64')"
      ]
     },
     "metadata": {},
     "output_type": "display_data"
    }
   ],
   "source": [
    "arr = np.array([[ 0,  1,  2,  3,  4],\n",
    "                [ 5,  6,  7,  8,  9],\n",
    "                [10, 11, 12, 13, 14]])\n",
    "\n",
    "display(arr.ndim, arr.shape, arr.reshape(5,3).shape, arr.size, arr.dtype)"
   ]
  },
  {
   "cell_type": "markdown",
   "id": "hollow-developer",
   "metadata": {},
   "source": [
    "## C) - Indexing and Selection\n",
    "\n",
    "1. Bracket indexing and selection\n",
    "2. Broadcasting\n",
    "3. Indexing a 2D array\n",
    "3. Conditional selection"
   ]
  },
  {
   "cell_type": "markdown",
   "id": "federal-holiday",
   "metadata": {},
   "source": [
    "### 1. Bracket indexing and selection"
   ]
  },
  {
   "cell_type": "code",
   "execution_count": 73,
   "id": "theoretical-millennium",
   "metadata": {},
   "outputs": [
    {
     "data": {
      "text/plain": [
       "array([ 0,  1,  2,  3,  4,  5,  6,  7,  8,  9, 10])"
      ]
     },
     "execution_count": 73,
     "metadata": {},
     "output_type": "execute_result"
    }
   ],
   "source": [
    "arr = np.arange(0,11)\n",
    "arr"
   ]
  },
  {
   "cell_type": "code",
   "execution_count": 70,
   "id": "appointed-trick",
   "metadata": {},
   "outputs": [
    {
     "data": {
      "text/plain": [
       "0"
      ]
     },
     "metadata": {},
     "output_type": "display_data"
    },
    {
     "data": {
      "text/plain": [
       "array([0, 1, 2, 3, 4])"
      ]
     },
     "metadata": {},
     "output_type": "display_data"
    },
    {
     "data": {
      "text/plain": [
       "array([ 5,  6,  7,  8,  9, 10])"
      ]
     },
     "metadata": {},
     "output_type": "display_data"
    },
    {
     "data": {
      "text/plain": [
       "9"
      ]
     },
     "metadata": {},
     "output_type": "display_data"
    }
   ],
   "source": [
    "display(arr[0], arr[0:5], arr[5:], arr[-2])"
   ]
  },
  {
   "cell_type": "markdown",
   "id": "successful-filling",
   "metadata": {},
   "source": [
    "### 2. Broadcasting\n",
    "\n",
    "NumPy arrays differ from normal Python lists because of their ability to broadcast. With lists, for example, you can only replace the first 5 elements in a list with a new 5 element list. With NumPy arrays, you can broadcast a single value across a larger set of values."
   ]
  },
  {
   "cell_type": "code",
   "execution_count": 75,
   "id": "handy-industry",
   "metadata": {},
   "outputs": [
    {
     "data": {
      "text/plain": [
       "array([9999, 9999, 9999, 9999, 9999])"
      ]
     },
     "execution_count": 75,
     "metadata": {},
     "output_type": "execute_result"
    }
   ],
   "source": [
    "part = arr[:5]\n",
    "part[:] = 9999\n",
    "part"
   ]
  },
  {
   "cell_type": "code",
   "execution_count": 76,
   "id": "formed-mineral",
   "metadata": {},
   "outputs": [
    {
     "data": {
      "text/plain": [
       "array([9999, 9999, 9999, 9999, 9999,    5,    6,    7,    8,    9,   10])"
      ]
     },
     "execution_count": 76,
     "metadata": {},
     "output_type": "execute_result"
    }
   ],
   "source": [
    "arr"
   ]
  },
  {
   "cell_type": "markdown",
   "id": "significant-trust",
   "metadata": {},
   "source": [
    "Note the changes also occur in our original array! This tells us the data is not copied, it's a view of the original array! Thus, to get a copy, we need to be explicit."
   ]
  },
  {
   "cell_type": "code",
   "execution_count": 77,
   "id": "great-fever",
   "metadata": {},
   "outputs": [
    {
     "data": {
      "text/plain": [
       "array([9999, 9999, 9999, 9999, 9999,    5,    6,    7,    8,    9,   10])"
      ]
     },
     "metadata": {},
     "output_type": "display_data"
    },
    {
     "data": {
      "text/plain": [
       "array([10000, 10000, 10000, 10000, 10000, 10000, 10000, 10000, 10000,\n",
       "       10000, 10000])"
      ]
     },
     "metadata": {},
     "output_type": "display_data"
    }
   ],
   "source": [
    "arr_copy = arr.copy()\n",
    "arr_copy[:] = 10000\n",
    "\n",
    "display(arr, arr_copy)"
   ]
  },
  {
   "cell_type": "markdown",
   "id": "fleet-deadline",
   "metadata": {},
   "source": [
    "### 3. Indexing a 2D array"
   ]
  },
  {
   "cell_type": "code",
   "execution_count": 65,
   "id": "sized-elite",
   "metadata": {},
   "outputs": [
    {
     "data": {
      "text/plain": [
       "array([[ 5, 10, 15],\n",
       "       [20, 25, 30],\n",
       "       [35, 40, 45]])"
      ]
     },
     "execution_count": 65,
     "metadata": {},
     "output_type": "execute_result"
    }
   ],
   "source": [
    "arr_2d = np.array(([5,10,15],[20,25,30],[35,40,45]))\n",
    "arr_2d"
   ]
  },
  {
   "cell_type": "code",
   "execution_count": 29,
   "id": "actual-conjunction",
   "metadata": {},
   "outputs": [
    {
     "data": {
      "text/plain": [
       "array([ 5, 10, 15])"
      ]
     },
     "execution_count": 29,
     "metadata": {},
     "output_type": "execute_result"
    }
   ],
   "source": [
    "# select row\n",
    "\n",
    "arr_2d[0]"
   ]
  },
  {
   "cell_type": "code",
   "execution_count": 30,
   "id": "entire-tours",
   "metadata": {},
   "outputs": [
    {
     "data": {
      "text/plain": [
       "20"
      ]
     },
     "execution_count": 30,
     "metadata": {},
     "output_type": "execute_result"
    }
   ],
   "source": [
    "# a single value\n",
    "\n",
    "arr_2d[1,0]"
   ]
  },
  {
   "cell_type": "code",
   "execution_count": 31,
   "id": "fourth-huntington",
   "metadata": {},
   "outputs": [
    {
     "data": {
      "text/plain": [
       "array([[10, 15],\n",
       "       [25, 30]])"
      ]
     },
     "execution_count": 31,
     "metadata": {},
     "output_type": "execute_result"
    }
   ],
   "source": [
    "# slicing\n",
    "\n",
    "arr_2d[:2,1:]"
   ]
  },
  {
   "cell_type": "code",
   "execution_count": 69,
   "id": "seventh-atlantic",
   "metadata": {},
   "outputs": [
    {
     "data": {
      "text/plain": [
       "array([20, 25, 30])"
      ]
     },
     "execution_count": 69,
     "metadata": {},
     "output_type": "execute_result"
    }
   ],
   "source": [
    "arr_2d[-2,]"
   ]
  },
  {
   "cell_type": "markdown",
   "id": "excited-sitting",
   "metadata": {},
   "source": [
    "### 4. Conditional Selection"
   ]
  },
  {
   "cell_type": "code",
   "execution_count": 32,
   "id": "exterior-personality",
   "metadata": {},
   "outputs": [
    {
     "data": {
      "text/plain": [
       "array([ 1,  2,  3,  4,  5,  6,  7,  8,  9, 10])"
      ]
     },
     "execution_count": 32,
     "metadata": {},
     "output_type": "execute_result"
    }
   ],
   "source": [
    "arr = np.arange(1,11)\n",
    "arr>4"
   ]
  },
  {
   "cell_type": "code",
   "execution_count": 35,
   "id": "velvet-hobby",
   "metadata": {},
   "outputs": [
    {
     "data": {
      "text/plain": [
       "array([ 9, 10])"
      ]
     },
     "execution_count": 35,
     "metadata": {},
     "output_type": "execute_result"
    }
   ],
   "source": [
    "arr[arr>8]"
   ]
  },
  {
   "cell_type": "markdown",
   "id": "structured-rolling",
   "metadata": {},
   "source": [
    "## D) - Operations\n",
    "\n",
    "1. Arithmetic and aggregations\n",
    "2. Array functions\n",
    "3. Axis logic\n",
    "4. Logic comparisons"
   ]
  },
  {
   "cell_type": "markdown",
   "id": "immediate-newman",
   "metadata": {},
   "source": [
    "### 1. Arithmetic and aggregations\n",
    "\n",
    "Note that operation between arrays are always applied elementwise"
   ]
  },
  {
   "cell_type": "code",
   "execution_count": 44,
   "id": "european-implementation",
   "metadata": {},
   "outputs": [
    {
     "data": {
      "text/plain": [
       "array([ 1,  2,  3,  4,  5,  6,  7,  8,  9, 10])"
      ]
     },
     "metadata": {},
     "output_type": "display_data"
    },
    {
     "data": {
      "text/plain": [
       "array([ 2,  4,  6,  8, 10, 12, 14, 16, 18, 20])"
      ]
     },
     "metadata": {},
     "output_type": "display_data"
    },
    {
     "data": {
      "text/plain": [
       "array([  1,   4,   9,  16,  25,  36,  49,  64,  81, 100])"
      ]
     },
     "metadata": {},
     "output_type": "display_data"
    },
    {
     "data": {
      "text/plain": [
       "array([1., 1., 1., 1., 1., 1., 1., 1., 1., 1.])"
      ]
     },
     "metadata": {},
     "output_type": "display_data"
    },
    {
     "data": {
      "text/plain": [
       "array([   1,    8,   27,   64,  125,  216,  343,  512,  729, 1000])"
      ]
     },
     "metadata": {},
     "output_type": "display_data"
    }
   ],
   "source": [
    "display(arr, arr+arr, arr*arr, arr/arr, arr**3)"
   ]
  },
  {
   "cell_type": "code",
   "execution_count": 79,
   "id": "comfortable-sheffield",
   "metadata": {},
   "outputs": [
    {
     "data": {
      "text/plain": [
       "array([ 6, 41, 21, 34, 48, 20, 16, 30, 10, 44])"
      ]
     },
     "metadata": {},
     "output_type": "display_data"
    },
    {
     "data": {
      "text/plain": [
       "48"
      ]
     },
     "metadata": {},
     "output_type": "display_data"
    },
    {
     "data": {
      "text/plain": [
       "4"
      ]
     },
     "metadata": {},
     "output_type": "display_data"
    },
    {
     "data": {
      "text/plain": [
       "6"
      ]
     },
     "metadata": {},
     "output_type": "display_data"
    },
    {
     "data": {
      "text/plain": [
       "0"
      ]
     },
     "metadata": {},
     "output_type": "display_data"
    }
   ],
   "source": [
    "ranarr = np.random.randint(0,50,10)\n",
    "display(ranarr, ranarr.max(), ranarr.argmax(), ranarr.min(), ranarr.argmin())"
   ]
  },
  {
   "cell_type": "markdown",
   "id": "brown-delhi",
   "metadata": {},
   "source": [
    "### 2. Array functions\n",
    "\n",
    "Array functions are essentially just mathematical operations that can be applied across the array."
   ]
  },
  {
   "cell_type": "code",
   "execution_count": 46,
   "id": "false-window",
   "metadata": {},
   "outputs": [
    {
     "data": {
      "text/plain": [
       "array([1.        , 1.41421356, 1.73205081, 2.        , 2.23606798,\n",
       "       2.44948974, 2.64575131, 2.82842712, 3.        , 3.16227766])"
      ]
     },
     "metadata": {},
     "output_type": "display_data"
    },
    {
     "data": {
      "text/plain": [
       "array([2.71828183e+00, 7.38905610e+00, 2.00855369e+01, 5.45981500e+01,\n",
       "       1.48413159e+02, 4.03428793e+02, 1.09663316e+03, 2.98095799e+03,\n",
       "       8.10308393e+03, 2.20264658e+04])"
      ]
     },
     "metadata": {},
     "output_type": "display_data"
    },
    {
     "data": {
      "text/plain": [
       "array([ 0.84147098,  0.90929743,  0.14112001, -0.7568025 , -0.95892427,\n",
       "       -0.2794155 ,  0.6569866 ,  0.98935825,  0.41211849, -0.54402111])"
      ]
     },
     "metadata": {},
     "output_type": "display_data"
    },
    {
     "data": {
      "text/plain": [
       "array([0.        , 0.69314718, 1.09861229, 1.38629436, 1.60943791,\n",
       "       1.79175947, 1.94591015, 2.07944154, 2.19722458, 2.30258509])"
      ]
     },
     "metadata": {},
     "output_type": "display_data"
    }
   ],
   "source": [
    "display(np.sqrt(arr), np.exp(arr), np.sin(arr), np.log(arr))"
   ]
  },
  {
   "cell_type": "markdown",
   "id": "knowing-trail",
   "metadata": {},
   "source": [
    "### 3. Axis logic\n",
    "\n",
    "When working with 2-dimensional arrays (matrices) we have to consider rows and columns. This becomes very important when we get to the section on pandas. In array terms, axis 0 refers to rows, and axis 1 refers columns. "
   ]
  },
  {
   "cell_type": "code",
   "execution_count": 87,
   "id": "parallel-buddy",
   "metadata": {},
   "outputs": [
    {
     "data": {
      "text/plain": [
       "array([[ 1,  2,  3,  4],\n",
       "       [ 5,  6,  7,  8],\n",
       "       [ 9, 10, 11, 12]])"
      ]
     },
     "execution_count": 87,
     "metadata": {},
     "output_type": "execute_result"
    }
   ],
   "source": [
    "arr_2d = np.array([[1,2,3,4],[5,6,7,8],[9,10,11,12]])\n",
    "arr_2d"
   ]
  },
  {
   "cell_type": "markdown",
   "id": "conservative-reform",
   "metadata": {},
   "source": [
    "By passing in axis=0, we're returning an array of sums along the vertical axis, essentially [(1+5+9), (2+6+10), (3+7+11), (4+8+12)]"
   ]
  },
  {
   "cell_type": "code",
   "execution_count": 90,
   "id": "operational-folks",
   "metadata": {},
   "outputs": [
    {
     "data": {
      "text/plain": [
       "array([15, 18, 21, 24])"
      ]
     },
     "execution_count": 90,
     "metadata": {},
     "output_type": "execute_result"
    }
   ],
   "source": [
    "arr_2d.sum(axis=0)"
   ]
  },
  {
   "cell_type": "code",
   "execution_count": 89,
   "id": "angry-grove",
   "metadata": {},
   "outputs": [
    {
     "data": {
      "text/plain": [
       "array([10, 26, 42])"
      ]
     },
     "execution_count": 89,
     "metadata": {},
     "output_type": "execute_result"
    }
   ],
   "source": [
    "arr_2d.sum(axis=1)"
   ]
  },
  {
   "cell_type": "markdown",
   "id": "initial-technician",
   "metadata": {},
   "source": [
    "### 4. Logic comparisons"
   ]
  },
  {
   "cell_type": "code",
   "execution_count": 71,
   "id": "stretch-mobile",
   "metadata": {},
   "outputs": [
    {
     "data": {
      "text/plain": [
       "array([False, False,  True])"
      ]
     },
     "execution_count": 71,
     "metadata": {},
     "output_type": "execute_result"
    }
   ],
   "source": [
    "a = np.array([1, 2, 3])\n",
    "b = np.array([5, 4, 3])\n",
    "a == b"
   ]
  },
  {
   "cell_type": "code",
   "execution_count": 72,
   "id": "matched-positive",
   "metadata": {
    "scrolled": true
   },
   "outputs": [
    {
     "data": {
      "text/plain": [
       "False"
      ]
     },
     "execution_count": 72,
     "metadata": {},
     "output_type": "execute_result"
    }
   ],
   "source": [
    "# If we want to compare the entire arrays, we can use Numpy's built in function\n",
    "\n",
    "np.array_equal(a, b)"
   ]
  },
  {
   "cell_type": "markdown",
   "id": "conceptual-herald",
   "metadata": {},
   "source": [
    "## E) - Other tips and tricks\n",
    "\n",
    "1. Sort\n",
    "2. Transposing array\n",
    "3. Flatten the array\n",
    "4. Adding or removing elements\n",
    "5. Combining arrays"
   ]
  },
  {
   "cell_type": "markdown",
   "id": "structured-lawrence",
   "metadata": {},
   "source": [
    "### 1. Sort"
   ]
  },
  {
   "cell_type": "code",
   "execution_count": 94,
   "id": "statistical-purchase",
   "metadata": {},
   "outputs": [
    {
     "data": {
      "text/plain": [
       "array([[ 2,  4,  8],\n",
       "       [ 1, 13,  7]])"
      ]
     },
     "execution_count": 94,
     "metadata": {},
     "output_type": "execute_result"
    }
   ],
   "source": [
    "a = np.array([[2, 4, 8], [1, 13, 7]])\n",
    "a"
   ]
  },
  {
   "cell_type": "code",
   "execution_count": 95,
   "id": "organizational-conservation",
   "metadata": {},
   "outputs": [
    {
     "data": {
      "text/plain": [
       "array([[ 1,  4,  7],\n",
       "       [ 2, 13,  8]])"
      ]
     },
     "execution_count": 95,
     "metadata": {},
     "output_type": "execute_result"
    }
   ],
   "source": [
    "# column-wise\n",
    "\n",
    "a.sort(axis=0)\n",
    "a"
   ]
  },
  {
   "cell_type": "code",
   "execution_count": 96,
   "id": "comparative-brother",
   "metadata": {},
   "outputs": [
    {
     "data": {
      "text/plain": [
       "array([[ 1,  4,  7],\n",
       "       [ 2,  8, 13]])"
      ]
     },
     "execution_count": 96,
     "metadata": {},
     "output_type": "execute_result"
    }
   ],
   "source": [
    "# row-wise\n",
    "\n",
    "a.sort(axis=1)\n",
    "a"
   ]
  },
  {
   "cell_type": "markdown",
   "id": "radical-relationship",
   "metadata": {},
   "source": [
    "### 2. Transposing"
   ]
  },
  {
   "cell_type": "code",
   "execution_count": 98,
   "id": "three-invite",
   "metadata": {},
   "outputs": [
    {
     "data": {
      "text/plain": [
       "array([[ 1,  2],\n",
       "       [ 4,  8],\n",
       "       [ 7, 13]])"
      ]
     },
     "execution_count": 98,
     "metadata": {},
     "output_type": "execute_result"
    }
   ],
   "source": [
    "np.transpose(a)"
   ]
  },
  {
   "cell_type": "markdown",
   "id": "hairy-morocco",
   "metadata": {},
   "source": [
    "### 3. Flatten the array"
   ]
  },
  {
   "cell_type": "code",
   "execution_count": 100,
   "id": "formal-university",
   "metadata": {},
   "outputs": [
    {
     "data": {
      "text/plain": [
       "array([ 1,  4,  7,  2,  8, 13])"
      ]
     },
     "execution_count": 100,
     "metadata": {},
     "output_type": "execute_result"
    }
   ],
   "source": [
    "a.ravel()"
   ]
  },
  {
   "cell_type": "markdown",
   "id": "educational-produce",
   "metadata": {},
   "source": [
    "### 4. Adding or removing elements"
   ]
  },
  {
   "cell_type": "code",
   "execution_count": 106,
   "id": "medium-botswana",
   "metadata": {},
   "outputs": [
    {
     "data": {
      "text/plain": [
       "array([1, 2, 3, 5, 4, 3])"
      ]
     },
     "execution_count": 106,
     "metadata": {},
     "output_type": "execute_result"
    }
   ],
   "source": [
    "a = np.array([1, 2, 3])\n",
    "b = np.array([5, 4, 3])\n",
    "\n",
    "np.append(a,b)"
   ]
  },
  {
   "cell_type": "code",
   "execution_count": 102,
   "id": "tropical-forestry",
   "metadata": {},
   "outputs": [
    {
     "data": {
      "text/plain": [
       "array([1, 5, 2, 3])"
      ]
     },
     "execution_count": 102,
     "metadata": {},
     "output_type": "execute_result"
    }
   ],
   "source": [
    "# Insert the number '5' at index 1 on axis 0\n",
    "\n",
    "np.insert(a, 1, 5, axis=0)"
   ]
  },
  {
   "cell_type": "code",
   "execution_count": 115,
   "id": "precious-movement",
   "metadata": {},
   "outputs": [
    {
     "data": {
      "text/plain": [
       "array([1, 3])"
      ]
     },
     "execution_count": 115,
     "metadata": {},
     "output_type": "execute_result"
    }
   ],
   "source": [
    "# Delete item at index 1 on axis 0\n",
    "\n",
    "np.delete(a, 1, axis=0)"
   ]
  },
  {
   "cell_type": "markdown",
   "id": "orange-arcade",
   "metadata": {},
   "source": [
    "### 5. Combining arrays"
   ]
  },
  {
   "cell_type": "code",
   "execution_count": 122,
   "id": "sharp-record",
   "metadata": {},
   "outputs": [
    {
     "data": {
      "text/plain": [
       "array([1, 2, 3, 5, 4, 3])"
      ]
     },
     "metadata": {},
     "output_type": "display_data"
    }
   ],
   "source": [
    "# Concatenate arrays a and b on axis 0\n",
    "\n",
    "display(np.concatenate((a, b), axis=0))"
   ]
  },
  {
   "cell_type": "code",
   "execution_count": 119,
   "id": "advised-shirt",
   "metadata": {},
   "outputs": [
    {
     "data": {
      "text/plain": [
       "array([[ 1,  2,  3,  4],\n",
       "       [ 5,  6,  7,  8],\n",
       "       [ 9, 10, 11, 12]])"
      ]
     },
     "execution_count": 119,
     "metadata": {},
     "output_type": "execute_result"
    }
   ],
   "source": [
    "arr_2d"
   ]
  },
  {
   "cell_type": "code",
   "execution_count": 124,
   "id": "clinical-result",
   "metadata": {},
   "outputs": [
    {
     "data": {
      "text/plain": [
       "array([[ 1,  2,  3,  4,  1,  2,  3,  4],\n",
       "       [ 5,  6,  7,  8,  5,  6,  7,  8],\n",
       "       [ 9, 10, 11, 12,  9, 10, 11, 12]])"
      ]
     },
     "metadata": {},
     "output_type": "display_data"
    }
   ],
   "source": [
    "# Combining multi-dimension array, column-wise\n",
    "\n",
    "display(np.concatenate((arr_2d, arr_2d), axis=1))"
   ]
  },
  {
   "cell_type": "code",
   "execution_count": 125,
   "id": "hispanic-interstate",
   "metadata": {},
   "outputs": [
    {
     "data": {
      "text/plain": [
       "array([[ 1,  2,  3,  4],\n",
       "       [ 5,  6,  7,  8],\n",
       "       [ 9, 10, 11, 12],\n",
       "       [ 1,  2,  3,  4],\n",
       "       [ 5,  6,  7,  8],\n",
       "       [ 9, 10, 11, 12]])"
      ]
     },
     "metadata": {},
     "output_type": "display_data"
    }
   ],
   "source": [
    "# Combining multi-dimension array, row-wise\n",
    "\n",
    "display(np.concatenate((arr_2d, arr_2d), axis=0))"
   ]
  },
  {
   "cell_type": "code",
   "execution_count": 127,
   "id": "desperate-accent",
   "metadata": {},
   "outputs": [
    {
     "data": {
      "text/plain": [
       "array([[ 1,  2,  3,  4],\n",
       "       [ 5,  6,  7,  8],\n",
       "       [ 9, 10, 11, 12],\n",
       "       [ 1,  2,  3,  4],\n",
       "       [ 5,  6,  7,  8],\n",
       "       [ 9, 10, 11, 12]])"
      ]
     },
     "execution_count": 127,
     "metadata": {},
     "output_type": "execute_result"
    }
   ],
   "source": [
    "# Combining, vstack, row-wise\n",
    "\n",
    "np.vstack((arr_2d, arr_2d))"
   ]
  },
  {
   "cell_type": "code",
   "execution_count": 128,
   "id": "opponent-algebra",
   "metadata": {},
   "outputs": [
    {
     "data": {
      "text/plain": [
       "array([[ 1,  2,  3,  4,  1,  2,  3,  4],\n",
       "       [ 5,  6,  7,  8,  5,  6,  7,  8],\n",
       "       [ 9, 10, 11, 12,  9, 10, 11, 12]])"
      ]
     },
     "execution_count": 128,
     "metadata": {},
     "output_type": "execute_result"
    }
   ],
   "source": [
    "# Combining, hstack, column-wise\n",
    "\n",
    "np.hstack((arr_2d, arr_2d))"
   ]
  },
  {
   "cell_type": "code",
   "execution_count": null,
   "id": "irish-helping",
   "metadata": {},
   "outputs": [],
   "source": []
  }
 ],
 "metadata": {
  "kernelspec": {
   "display_name": "Python 3",
   "language": "python",
   "name": "python3"
  },
  "language_info": {
   "codemirror_mode": {
    "name": "ipython",
    "version": 3
   },
   "file_extension": ".py",
   "mimetype": "text/x-python",
   "name": "python",
   "nbconvert_exporter": "python",
   "pygments_lexer": "ipython3",
   "version": "3.8.5"
  }
 },
 "nbformat": 4,
 "nbformat_minor": 5
}
