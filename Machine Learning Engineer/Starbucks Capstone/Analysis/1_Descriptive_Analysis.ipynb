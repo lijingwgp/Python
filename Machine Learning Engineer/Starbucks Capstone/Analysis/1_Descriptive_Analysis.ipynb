{
 "cells": [
  {
   "cell_type": "markdown",
   "metadata": {},
   "source": [
    "## Component objective\n",
    "\n",
    "This component is designed to provide a business user with a soft understanding of how customers can be viewed as a certain group based on some common characteristics. Upon the successful execution of this analysis, a user would be able to make conclusions, through descriptive analysis findings, about where do the current rewards offerings stand in terms of success rate, influence rate, etc. \n",
    "\n",
    "Methodology to be examined:\n",
    "- Common EDA techniques such as comparing customer group distributions, grouped by tables, bar charts, and density graphs. "
   ]
  },
  {
   "cell_type": "markdown",
   "metadata": {},
   "source": [
    "## Table of contents\n",
    "\n",
    "1. Descriptive analysis\n",
    "    - Data loading\n",
    "    - Profile dataset initial analysis\n",
    "    - Transcript dataset initial analysis\n",
    "2. Cross dataset analysis\n",
    "    - EDA on the joined dataset from portfolio and transcript\n",
    "    - EDA on the joined dataset from profile and transcript"
   ]
  },
  {
   "cell_type": "markdown",
   "metadata": {},
   "source": [
    "## 1. Descriptive analysis"
   ]
  },
  {
   "cell_type": "markdown",
   "metadata": {},
   "source": [
    "### 1.0 Data loading"
   ]
  },
  {
   "cell_type": "code",
   "execution_count": 5,
   "metadata": {},
   "outputs": [],
   "source": [
    "# import libraries\n",
    "\n",
    "import pandas as pd\n",
    "import numpy as np\n",
    "import math\n",
    "import json\n",
    "import seaborn as sns\n",
    "import matplotlib.pyplot as plt\n",
    "import warnings\n",
    "\n",
    "warnings.filterwarnings(\"ignore\")"
   ]
  },
  {
   "cell_type": "code",
   "execution_count": 6,
   "metadata": {},
   "outputs": [],
   "source": [
    "# read in the json files\n",
    "\n",
    "portfolio = pd.read_json('C:/Users/607991/Desktop/Starbucks Capstone/Data/portfolio.json', orient='records', lines=True)\n",
    "profile = pd.read_json('C:/Users/607991/Desktop/Starbucks Capstone/Data/profile.json', orient='records', lines=True)\n",
    "transcript = pd.read_json('C:/Users/607991/Desktop/Starbucks Capstone/Data/transcript.json', orient='records', lines=True)"
   ]
  },
  {
   "cell_type": "markdown",
   "metadata": {},
   "source": [
    "### 1.1 Initial analysis - profile"
   ]
  },
  {
   "cell_type": "code",
   "execution_count": 7,
   "metadata": {},
   "outputs": [
    {
     "data": {
      "text/html": [
       "<div>\n",
       "<style scoped>\n",
       "    .dataframe tbody tr th:only-of-type {\n",
       "        vertical-align: middle;\n",
       "    }\n",
       "\n",
       "    .dataframe tbody tr th {\n",
       "        vertical-align: top;\n",
       "    }\n",
       "\n",
       "    .dataframe thead th {\n",
       "        text-align: right;\n",
       "    }\n",
       "</style>\n",
       "<table border=\"1\" class=\"dataframe\">\n",
       "  <thead>\n",
       "    <tr style=\"text-align: right;\">\n",
       "      <th></th>\n",
       "      <th>age</th>\n",
       "      <th>became_member_on</th>\n",
       "      <th>gender</th>\n",
       "      <th>id</th>\n",
       "      <th>income</th>\n",
       "    </tr>\n",
       "  </thead>\n",
       "  <tbody>\n",
       "    <tr>\n",
       "      <th>0</th>\n",
       "      <td>118</td>\n",
       "      <td>20170212</td>\n",
       "      <td>None</td>\n",
       "      <td>68be06ca386d4c31939f3a4f0e3dd783</td>\n",
       "      <td>NaN</td>\n",
       "    </tr>\n",
       "    <tr>\n",
       "      <th>1</th>\n",
       "      <td>55</td>\n",
       "      <td>20170715</td>\n",
       "      <td>F</td>\n",
       "      <td>0610b486422d4921ae7d2bf64640c50b</td>\n",
       "      <td>112000.0</td>\n",
       "    </tr>\n",
       "    <tr>\n",
       "      <th>2</th>\n",
       "      <td>118</td>\n",
       "      <td>20180712</td>\n",
       "      <td>None</td>\n",
       "      <td>38fe809add3b4fcf9315a9694bb96ff5</td>\n",
       "      <td>NaN</td>\n",
       "    </tr>\n",
       "    <tr>\n",
       "      <th>3</th>\n",
       "      <td>75</td>\n",
       "      <td>20170509</td>\n",
       "      <td>F</td>\n",
       "      <td>78afa995795e4d85b5d9ceeca43f5fef</td>\n",
       "      <td>100000.0</td>\n",
       "    </tr>\n",
       "    <tr>\n",
       "      <th>4</th>\n",
       "      <td>118</td>\n",
       "      <td>20170804</td>\n",
       "      <td>None</td>\n",
       "      <td>a03223e636434f42ac4c3df47e8bac43</td>\n",
       "      <td>NaN</td>\n",
       "    </tr>\n",
       "    <tr>\n",
       "      <th>5</th>\n",
       "      <td>68</td>\n",
       "      <td>20180426</td>\n",
       "      <td>M</td>\n",
       "      <td>e2127556f4f64592b11af22de27a7932</td>\n",
       "      <td>70000.0</td>\n",
       "    </tr>\n",
       "    <tr>\n",
       "      <th>6</th>\n",
       "      <td>118</td>\n",
       "      <td>20170925</td>\n",
       "      <td>None</td>\n",
       "      <td>8ec6ce2a7e7949b1bf142def7d0e0586</td>\n",
       "      <td>NaN</td>\n",
       "    </tr>\n",
       "    <tr>\n",
       "      <th>7</th>\n",
       "      <td>118</td>\n",
       "      <td>20171002</td>\n",
       "      <td>None</td>\n",
       "      <td>68617ca6246f4fbc85e91a2a49552598</td>\n",
       "      <td>NaN</td>\n",
       "    </tr>\n",
       "    <tr>\n",
       "      <th>8</th>\n",
       "      <td>65</td>\n",
       "      <td>20180209</td>\n",
       "      <td>M</td>\n",
       "      <td>389bc3fa690240e798340f5a15918d5c</td>\n",
       "      <td>53000.0</td>\n",
       "    </tr>\n",
       "    <tr>\n",
       "      <th>9</th>\n",
       "      <td>118</td>\n",
       "      <td>20161122</td>\n",
       "      <td>None</td>\n",
       "      <td>8974fc5686fe429db53ddde067b88302</td>\n",
       "      <td>NaN</td>\n",
       "    </tr>\n",
       "  </tbody>\n",
       "</table>\n",
       "</div>"
      ],
      "text/plain": [
       "   age  became_member_on gender                                id    income\n",
       "0  118          20170212   None  68be06ca386d4c31939f3a4f0e3dd783       NaN\n",
       "1   55          20170715      F  0610b486422d4921ae7d2bf64640c50b  112000.0\n",
       "2  118          20180712   None  38fe809add3b4fcf9315a9694bb96ff5       NaN\n",
       "3   75          20170509      F  78afa995795e4d85b5d9ceeca43f5fef  100000.0\n",
       "4  118          20170804   None  a03223e636434f42ac4c3df47e8bac43       NaN\n",
       "5   68          20180426      M  e2127556f4f64592b11af22de27a7932   70000.0\n",
       "6  118          20170925   None  8ec6ce2a7e7949b1bf142def7d0e0586       NaN\n",
       "7  118          20171002   None  68617ca6246f4fbc85e91a2a49552598       NaN\n",
       "8   65          20180209      M  389bc3fa690240e798340f5a15918d5c   53000.0\n",
       "9  118          20161122   None  8974fc5686fe429db53ddde067b88302       NaN"
      ]
     },
     "metadata": {},
     "output_type": "display_data"
    },
    {
     "name": "stdout",
     "output_type": "stream",
     "text": [
      "<class 'pandas.core.frame.DataFrame'>\n",
      "RangeIndex: 17000 entries, 0 to 16999\n",
      "Data columns (total 5 columns):\n",
      "age                 17000 non-null int64\n",
      "became_member_on    17000 non-null int64\n",
      "gender              14825 non-null object\n",
      "id                  17000 non-null object\n",
      "income              14825 non-null float64\n",
      "dtypes: float64(1), int64(2), object(2)\n",
      "memory usage: 664.1+ KB\n"
     ]
    },
    {
     "data": {
      "text/plain": [
       "None"
      ]
     },
     "metadata": {},
     "output_type": "display_data"
    }
   ],
   "source": [
    "# first glance\n",
    "\n",
    "display(profile.head(10))\n",
    "display(profile.info())"
   ]
  },
  {
   "cell_type": "markdown",
   "metadata": {},
   "source": [
    "- We have total of 17000 unique individuals, 4 numeric features, and 1 categorical feature\n",
    "- 'gender' and 'income' contain missing values. Since both columns has the exact same number of missig values, it is suspected that these missing values are associated with each other, meaning, whenever a record that has missing gender info, it also has missing income info."
   ]
  },
  {
   "cell_type": "code",
   "execution_count": 8,
   "metadata": {},
   "outputs": [
    {
     "data": {
      "text/html": [
       "<div>\n",
       "<style scoped>\n",
       "    .dataframe tbody tr th:only-of-type {\n",
       "        vertical-align: middle;\n",
       "    }\n",
       "\n",
       "    .dataframe tbody tr th {\n",
       "        vertical-align: top;\n",
       "    }\n",
       "\n",
       "    .dataframe thead th {\n",
       "        text-align: right;\n",
       "    }\n",
       "</style>\n",
       "<table border=\"1\" class=\"dataframe\">\n",
       "  <thead>\n",
       "    <tr style=\"text-align: right;\">\n",
       "      <th></th>\n",
       "      <th>count</th>\n",
       "      <th>mean</th>\n",
       "      <th>std</th>\n",
       "      <th>min</th>\n",
       "      <th>25%</th>\n",
       "      <th>50%</th>\n",
       "      <th>75%</th>\n",
       "      <th>max</th>\n",
       "    </tr>\n",
       "  </thead>\n",
       "  <tbody>\n",
       "    <tr>\n",
       "      <th>age</th>\n",
       "      <td>17000.0</td>\n",
       "      <td>6.253141e+01</td>\n",
       "      <td>26.738580</td>\n",
       "      <td>18.0</td>\n",
       "      <td>45.0</td>\n",
       "      <td>58.0</td>\n",
       "      <td>73.0</td>\n",
       "      <td>118.0</td>\n",
       "    </tr>\n",
       "    <tr>\n",
       "      <th>became_member_on</th>\n",
       "      <td>17000.0</td>\n",
       "      <td>2.016703e+07</td>\n",
       "      <td>11677.499961</td>\n",
       "      <td>20130729.0</td>\n",
       "      <td>20160526.0</td>\n",
       "      <td>20170802.0</td>\n",
       "      <td>20171230.0</td>\n",
       "      <td>20180726.0</td>\n",
       "    </tr>\n",
       "    <tr>\n",
       "      <th>income</th>\n",
       "      <td>14825.0</td>\n",
       "      <td>6.540499e+04</td>\n",
       "      <td>21598.299410</td>\n",
       "      <td>30000.0</td>\n",
       "      <td>49000.0</td>\n",
       "      <td>64000.0</td>\n",
       "      <td>80000.0</td>\n",
       "      <td>120000.0</td>\n",
       "    </tr>\n",
       "  </tbody>\n",
       "</table>\n",
       "</div>"
      ],
      "text/plain": [
       "                    count          mean           std         min         25%  \\\n",
       "age               17000.0  6.253141e+01     26.738580        18.0        45.0   \n",
       "became_member_on  17000.0  2.016703e+07  11677.499961  20130729.0  20160526.0   \n",
       "income            14825.0  6.540499e+04  21598.299410     30000.0     49000.0   \n",
       "\n",
       "                         50%         75%         max  \n",
       "age                     58.0        73.0       118.0  \n",
       "became_member_on  20170802.0  20171230.0  20180726.0  \n",
       "income               64000.0     80000.0    120000.0  "
      ]
     },
     "metadata": {},
     "output_type": "display_data"
    },
    {
     "data": {
      "text/html": [
       "<div>\n",
       "<style scoped>\n",
       "    .dataframe tbody tr th:only-of-type {\n",
       "        vertical-align: middle;\n",
       "    }\n",
       "\n",
       "    .dataframe tbody tr th {\n",
       "        vertical-align: top;\n",
       "    }\n",
       "\n",
       "    .dataframe thead th {\n",
       "        text-align: right;\n",
       "    }\n",
       "</style>\n",
       "<table border=\"1\" class=\"dataframe\">\n",
       "  <thead>\n",
       "    <tr style=\"text-align: right;\">\n",
       "      <th></th>\n",
       "      <th>count</th>\n",
       "      <th>unique</th>\n",
       "      <th>top</th>\n",
       "      <th>freq</th>\n",
       "    </tr>\n",
       "  </thead>\n",
       "  <tbody>\n",
       "    <tr>\n",
       "      <th>gender</th>\n",
       "      <td>14825</td>\n",
       "      <td>3</td>\n",
       "      <td>M</td>\n",
       "      <td>8484</td>\n",
       "    </tr>\n",
       "  </tbody>\n",
       "</table>\n",
       "</div>"
      ],
      "text/plain": [
       "        count unique top  freq\n",
       "gender  14825      3   M  8484"
      ]
     },
     "metadata": {},
     "output_type": "display_data"
    }
   ],
   "source": [
    "# set customer id as index\n",
    "\n",
    "profile.set_index('id', inplace=True)\n",
    "\n",
    "# numeric features\n",
    "\n",
    "display(profile.describe().T, profile.describe(include='object').T)"
   ]
  },
  {
   "cell_type": "markdown",
   "metadata": {},
   "source": [
    "- We observe that the max value for the age column is 118, this is noted in the provided dataset info. Whenever there is a missing value in the age column, 118 is used as a replacement."
   ]
  },
  {
   "cell_type": "code",
   "execution_count": 9,
   "metadata": {},
   "outputs": [
    {
     "name": "stdout",
     "output_type": "stream",
     "text": [
      "Male population is: 8484 , 49.91 percent of the total customers\n",
      "Female population is: 6129 , 36.05 percent of the total customers \n",
      "\n",
      "Missing gender population is: 2175 , 12.79 percent of the total customers\n",
      "Missing income population is: 2175 , 12.79 percent of the total customers\n"
     ]
    },
    {
     "data": {
      "image/png": "[encoded data removed]",
      "text/plain": [
       "<Figure size 504x432 with 1 Axes>"
      ]
     },
     "metadata": {
      "needs_background": "light"
     },
     "output_type": "display_data"
    }
   ],
   "source": [
    "# demographics based on age, income, and gender\n",
    "\n",
    "fig, ax =plt.subplots(figsize=(7,6))\n",
    "sns.distplot( profile.loc[profile[\"gender\"]=='M', 'age'] , color=\"cyan\", label=\"Male\", ax=ax)\n",
    "sns.distplot( profile.loc[profile[\"gender\"]=='F', 'age'] , color=\"red\", label=\"Female\", ax=ax)\n",
    "plt.legend()\n",
    "\n",
    "print('Male population is:', len(profile.query('gender==\"M\"')), ', %.2f percent of the total customers' % (len(profile.query('gender==\"M\"'))/profile.shape[0]*100))\n",
    "print('Female population is:', len(profile.query('gender==\"F\"')), ', %.2f percent of the total customers' % (len(profile.query('gender==\"F\"'))/profile.shape[0]*100),'\\n')\n",
    "print('Missing gender population is:', profile.gender.isnull().sum(), ', %.2f percent of the total customers' % (profile.gender.isnull().sum()/profile.shape[0]*100))\n",
    "print('Missing income population is:', profile.income.isnull().sum(), ', %.2f percent of the total customers' % (profile.income.isnull().sum()/profile.shape[0]*100))"
   ]
  },
  {
   "cell_type": "code",
   "execution_count": 10,
   "metadata": {},
   "outputs": [
    {
     "data": {
      "text/plain": [
       "<matplotlib.legend.Legend at 0x1ee17ad1cf8>"
      ]
     },
     "execution_count": 10,
     "metadata": {},
     "output_type": "execute_result"
    },
    {
     "data": {
      "image/png": "[encoded data removed]",
      "text/plain": [
       "<Figure size 504x432 with 1 Axes>"
      ]
     },
     "metadata": {
      "needs_background": "light"
     },
     "output_type": "display_data"
    }
   ],
   "source": [
    "fig, ax =plt.subplots(figsize=(7,6))\n",
    "sns.distplot( profile.loc[profile[\"gender\"]=='M', 'income'] , color=\"cyan\", label=\"Male\", ax=ax)\n",
    "sns.distplot( profile.loc[profile[\"gender\"]=='F', 'income'] , color=\"red\", label=\"Female\", ax=ax)\n",
    "plt.legend()"
   ]
  },
  {
   "cell_type": "markdown",
   "metadata": {},
   "source": [
    "- Almost 50% of the data population is male, while 36% is female, and 12.8% doesn't have gender info.\n",
    "- The age column follows a almost perfect bell curve centered around at 60 for both female and male population. It's observed that blow the age of 50, there is more male population is larger than the female population.\n",
    "- The income column has a couple local peaks, which are around about \\\\$58,000, and \\\\$75,000. It's observed that the male population is larger than the female population when the income level belows \\\\$70,000. "
   ]
  },
  {
   "cell_type": "code",
   "execution_count": 11,
   "metadata": {},
   "outputs": [
    {
     "data": {
      "text/plain": [
       "<seaborn.axisgrid.JointGrid at 0x1ee17b24be0>"
      ]
     },
     "execution_count": 11,
     "metadata": {},
     "output_type": "execute_result"
    },
    {
     "data": {
      "image/png": "[encoded data removed]",
      "text/plain": [
       "<Figure size 1124.62x360 with 1 Axes>"
      ]
     },
     "metadata": {
      "needs_background": "light"
     },
     "output_type": "display_data"
    },
    {
     "data": {
      "image/png": "[encoded data removed]",
      "text/plain": [
       "<Figure size 432x432 with 3 Axes>"
      ]
     },
     "metadata": {
      "needs_background": "light"
     },
     "output_type": "display_data"
    }
   ],
   "source": [
    "# age vs. income\n",
    "\n",
    "labels = [\"{0}-{1}\".format(i, i+9) for i in range(0,100,10)]\n",
    "profile['age_group'] = pd.cut(profile.age, range(0,101,10), right=False, labels=labels)\n",
    "\n",
    "sns.catplot(x=\"age_group\", y=\"income\", hue=\"gender\", kind=\"box\", data=profile, height=5, aspect=3)\n",
    "sns.jointplot(x=\"age\", y=\"income\", data=profile, kind='kde')"
   ]
  },
  {
   "cell_type": "markdown",
   "metadata": {},
   "source": [
    "- For the female population, the median income is higher then that of the rest of the groups across all age groups.\n",
    "- For both female and male, the most population has their age centers around age 50-70, and income centers just under \\\\$60,000 and \\\\$70,000. This is in sync with previous observations."
   ]
  },
  {
   "cell_type": "code",
   "execution_count": 12,
   "metadata": {},
   "outputs": [
    {
     "data": {
      "image/png": "[encoded data removed]",
      "text/plain": [
       "<Figure size 648x1080 with 4 Axes>"
      ]
     },
     "metadata": {
      "needs_background": "light"
     },
     "output_type": "display_data"
    }
   ],
   "source": [
    "# analyze time variable\n",
    "\n",
    "profile['became_member_on'] = pd.to_datetime(profile['became_member_on'], format='%Y%m%d')\n",
    "profile['became_member_year'] = profile.became_member_on.dt.year\n",
    "profile['became_member_month'] = profile.became_member_on.dt.month\n",
    "profile['became_member_day'] = profile.became_member_on.dt.day\n",
    "profile['became_member_weekday'] = profile.became_member_on.dt.weekday\n",
    "\n",
    "fig, ax =plt.subplots(4,1, figsize=(9,15))\n",
    "a = sns.kdeplot(profile['became_member_year'], ax=ax[0], shade=True)\n",
    "b = sns.kdeplot(profile['became_member_month'], ax=ax[1], shade=True)\n",
    "c = sns.kdeplot(profile['became_member_day'], ax=ax[2], shade=True)\n",
    "d = sns.kdeplot(profile['became_member_weekday'], ax=ax[3], shade=True)\n",
    "a.set_xlabel(\"Year\",fontsize=13)\n",
    "b.set_xlabel(\"Month\",fontsize=13)\n",
    "c.set_xlabel(\"Day\",fontsize=13)\n",
    "d.set_xlabel(\"Weekday\",fontsize=13)\n",
    "fig.show()"
   ]
  },
  {
   "cell_type": "markdown",
   "metadata": {},
   "source": [
    "- We see a steady growth trend in terms of membership sign-ups. Year of 2017 is the peak among all years, 2018 shows a decay but still remains higher then year 2016. \n",
    "- There is no particular date, or weekday that has the highest number of sign-ups. However, there is a slight bump with number of sign-ups during the fall/winter months (Aug - Dec). "
   ]
  },
  {
   "cell_type": "markdown",
   "metadata": {},
   "source": [
    "### 1.1 Initial conclusion - profile\n",
    "\n",
    "Summary:\n",
    "- We have total of 17000 unique individuals, 4 numeric features, and 1 categorical feature\n",
    "- 'gender' and 'income' contain missing values. Since both columns has the exact same number of missig values, it is suspected that these missing values are associated with each other, meaning, whenever a record that has missing gender info, it also has missing income info.\n",
    "- We observe that the max value for the age column is 118, this is noted in the provided dataset info. Whenever there is a missing value in the age column, 118 is used as a replacement.\n",
    "- Almost 50% of the data population is male, while 36% is female, and 12.8% doesn't have gender info.\n",
    "- The age column follows a almost perfect bell curve centered around at 60 for both female and male population. It's observed that blow the age of 50, there is more male population is larger than the female population.\n",
    "- The income column has a couple local peaks, which are around about \\\\$58,000, and \\\\$75,000. It's observed that the male population is larger than the female population when the income level is below \\\\$70,000. \n",
    "- For the female population, the median income is higher then that of male customers across all age groups.\n",
    "- For both female and male, the most population has their age centers around age 50-70, and income centers just under \\\\$60,000 and \\\\$70,000. This is in sync with the previous observations.\n",
    "- We see a steady growth trend in terms of membership sign-ups. Year of 2017 is the peak among all years, 2018 shows a decay but still remains higher then year 2016. \n",
    "- There is no particular date, or weekday that has the highest number of sign-ups. However, there is a slight bump with number of sign-ups during the fall/winter months (Aug - Dec). \n",
    "\n",
    "Conclusion:\n",
    "1. gender and age: \n",
    "    - There are 17000 unique customers. While half of them are male, about 36% are female and the rest are labeled as NAN in the gender column. Both male and female population are around 55-60 years old. However, the male population is moderately younger than the female population due to the fact that there are more males under the age of 50 than that of the females.\n",
    "2. income:\n",
    "    - It's observed that there are more males who make less than about \\\\$70,000 than that of females, while the opposite is true when considering people who make more than \\\\$70,000. In addition, the median income of the female group is higher than that of the male's across all age groups. When pass the age of 50, it is shown that female tend to have a higher income than male do by a large margin. \n",
    "    - It's concluded that the female group while may be moderately older than the male group, they are very likely to have a higher income than the male customers.\n",
    "3. membership sign-ups:\n",
    "    - It's observed that the number of membership sign-ups has shown a steady increase in recent years. Winter months might play a role in membership sign-ups due to the potential effect of holiday seasons."
   ]
  },
  {
   "cell_type": "markdown",
   "metadata": {},
   "source": [
    "### 1.2 Initial analysis - transcript"
   ]
  },
  {
   "cell_type": "code",
   "execution_count": 13,
   "metadata": {},
   "outputs": [
    {
     "data": {
      "text/html": [
       "<div>\n",
       "<style scoped>\n",
       "    .dataframe tbody tr th:only-of-type {\n",
       "        vertical-align: middle;\n",
       "    }\n",
       "\n",
       "    .dataframe tbody tr th {\n",
       "        vertical-align: top;\n",
       "    }\n",
       "\n",
       "    .dataframe thead th {\n",
       "        text-align: right;\n",
       "    }\n",
       "</style>\n",
       "<table border=\"1\" class=\"dataframe\">\n",
       "  <thead>\n",
       "    <tr style=\"text-align: right;\">\n",
       "      <th></th>\n",
       "      <th>event</th>\n",
       "      <th>person</th>\n",
       "      <th>time</th>\n",
       "      <th>value</th>\n",
       "    </tr>\n",
       "  </thead>\n",
       "  <tbody>\n",
       "    <tr>\n",
       "      <th>0</th>\n",
       "      <td>offer received</td>\n",
       "      <td>78afa995795e4d85b5d9ceeca43f5fef</td>\n",
       "      <td>0</td>\n",
       "      <td>{'offer id': '9b98b8c7a33c4b65b9aebfe6a799e6d9'}</td>\n",
       "    </tr>\n",
       "    <tr>\n",
       "      <th>1</th>\n",
       "      <td>offer received</td>\n",
       "      <td>a03223e636434f42ac4c3df47e8bac43</td>\n",
       "      <td>0</td>\n",
       "      <td>{'offer id': '0b1e1539f2cc45b7b9fa7c272da2e1d7'}</td>\n",
       "    </tr>\n",
       "    <tr>\n",
       "      <th>2</th>\n",
       "      <td>offer received</td>\n",
       "      <td>e2127556f4f64592b11af22de27a7932</td>\n",
       "      <td>0</td>\n",
       "      <td>{'offer id': '2906b810c7d4411798c6938adc9daaa5'}</td>\n",
       "    </tr>\n",
       "    <tr>\n",
       "      <th>3</th>\n",
       "      <td>offer received</td>\n",
       "      <td>8ec6ce2a7e7949b1bf142def7d0e0586</td>\n",
       "      <td>0</td>\n",
       "      <td>{'offer id': 'fafdcd668e3743c1bb461111dcafc2a4'}</td>\n",
       "    </tr>\n",
       "    <tr>\n",
       "      <th>4</th>\n",
       "      <td>offer received</td>\n",
       "      <td>68617ca6246f4fbc85e91a2a49552598</td>\n",
       "      <td>0</td>\n",
       "      <td>{'offer id': '4d5c57ea9a6940dd891ad53e9dbe8da0'}</td>\n",
       "    </tr>\n",
       "    <tr>\n",
       "      <th>5</th>\n",
       "      <td>offer received</td>\n",
       "      <td>389bc3fa690240e798340f5a15918d5c</td>\n",
       "      <td>0</td>\n",
       "      <td>{'offer id': 'f19421c1d4aa40978ebb69ca19b0e20d'}</td>\n",
       "    </tr>\n",
       "    <tr>\n",
       "      <th>6</th>\n",
       "      <td>offer received</td>\n",
       "      <td>c4863c7985cf408faee930f111475da3</td>\n",
       "      <td>0</td>\n",
       "      <td>{'offer id': '2298d6c36e964ae4a3e7e9706d1fb8c2'}</td>\n",
       "    </tr>\n",
       "    <tr>\n",
       "      <th>7</th>\n",
       "      <td>offer received</td>\n",
       "      <td>2eeac8d8feae4a8cad5a6af0499a211d</td>\n",
       "      <td>0</td>\n",
       "      <td>{'offer id': '3f207df678b143eea3cee63160fa8bed'}</td>\n",
       "    </tr>\n",
       "    <tr>\n",
       "      <th>8</th>\n",
       "      <td>offer received</td>\n",
       "      <td>aa4862eba776480b8bb9c68455b8c2e1</td>\n",
       "      <td>0</td>\n",
       "      <td>{'offer id': '0b1e1539f2cc45b7b9fa7c272da2e1d7'}</td>\n",
       "    </tr>\n",
       "    <tr>\n",
       "      <th>9</th>\n",
       "      <td>offer received</td>\n",
       "      <td>31dda685af34476cad5bc968bdb01c53</td>\n",
       "      <td>0</td>\n",
       "      <td>{'offer id': '0b1e1539f2cc45b7b9fa7c272da2e1d7'}</td>\n",
       "    </tr>\n",
       "  </tbody>\n",
       "</table>\n",
       "</div>"
      ],
      "text/plain": [
       "            event                            person  time  \\\n",
       "0  offer received  78afa995795e4d85b5d9ceeca43f5fef     0   \n",
       "1  offer received  a03223e636434f42ac4c3df47e8bac43     0   \n",
       "2  offer received  e2127556f4f64592b11af22de27a7932     0   \n",
       "3  offer received  8ec6ce2a7e7949b1bf142def7d0e0586     0   \n",
       "4  offer received  68617ca6246f4fbc85e91a2a49552598     0   \n",
       "5  offer received  389bc3fa690240e798340f5a15918d5c     0   \n",
       "6  offer received  c4863c7985cf408faee930f111475da3     0   \n",
       "7  offer received  2eeac8d8feae4a8cad5a6af0499a211d     0   \n",
       "8  offer received  aa4862eba776480b8bb9c68455b8c2e1     0   \n",
       "9  offer received  31dda685af34476cad5bc968bdb01c53     0   \n",
       "\n",
       "                                              value  \n",
       "0  {'offer id': '9b98b8c7a33c4b65b9aebfe6a799e6d9'}  \n",
       "1  {'offer id': '0b1e1539f2cc45b7b9fa7c272da2e1d7'}  \n",
       "2  {'offer id': '2906b810c7d4411798c6938adc9daaa5'}  \n",
       "3  {'offer id': 'fafdcd668e3743c1bb461111dcafc2a4'}  \n",
       "4  {'offer id': '4d5c57ea9a6940dd891ad53e9dbe8da0'}  \n",
       "5  {'offer id': 'f19421c1d4aa40978ebb69ca19b0e20d'}  \n",
       "6  {'offer id': '2298d6c36e964ae4a3e7e9706d1fb8c2'}  \n",
       "7  {'offer id': '3f207df678b143eea3cee63160fa8bed'}  \n",
       "8  {'offer id': '0b1e1539f2cc45b7b9fa7c272da2e1d7'}  \n",
       "9  {'offer id': '0b1e1539f2cc45b7b9fa7c272da2e1d7'}  "
      ]
     },
     "metadata": {},
     "output_type": "display_data"
    },
    {
     "data": {
      "text/plain": [
       "(306534, 4)"
      ]
     },
     "metadata": {},
     "output_type": "display_data"
    }
   ],
   "source": [
    "# transcript\n",
    "\n",
    "display(transcript.head(10), transcript.shape)"
   ]
  },
  {
   "cell_type": "code",
   "execution_count": 14,
   "metadata": {},
   "outputs": [
    {
     "name": "stdout",
     "output_type": "stream",
     "text": [
      "The total number of events in this dataset is: 306534\n",
      "The total number of people in this dataset: 306534, which means people included in this dataset must be assigned to an event.\n",
      "Please note that we have total of 17000 unique customers obtained from the profile dataset. \n",
      "\n",
      "The following are the counts for each type of events from this dataset \n",
      " transaction        138953\n",
      "offer received      76277\n",
      "offer viewed        57725\n",
      "offer completed     33579\n",
      "Name: event, dtype: int64 \n",
      "\n"
     ]
    },
    {
     "data": {
      "text/plain": [
       "<matplotlib.axes._subplots.AxesSubplot at 0x1ee17d4dd68>"
      ]
     },
     "execution_count": 14,
     "metadata": {},
     "output_type": "execute_result"
    },
    {
     "data": {
      "image/png": "[encoded data removed]",
      "text/plain": [
       "<Figure size 432x288 with 1 Axes>"
      ]
     },
     "metadata": {
      "needs_background": "light"
     },
     "output_type": "display_data"
    }
   ],
   "source": [
    "# basic statistics\n",
    "\n",
    "print('The total number of events in this dataset is: %.0f' % transcript.event.value_counts().sum())\n",
    "print('The total number of people in this dataset: %.0f, which means people included in this dataset must be assigned to an event.' % len(transcript.person))\n",
    "print('Please note that we have total of 17000 unique customers obtained from the profile dataset.', '\\n')\n",
    "print('The following are the counts for each type of events from this dataset', '\\n', transcript.event.value_counts(), '\\n')\n",
    "\n",
    "transcript.event.value_counts().plot.bar()"
   ]
  },
  {
   "cell_type": "code",
   "execution_count": 15,
   "metadata": {},
   "outputs": [
    {
     "data": {
      "text/html": [
       "<div>\n",
       "<style scoped>\n",
       "    .dataframe tbody tr th:only-of-type {\n",
       "        vertical-align: middle;\n",
       "    }\n",
       "\n",
       "    .dataframe tbody tr th {\n",
       "        vertical-align: top;\n",
       "    }\n",
       "\n",
       "    .dataframe thead th {\n",
       "        text-align: right;\n",
       "    }\n",
       "</style>\n",
       "<table border=\"1\" class=\"dataframe\">\n",
       "  <thead>\n",
       "    <tr style=\"text-align: right;\">\n",
       "      <th></th>\n",
       "      <th>event</th>\n",
       "      <th>person</th>\n",
       "      <th>time</th>\n",
       "      <th>amount</th>\n",
       "      <th>offer_id</th>\n",
       "      <th>reward</th>\n",
       "    </tr>\n",
       "  </thead>\n",
       "  <tbody>\n",
       "    <tr>\n",
       "      <th>0</th>\n",
       "      <td>offer received</td>\n",
       "      <td>78afa995795e4d85b5d9ceeca43f5fef</td>\n",
       "      <td>0</td>\n",
       "      <td>NaN</td>\n",
       "      <td>9b98b8c7a33c4b65b9aebfe6a799e6d9</td>\n",
       "      <td>NaN</td>\n",
       "    </tr>\n",
       "    <tr>\n",
       "      <th>1</th>\n",
       "      <td>offer received</td>\n",
       "      <td>a03223e636434f42ac4c3df47e8bac43</td>\n",
       "      <td>0</td>\n",
       "      <td>NaN</td>\n",
       "      <td>0b1e1539f2cc45b7b9fa7c272da2e1d7</td>\n",
       "      <td>NaN</td>\n",
       "    </tr>\n",
       "    <tr>\n",
       "      <th>2</th>\n",
       "      <td>offer received</td>\n",
       "      <td>e2127556f4f64592b11af22de27a7932</td>\n",
       "      <td>0</td>\n",
       "      <td>NaN</td>\n",
       "      <td>2906b810c7d4411798c6938adc9daaa5</td>\n",
       "      <td>NaN</td>\n",
       "    </tr>\n",
       "    <tr>\n",
       "      <th>3</th>\n",
       "      <td>offer received</td>\n",
       "      <td>8ec6ce2a7e7949b1bf142def7d0e0586</td>\n",
       "      <td>0</td>\n",
       "      <td>NaN</td>\n",
       "      <td>fafdcd668e3743c1bb461111dcafc2a4</td>\n",
       "      <td>NaN</td>\n",
       "    </tr>\n",
       "    <tr>\n",
       "      <th>4</th>\n",
       "      <td>offer received</td>\n",
       "      <td>68617ca6246f4fbc85e91a2a49552598</td>\n",
       "      <td>0</td>\n",
       "      <td>NaN</td>\n",
       "      <td>4d5c57ea9a6940dd891ad53e9dbe8da0</td>\n",
       "      <td>NaN</td>\n",
       "    </tr>\n",
       "  </tbody>\n",
       "</table>\n",
       "</div>"
      ],
      "text/plain": [
       "            event                            person  time  amount  \\\n",
       "0  offer received  78afa995795e4d85b5d9ceeca43f5fef     0     NaN   \n",
       "1  offer received  a03223e636434f42ac4c3df47e8bac43     0     NaN   \n",
       "2  offer received  e2127556f4f64592b11af22de27a7932     0     NaN   \n",
       "3  offer received  8ec6ce2a7e7949b1bf142def7d0e0586     0     NaN   \n",
       "4  offer received  68617ca6246f4fbc85e91a2a49552598     0     NaN   \n",
       "\n",
       "                           offer_id  reward  \n",
       "0  9b98b8c7a33c4b65b9aebfe6a799e6d9     NaN  \n",
       "1  0b1e1539f2cc45b7b9fa7c272da2e1d7     NaN  \n",
       "2  2906b810c7d4411798c6938adc9daaa5     NaN  \n",
       "3  fafdcd668e3743c1bb461111dcafc2a4     NaN  \n",
       "4  4d5c57ea9a6940dd891ad53e9dbe8da0     NaN  "
      ]
     },
     "execution_count": 15,
     "metadata": {},
     "output_type": "execute_result"
    }
   ],
   "source": [
    "# unpack the value column\n",
    "\n",
    "transcript = transcript.join(pd.DataFrame.from_records(transcript.pop('value')))\n",
    "transcript.offer_id.update(transcript.pop('offer id'))\n",
    "transcript.head()"
   ]
  },
  {
   "cell_type": "code",
   "execution_count": 12,
   "metadata": {},
   "outputs": [
    {
     "data": {
      "text/html": [
       "<div>\n",
       "<style scoped>\n",
       "    .dataframe tbody tr th:only-of-type {\n",
       "        vertical-align: middle;\n",
       "    }\n",
       "\n",
       "    .dataframe tbody tr th {\n",
       "        vertical-align: top;\n",
       "    }\n",
       "\n",
       "    .dataframe thead th {\n",
       "        text-align: right;\n",
       "    }\n",
       "</style>\n",
       "<table border=\"1\" class=\"dataframe\">\n",
       "  <thead>\n",
       "    <tr style=\"text-align: right;\">\n",
       "      <th></th>\n",
       "      <th>event</th>\n",
       "      <th>person</th>\n",
       "      <th>time</th>\n",
       "      <th>amount</th>\n",
       "      <th>offer_id</th>\n",
       "      <th>reward</th>\n",
       "    </tr>\n",
       "  </thead>\n",
       "  <tbody>\n",
       "    <tr>\n",
       "      <th>0</th>\n",
       "      <td>offer received</td>\n",
       "      <td>78afa995795e4d85b5d9ceeca43f5fef</td>\n",
       "      <td>0</td>\n",
       "      <td>NaN</td>\n",
       "      <td>9b98b8c7a33c4b65b9aebfe6a799e6d9</td>\n",
       "      <td>NaN</td>\n",
       "    </tr>\n",
       "    <tr>\n",
       "      <th>1</th>\n",
       "      <td>offer received</td>\n",
       "      <td>a03223e636434f42ac4c3df47e8bac43</td>\n",
       "      <td>0</td>\n",
       "      <td>NaN</td>\n",
       "      <td>0b1e1539f2cc45b7b9fa7c272da2e1d7</td>\n",
       "      <td>NaN</td>\n",
       "    </tr>\n",
       "    <tr>\n",
       "      <th>2</th>\n",
       "      <td>offer received</td>\n",
       "      <td>e2127556f4f64592b11af22de27a7932</td>\n",
       "      <td>0</td>\n",
       "      <td>NaN</td>\n",
       "      <td>2906b810c7d4411798c6938adc9daaa5</td>\n",
       "      <td>NaN</td>\n",
       "    </tr>\n",
       "    <tr>\n",
       "      <th>3</th>\n",
       "      <td>offer received</td>\n",
       "      <td>8ec6ce2a7e7949b1bf142def7d0e0586</td>\n",
       "      <td>0</td>\n",
       "      <td>NaN</td>\n",
       "      <td>fafdcd668e3743c1bb461111dcafc2a4</td>\n",
       "      <td>NaN</td>\n",
       "    </tr>\n",
       "    <tr>\n",
       "      <th>4</th>\n",
       "      <td>offer received</td>\n",
       "      <td>68617ca6246f4fbc85e91a2a49552598</td>\n",
       "      <td>0</td>\n",
       "      <td>NaN</td>\n",
       "      <td>4d5c57ea9a6940dd891ad53e9dbe8da0</td>\n",
       "      <td>NaN</td>\n",
       "    </tr>\n",
       "  </tbody>\n",
       "</table>\n",
       "</div>"
      ],
      "text/plain": [
       "            event                            person  time  amount  \\\n",
       "0  offer received  78afa995795e4d85b5d9ceeca43f5fef     0     NaN   \n",
       "1  offer received  a03223e636434f42ac4c3df47e8bac43     0     NaN   \n",
       "2  offer received  e2127556f4f64592b11af22de27a7932     0     NaN   \n",
       "3  offer received  8ec6ce2a7e7949b1bf142def7d0e0586     0     NaN   \n",
       "4  offer received  68617ca6246f4fbc85e91a2a49552598     0     NaN   \n",
       "\n",
       "                           offer_id  reward  \n",
       "0  9b98b8c7a33c4b65b9aebfe6a799e6d9     NaN  \n",
       "1  0b1e1539f2cc45b7b9fa7c272da2e1d7     NaN  \n",
       "2  2906b810c7d4411798c6938adc9daaa5     NaN  \n",
       "3  fafdcd668e3743c1bb461111dcafc2a4     NaN  \n",
       "4  4d5c57ea9a6940dd891ad53e9dbe8da0     NaN  "
      ]
     },
     "metadata": {},
     "output_type": "display_data"
    },
    {
     "data": {
      "text/html": [
       "<div>\n",
       "<style scoped>\n",
       "    .dataframe tbody tr th:only-of-type {\n",
       "        vertical-align: middle;\n",
       "    }\n",
       "\n",
       "    .dataframe tbody tr th {\n",
       "        vertical-align: top;\n",
       "    }\n",
       "\n",
       "    .dataframe thead th {\n",
       "        text-align: right;\n",
       "    }\n",
       "</style>\n",
       "<table border=\"1\" class=\"dataframe\">\n",
       "  <thead>\n",
       "    <tr style=\"text-align: right;\">\n",
       "      <th></th>\n",
       "      <th>event</th>\n",
       "      <th>person</th>\n",
       "      <th>time</th>\n",
       "      <th>amount</th>\n",
       "      <th>offer_id</th>\n",
       "      <th>reward</th>\n",
       "    </tr>\n",
       "  </thead>\n",
       "  <tbody>\n",
       "    <tr>\n",
       "      <th>12650</th>\n",
       "      <td>offer viewed</td>\n",
       "      <td>389bc3fa690240e798340f5a15918d5c</td>\n",
       "      <td>0</td>\n",
       "      <td>NaN</td>\n",
       "      <td>f19421c1d4aa40978ebb69ca19b0e20d</td>\n",
       "      <td>NaN</td>\n",
       "    </tr>\n",
       "    <tr>\n",
       "      <th>12651</th>\n",
       "      <td>offer viewed</td>\n",
       "      <td>d1ede868e29245ea91818a903fec04c6</td>\n",
       "      <td>0</td>\n",
       "      <td>NaN</td>\n",
       "      <td>5a8bc65990b245e5a138643cd4eb9837</td>\n",
       "      <td>NaN</td>\n",
       "    </tr>\n",
       "    <tr>\n",
       "      <th>12652</th>\n",
       "      <td>offer viewed</td>\n",
       "      <td>102e9454054946fda62242d2e176fdce</td>\n",
       "      <td>0</td>\n",
       "      <td>NaN</td>\n",
       "      <td>4d5c57ea9a6940dd891ad53e9dbe8da0</td>\n",
       "      <td>NaN</td>\n",
       "    </tr>\n",
       "    <tr>\n",
       "      <th>12653</th>\n",
       "      <td>offer viewed</td>\n",
       "      <td>02c083884c7d45b39cc68e1314fec56c</td>\n",
       "      <td>0</td>\n",
       "      <td>NaN</td>\n",
       "      <td>ae264e3637204a6fb9bb56bc8210ddfd</td>\n",
       "      <td>NaN</td>\n",
       "    </tr>\n",
       "    <tr>\n",
       "      <th>12655</th>\n",
       "      <td>offer viewed</td>\n",
       "      <td>be8a5d1981a2458d90b255ddc7e0d174</td>\n",
       "      <td>0</td>\n",
       "      <td>NaN</td>\n",
       "      <td>5a8bc65990b245e5a138643cd4eb9837</td>\n",
       "      <td>NaN</td>\n",
       "    </tr>\n",
       "  </tbody>\n",
       "</table>\n",
       "</div>"
      ],
      "text/plain": [
       "              event                            person  time  amount  \\\n",
       "12650  offer viewed  389bc3fa690240e798340f5a15918d5c     0     NaN   \n",
       "12651  offer viewed  d1ede868e29245ea91818a903fec04c6     0     NaN   \n",
       "12652  offer viewed  102e9454054946fda62242d2e176fdce     0     NaN   \n",
       "12653  offer viewed  02c083884c7d45b39cc68e1314fec56c     0     NaN   \n",
       "12655  offer viewed  be8a5d1981a2458d90b255ddc7e0d174     0     NaN   \n",
       "\n",
       "                               offer_id  reward  \n",
       "12650  f19421c1d4aa40978ebb69ca19b0e20d     NaN  \n",
       "12651  5a8bc65990b245e5a138643cd4eb9837     NaN  \n",
       "12652  4d5c57ea9a6940dd891ad53e9dbe8da0     NaN  \n",
       "12653  ae264e3637204a6fb9bb56bc8210ddfd     NaN  \n",
       "12655  5a8bc65990b245e5a138643cd4eb9837     NaN  "
      ]
     },
     "metadata": {},
     "output_type": "display_data"
    },
    {
     "data": {
      "text/html": [
       "<div>\n",
       "<style scoped>\n",
       "    .dataframe tbody tr th:only-of-type {\n",
       "        vertical-align: middle;\n",
       "    }\n",
       "\n",
       "    .dataframe tbody tr th {\n",
       "        vertical-align: top;\n",
       "    }\n",
       "\n",
       "    .dataframe thead th {\n",
       "        text-align: right;\n",
       "    }\n",
       "</style>\n",
       "<table border=\"1\" class=\"dataframe\">\n",
       "  <thead>\n",
       "    <tr style=\"text-align: right;\">\n",
       "      <th></th>\n",
       "      <th>event</th>\n",
       "      <th>person</th>\n",
       "      <th>time</th>\n",
       "      <th>amount</th>\n",
       "      <th>offer_id</th>\n",
       "      <th>reward</th>\n",
       "    </tr>\n",
       "  </thead>\n",
       "  <tbody>\n",
       "    <tr>\n",
       "      <th>12654</th>\n",
       "      <td>transaction</td>\n",
       "      <td>02c083884c7d45b39cc68e1314fec56c</td>\n",
       "      <td>0</td>\n",
       "      <td>0.83</td>\n",
       "      <td>NaN</td>\n",
       "      <td>NaN</td>\n",
       "    </tr>\n",
       "    <tr>\n",
       "      <th>12657</th>\n",
       "      <td>transaction</td>\n",
       "      <td>9fa9ae8f57894cc9a3b8a9bbe0fc1b2f</td>\n",
       "      <td>0</td>\n",
       "      <td>34.56</td>\n",
       "      <td>NaN</td>\n",
       "      <td>NaN</td>\n",
       "    </tr>\n",
       "    <tr>\n",
       "      <th>12659</th>\n",
       "      <td>transaction</td>\n",
       "      <td>54890f68699049c2a04d415abc25e717</td>\n",
       "      <td>0</td>\n",
       "      <td>13.23</td>\n",
       "      <td>NaN</td>\n",
       "      <td>NaN</td>\n",
       "    </tr>\n",
       "    <tr>\n",
       "      <th>12670</th>\n",
       "      <td>transaction</td>\n",
       "      <td>b2f1cd155b864803ad8334cdf13c4bd2</td>\n",
       "      <td>0</td>\n",
       "      <td>19.51</td>\n",
       "      <td>NaN</td>\n",
       "      <td>NaN</td>\n",
       "    </tr>\n",
       "    <tr>\n",
       "      <th>12671</th>\n",
       "      <td>transaction</td>\n",
       "      <td>fe97aa22dd3e48c8b143116a8403dd52</td>\n",
       "      <td>0</td>\n",
       "      <td>18.97</td>\n",
       "      <td>NaN</td>\n",
       "      <td>NaN</td>\n",
       "    </tr>\n",
       "  </tbody>\n",
       "</table>\n",
       "</div>"
      ],
      "text/plain": [
       "             event                            person  time  amount offer_id  \\\n",
       "12654  transaction  02c083884c7d45b39cc68e1314fec56c     0    0.83      NaN   \n",
       "12657  transaction  9fa9ae8f57894cc9a3b8a9bbe0fc1b2f     0   34.56      NaN   \n",
       "12659  transaction  54890f68699049c2a04d415abc25e717     0   13.23      NaN   \n",
       "12670  transaction  b2f1cd155b864803ad8334cdf13c4bd2     0   19.51      NaN   \n",
       "12671  transaction  fe97aa22dd3e48c8b143116a8403dd52     0   18.97      NaN   \n",
       "\n",
       "       reward  \n",
       "12654     NaN  \n",
       "12657     NaN  \n",
       "12659     NaN  \n",
       "12670     NaN  \n",
       "12671     NaN  "
      ]
     },
     "metadata": {},
     "output_type": "display_data"
    },
    {
     "data": {
      "text/html": [
       "<div>\n",
       "<style scoped>\n",
       "    .dataframe tbody tr th:only-of-type {\n",
       "        vertical-align: middle;\n",
       "    }\n",
       "\n",
       "    .dataframe tbody tr th {\n",
       "        vertical-align: top;\n",
       "    }\n",
       "\n",
       "    .dataframe thead th {\n",
       "        text-align: right;\n",
       "    }\n",
       "</style>\n",
       "<table border=\"1\" class=\"dataframe\">\n",
       "  <thead>\n",
       "    <tr style=\"text-align: right;\">\n",
       "      <th></th>\n",
       "      <th>event</th>\n",
       "      <th>person</th>\n",
       "      <th>time</th>\n",
       "      <th>amount</th>\n",
       "      <th>offer_id</th>\n",
       "      <th>reward</th>\n",
       "    </tr>\n",
       "  </thead>\n",
       "  <tbody>\n",
       "    <tr>\n",
       "      <th>12658</th>\n",
       "      <td>offer completed</td>\n",
       "      <td>9fa9ae8f57894cc9a3b8a9bbe0fc1b2f</td>\n",
       "      <td>0</td>\n",
       "      <td>NaN</td>\n",
       "      <td>2906b810c7d4411798c6938adc9daaa5</td>\n",
       "      <td>2.0</td>\n",
       "    </tr>\n",
       "    <tr>\n",
       "      <th>12672</th>\n",
       "      <td>offer completed</td>\n",
       "      <td>fe97aa22dd3e48c8b143116a8403dd52</td>\n",
       "      <td>0</td>\n",
       "      <td>NaN</td>\n",
       "      <td>fafdcd668e3743c1bb461111dcafc2a4</td>\n",
       "      <td>2.0</td>\n",
       "    </tr>\n",
       "    <tr>\n",
       "      <th>12679</th>\n",
       "      <td>offer completed</td>\n",
       "      <td>629fc02d56414d91bca360decdfa9288</td>\n",
       "      <td>0</td>\n",
       "      <td>NaN</td>\n",
       "      <td>9b98b8c7a33c4b65b9aebfe6a799e6d9</td>\n",
       "      <td>5.0</td>\n",
       "    </tr>\n",
       "    <tr>\n",
       "      <th>12692</th>\n",
       "      <td>offer completed</td>\n",
       "      <td>676506bad68e4161b9bbaffeb039626b</td>\n",
       "      <td>0</td>\n",
       "      <td>NaN</td>\n",
       "      <td>ae264e3637204a6fb9bb56bc8210ddfd</td>\n",
       "      <td>10.0</td>\n",
       "    </tr>\n",
       "    <tr>\n",
       "      <th>12697</th>\n",
       "      <td>offer completed</td>\n",
       "      <td>8f7dd3b2afe14c078eb4f6e6fe4ba97d</td>\n",
       "      <td>0</td>\n",
       "      <td>NaN</td>\n",
       "      <td>4d5c57ea9a6940dd891ad53e9dbe8da0</td>\n",
       "      <td>10.0</td>\n",
       "    </tr>\n",
       "  </tbody>\n",
       "</table>\n",
       "</div>"
      ],
      "text/plain": [
       "                 event                            person  time  amount  \\\n",
       "12658  offer completed  9fa9ae8f57894cc9a3b8a9bbe0fc1b2f     0     NaN   \n",
       "12672  offer completed  fe97aa22dd3e48c8b143116a8403dd52     0     NaN   \n",
       "12679  offer completed  629fc02d56414d91bca360decdfa9288     0     NaN   \n",
       "12692  offer completed  676506bad68e4161b9bbaffeb039626b     0     NaN   \n",
       "12697  offer completed  8f7dd3b2afe14c078eb4f6e6fe4ba97d     0     NaN   \n",
       "\n",
       "                               offer_id  reward  \n",
       "12658  2906b810c7d4411798c6938adc9daaa5     2.0  \n",
       "12672  fafdcd668e3743c1bb461111dcafc2a4     2.0  \n",
       "12679  9b98b8c7a33c4b65b9aebfe6a799e6d9     5.0  \n",
       "12692  ae264e3637204a6fb9bb56bc8210ddfd    10.0  \n",
       "12697  4d5c57ea9a6940dd891ad53e9dbe8da0    10.0  "
      ]
     },
     "metadata": {},
     "output_type": "display_data"
    }
   ],
   "source": [
    "# scenarios 1 - offer received, there is offer id, but amount and reward is nan\n",
    "\n",
    "display(transcript.query('event == \"offer received\"').head())\n",
    "\n",
    "# scenarios 2 - offer viewd, there is offer id, but amount and reward is nan\n",
    "\n",
    "display(transcript.query('event == \"offer viewed\"').head())\n",
    "\n",
    "# scenarios 3 - transaction, there is amount, but offer id and reward is nan\n",
    "\n",
    "display(transcript.query('event == \"transaction\"').head())\n",
    "\n",
    "# scenarios 4 - offer completed, there is reward and offer id, but amount is nan\n",
    "\n",
    "display(transcript.query('event == \"offer completed\"').head())\n"
   ]
  },
  {
   "cell_type": "markdown",
   "metadata": {},
   "source": [
    "- offer id and amount are mutually exclusive, meaning that whenever there is an offer id, the amount has to be nan. offer id is associated with offer received, offer viewed, and offer completed.\n",
    "- reward is only associated with offer complete.\n",
    "- amount is only associated with transaction; in addition, amount and reward are mutually exclusive.\n",
    "- we need to take these scenarios into consideration from now on."
   ]
  },
  {
   "cell_type": "code",
   "execution_count": 13,
   "metadata": {},
   "outputs": [
    {
     "data": {
      "text/plain": [
       "Text(0.5, 0, 'spend amount')"
      ]
     },
     "execution_count": 13,
     "metadata": {},
     "output_type": "execute_result"
    },
    {
     "data": {
      "image/png": "[encoded data removed]",
      "text/plain": [
       "<Figure size 648x1080 with 3 Axes>"
      ]
     },
     "metadata": {
      "needs_background": "light"
     },
     "output_type": "display_data"
    }
   ],
   "source": [
    "# plot population density distribution by rewards amount, and spend amount\n",
    "\n",
    "fig, ax =plt.subplots(3,1, figsize=(9,15))\n",
    "a = sns.kdeplot(transcript['reward'], ax=ax[0], shade=True)\n",
    "b = sns.kdeplot(transcript['amount'], ax=ax[1], shade=True)\n",
    "c = sns.kdeplot(transcript.loc[transcript['amount']<100, 'amount'], ax=ax[2], shade=True)\n",
    "a.set_xlabel(\"reward amount\",fontsize=13)\n",
    "b.set_xlabel(\"spend amount\",fontsize=13)\n",
    "c.set_xlabel(\"spend amount\",fontsize=13)"
   ]
  },
  {
   "cell_type": "markdown",
   "metadata": {},
   "source": [
    "- From most frequent to least frequent, the rewards amount to each individual person are \\\\$5 dollars, followed by \\\\$2, then \\\\$10 dollars.\n",
    "- For a single tranaction, there are more customers who spent less than about \\\\$10 dollars, and less customers who spend more than about \\\\$20 dollars. Please note that these numbers are the results of only looking at tranactions one at a time. If a customer who spent \\\\$10 dollars today and \\\\$20 dollars tomorrow, these transactions will be viewed as two different transactions."
   ]
  },
  {
   "cell_type": "code",
   "execution_count": 14,
   "metadata": {},
   "outputs": [
    {
     "data": {
      "text/plain": [
       "person\n",
       "94de646f7b6041228ca7dec82adb97d2    45\n",
       "8dbfa485249f409aa223a2130f40634a    44\n",
       "79d9d4f86aca4bed9290350fb43817c2    43\n",
       "d0a80415b84c4df4908b8403b19765e3    42\n",
       "5e60c6aa3b834e44b822ea43a3efea26    42\n",
       "b1f4ece7d49342628a9ed77aee2cde58    41\n",
       "28681c16026943e68f26feaccab0907f    40\n",
       "a42ed50acc4d4b25bca647c9e0b916ad    40\n",
       "bd2cdd691aca4bb0a0e039979ee5de5c    40\n",
       "ab25fd6fbd5040f880751921e4029757    39\n",
       "Name: event, dtype: int64"
      ]
     },
     "metadata": {},
     "output_type": "display_data"
    },
    {
     "data": {
      "text/plain": [
       "person\n",
       "d727102ac242449ab15f1bd1af28e6ff    1\n",
       "a33e1e7f26ea4b9a824bf1902ee073fc    1\n",
       "0b8684abe074418d9ec08eee090f1859    1\n",
       "f89cde99c9bf4182a371dd808a0ad2f1    1\n",
       "3045af4e98794a04a5542d3eac939b1f    1\n",
       "45893c3890f14906a2143e55fd3cbf6f    1\n",
       "2cd61834c34d4127b161568aa8104d10    1\n",
       "f173f2b63b5c474fbaf848f60a8f38cf    1\n",
       "c3f3b8193c8a4133b8bd0654f82654a1    1\n",
       "b52302342d674c9784218a66bf550cca    1\n",
       "Name: event, dtype: int64"
      ]
     },
     "metadata": {},
     "output_type": "display_data"
    },
    {
     "data": {
      "text/plain": [
       "<matplotlib.axes._subplots.AxesSubplot at 0x20b6959fd30>"
      ]
     },
     "execution_count": 14,
     "metadata": {},
     "output_type": "execute_result"
    },
    {
     "data": {
      "image/png": "[encoded data removed]",
      "text/plain": [
       "<Figure size 432x288 with 1 Axes>"
      ]
     },
     "metadata": {
      "needs_background": "light"
     },
     "output_type": "display_data"
    }
   ],
   "source": [
    "# top 10 most/least active customers\n",
    "# \"active\" is defined as number of actions are being made after received an offer\n",
    "# plot the total number of events density distribution \n",
    "# note that the total number of events for each person could be: offer viewd, transaction, offer completed\n",
    "# we purposely exclude the event type \"offer received\" because this is a passive action, so it has no further required actions\n",
    "\n",
    "display(transcript.query('event != \"offer received\"').groupby('person').count().sort_values(by='event',ascending=False)['event'][:10])\n",
    "display(transcript.query('event != \"offer received\"').groupby('person').count().sort_values(by='event',ascending=True)['event'][:10])\n",
    "\n",
    "sns.kdeplot(transcript.query('event != \"offer received\"').groupby('person').count().sort_values(by='event',ascending=False)['event'], shade=True)"
   ]
  },
  {
   "cell_type": "markdown",
   "metadata": {},
   "source": [
    "- In terms of the type of events (opened, transaction, completed) that could happen to a customer, there are customers who initiated as many as 45 such events, and there are customers who initiated as less as 1 such event.\n",
    "- The majority of the population initiate about 10 events, all types of events are considered except \"offer received\" since this is a passive action. "
   ]
  },
  {
   "cell_type": "code",
   "execution_count": 15,
   "metadata": {},
   "outputs": [
    {
     "data": {
      "text/plain": [
       "person\n",
       "ffff82501cea40309d5fdd7edcca4a07    6\n",
       "c509fe1f9c464c4881d158f453491d23    6\n",
       "4e61c5266747430e950bbdb0e522722b    6\n",
       "295698c734bb4aa9a77b8986670d723f    6\n",
       "bf6849a39d3640069a65f44f8b01f5da    6\n",
       "84f92efc819047ec88e3544570c8da30    6\n",
       "29655cba61a04d079efde18203b4f232    6\n",
       "bf4798648cf446e6b0e8d6ead888aacd    6\n",
       "850e5abd6b5346708926727e82579e94    6\n",
       "bf3292eafc2f468ea68d4f5b0e8fa35a    6\n",
       "Name: offer_id, dtype: int64"
      ]
     },
     "metadata": {},
     "output_type": "display_data"
    },
    {
     "data": {
      "text/plain": [
       "person\n",
       "8cded7272788493a8e71cf419722b66a    1\n",
       "22617705eec442e0b7b43e5c5f56fb17    1\n",
       "fecbf0774931488781713494b726a121    1\n",
       "2dd5daa8a5e14fcd8fca67457541fc48    1\n",
       "9acbb111ba2f452cbbafabaf49138377    1\n",
       "f6f3412fccea4ca7a15724586ef0e792    1\n",
       "cb8291d29fcd482b8793aa18c970a71b    1\n",
       "14b3fa95de4f404a8c46709ef16ec58f    1\n",
       "f126206918334d3ea43168faa612e277    1\n",
       "01fe5ec668f241608eb2f7ec374cb1b7    1\n",
       "Name: offer_id, dtype: int64"
      ]
     },
     "metadata": {},
     "output_type": "display_data"
    },
    {
     "data": {
      "text/plain": [
       "<matplotlib.axes._subplots.AxesSubplot at 0x20b69516a20>"
      ]
     },
     "execution_count": 15,
     "metadata": {},
     "output_type": "execute_result"
    },
    {
     "data": {
      "image/png": "[encoded data removed]",
      "text/plain": [
       "<Figure size 432x288 with 1 Axes>"
      ]
     },
     "metadata": {
      "needs_background": "light"
     },
     "output_type": "display_data"
    }
   ],
   "source": [
    "# top 10 customers that receive the most/least number of offers\n",
    "# plot the density distribution of total number of offers being sent\n",
    "# note that we only consider the scenario of offer type being \"offer received\" for each person because all offers must be\n",
    "# initially sent to customers first in order for them to bring actions\n",
    "\n",
    "display(transcript.query('event==\"offer received\"').groupby('person').count().sort_values(by='offer_id',ascending=False)['offer_id'][:10])\n",
    "display(transcript.query('event==\"offer received\"').groupby('person').count().sort_values(by='offer_id',ascending=True)['offer_id'][:10])\n",
    "\n",
    "sns.kdeplot(transcript.query('event==\"offer received\"').groupby('person').count().sort_values(by='offer_id',ascending=False)['offer_id'], shade=True)"
   ]
  },
  {
   "cell_type": "markdown",
   "metadata": {},
   "source": [
    "- In terms of the number of offers received, some people got as many as 6, while others got as less as 1.\n",
    "- The majority of the population receives either 4 or 5 offers during the data gathering period."
   ]
  },
  {
   "cell_type": "code",
   "execution_count": 16,
   "metadata": {},
   "outputs": [
    {
     "data": {
      "text/plain": [
       "offer_id\n",
       "9b98b8c7a33c4b65b9aebfe6a799e6d9    7677\n",
       "0b1e1539f2cc45b7b9fa7c272da2e1d7    7668\n",
       "ae264e3637204a6fb9bb56bc8210ddfd    7658\n",
       "2298d6c36e964ae4a3e7e9706d1fb8c2    7646\n",
       "2906b810c7d4411798c6938adc9daaa5    7632\n",
       "5a8bc65990b245e5a138643cd4eb9837    7618\n",
       "3f207df678b143eea3cee63160fa8bed    7617\n",
       "fafdcd668e3743c1bb461111dcafc2a4    7597\n",
       "4d5c57ea9a6940dd891ad53e9dbe8da0    7593\n",
       "f19421c1d4aa40978ebb69ca19b0e20d    7571\n",
       "Name: person, dtype: int64"
      ]
     },
     "metadata": {},
     "output_type": "display_data"
    },
    {
     "data": {
      "text/plain": [
       "<matplotlib.axes._subplots.AxesSubplot at 0x20b08242908>"
      ]
     },
     "execution_count": 16,
     "metadata": {},
     "output_type": "execute_result"
    },
    {
     "data": {
      "image/png": "[encoded data removed]",
      "text/plain": [
       "<Figure size 432x288 with 1 Axes>"
      ]
     },
     "metadata": {
      "needs_background": "light"
     },
     "output_type": "display_data"
    }
   ],
   "source": [
    "# top 5 most/least popular offers that got sent to the customers\n",
    "# note that we only want to consider event type being \"offer received\" because when a customer made futher actions after viewing\n",
    "# the offers, we don't want to double count the customer as two different people\n",
    "\n",
    "display(transcript.query('event == \"offer received\"').groupby('offer_id').count().sort_values(by='person',ascending=False)['person'][:10])\n",
    "sns.kdeplot(transcript.query('event == \"offer received\"').groupby('offer_id').count().sort_values(by='person',ascending=False)['person'], shade=True, cut=0)"
   ]
  },
  {
   "cell_type": "markdown",
   "metadata": {},
   "source": [
    "- There is no one particular offer that is being sent significantly more often then all others due to the rather flat curve we observe from above."
   ]
  },
  {
   "cell_type": "code",
   "execution_count": 17,
   "metadata": {},
   "outputs": [
    {
     "data": {
      "text/plain": [
       "offer_id\n",
       "fafdcd668e3743c1bb461111dcafc2a4    5317\n",
       "2298d6c36e964ae4a3e7e9706d1fb8c2    5156\n",
       "9b98b8c7a33c4b65b9aebfe6a799e6d9    4354\n",
       "f19421c1d4aa40978ebb69ca19b0e20d    4296\n",
       "2906b810c7d4411798c6938adc9daaa5    4017\n",
       "ae264e3637204a6fb9bb56bc8210ddfd    3688\n",
       "0b1e1539f2cc45b7b9fa7c272da2e1d7    3420\n",
       "4d5c57ea9a6940dd891ad53e9dbe8da0    3331\n",
       "Name: event, dtype: int64"
      ]
     },
     "metadata": {},
     "output_type": "display_data"
    },
    {
     "data": {
      "text/plain": [
       "<matplotlib.axes._subplots.AxesSubplot at 0x20b6986bc18>"
      ]
     },
     "execution_count": 17,
     "metadata": {},
     "output_type": "execute_result"
    },
    {
     "data": {
      "image/png": "[encoded data removed]",
      "text/plain": [
       "<Figure size 432x288 with 1 Axes>"
      ]
     },
     "metadata": {
      "needs_background": "light"
     },
     "output_type": "display_data"
    }
   ],
   "source": [
    "# Top 5 offers that most completions (exclude infomational offers)\n",
    "\n",
    "info_offers = portfolio.query('offer_type == \"informational\"').id.values.tolist()\n",
    "display(transcript.query('offer_id not in @info_offers and event == \"offer completed\"').groupby('offer_id').count().sort_values(by='event',ascending=False)['event'][:10])\n",
    "sns.kdeplot(transcript.query('offer_id not in @info_offers and event == \"offer completed\"').groupby('offer_id').count().sort_values(by='event',ascending=False)['event'], shade=True, cut=0)"
   ]
  },
  {
   "cell_type": "markdown",
   "metadata": {},
   "source": [
    "- Offers that got completed the most times are \"fafdcd668e3743c1bb461111dcafc2a4\", and \"2298d6c36e964ae4a3e7e9706d1fb8c2\", with 5317 completions and 5156 completions repectively."
   ]
  },
  {
   "cell_type": "code",
   "execution_count": 18,
   "metadata": {},
   "outputs": [
    {
     "data": {
      "text/plain": [
       "offer_id\n",
       "ae264e3637204a6fb9bb56bc8210ddfd    36880.0\n",
       "4d5c57ea9a6940dd891ad53e9dbe8da0    33310.0\n",
       "9b98b8c7a33c4b65b9aebfe6a799e6d9    21770.0\n",
       "f19421c1d4aa40978ebb69ca19b0e20d    21480.0\n",
       "0b1e1539f2cc45b7b9fa7c272da2e1d7    17100.0\n",
       "2298d6c36e964ae4a3e7e9706d1fb8c2    15468.0\n",
       "fafdcd668e3743c1bb461111dcafc2a4    10634.0\n",
       "2906b810c7d4411798c6938adc9daaa5     8034.0\n",
       "3f207df678b143eea3cee63160fa8bed        0.0\n",
       "5a8bc65990b245e5a138643cd4eb9837        0.0\n",
       "Name: reward, dtype: float64"
      ]
     },
     "metadata": {},
     "output_type": "display_data"
    },
    {
     "data": {
      "text/plain": [
       "<matplotlib.axes._subplots.AxesSubplot at 0x20b692e37b8>"
      ]
     },
     "execution_count": 18,
     "metadata": {},
     "output_type": "execute_result"
    },
    {
     "data": {
      "image/png": "[encoded data removed]",
      "text/plain": [
       "<Figure size 432x288 with 1 Axes>"
      ]
     },
     "metadata": {
      "needs_background": "light"
     },
     "output_type": "display_data"
    }
   ],
   "source": [
    "# top 5 most/least rewarding offers to all customers\n",
    "\n",
    "display(transcript.groupby('offer_id').sum().sort_values(by='reward',ascending=False)['reward'][:10])\n",
    "sns.kdeplot(transcript.groupby('offer_id').sum().sort_values(by='reward',ascending=False)['reward'], shade=True, cut=0)"
   ]
  },
  {
   "cell_type": "markdown",
   "metadata": {},
   "source": [
    "- The two most rewarding offers are \"ae264e3637204a6fb9bb56bc8210ddfd\", and \"4d5c57ea9a6940dd891ad53e9dbe8da0\". They each rewards total of \\\\$36880 and \\\\$33310 to the particiatants.\n",
    "- When it comes to rewarding amount, most offers generate total rewards amount from around \\\\$17000 to \\\\$21000 to all customers."
   ]
  },
  {
   "cell_type": "code",
   "execution_count": 19,
   "metadata": {},
   "outputs": [
    {
     "data": {
      "text/plain": [
       "person\n",
       "3c8d541112a74af99e88abbd0692f00e    1608.69\n",
       "f1d65ae63f174b8f80fa063adcaa63b7    1365.66\n",
       "ae6f43089b674728a50b8727252d3305    1327.74\n",
       "626df8678e2a4953b9098246418c9cfa    1321.42\n",
       "73afdeca19e349b98f09e928644610f8    1319.97\n",
       "52959f19113e4241a8cb3bef486c6412    1292.86\n",
       "ad1f0a409ae642bc9a43f31f56c130fc    1258.19\n",
       "d240308de0ee4cf8bb6072816268582b    1251.99\n",
       "946fc0d3ecc4492aa4cc06cf6b1492c3    1232.40\n",
       "6406abad8e2c4b8584e4f68003de148d    1211.76\n",
       "Name: amount, dtype: float64"
      ]
     },
     "metadata": {},
     "output_type": "display_data"
    },
    {
     "data": {
      "text/plain": [
       "person\n",
       "693e16a8afe24167b2e8e605498e7d42    0.0\n",
       "713a1ea744ee4267a741645078845eac    0.0\n",
       "7121aa6e546f47beb9fe2642fc49a4d1    0.0\n",
       "70cb9657490647978664229c0fd3ecbf    0.0\n",
       "cbe6e55ecf54476db7504aee4ab74d0b    0.0\n",
       "cc1891e307dd48f49bdb894ede98f8a6    0.0\n",
       "7002342f48214d5bb4d7ec33e0c9e3db    0.0\n",
       "6fb2a442ccb44db9a4deb57f00a1fa7e    0.0\n",
       "6f8046e4e6c14ea699cfb964d67f5e4f    0.0\n",
       "0c96e5392702403b8db72f8781784abe    0.0\n",
       "Name: amount, dtype: float64"
      ]
     },
     "metadata": {},
     "output_type": "display_data"
    },
    {
     "data": {
      "text/plain": [
       "<matplotlib.axes._subplots.AxesSubplot at 0x20b6a515f98>"
      ]
     },
     "execution_count": 19,
     "metadata": {},
     "output_type": "execute_result"
    },
    {
     "data": {
      "image/png": "[encoded data removed]",
      "text/plain": [
       "<Figure size 504x576 with 2 Axes>"
      ]
     },
     "metadata": {
      "needs_background": "light"
     },
     "output_type": "display_data"
    }
   ],
   "source": [
    "# Top 10 customers who spent the largest/smallest amount of money\n",
    "\n",
    "display(transcript.groupby('person').sum().sort_values(by='amount',ascending=False)['amount'][:10])\n",
    "display(transcript.groupby('person').sum().sort_values(by='amount',ascending=True)['amount'][:10])\n",
    "\n",
    "fig, ax =plt.subplots(2,1, figsize=(7,8))\n",
    "sns.kdeplot(transcript.groupby('person').sum().sort_values(by='amount',ascending=False)['amount'], ax=ax[0], shade=True, cut=0)\n",
    "sns.kdeplot(transcript.groupby('person').sum().query('amount < 300')['amount'], ax=ax[1], shade=True, cut=0)"
   ]
  },
  {
   "cell_type": "markdown",
   "metadata": {},
   "source": [
    "- Looking at top 10 customers in terms of who made the largest total amount of purchase, most of them spent about \\\\$1300.\n",
    "- The majority of the population spent about less than \\\\$50 dollars during the testing period. Once we pass the \\\\$50 benchmark, we see a clear decreasing trend in terms of purchasing amount that the participating customers made. "
   ]
  },
  {
   "cell_type": "code",
   "execution_count": 20,
   "metadata": {},
   "outputs": [
    {
     "data": {
      "text/plain": [
       "person\n",
       "d3209835a40a423fbf2c967218d00bcd    55.0\n",
       "e130d81685ae45deb9fbf6d416084a1d    50.0\n",
       "e51350fc39f54b47842fa13c49f7400b    50.0\n",
       "bd920b7b033d42fb9d97be92343a9aef    50.0\n",
       "7f27070d07eb44cb89b9a547074ca343    50.0\n",
       "c93f9619abd642a684bd79953cef992c    50.0\n",
       "1acb3e87e3304271a3c917cc80a53780    50.0\n",
       "fff29fb549084123bd046dbc5ceb4faa    47.0\n",
       "38999f1dd0d44dc2b2f8278d2409681a    47.0\n",
       "2a13705c79fd44bc91207deb5374b7ad    47.0\n",
       "Name: reward, dtype: float64"
      ]
     },
     "metadata": {},
     "output_type": "display_data"
    },
    {
     "data": {
      "text/plain": [
       "person\n",
       "7fc6d7fa5f6f43dc919b043f612dda50    0.0\n",
       "ad733e0dfb4a41c7a5f667ffe726c7a5    0.0\n",
       "2ec6176c4b194d20ab83a27a6560d79c    0.0\n",
       "5e9c83e8ab4d4e9ca83f3256d83ca756    0.0\n",
       "2eccae70cd904a3dacec70a38016cb8c    0.0\n",
       "2ed61a019cb546b4ab9c6d3bd4a792f8    0.0\n",
       "d6df308b05364b2b9ed238bbf838b3d3    0.0\n",
       "2ed795282792477091388a62bcdfd4ad    0.0\n",
       "ad75ad314b534ed09cc1a808a7ef3876    0.0\n",
       "2eea41ee8697476d9bd837d63333182c    0.0\n",
       "Name: reward, dtype: float64"
      ]
     },
     "metadata": {},
     "output_type": "display_data"
    },
    {
     "data": {
      "text/plain": [
       "<matplotlib.axes._subplots.AxesSubplot at 0x20b6a8351d0>"
      ]
     },
     "execution_count": 20,
     "metadata": {},
     "output_type": "execute_result"
    },
    {
     "data": {
      "image/png": "[encoded data removed]",
      "text/plain": [
       "<Figure size 432x288 with 1 Axes>"
      ]
     },
     "metadata": {
      "needs_background": "light"
     },
     "output_type": "display_data"
    }
   ],
   "source": [
    "# Top 10 customers who receives the most/least amount of rewards\n",
    "\n",
    "display(transcript.groupby('person').sum().sort_values(by='reward',ascending=False)['reward'][:10])\n",
    "display(transcript.groupby('person').sum().sort_values(by='reward',ascending=True)['reward'][:10])\n",
    "\n",
    "sns.kdeplot(transcript.groupby('person').sum().sort_values(by='reward',ascending=False)['reward'],shade=True, cut=0)"
   ]
  },
  {
   "cell_type": "markdown",
   "metadata": {},
   "source": [
    "- Looking at top 10 customers in terms of who receives the highest rewarding amount in total, most of them receives about \\\\$50 dollars.\n",
    "- The majority of the population receives about less than \\\\$10 dollars. Once we pass the \\\\$10 benchmark, we see a clear decreasing trend in terms of rewarding amount given to the participating customers."
   ]
  },
  {
   "cell_type": "markdown",
   "metadata": {},
   "source": [
    "### 1.2 Initial conclusion - transcript\n",
    "\n",
    "Summary:\n",
    "- The total number of events in this dataset is 306534, this could indicate that all people included in the profile dataset must be assigned to an event.\n",
    "- From most frequent to least frequent, the rewards amount to each individual person are likely to be \\\\$5 dollars, followed by \\\\$2, then \\\\$10 dollars.\n",
    "- For a single tranaction, there are more customers who spent less than about \\\\$10 dollars, and less customers who spend more than about \\\\$20 dollars. Please note that these numbers are the results of only looking at tranactions one at a time. If a customer who spent \\\\$10 dollars today and \\\\$20 dollars tomorrow, these transactions will be viewed as two different transactions.\n",
    "- In terms of the type of events (opened, transaction, completed) that could happen to a customer, there are customers who initiated as many as 45 such events, and there are customers who initiated as less as 1 such event.\n",
    "- The majority of the population initiate about 10 events, all types of events are considered except \"offer received\" since this is a passive action.\n",
    "- In terms of the number of offers received, some people got as many as 6, while others got as less as 1.\n",
    "- The majority of the population receives either 4 or 5 offers during the data gathering period.\n",
    "- Offers that got completed the most times are \"fafdcd668e3743c1bb461111dcafc2a4\", and \"2298d6c36e964ae4a3e7e9706d1fb8c2\", with 5317 completions and 5156 completions repectively.\n",
    "- The two most rewarding offers are \"ae264e3637204a6fb9bb56bc8210ddfd\", and \"4d5c57ea9a6940dd891ad53e9dbe8da0\". They each rewards total of \\\\$36880 and \\\\$33310 to the particiatants.\n",
    "- When it comes to rewarding amount, most offers has total rewards amount centered around \\\\$17000.\n",
    "- Looking at top 10 customers in terms of who made the largest total amount of purchase, most of them spent about \\\\$1300.\n",
    "- The majority of the population spent less than about \\\\$50 dollars during the testing period. Once we pass the \\\\$50 benchmark, we see a clear decreasing trend in terms of purchasing amount that the participating customers made.\n",
    "- Looking at top 10 customers in terms of who receives the highest rewarding amount in total, most of them receives about \\\\$50 dollars.\n",
    "- The majority of the population receives about less than \\\\$10 dollars. Once we pass the \\\\$10 benchmark, we see a clear decreasing trend in terms of rewarding amount given to the participating customers.\n",
    "\n",
    "\n",
    "Conclusion:\n",
    "1. customer who does/doesn't made purchases:\n",
    "    - There are 17000 unique customers from the profile dataset, however in the transcript dataset, there are 306534 customers. We need to further investigate into the following scenarios:\n",
    "            a. customers who made no purchase because they never viewed any offer.\n",
    "            b. customers who made no purchase after received and viewed the offers.\n",
    "            c. customers who made single/multiple purchase after receiving the offers, regardless whether the offers are viewed or not.\n",
    "            d. customers who made single/multiple purchase even when no offers are being sent to them.\n",
    "2. single transaction:\n",
    "    - Regarless of whether the same customer made multiple purchases or not, most transaction amounts, counted as one at a time,  centered around \\\\$10 dollars.\n",
    "3. active customers:\n",
    "    - The majority of the population will initiated about 10 events while highly active customers could initiate as many as about 45 events. We need to label the customers who are highly active in regards to all type of events except \"offer received\".\n",
    "4. targeted customers:\n",
    "    - The majority of the population receive about 4-6 offers, while some receive as less as 1 offer.\n",
    "5. offer completion rate:\n",
    "    - All offers got received about 7000 times for the entire customer population.\n",
    "    - Offer completion rates (informational offers are excluded since they don't generate revenue):\n",
    "            a. 9b98b8c7a33c4b65b9aebfe6a799e6d9: 56%\n",
    "            b. 0b1e1539f2cc45b7b9fa7c272da2e1d7: 44%\n",
    "            c. ae264e3637204a6fb9bb56bc8210ddfd: 48%\n",
    "            d. 2298d6c36e964ae4a3e7e9706d1fb8c2: 67%\n",
    "            e. 2906b810c7d4411798c6938adc9daaa5: 52%\n",
    "            f. fafdcd668e3743c1bb461111dcafc2a4: 70%\n",
    "            g. 4d5c57ea9a6940dd891ad53e9dbe8da0: 44%\n",
    "            h. f19421c1d4aa40978ebb69ca19b0e20d: 57%\n",
    "6. offers nature:\n",
    "    - Offers \"fafdcd668e3743c1bb461111dcafc2a4\" and \"2298d6c36e964ae4a3e7e9706d1fb8c2\" are the most successful offers in terms of having most number of completions. However, they are also the ones with lower rewarding amounts generated to all participants. This could potentially due to that these offers have lower difficulty level required to complete, thus they are less rewarding by design.\n",
    "    - Conversely, offer \"4d5c57ea9a6940dd891ad53e9dbe8da0\", and \"ae264e3637204a6fb9bb56bc8210ddfd\" got completed with the fewest number of times, but they generated the highest amount of rewards. Intuitively thinking, these offers might have a higher difficulty level to complete, thus highly rewarding.\n",
    "    - Most offers generate total of around \\\\$17000 dollars to all participants.\n",
    "7. total transaction made/rewards received by person:\n",
    "    - The majority of the population spent less than about \\\\$50 dollars during the testing period.\n",
    "    - The majority of the population receives about less than \\\\$10 dollars."
   ]
  },
  {
   "cell_type": "markdown",
   "metadata": {},
   "source": [
    "## 2. Cross section analysis"
   ]
  },
  {
   "cell_type": "markdown",
   "metadata": {},
   "source": [
    "### 2.1 portfolio + transcript"
   ]
  },
  {
   "cell_type": "code",
   "execution_count": 21,
   "metadata": {},
   "outputs": [
    {
     "data": {
      "text/html": [
       "<div>\n",
       "<style scoped>\n",
       "    .dataframe tbody tr th:only-of-type {\n",
       "        vertical-align: middle;\n",
       "    }\n",
       "\n",
       "    .dataframe tbody tr th {\n",
       "        vertical-align: top;\n",
       "    }\n",
       "\n",
       "    .dataframe thead th {\n",
       "        text-align: right;\n",
       "    }\n",
       "</style>\n",
       "<table border=\"1\" class=\"dataframe\">\n",
       "  <thead>\n",
       "    <tr style=\"text-align: right;\">\n",
       "      <th></th>\n",
       "      <th>channels</th>\n",
       "      <th>difficulty</th>\n",
       "      <th>duration</th>\n",
       "      <th>id</th>\n",
       "      <th>offer_type</th>\n",
       "      <th>reward</th>\n",
       "    </tr>\n",
       "  </thead>\n",
       "  <tbody>\n",
       "    <tr>\n",
       "      <th>0</th>\n",
       "      <td>[email, mobile, social]</td>\n",
       "      <td>10</td>\n",
       "      <td>7</td>\n",
       "      <td>ae264e3637204a6fb9bb56bc8210ddfd</td>\n",
       "      <td>bogo</td>\n",
       "      <td>10</td>\n",
       "    </tr>\n",
       "    <tr>\n",
       "      <th>1</th>\n",
       "      <td>[web, email, mobile, social]</td>\n",
       "      <td>10</td>\n",
       "      <td>5</td>\n",
       "      <td>4d5c57ea9a6940dd891ad53e9dbe8da0</td>\n",
       "      <td>bogo</td>\n",
       "      <td>10</td>\n",
       "    </tr>\n",
       "    <tr>\n",
       "      <th>2</th>\n",
       "      <td>[web, email, mobile]</td>\n",
       "      <td>0</td>\n",
       "      <td>4</td>\n",
       "      <td>3f207df678b143eea3cee63160fa8bed</td>\n",
       "      <td>informational</td>\n",
       "      <td>0</td>\n",
       "    </tr>\n",
       "    <tr>\n",
       "      <th>3</th>\n",
       "      <td>[web, email, mobile]</td>\n",
       "      <td>5</td>\n",
       "      <td>7</td>\n",
       "      <td>9b98b8c7a33c4b65b9aebfe6a799e6d9</td>\n",
       "      <td>bogo</td>\n",
       "      <td>5</td>\n",
       "    </tr>\n",
       "    <tr>\n",
       "      <th>4</th>\n",
       "      <td>[web, email]</td>\n",
       "      <td>20</td>\n",
       "      <td>10</td>\n",
       "      <td>0b1e1539f2cc45b7b9fa7c272da2e1d7</td>\n",
       "      <td>discount</td>\n",
       "      <td>5</td>\n",
       "    </tr>\n",
       "    <tr>\n",
       "      <th>5</th>\n",
       "      <td>[web, email, mobile, social]</td>\n",
       "      <td>7</td>\n",
       "      <td>7</td>\n",
       "      <td>2298d6c36e964ae4a3e7e9706d1fb8c2</td>\n",
       "      <td>discount</td>\n",
       "      <td>3</td>\n",
       "    </tr>\n",
       "    <tr>\n",
       "      <th>6</th>\n",
       "      <td>[web, email, mobile, social]</td>\n",
       "      <td>10</td>\n",
       "      <td>10</td>\n",
       "      <td>fafdcd668e3743c1bb461111dcafc2a4</td>\n",
       "      <td>discount</td>\n",
       "      <td>2</td>\n",
       "    </tr>\n",
       "    <tr>\n",
       "      <th>7</th>\n",
       "      <td>[email, mobile, social]</td>\n",
       "      <td>0</td>\n",
       "      <td>3</td>\n",
       "      <td>5a8bc65990b245e5a138643cd4eb9837</td>\n",
       "      <td>informational</td>\n",
       "      <td>0</td>\n",
       "    </tr>\n",
       "    <tr>\n",
       "      <th>8</th>\n",
       "      <td>[web, email, mobile, social]</td>\n",
       "      <td>5</td>\n",
       "      <td>5</td>\n",
       "      <td>f19421c1d4aa40978ebb69ca19b0e20d</td>\n",
       "      <td>bogo</td>\n",
       "      <td>5</td>\n",
       "    </tr>\n",
       "    <tr>\n",
       "      <th>9</th>\n",
       "      <td>[web, email, mobile]</td>\n",
       "      <td>10</td>\n",
       "      <td>7</td>\n",
       "      <td>2906b810c7d4411798c6938adc9daaa5</td>\n",
       "      <td>discount</td>\n",
       "      <td>2</td>\n",
       "    </tr>\n",
       "  </tbody>\n",
       "</table>\n",
       "</div>"
      ],
      "text/plain": [
       "                       channels  difficulty  duration  \\\n",
       "0       [email, mobile, social]          10         7   \n",
       "1  [web, email, mobile, social]          10         5   \n",
       "2          [web, email, mobile]           0         4   \n",
       "3          [web, email, mobile]           5         7   \n",
       "4                  [web, email]          20        10   \n",
       "5  [web, email, mobile, social]           7         7   \n",
       "6  [web, email, mobile, social]          10        10   \n",
       "7       [email, mobile, social]           0         3   \n",
       "8  [web, email, mobile, social]           5         5   \n",
       "9          [web, email, mobile]          10         7   \n",
       "\n",
       "                                 id     offer_type  reward  \n",
       "0  ae264e3637204a6fb9bb56bc8210ddfd           bogo      10  \n",
       "1  4d5c57ea9a6940dd891ad53e9dbe8da0           bogo      10  \n",
       "2  3f207df678b143eea3cee63160fa8bed  informational       0  \n",
       "3  9b98b8c7a33c4b65b9aebfe6a799e6d9           bogo       5  \n",
       "4  0b1e1539f2cc45b7b9fa7c272da2e1d7       discount       5  \n",
       "5  2298d6c36e964ae4a3e7e9706d1fb8c2       discount       3  \n",
       "6  fafdcd668e3743c1bb461111dcafc2a4       discount       2  \n",
       "7  5a8bc65990b245e5a138643cd4eb9837  informational       0  \n",
       "8  f19421c1d4aa40978ebb69ca19b0e20d           bogo       5  \n",
       "9  2906b810c7d4411798c6938adc9daaa5       discount       2  "
      ]
     },
     "metadata": {},
     "output_type": "display_data"
    },
    {
     "data": {
      "text/plain": [
       "(10, 6)"
      ]
     },
     "metadata": {},
     "output_type": "display_data"
    }
   ],
   "source": [
    "# portfolio dataset at a first glance\n",
    "\n",
    "display(portfolio.head(10), portfolio.shape)"
   ]
  },
  {
   "cell_type": "code",
   "execution_count": 22,
   "metadata": {},
   "outputs": [
    {
     "data": {
      "text/html": [
       "<div>\n",
       "<style scoped>\n",
       "    .dataframe tbody tr th:only-of-type {\n",
       "        vertical-align: middle;\n",
       "    }\n",
       "\n",
       "    .dataframe tbody tr th {\n",
       "        vertical-align: top;\n",
       "    }\n",
       "\n",
       "    .dataframe thead th {\n",
       "        text-align: right;\n",
       "    }\n",
       "</style>\n",
       "<table border=\"1\" class=\"dataframe\">\n",
       "  <thead>\n",
       "    <tr style=\"text-align: right;\">\n",
       "      <th></th>\n",
       "      <th>id</th>\n",
       "      <th>channels</th>\n",
       "      <th>difficulty</th>\n",
       "      <th>duration</th>\n",
       "      <th>offer_type</th>\n",
       "      <th>reward</th>\n",
       "      <th>offer_completed</th>\n",
       "      <th>offer_received</th>\n",
       "      <th>offer_viewed</th>\n",
       "      <th>offer_names</th>\n",
       "    </tr>\n",
       "  </thead>\n",
       "  <tbody>\n",
       "    <tr>\n",
       "      <th>0</th>\n",
       "      <td>ae264e3637204a6fb9bb56bc8210ddfd</td>\n",
       "      <td>[email, mobile, social]</td>\n",
       "      <td>10</td>\n",
       "      <td>7</td>\n",
       "      <td>bogo</td>\n",
       "      <td>10</td>\n",
       "      <td>3688.0</td>\n",
       "      <td>7658.0</td>\n",
       "      <td>6716.0</td>\n",
       "      <td>1</td>\n",
       "    </tr>\n",
       "    <tr>\n",
       "      <th>1</th>\n",
       "      <td>4d5c57ea9a6940dd891ad53e9dbe8da0</td>\n",
       "      <td>[web, email, mobile, social]</td>\n",
       "      <td>10</td>\n",
       "      <td>5</td>\n",
       "      <td>bogo</td>\n",
       "      <td>10</td>\n",
       "      <td>3331.0</td>\n",
       "      <td>7593.0</td>\n",
       "      <td>7298.0</td>\n",
       "      <td>2</td>\n",
       "    </tr>\n",
       "    <tr>\n",
       "      <th>2</th>\n",
       "      <td>3f207df678b143eea3cee63160fa8bed</td>\n",
       "      <td>[web, email, mobile]</td>\n",
       "      <td>0</td>\n",
       "      <td>4</td>\n",
       "      <td>informational</td>\n",
       "      <td>0</td>\n",
       "      <td>NaN</td>\n",
       "      <td>7617.0</td>\n",
       "      <td>4144.0</td>\n",
       "      <td>3</td>\n",
       "    </tr>\n",
       "    <tr>\n",
       "      <th>3</th>\n",
       "      <td>9b98b8c7a33c4b65b9aebfe6a799e6d9</td>\n",
       "      <td>[web, email, mobile]</td>\n",
       "      <td>5</td>\n",
       "      <td>7</td>\n",
       "      <td>bogo</td>\n",
       "      <td>5</td>\n",
       "      <td>4354.0</td>\n",
       "      <td>7677.0</td>\n",
       "      <td>4171.0</td>\n",
       "      <td>4</td>\n",
       "    </tr>\n",
       "    <tr>\n",
       "      <th>4</th>\n",
       "      <td>0b1e1539f2cc45b7b9fa7c272da2e1d7</td>\n",
       "      <td>[web, email]</td>\n",
       "      <td>20</td>\n",
       "      <td>10</td>\n",
       "      <td>discount</td>\n",
       "      <td>5</td>\n",
       "      <td>3420.0</td>\n",
       "      <td>7668.0</td>\n",
       "      <td>2663.0</td>\n",
       "      <td>5</td>\n",
       "    </tr>\n",
       "    <tr>\n",
       "      <th>5</th>\n",
       "      <td>2298d6c36e964ae4a3e7e9706d1fb8c2</td>\n",
       "      <td>[web, email, mobile, social]</td>\n",
       "      <td>7</td>\n",
       "      <td>7</td>\n",
       "      <td>discount</td>\n",
       "      <td>3</td>\n",
       "      <td>5156.0</td>\n",
       "      <td>7646.0</td>\n",
       "      <td>7337.0</td>\n",
       "      <td>6</td>\n",
       "    </tr>\n",
       "    <tr>\n",
       "      <th>6</th>\n",
       "      <td>fafdcd668e3743c1bb461111dcafc2a4</td>\n",
       "      <td>[web, email, mobile, social]</td>\n",
       "      <td>10</td>\n",
       "      <td>10</td>\n",
       "      <td>discount</td>\n",
       "      <td>2</td>\n",
       "      <td>5317.0</td>\n",
       "      <td>7597.0</td>\n",
       "      <td>7327.0</td>\n",
       "      <td>7</td>\n",
       "    </tr>\n",
       "    <tr>\n",
       "      <th>7</th>\n",
       "      <td>5a8bc65990b245e5a138643cd4eb9837</td>\n",
       "      <td>[email, mobile, social]</td>\n",
       "      <td>0</td>\n",
       "      <td>3</td>\n",
       "      <td>informational</td>\n",
       "      <td>0</td>\n",
       "      <td>NaN</td>\n",
       "      <td>7618.0</td>\n",
       "      <td>6687.0</td>\n",
       "      <td>8</td>\n",
       "    </tr>\n",
       "    <tr>\n",
       "      <th>8</th>\n",
       "      <td>f19421c1d4aa40978ebb69ca19b0e20d</td>\n",
       "      <td>[web, email, mobile, social]</td>\n",
       "      <td>5</td>\n",
       "      <td>5</td>\n",
       "      <td>bogo</td>\n",
       "      <td>5</td>\n",
       "      <td>4296.0</td>\n",
       "      <td>7571.0</td>\n",
       "      <td>7264.0</td>\n",
       "      <td>9</td>\n",
       "    </tr>\n",
       "    <tr>\n",
       "      <th>9</th>\n",
       "      <td>2906b810c7d4411798c6938adc9daaa5</td>\n",
       "      <td>[web, email, mobile]</td>\n",
       "      <td>10</td>\n",
       "      <td>7</td>\n",
       "      <td>discount</td>\n",
       "      <td>2</td>\n",
       "      <td>4017.0</td>\n",
       "      <td>7632.0</td>\n",
       "      <td>4118.0</td>\n",
       "      <td>10</td>\n",
       "    </tr>\n",
       "  </tbody>\n",
       "</table>\n",
       "</div>"
      ],
      "text/plain": [
       "                                 id                      channels  difficulty  \\\n",
       "0  ae264e3637204a6fb9bb56bc8210ddfd       [email, mobile, social]          10   \n",
       "1  4d5c57ea9a6940dd891ad53e9dbe8da0  [web, email, mobile, social]          10   \n",
       "2  3f207df678b143eea3cee63160fa8bed          [web, email, mobile]           0   \n",
       "3  9b98b8c7a33c4b65b9aebfe6a799e6d9          [web, email, mobile]           5   \n",
       "4  0b1e1539f2cc45b7b9fa7c272da2e1d7                  [web, email]          20   \n",
       "5  2298d6c36e964ae4a3e7e9706d1fb8c2  [web, email, mobile, social]           7   \n",
       "6  fafdcd668e3743c1bb461111dcafc2a4  [web, email, mobile, social]          10   \n",
       "7  5a8bc65990b245e5a138643cd4eb9837       [email, mobile, social]           0   \n",
       "8  f19421c1d4aa40978ebb69ca19b0e20d  [web, email, mobile, social]           5   \n",
       "9  2906b810c7d4411798c6938adc9daaa5          [web, email, mobile]          10   \n",
       "\n",
       "   duration     offer_type  reward  offer_completed  offer_received  \\\n",
       "0         7           bogo      10           3688.0          7658.0   \n",
       "1         5           bogo      10           3331.0          7593.0   \n",
       "2         4  informational       0              NaN          7617.0   \n",
       "3         7           bogo       5           4354.0          7677.0   \n",
       "4        10       discount       5           3420.0          7668.0   \n",
       "5         7       discount       3           5156.0          7646.0   \n",
       "6        10       discount       2           5317.0          7597.0   \n",
       "7         3  informational       0              NaN          7618.0   \n",
       "8         5           bogo       5           4296.0          7571.0   \n",
       "9         7       discount       2           4017.0          7632.0   \n",
       "\n",
       "   offer_viewed  offer_names  \n",
       "0        6716.0            1  \n",
       "1        7298.0            2  \n",
       "2        4144.0            3  \n",
       "3        4171.0            4  \n",
       "4        2663.0            5  \n",
       "5        7337.0            6  \n",
       "6        7327.0            7  \n",
       "7        6687.0            8  \n",
       "8        7264.0            9  \n",
       "9        4118.0           10  "
      ]
     },
     "metadata": {},
     "output_type": "display_data"
    }
   ],
   "source": [
    "# join the two datasets\n",
    "\n",
    "portfolio.set_index('id', inplace=True)\n",
    "temp = transcript.groupby(['offer_id', 'event']).count()['person'].reset_index().set_index('offer_id')\n",
    "portfolio_transcript = portfolio.join(temp)\n",
    "portfolio_transcript = portfolio_transcript.pivot(columns='event', values='person')\n",
    "portfolio_transcript = portfolio.join(portfolio_transcript).reset_index().rename(columns={'offer completed': 'offer_completed',\n",
    "                                                                                          'offer received': 'offer_received',\n",
    "                                                                                          'offer viewed': 'offer_viewed'})\n",
    "portfolio_transcript['offer_names'] = range(1,11)\n",
    "display(portfolio_transcript)"
   ]
  },
  {
   "cell_type": "code",
   "execution_count": 23,
   "metadata": {},
   "outputs": [
    {
     "name": "stdout",
     "output_type": "stream",
     "text": [
      "The type of offer with the highest average number of viewes is bogo\n",
      "The type of offer with the highest average number of completions is discount\n"
     ]
    },
    {
     "data": {
      "image/png": "[encoded data removed]",
      "text/plain": [
       "<Figure size 966.75x288 with 1 Axes>"
      ]
     },
     "metadata": {
      "needs_background": "light"
     },
     "output_type": "display_data"
    },
    {
     "data": {
      "image/png": "[encoded data removed]",
      "text/plain": [
       "<Figure size 966.75x288 with 1 Axes>"
      ]
     },
     "metadata": {
      "needs_background": "light"
     },
     "output_type": "display_data"
    },
    {
     "data": {
      "image/png": "[encoded data removed]",
      "text/plain": [
       "<Figure size 966.75x288 with 1 Axes>"
      ]
     },
     "metadata": {
      "needs_background": "light"
     },
     "output_type": "display_data"
    }
   ],
   "source": [
    "# visualize the newly joined datasets\n",
    "\n",
    "sns.catplot(x=\"offer_names\", y=\"offer_received\", hue=\"offer_type\", kind=\"bar\", data=portfolio_transcript, height=4, aspect=3)\n",
    "sns.catplot(x=\"offer_names\", y=\"offer_viewed\", hue=\"offer_type\", kind=\"bar\", data=portfolio_transcript, height=4, aspect=3)\n",
    "sns.catplot(x=\"offer_names\", y=\"offer_completed\", hue=\"offer_type\", kind=\"bar\", data=portfolio_transcript, height=4, aspect=3)\n",
    "\n",
    "print('The type of offer with the highest average number of viewes is', portfolio_transcript.groupby('offer_type').mean()[['offer_viewed']].idxmax()[0])\n",
    "print('The type of offer with the highest average number of completions is', portfolio_transcript.groupby('offer_type').mean()[['offer_completed']].idxmax()[0])"
   ]
  },
  {
   "cell_type": "markdown",
   "metadata": {},
   "source": [
    "- Observe from the first graph, all types of offers got sent equally to most (perhaps not all) of the customers. Again, this result is in sync with one of the observations made from last section (1.2).\n",
    "- Observe from the second graph, the type of offer with the highest average number of viewes is \"bogo\".\n",
    "- Observe from the third graph, the type of offer with the highest average number of completions is \"discount\"."
   ]
  },
  {
   "cell_type": "code",
   "execution_count": 24,
   "metadata": {},
   "outputs": [
    {
     "name": "stdout",
     "output_type": "stream",
     "text": [
      "The type of offer with the longest duration (averaged) to complete is discount\n",
      "The type of offer with the highest difficulty level (averaged) to complete is discount\n"
     ]
    },
    {
     "data": {
      "image/png": "[encoded data removed]",
      "text/plain": [
       "<Figure size 966.75x288 with 1 Axes>"
      ]
     },
     "metadata": {
      "needs_background": "light"
     },
     "output_type": "display_data"
    },
    {
     "data": {
      "image/png": "[encoded data removed]",
      "text/plain": [
       "<Figure size 966.75x288 with 1 Axes>"
      ]
     },
     "metadata": {
      "needs_background": "light"
     },
     "output_type": "display_data"
    }
   ],
   "source": [
    "sns.catplot(x=\"offer_names\", y=\"duration\", hue=\"offer_type\", kind=\"bar\", data=portfolio_transcript, height=4, aspect=3)\n",
    "sns.catplot(x=\"offer_names\", y=\"difficulty\", hue=\"offer_type\", kind=\"bar\", data=portfolio_transcript, height=4, aspect=3)\n",
    "\n",
    "print('The type of offer with the longest duration (averaged) to complete is', portfolio_transcript.groupby('offer_type').mean()[['duration']].idxmax()[0])\n",
    "print('The type of offer with the highest difficulty level (averaged) to complete is', portfolio_transcript.groupby('offer_type').mean()[['difficulty']].idxmax()[0])"
   ]
  },
  {
   "cell_type": "markdown",
   "metadata": {},
   "source": [
    "- We observe that offer type \"discount\" has both the longest duration and the highest difficulty level to complete."
   ]
  },
  {
   "cell_type": "code",
   "execution_count": 25,
   "metadata": {},
   "outputs": [
    {
     "data": {
      "text/plain": [
       "offer_type\n",
       "bogo             0.835225\n",
       "discount         0.702726\n",
       "informational    0.710918\n",
       "Name: influence, dtype: float64"
      ]
     },
     "execution_count": 25,
     "metadata": {},
     "output_type": "execute_result"
    }
   ],
   "source": [
    "# Determine the degree of influence for each offers: offer_viewed / offer_received\n",
    "\n",
    "portfolio_transcript['influence'] = portfolio_transcript.offer_viewed / portfolio_transcript.offer_received\n",
    "portfolio_transcript.groupby('offer_type').mean()['influence']"
   ]
  },
  {
   "cell_type": "markdown",
   "metadata": {},
   "source": [
    "- The 'bogo' offers clearly has a higher degree of influence than the rest offer types."
   ]
  },
  {
   "cell_type": "markdown",
   "metadata": {},
   "source": [
    "### 2.1 Initial conclusion - portfolio + transcript\n",
    "\n",
    "Summary:\n",
    "- The type of offer with the highest average number of viewes is bogo\n",
    "- The type of offer with the highest average number of completions is discount\n",
    "- The type of offer with the longest duration to complete is discount\n",
    "- The type of offer with the highest difficulty level to complete is discount\n",
    "- The 'bogo' offers clearly has a higher degree of influence than the rest offer types.\n",
    "\n",
    "Conclusion:\n",
    "- The \"bogo\" offers have the highest average number of views, so as a result, this offer type also has the highest degree of influence.\n",
    "- The \"discount\" offers took the longest to complete, but their averaged number of completion is also the highest."
   ]
  },
  {
   "cell_type": "markdown",
   "metadata": {},
   "source": [
    "### 2.2 profile + transcript"
   ]
  },
  {
   "cell_type": "code",
   "execution_count": 26,
   "metadata": {},
   "outputs": [],
   "source": [
    "# join the two datasets: profile + transcript\n",
    "# first, add the following columns to include all scenarios:\n",
    "    # offer_received,\n",
    "    # offer_viewed,\n",
    "    # offer_completed, \n",
    "    # offer_received_viewed_completed, \n",
    "    # offer_not_received_completed, \n",
    "    # offer_not_viewed_completed\n",
    "\n",
    "for each in ['offer_received', 'offer_viewed', 'offer_completed','offer_received_viewed_completed','offer_not_received_completed',\n",
    "            'offer_not_viewed_completed']:\n",
    "    profile.insert(profile.shape[1], column=each, value=np.zeros_like(profile.index))\n",
    "\n",
    "# updating the offer received, viewed, and completed\n",
    "\n",
    "profile = profile.join(transcript.query('event==\"offer received\"').groupby('person').count()['event'])\n",
    "profile.offer_received.update(profile.pop('event'))\n",
    "profile = profile.join(transcript.query('event==\"offer viewed\"').groupby('person').count()['event'])\n",
    "profile.offer_viewed.update(profile.pop('event'))\n",
    "profile = profile.join(transcript.query('event==\"offer completed\"').groupby('person').count()['event'])\n",
    "profile.offer_completed.update(profile.pop('event'))\n",
    "\n",
    "# update offer_received_viewed_completed\n",
    "\n",
    "received_viewed_completed_idx = profile.query('offer_received!=0 and offer_viewed!=0 and offer_completed!=0').index.to_list()\n",
    "profile.loc[received_viewed_completed_idx, 'offer_received_viewed_completed'] = transcript.query('event==\"offer completed\"').groupby('person').count().loc[received_viewed_completed_idx]['event']\n",
    "\n",
    "# update offer_not_received_completed\n",
    "\n",
    "not_received_completed_idx = profile.query('offer_received==0 and offer_completed!=0').index.to_list()\n",
    "profile.loc[not_received_completed_idx, 'offer_not_received_completed'] = transcript.query('event==\"offer completed\"').groupby('person').count().loc[not_received_completed_idx]['event']\n",
    "\n",
    "# update offer_not_viewed_completed\n",
    "\n",
    "not_viewed_completed_idx = profile.query('offer_received!=0 and offer_viewed==0 and offer_completed!=0').index.to_list()\n",
    "profile.loc[not_viewed_completed_idx, 'offer_not_viewed_completed'] = transcript.query('event==\"offer completed\"').groupby('person').count().loc[not_viewed_completed_idx]['event']"
   ]
  },
  {
   "cell_type": "code",
   "execution_count": 27,
   "metadata": {},
   "outputs": [
    {
     "data": {
      "text/html": [
       "<div>\n",
       "<style scoped>\n",
       "    .dataframe tbody tr th:only-of-type {\n",
       "        vertical-align: middle;\n",
       "    }\n",
       "\n",
       "    .dataframe tbody tr th {\n",
       "        vertical-align: top;\n",
       "    }\n",
       "\n",
       "    .dataframe thead th {\n",
       "        text-align: right;\n",
       "    }\n",
       "</style>\n",
       "<table border=\"1\" class=\"dataframe\">\n",
       "  <thead>\n",
       "    <tr style=\"text-align: right;\">\n",
       "      <th></th>\n",
       "      <th>age</th>\n",
       "      <th>became_member_on</th>\n",
       "      <th>gender</th>\n",
       "      <th>income</th>\n",
       "      <th>age_group</th>\n",
       "      <th>became_member_year</th>\n",
       "      <th>became_member_month</th>\n",
       "      <th>became_member_day</th>\n",
       "      <th>became_member_weekday</th>\n",
       "      <th>offer_received</th>\n",
       "      <th>offer_viewed</th>\n",
       "      <th>offer_completed</th>\n",
       "      <th>offer_received_viewed_completed</th>\n",
       "      <th>offer_not_received_completed</th>\n",
       "      <th>offer_not_viewed_completed</th>\n",
       "    </tr>\n",
       "    <tr>\n",
       "      <th>id</th>\n",
       "      <th></th>\n",
       "      <th></th>\n",
       "      <th></th>\n",
       "      <th></th>\n",
       "      <th></th>\n",
       "      <th></th>\n",
       "      <th></th>\n",
       "      <th></th>\n",
       "      <th></th>\n",
       "      <th></th>\n",
       "      <th></th>\n",
       "      <th></th>\n",
       "      <th></th>\n",
       "      <th></th>\n",
       "      <th></th>\n",
       "    </tr>\n",
       "  </thead>\n",
       "  <tbody>\n",
       "    <tr>\n",
       "      <th>68be06ca386d4c31939f3a4f0e3dd783</th>\n",
       "      <td>118</td>\n",
       "      <td>2017-02-12</td>\n",
       "      <td>None</td>\n",
       "      <td>NaN</td>\n",
       "      <td>NaN</td>\n",
       "      <td>2017</td>\n",
       "      <td>2</td>\n",
       "      <td>12</td>\n",
       "      <td>6</td>\n",
       "      <td>5</td>\n",
       "      <td>5</td>\n",
       "      <td>2</td>\n",
       "      <td>2</td>\n",
       "      <td>0</td>\n",
       "      <td>0</td>\n",
       "    </tr>\n",
       "    <tr>\n",
       "      <th>0610b486422d4921ae7d2bf64640c50b</th>\n",
       "      <td>55</td>\n",
       "      <td>2017-07-15</td>\n",
       "      <td>F</td>\n",
       "      <td>112000.0</td>\n",
       "      <td>50-59</td>\n",
       "      <td>2017</td>\n",
       "      <td>7</td>\n",
       "      <td>15</td>\n",
       "      <td>5</td>\n",
       "      <td>2</td>\n",
       "      <td>0</td>\n",
       "      <td>1</td>\n",
       "      <td>0</td>\n",
       "      <td>0</td>\n",
       "      <td>1</td>\n",
       "    </tr>\n",
       "    <tr>\n",
       "      <th>38fe809add3b4fcf9315a9694bb96ff5</th>\n",
       "      <td>118</td>\n",
       "      <td>2018-07-12</td>\n",
       "      <td>None</td>\n",
       "      <td>NaN</td>\n",
       "      <td>NaN</td>\n",
       "      <td>2018</td>\n",
       "      <td>7</td>\n",
       "      <td>12</td>\n",
       "      <td>3</td>\n",
       "      <td>2</td>\n",
       "      <td>2</td>\n",
       "      <td>0</td>\n",
       "      <td>0</td>\n",
       "      <td>0</td>\n",
       "      <td>0</td>\n",
       "    </tr>\n",
       "    <tr>\n",
       "      <th>78afa995795e4d85b5d9ceeca43f5fef</th>\n",
       "      <td>75</td>\n",
       "      <td>2017-05-09</td>\n",
       "      <td>F</td>\n",
       "      <td>100000.0</td>\n",
       "      <td>70-79</td>\n",
       "      <td>2017</td>\n",
       "      <td>5</td>\n",
       "      <td>9</td>\n",
       "      <td>1</td>\n",
       "      <td>4</td>\n",
       "      <td>4</td>\n",
       "      <td>3</td>\n",
       "      <td>3</td>\n",
       "      <td>0</td>\n",
       "      <td>0</td>\n",
       "    </tr>\n",
       "    <tr>\n",
       "      <th>a03223e636434f42ac4c3df47e8bac43</th>\n",
       "      <td>118</td>\n",
       "      <td>2017-08-04</td>\n",
       "      <td>None</td>\n",
       "      <td>NaN</td>\n",
       "      <td>NaN</td>\n",
       "      <td>2017</td>\n",
       "      <td>8</td>\n",
       "      <td>4</td>\n",
       "      <td>4</td>\n",
       "      <td>5</td>\n",
       "      <td>3</td>\n",
       "      <td>0</td>\n",
       "      <td>0</td>\n",
       "      <td>0</td>\n",
       "      <td>0</td>\n",
       "    </tr>\n",
       "    <tr>\n",
       "      <th>e2127556f4f64592b11af22de27a7932</th>\n",
       "      <td>68</td>\n",
       "      <td>2018-04-26</td>\n",
       "      <td>M</td>\n",
       "      <td>70000.0</td>\n",
       "      <td>60-69</td>\n",
       "      <td>2018</td>\n",
       "      <td>4</td>\n",
       "      <td>26</td>\n",
       "      <td>3</td>\n",
       "      <td>4</td>\n",
       "      <td>3</td>\n",
       "      <td>2</td>\n",
       "      <td>2</td>\n",
       "      <td>0</td>\n",
       "      <td>0</td>\n",
       "    </tr>\n",
       "    <tr>\n",
       "      <th>8ec6ce2a7e7949b1bf142def7d0e0586</th>\n",
       "      <td>118</td>\n",
       "      <td>2017-09-25</td>\n",
       "      <td>None</td>\n",
       "      <td>NaN</td>\n",
       "      <td>NaN</td>\n",
       "      <td>2017</td>\n",
       "      <td>9</td>\n",
       "      <td>25</td>\n",
       "      <td>0</td>\n",
       "      <td>5</td>\n",
       "      <td>5</td>\n",
       "      <td>0</td>\n",
       "      <td>0</td>\n",
       "      <td>0</td>\n",
       "      <td>0</td>\n",
       "    </tr>\n",
       "    <tr>\n",
       "      <th>68617ca6246f4fbc85e91a2a49552598</th>\n",
       "      <td>118</td>\n",
       "      <td>2017-10-02</td>\n",
       "      <td>None</td>\n",
       "      <td>NaN</td>\n",
       "      <td>NaN</td>\n",
       "      <td>2017</td>\n",
       "      <td>10</td>\n",
       "      <td>2</td>\n",
       "      <td>0</td>\n",
       "      <td>5</td>\n",
       "      <td>4</td>\n",
       "      <td>0</td>\n",
       "      <td>0</td>\n",
       "      <td>0</td>\n",
       "      <td>0</td>\n",
       "    </tr>\n",
       "    <tr>\n",
       "      <th>389bc3fa690240e798340f5a15918d5c</th>\n",
       "      <td>65</td>\n",
       "      <td>2018-02-09</td>\n",
       "      <td>M</td>\n",
       "      <td>53000.0</td>\n",
       "      <td>60-69</td>\n",
       "      <td>2018</td>\n",
       "      <td>2</td>\n",
       "      <td>9</td>\n",
       "      <td>4</td>\n",
       "      <td>6</td>\n",
       "      <td>6</td>\n",
       "      <td>5</td>\n",
       "      <td>5</td>\n",
       "      <td>0</td>\n",
       "      <td>0</td>\n",
       "    </tr>\n",
       "    <tr>\n",
       "      <th>8974fc5686fe429db53ddde067b88302</th>\n",
       "      <td>118</td>\n",
       "      <td>2016-11-22</td>\n",
       "      <td>None</td>\n",
       "      <td>NaN</td>\n",
       "      <td>NaN</td>\n",
       "      <td>2016</td>\n",
       "      <td>11</td>\n",
       "      <td>22</td>\n",
       "      <td>1</td>\n",
       "      <td>4</td>\n",
       "      <td>3</td>\n",
       "      <td>1</td>\n",
       "      <td>1</td>\n",
       "      <td>0</td>\n",
       "      <td>0</td>\n",
       "    </tr>\n",
       "  </tbody>\n",
       "</table>\n",
       "</div>"
      ],
      "text/plain": [
       "                                  age became_member_on gender    income  \\\n",
       "id                                                                        \n",
       "68be06ca386d4c31939f3a4f0e3dd783  118       2017-02-12   None       NaN   \n",
       "0610b486422d4921ae7d2bf64640c50b   55       2017-07-15      F  112000.0   \n",
       "38fe809add3b4fcf9315a9694bb96ff5  118       2018-07-12   None       NaN   \n",
       "78afa995795e4d85b5d9ceeca43f5fef   75       2017-05-09      F  100000.0   \n",
       "a03223e636434f42ac4c3df47e8bac43  118       2017-08-04   None       NaN   \n",
       "e2127556f4f64592b11af22de27a7932   68       2018-04-26      M   70000.0   \n",
       "8ec6ce2a7e7949b1bf142def7d0e0586  118       2017-09-25   None       NaN   \n",
       "68617ca6246f4fbc85e91a2a49552598  118       2017-10-02   None       NaN   \n",
       "389bc3fa690240e798340f5a15918d5c   65       2018-02-09      M   53000.0   \n",
       "8974fc5686fe429db53ddde067b88302  118       2016-11-22   None       NaN   \n",
       "\n",
       "                                 age_group  became_member_year  \\\n",
       "id                                                               \n",
       "68be06ca386d4c31939f3a4f0e3dd783       NaN                2017   \n",
       "0610b486422d4921ae7d2bf64640c50b     50-59                2017   \n",
       "38fe809add3b4fcf9315a9694bb96ff5       NaN                2018   \n",
       "78afa995795e4d85b5d9ceeca43f5fef     70-79                2017   \n",
       "a03223e636434f42ac4c3df47e8bac43       NaN                2017   \n",
       "e2127556f4f64592b11af22de27a7932     60-69                2018   \n",
       "8ec6ce2a7e7949b1bf142def7d0e0586       NaN                2017   \n",
       "68617ca6246f4fbc85e91a2a49552598       NaN                2017   \n",
       "389bc3fa690240e798340f5a15918d5c     60-69                2018   \n",
       "8974fc5686fe429db53ddde067b88302       NaN                2016   \n",
       "\n",
       "                                  became_member_month  became_member_day  \\\n",
       "id                                                                         \n",
       "68be06ca386d4c31939f3a4f0e3dd783                    2                 12   \n",
       "0610b486422d4921ae7d2bf64640c50b                    7                 15   \n",
       "38fe809add3b4fcf9315a9694bb96ff5                    7                 12   \n",
       "78afa995795e4d85b5d9ceeca43f5fef                    5                  9   \n",
       "a03223e636434f42ac4c3df47e8bac43                    8                  4   \n",
       "e2127556f4f64592b11af22de27a7932                    4                 26   \n",
       "8ec6ce2a7e7949b1bf142def7d0e0586                    9                 25   \n",
       "68617ca6246f4fbc85e91a2a49552598                   10                  2   \n",
       "389bc3fa690240e798340f5a15918d5c                    2                  9   \n",
       "8974fc5686fe429db53ddde067b88302                   11                 22   \n",
       "\n",
       "                                  became_member_weekday offer_received  \\\n",
       "id                                                                       \n",
       "68be06ca386d4c31939f3a4f0e3dd783                      6              5   \n",
       "0610b486422d4921ae7d2bf64640c50b                      5              2   \n",
       "38fe809add3b4fcf9315a9694bb96ff5                      3              2   \n",
       "78afa995795e4d85b5d9ceeca43f5fef                      1              4   \n",
       "a03223e636434f42ac4c3df47e8bac43                      4              5   \n",
       "e2127556f4f64592b11af22de27a7932                      3              4   \n",
       "8ec6ce2a7e7949b1bf142def7d0e0586                      0              5   \n",
       "68617ca6246f4fbc85e91a2a49552598                      0              5   \n",
       "389bc3fa690240e798340f5a15918d5c                      4              6   \n",
       "8974fc5686fe429db53ddde067b88302                      1              4   \n",
       "\n",
       "                                 offer_viewed offer_completed  \\\n",
       "id                                                              \n",
       "68be06ca386d4c31939f3a4f0e3dd783            5               2   \n",
       "0610b486422d4921ae7d2bf64640c50b            0               1   \n",
       "38fe809add3b4fcf9315a9694bb96ff5            2               0   \n",
       "78afa995795e4d85b5d9ceeca43f5fef            4               3   \n",
       "a03223e636434f42ac4c3df47e8bac43            3               0   \n",
       "e2127556f4f64592b11af22de27a7932            3               2   \n",
       "8ec6ce2a7e7949b1bf142def7d0e0586            5               0   \n",
       "68617ca6246f4fbc85e91a2a49552598            4               0   \n",
       "389bc3fa690240e798340f5a15918d5c            6               5   \n",
       "8974fc5686fe429db53ddde067b88302            3               1   \n",
       "\n",
       "                                  offer_received_viewed_completed  \\\n",
       "id                                                                  \n",
       "68be06ca386d4c31939f3a4f0e3dd783                                2   \n",
       "0610b486422d4921ae7d2bf64640c50b                                0   \n",
       "38fe809add3b4fcf9315a9694bb96ff5                                0   \n",
       "78afa995795e4d85b5d9ceeca43f5fef                                3   \n",
       "a03223e636434f42ac4c3df47e8bac43                                0   \n",
       "e2127556f4f64592b11af22de27a7932                                2   \n",
       "8ec6ce2a7e7949b1bf142def7d0e0586                                0   \n",
       "68617ca6246f4fbc85e91a2a49552598                                0   \n",
       "389bc3fa690240e798340f5a15918d5c                                5   \n",
       "8974fc5686fe429db53ddde067b88302                                1   \n",
       "\n",
       "                                  offer_not_received_completed  \\\n",
       "id                                                               \n",
       "68be06ca386d4c31939f3a4f0e3dd783                             0   \n",
       "0610b486422d4921ae7d2bf64640c50b                             0   \n",
       "38fe809add3b4fcf9315a9694bb96ff5                             0   \n",
       "78afa995795e4d85b5d9ceeca43f5fef                             0   \n",
       "a03223e636434f42ac4c3df47e8bac43                             0   \n",
       "e2127556f4f64592b11af22de27a7932                             0   \n",
       "8ec6ce2a7e7949b1bf142def7d0e0586                             0   \n",
       "68617ca6246f4fbc85e91a2a49552598                             0   \n",
       "389bc3fa690240e798340f5a15918d5c                             0   \n",
       "8974fc5686fe429db53ddde067b88302                             0   \n",
       "\n",
       "                                  offer_not_viewed_completed  \n",
       "id                                                            \n",
       "68be06ca386d4c31939f3a4f0e3dd783                           0  \n",
       "0610b486422d4921ae7d2bf64640c50b                           1  \n",
       "38fe809add3b4fcf9315a9694bb96ff5                           0  \n",
       "78afa995795e4d85b5d9ceeca43f5fef                           0  \n",
       "a03223e636434f42ac4c3df47e8bac43                           0  \n",
       "e2127556f4f64592b11af22de27a7932                           0  \n",
       "8ec6ce2a7e7949b1bf142def7d0e0586                           0  \n",
       "68617ca6246f4fbc85e91a2a49552598                           0  \n",
       "389bc3fa690240e798340f5a15918d5c                           0  \n",
       "8974fc5686fe429db53ddde067b88302                           0  "
      ]
     },
     "execution_count": 27,
     "metadata": {},
     "output_type": "execute_result"
    }
   ],
   "source": [
    "profile.head(10)"
   ]
  },
  {
   "cell_type": "code",
   "execution_count": 28,
   "metadata": {},
   "outputs": [
    {
     "data": {
      "text/plain": [
       "<matplotlib.legend.Legend at 0x20b69eaa9e8>"
      ]
     },
     "execution_count": 28,
     "metadata": {},
     "output_type": "execute_result"
    },
    {
     "data": {
      "image/png": "[encoded data removed]",
      "text/plain": [
       "<Figure size 504x432 with 1 Axes>"
      ]
     },
     "metadata": {
      "needs_background": "light"
     },
     "output_type": "display_data"
    }
   ],
   "source": [
    "# for the male group, comparing number of offer_received, offer_viewed, and offer_completed\n",
    "\n",
    "fig, ax =plt.subplots(figsize=(7,6))\n",
    "sns.distplot( profile.loc[profile[\"gender\"]=='M', 'offer_received'] , color=\"blue\", label=\"offer_received\", ax=ax, kde=False)\n",
    "sns.distplot( profile.loc[profile[\"gender\"]=='M', 'offer_viewed'] , color=\"red\", label=\"offer_viewed\", ax=ax, kde=False)\n",
    "sns.distplot( profile.loc[profile[\"gender\"]=='M', 'offer_completed'] , color=\"cyan\", label=\"offer_completed\", ax=ax, kde=False)\n",
    "plt.legend()"
   ]
  },
  {
   "cell_type": "markdown",
   "metadata": {},
   "source": [
    "- For most of the male customers, they received about 4-6 offers while only view about 3-4 ones and complete from 0-3 offers."
   ]
  },
  {
   "cell_type": "code",
   "execution_count": 29,
   "metadata": {},
   "outputs": [
    {
     "data": {
      "text/plain": [
       "<matplotlib.legend.Legend at 0x20b6983f240>"
      ]
     },
     "execution_count": 29,
     "metadata": {},
     "output_type": "execute_result"
    },
    {
     "data": {
      "image/png": "[encoded data removed]",
      "text/plain": [
       "<Figure size 504x432 with 1 Axes>"
      ]
     },
     "metadata": {
      "needs_background": "light"
     },
     "output_type": "display_data"
    }
   ],
   "source": [
    "# for the female group, comparing number of offer_received, offer_viewed, and offer_completed\n",
    "\n",
    "fig, ax =plt.subplots(figsize=(7,6))\n",
    "sns.distplot( profile.loc[profile[\"gender\"]=='F', 'offer_received'] , color=\"blue\", label=\"offer_received\", ax=ax, kde=False)\n",
    "sns.distplot( profile.loc[profile[\"gender\"]=='F', 'offer_viewed'] , color=\"red\", label=\"offer_viewed\", ax=ax, kde=False)\n",
    "sns.distplot( profile.loc[profile[\"gender\"]=='F', 'offer_completed'] , color=\"cyan\", label=\"offer_completed\", ax=ax, kde=False)\n",
    "plt.legend()"
   ]
  },
  {
   "cell_type": "markdown",
   "metadata": {},
   "source": [
    "- For the most female customers, they receive about 4-6 offers, and likely to view about 3-4 ones. But most female customers complete about 2-4 offers."
   ]
  },
  {
   "cell_type": "code",
   "execution_count": 30,
   "metadata": {},
   "outputs": [
    {
     "data": {
      "text/plain": [
       "<matplotlib.legend.Legend at 0x20b71c97a20>"
      ]
     },
     "execution_count": 30,
     "metadata": {},
     "output_type": "execute_result"
    },
    {
     "data": {
      "image/png": "[encoded data removed]",
      "text/plain": [
       "<Figure size 504x432 with 1 Axes>"
      ]
     },
     "metadata": {
      "needs_background": "light"
     },
     "output_type": "display_data"
    }
   ],
   "source": [
    "# compare the number of customers who followed all stages: offer received -> offer viewed -> offer completed\n",
    "# make comparison between male and female groups.\n",
    "\n",
    "fig, ax =plt.subplots(figsize=(7,6))\n",
    "sns.distplot( profile.loc[profile[\"gender\"]=='M', 'offer_received_viewed_completed'] , color=\"blue\", label=\"Male\", kde=False, ax=ax)\n",
    "sns.distplot( profile.loc[profile[\"gender\"]=='F', 'offer_received_viewed_completed'] , color=\"red\", label=\"Female\", kde=False, ax=ax)\n",
    "plt.legend()"
   ]
  },
  {
   "cell_type": "markdown",
   "metadata": {},
   "source": [
    "- When considering offers that got completed after being received and viewed, males customers tend to complete about 0-3 such offers. While female customers, on the other hand, tend to complete from 2-4 of such offers. "
   ]
  },
  {
   "cell_type": "markdown",
   "metadata": {},
   "source": [
    "Customer Profiling:\n",
    "- customers who made no purchase because they never viewed any offer.\n",
    "- customers who made no purchase after received and viewed the offers.\n",
    "- customers who made single/multiple purchase after receiving the offers, regardless whether the offers are viewed or not.\n",
    "- customers who made single/multiple purchase even when no offers are being sent to them."
   ]
  },
  {
   "cell_type": "code",
   "execution_count": 31,
   "metadata": {},
   "outputs": [
    {
     "name": "stdout",
     "output_type": "stream",
     "text": [
      "There are 422 customers who made no purchases during the testing period.\n",
      "Out of these 422 customers, 0 customers did not receive any offers.\n",
      "Out of these 422 customers, 412 customers did not view any offers.\n",
      "Out of these 422 customers, 10 customers viewed the offers but still did not make purchase. \n",
      "\n",
      "There are 16578 customers who made purchases during the testing period.\n",
      "Out of these 16578 customers, 16422 customers received offers and viewed them.\n",
      "Out of these 16578 customers, 150 customers received offers but did not view them.\n",
      "Out of these 16578 customers, 6 customers did not receive any offers.\n"
     ]
    }
   ],
   "source": [
    "# to do customer profiling, first we need to append amount, and reward information to the profile dataset\n",
    "\n",
    "profile.insert(profile.shape[1], column=\"amount_spent\", value=np.zeros_like(profile.index))\n",
    "profile = profile.join(transcript.query('amount>=0').groupby('person').sum()['amount'])\n",
    "profile.amount_spent.update(profile.pop('amount'))\n",
    "\n",
    "profile.insert(profile.shape[1], column=\"reward_received\", value=np.zeros_like(profile.index))\n",
    "profile = profile.join(transcript.query('reward>=0').groupby('person').sum()['reward'])\n",
    "profile.reward_received.update(profile.pop('reward'))\n",
    "\n",
    "# customers with no purchases\n",
    "    # customers who made no purchase because they never viewed any offer\n",
    "    # customers who made no purchase after received and viewed the offers\n",
    "    \n",
    "print('There are %.0f customers who made no purchases during the testing period.' % (profile.query('amount_spent==0').shape[0]))\n",
    "print('Out of these 422 customers, %.0f customers did not receive any offers.' % (profile.query('amount_spent==0 and offer_received==0').shape[0]))\n",
    "print('Out of these 422 customers, %.0f customers did not view any offers.' % (profile.query('amount_spent==0 and offer_viewed!=0').shape[0]))\n",
    "print('Out of these 422 customers, %.0f customers viewed the offers but still did not make purchase.' % (profile.query('amount_spent==0 and offer_viewed==0').shape[0]), '\\n')\n",
    "\n",
    "idx1 = profile.query('amount_spent==0 and offer_viewed!=0').index\n",
    "idx2 = profile.query('amount_spent==0 and offer_viewed==0').index \n",
    "profile.loc[idx1, 'no_purchase'] = 'no_purchase_no_view'\n",
    "profile.loc[idx2, 'no_purchase'] = 'no_purchase_did_view'\n",
    "profile['no_purchase'].fillna('made_purchase', inplace=True)\n",
    "\n",
    "# customers with purchases\n",
    "    # customers who made single/multiple purchase after receiving the offers, and viewed\n",
    "    # customers who made single/multiple purchase after receiving the offers, but not viewed\n",
    "    # customers who made single/multiple purchase even when no offers are being sent to them\n",
    "\n",
    "print('There are %.0f customers who made purchases during the testing period.' % (profile.query('amount_spent>0').shape[0]))\n",
    "print('Out of these 16578 customers, %.0f customers received offers and viewed them.' % (profile.query('amount_spent>0 and offer_viewed!=0').shape[0]))\n",
    "print('Out of these 16578 customers, %.0f customers received offers but did not view them.' % (profile.query('amount_spent>0 and offer_received!=0 and offer_viewed==0').shape[0]))\n",
    "print('Out of these 16578 customers, %.0f customers did not receive any offers.' % (profile.query('amount_spent>0 and offer_received==0').shape[0]))\n",
    "\n",
    "idx1 = profile.query('amount_spent>0 and offer_viewed!=0').index\n",
    "idx2 = profile.query('amount_spent>0 and offer_received!=0 and offer_viewed==0').index \n",
    "idx3 = profile.query('amount_spent>0 and offer_received==0').index \n",
    "profile.loc[idx1, 'with_purchase'] = 'purchased_viewed'\n",
    "profile.loc[idx2, 'with_purchase'] = 'purchased_received_no_view'\n",
    "profile.loc[idx3, 'with_purchase'] = 'purchased_not_received'\n",
    "profile['with_purchase'].fillna('no_purchase', inplace=True)"
   ]
  },
  {
   "cell_type": "code",
   "execution_count": 32,
   "metadata": {},
   "outputs": [
    {
     "data": {
      "text/plain": [
       "<matplotlib.legend.Legend at 0x20b69e72cf8>"
      ]
     },
     "execution_count": 32,
     "metadata": {},
     "output_type": "execute_result"
    },
    {
     "data": {
      "image/png": "[encoded data removed]",
      "text/plain": [
       "<Figure size 504x432 with 1 Axes>"
      ]
     },
     "metadata": {
      "needs_background": "light"
     },
     "output_type": "display_data"
    }
   ],
   "source": [
    "# visualize male/female customers total spent amount\n",
    "\n",
    "fig, ax =plt.subplots(figsize=(7,6))\n",
    "sns.kdeplot(profile.query('gender==\"M\" and amount_spent<600')['amount_spent'], color=\"blue\", shade=True, ax=ax, cut=0, label=\"Male\")\n",
    "sns.kdeplot(profile.query('gender==\"F\" and amount_spent<600')['amount_spent'], color=\"red\", shade=True, ax=ax, cut=0, label=\"Female\")\n",
    "plt.legend()"
   ]
  },
  {
   "cell_type": "markdown",
   "metadata": {},
   "source": [
    "- It's observed that most of the female population has much higher total spent amount that centers around at \\\\$100 dollars, whereas for the male population, most of the total spent amount centers around at less than \\\\$50 dollars."
   ]
  },
  {
   "cell_type": "code",
   "execution_count": 33,
   "metadata": {},
   "outputs": [
    {
     "data": {
      "text/plain": [
       "<matplotlib.legend.Legend at 0x20b69d45dd8>"
      ]
     },
     "execution_count": 33,
     "metadata": {},
     "output_type": "execute_result"
    },
    {
     "data": {
      "image/png": "[encoded data removed]",
      "text/plain": [
       "<Figure size 504x432 with 1 Axes>"
      ]
     },
     "metadata": {
      "needs_background": "light"
     },
     "output_type": "display_data"
    }
   ],
   "source": [
    "# visualize male/female customers total number of rewards received\n",
    "\n",
    "fig, ax =plt.subplots(figsize=(7,6))\n",
    "sns.kdeplot(profile.query('gender==\"M\"')['reward_received'], color=\"blue\", shade=True, ax=ax, cut=0, label=\"Male\")\n",
    "sns.kdeplot(profile.query('gender==\"F\"')['reward_received'], color=\"red\", shade=True, ax=ax, cut=0, label=\"Female\")\n",
    "plt.legend()"
   ]
  },
  {
   "cell_type": "markdown",
   "metadata": {},
   "source": [
    "- As a result, the most of the female population receives more rewards than the male population does."
   ]
  },
  {
   "cell_type": "code",
   "execution_count": 34,
   "metadata": {},
   "outputs": [
    {
     "data": {
      "text/plain": [
       "with_purchase\n",
       "no_purchase                    0.00\n",
       "purchased_not_received        44.63\n",
       "purchased_received_no_view    23.71\n",
       "purchased_viewed              73.33\n",
       "Name: amount_spent, dtype: float64"
      ]
     },
     "execution_count": 34,
     "metadata": {},
     "output_type": "execute_result"
    }
   ],
   "source": [
    "# determine how the \"with_purchase\" column affect customers total spent amount\n",
    "# note that the \"with_purchase\" column includes the following categories: \n",
    "    # customers made purchase after received offers and viewed them, - purchased_viewed\n",
    "    # customers made purchase after received offers but did not view them, - purchased_received_no_view\n",
    "    # customers made purchase but did not receive any offers - purchased_not_received\n",
    "\n",
    "profile.amount_spent = profile.amount_spent.astype('float64')\n",
    "profile.reward_received = profile.reward_received.astype('float64')\n",
    "profile.groupby('with_purchase').median()['amount_spent']"
   ]
  },
  {
   "cell_type": "markdown",
   "metadata": {},
   "source": [
    "- Clearly, we see that the median purchase amount for thoes customers who received and viewed the offers is higher than the rest of the categories. So, customer who follow all stages, offer received, offer viewed and offer completed, make them really valuable. "
   ]
  },
  {
   "cell_type": "code",
   "execution_count": 35,
   "metadata": {},
   "outputs": [
    {
     "data": {
      "text/plain": [
       "<seaborn.axisgrid.FacetGrid at 0x20b6a7467b8>"
      ]
     },
     "execution_count": 35,
     "metadata": {},
     "output_type": "execute_result"
    },
    {
     "data": {
      "image/png": "[encoded data removed]",
      "text/plain": [
       "<Figure size 507.875x360 with 1 Axes>"
      ]
     },
     "metadata": {
      "needs_background": "light"
     },
     "output_type": "display_data"
    },
    {
     "data": {
      "image/png": "[encoded data removed]",
      "text/plain": [
       "<Figure size 507.875x360 with 1 Axes>"
      ]
     },
     "metadata": {
      "needs_background": "light"
     },
     "output_type": "display_data"
    }
   ],
   "source": [
    "# visualize demographics based on the \"no_purchase\" column\n",
    "\n",
    "sns.catplot(x=\"gender\", y=\"age\", hue=\"no_purchase\", kind=\"bar\", data=profile)\n",
    "sns.catplot(x=\"gender\", y=\"income\", hue=\"no_purchase\", kind=\"bar\", data=profile)"
   ]
  },
  {
   "cell_type": "markdown",
   "metadata": {},
   "source": [
    "- We observe that within the customers who made no purchases, the majority comes from female, high income pupolation. That being said, if the offers we sent are mainly for informational purposes, that's fine. But, we should really focusing on senting promotion offers such as \"bogo\" and \"discounts because we've observed that this particular group of customers has higher total spent amount and they are likely to complete more offers than the male customers across all ages and income levels. "
   ]
  },
  {
   "cell_type": "markdown",
   "metadata": {},
   "source": [
    "### 2.2 Initial conclusion - profile + transcript\n",
    "\n",
    "Summary:\n",
    "- For most of the male customers, they received about 4-6 offers while only view about 3-4 ones and complete from 0-3 offers.\n",
    "- For the most female customers, they receive about 4-6 offers, and likely to view about 3-4 ones. But most female customers complete about 2-4 offers.\n",
    "- When considering the offers that got completed only after being received and viewed, males customers tend to complete about 0-3 such offers. While female customers, on the other hand, tend to complete from 2-4 of such offers.\n",
    "- There are 422 customers who made no purchases during the testing period.\n",
    "    - Out of these 422 customers, 0 customers did not receive any offers.\n",
    "    - Out of these 422 customers, 412 customers did not view any offers.\n",
    "    - Out of these 422 customers, 10 customers viewed the offers but still did not make purchase.\n",
    "- There are 16578 customers who made purchases during the testing period.\n",
    "    - Out of these 16578 customers, 16422 customers received offers and viewed them.\n",
    "    - Out of these 16578 customers, 150 customers received offers but did not view them.\n",
    "    - Out of these 16578 customers, 6 customers did not receive any offers.\n",
    "- It's observed that most of the female population has much higher total spent amount that centers around at \\\\$100 dollars, whereas for the male population, most of the total spent amount centers around at less than \\\\$50 dollars.\n",
    "- As a result, the most of the female population receives more rewards than the male population does.\n",
    "- Clearly, we see that the median purchase amount for thoes customers who received and viewed the offers is higher than the rest of the categories. So, customer who follow all stages, offer received, offer viewed and offer completed, make them really valuable.\n",
    "\n",
    "Conclusion:\n",
    "- Female customers receive and view about the same amount of offers, but they tend to complete more offers than the male customers do. We also observe that the female population has much higher total spent amount that centers around at \\\\$100 dollars; whereas, the male population's most frequent total spent amount centers at less than \\\\$40-\\\\$50 dollars.\n",
    "- For customers who did not make any purchase, most of them did receive the offers, but never viewed them. We should design offers that are likely to be viewed.\n",
    "- For customers who made at least one purchase, most of them followed all stages which include receive and view the offer first, then complete the offer. This sequence of actions is really valuable because the median purchase amount for this type of offer completion is higher than the rest of the scenarios. So, customer that follow all stages make them really valuable. We also observe that female customers tend to complete more such offers than male customers do.\n",
    "- We observe that within the customers who made no purchases, the majority comes from female, high income pupolation. That being said, if the offers we sent are mainly for informational purposes, that's fine. But, we should really focusing on senting promotion offers such as \"bogo\" and \"discounts because we've observed that this particular group of customers has higher total spent amount and they are likely to complete more offers than the male customers across all ages and income levels."
   ]
  },
  {
   "cell_type": "markdown",
   "metadata": {},
   "source": [
    "## Component conclusion\n",
    "\n",
    "Questions to answer\n",
    "1.\tWhat are the success rates for each offer?\n",
    "2.\tWhat statements can we make when comparing the bogo and discount offers?\n",
    "3.\tWhen people make certain decisions about the offers, are there any common characteristics that these people share? \n",
    "\n",
    "Findings:\n",
    "1. All offers got received about 7000 times for the entire customer population. However, offer \"fafdcd668e3743c1bb461111dcafc2a4\" and \"2298d6c36e964ae4a3e7e9706d1fb8c2\" are the most successful ones in terms of offer completion rates with 70% and 67% respectively.\n",
    "2. The \"bogo\" offers have the highest average number of views, so as a result, this offer type also has the highest degree of influence. The \"discount\" offers took the longest to complete, but their averaged number of completions is the highest.\n",
    "3. Female customers receive and view about the same amount of offers, but they tend to complete more offers than the male customers do. We also observe that the female population has much higher individual total spent amount that centers around at \\\\$100 dollars; whereas, the male population's most frequent total spent amount centers at less than \\\\$40-\\\\$50 dollars.\n",
    "    - However, We also observe that within the customers who made no purchases, the majority comes from female. Female customers have higher median income than male customers do. That being said, if the offers we sent are mainly for informational purposes, that's fine. But, we should be foucing on sending promotion offers such as \"bogo\" and \"discounts because we've observed that this particular group of customers has higher total spent amount and they are likely to complete more offers than the male customers across all ages and income levels.\n",
    "    - For customers who did not make any purchase, most of them did receive the offers, but never viewed them. We should design offers that are likely to be viewed.\n",
    "    - For customers who made at least one purchase, most of them followed all stages which include receive and view the offer first, then complete the offer. This sequence of actions is desired because the median purchase amount, for customers who followed all stages, is higher than the rest of the scenarios. So, customer that follow all stages make them valuable. "
   ]
  },
  {
   "cell_type": "code",
   "execution_count": 36,
   "metadata": {},
   "outputs": [],
   "source": [
    "# prepare the datasets to be used in the next component\n",
    "\n",
    "import os\n",
    "data_dir = '../Data/Processed'\n",
    "if not os.path.exists(data_dir):\n",
    "    os.makedirs(data_dir)\n",
    "\n",
    "transcript.to_csv(os.path.join(data_dir, 'transcript_processed.csv'), header=True, index=True)\n",
    "profile.to_csv(os.path.join(data_dir, 'profile_processed.csv'), header=True, index=True)\n",
    "portfolio_transcript.to_csv(os.path.join(data_dir, 'portfolio_processed.csv'), header=True, index=True)"
   ]
  }
 ],
 "metadata": {
  "kernelspec": {
   "display_name": "Python 3",
   "language": "python",
   "name": "python3"
  },
  "language_info": {
   "codemirror_mode": {
    "name": "ipython",
    "version": 3
   },
   "file_extension": ".py",
   "mimetype": "text/x-python",
   "name": "python",
   "nbconvert_exporter": "python",
   "pygments_lexer": "ipython3",
   "version": "3.7.3"
  }
 },
 "nbformat": 4,
 "nbformat_minor": 2
}
