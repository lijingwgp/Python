{
 "cells": [
  {
   "cell_type": "code",
   "execution_count": null,
   "id": "meaning-nicaragua",
   "metadata": {},
   "outputs": [],
   "source": [
    "from sklearn.metrics import make_scorer"
   ]
  },
  {
   "cell_type": "code",
   "execution_count": null,
   "id": "pursuant-intermediate",
   "metadata": {},
   "outputs": [],
   "source": [
    "# write a function to calculate the final sMAPE value.\n",
    "# before this, I need to first create a function for calculating the sMAPE values\n",
    "\n",
    "def sMAPE_score(y_pred, y_true):\n",
    "    result = np.mean((abs(y_true - y_pred))/((abs(y_true)+abs(y_pred))/2)*100)\n",
    "    return result\n",
    "\n",
    "sMAPE_score = make_scorer(sMAPE, greater_is_better=False)"
   ]
  },
  {
   "cell_type": "markdown",
   "id": "negative-teens",
   "metadata": {},
   "source": [
    "- As we are given instruction to use the sMAPE metric as the loss function, we will need to make a function to calculate the loss then make it callable during cross-validation.\n",
    "- Since this function calculates losses, our goal is to minimize it. However, the default optimization behaviour of scikit learn is to maximize function values over iterations (or batches); thus we purposely make our customized loss function negative by assigning false to the parameter of make_scorer function. This will make all loss values calculated from our loss function negative so the optimizer will seek to bring it close to 0 thus achieving low loss values in reality."
   ]
  },
  {
   "cell_type": "code",
   "execution_count": null,
   "id": "greatest-grove",
   "metadata": {},
   "outputs": [],
   "source": [
    "# model tuning\n",
    "\n",
    "params = {'alpha': list(np.linspace(0.1,1,100)), 'l1_ratio': list(np.linspace(0.1,0.9,100))}\n",
    "model_tuned = RandomizedSearchCV(estimator=ElasticNet(random_state=123, selection='random'), \n",
    "                                 param_distributions=params, n_iter=30, scoring=sMAPE_score, n_jobs=-1, cv=5)\n",
    "\n",
    "model_tuned.fit(x_train, y_train)\n",
    "model_tuned.best_params_, model_tuned.best_score_"
   ]
  }
 ],
 "metadata": {
  "kernelspec": {
   "display_name": "Python 3",
   "language": "python",
   "name": "python3"
  },
  "language_info": {
   "codemirror_mode": {
    "name": "ipython",
    "version": 3
   },
   "file_extension": ".py",
   "mimetype": "text/x-python",
   "name": "python",
   "nbconvert_exporter": "python",
   "pygments_lexer": "ipython3",
   "version": "3.8.5"
  }
 },
 "nbformat": 4,
 "nbformat_minor": 5
}
