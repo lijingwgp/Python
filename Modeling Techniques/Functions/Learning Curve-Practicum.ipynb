{
 "cells": [
  {
   "cell_type": "code",
   "execution_count": null,
   "id": "monthly-ebony",
   "metadata": {},
   "outputs": [],
   "source": [
    "# examine model learning curve\n",
    "\n",
    "def learning_curve_graph(model, x, y, scorer, tune_params, tune_result, title, x_label, y_label):\n",
    "\n",
    "    # Initialize a learning curve figure\n",
    "\n",
    "    fig, axes = plt.subplots(1, 1, figsize=(8, 7))\n",
    "    axes.set_title(title)\n",
    "    axes.set_ylim(tune_result[0], tune_result[1])\n",
    "    axes.set_xlabel(x_label)\n",
    "    axes.set_ylabel(y_label)\n",
    "\n",
    "    # learning curve calculations\n",
    "\n",
    "    cv = ShuffleSplit(n_splits=100, test_size=0.2, random_state=0)\n",
    "    train_sizes, train_scores, test_scores = \\\n",
    "    learning_curve(model(**tune_params), \n",
    "                   x, y, scoring=scorer,\n",
    "                   cv=cv, n_jobs=-1, train_sizes=np.linspace(.1, 1.0, 5))\n",
    "    train_scores_mean = np.mean(train_scores, axis=1)\n",
    "    train_scores_std = np.std(train_scores, axis=1)\n",
    "    test_scores_mean = np.mean(test_scores, axis=1)\n",
    "    test_scores_std = np.std(test_scores, axis=1)\n",
    "\n",
    "    # Plot the curve\n",
    "\n",
    "    axes.grid()\n",
    "    axes.fill_between(train_sizes, train_scores_mean - train_scores_std, train_scores_mean + train_scores_std, alpha=0.1,\n",
    "                      color=\"r\")\n",
    "    axes.fill_between(train_sizes, test_scores_mean - test_scores_std, test_scores_mean + test_scores_std, alpha=0.1,\n",
    "                      color=\"g\")\n",
    "    axes.plot(train_sizes, train_scores_mean, 'o-', color=\"r\", label=\"Training score\")\n",
    "    axes.plot(train_sizes, test_scores_mean, 'o-', color=\"b\", label=\"Cross-validation score\")\n",
    "    axes.legend(loc=\"best\")"
   ]
  },
  {
   "cell_type": "code",
   "execution_count": null,
   "id": "popular-coupon",
   "metadata": {},
   "outputs": [],
   "source": [
    "model = LGBMRegressor\n",
    "x = x_train_new\n",
    "y = y_train\n",
    "scorer = 'neg_mean_absolute_error'\n",
    "tune_params = best_param\n",
    "tune_result = [-17, 7]\n",
    "title = \"Learning Curves (LGBMRegressor)\"\n",
    "x_label = \"Training examples\"\n",
    "y_label = \"MAE\"\n",
    "\n",
    "learning_curve_graph(model, x, y, scorer, tune_params, tune_result, title, x_label, y_label)"
   ]
  }
 ],
 "metadata": {
  "kernelspec": {
   "display_name": "Python 3",
   "language": "python",
   "name": "python3"
  },
  "language_info": {
   "codemirror_mode": {
    "name": "ipython",
    "version": 3
   },
   "file_extension": ".py",
   "mimetype": "text/x-python",
   "name": "python",
   "nbconvert_exporter": "python",
   "pygments_lexer": "ipython3",
   "version": "3.8.5"
  }
 },
 "nbformat": 4,
 "nbformat_minor": 5
}
