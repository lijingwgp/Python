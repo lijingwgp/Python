{
 "cells": [
  {
   "cell_type": "code",
   "execution_count": null,
   "id": "under-murder",
   "metadata": {},
   "outputs": [],
   "source": [
    "def profit(target, predictions, count, revenue_per_unit, cost_per_well):\n",
    "    \n",
    "    # pick the wells with the highest predicted values\n",
    "    pred_sorted = pd.Series(predictions).sort_values(ascending=False)\n",
    "    target.reset_index(drop=True, inplace=True)\n",
    "    selected_wells = target[pred_sorted.index][:count]\n",
    "    \n",
    "    # summarize the target volume in accordance\n",
    "    total_region_vol = selected_wells.sum()\n",
    "    \n",
    "    revenue = total_region_vol * revenue_per_unit\n",
    "    cost = count * cost_per_well\n",
    "    \n",
    "    return revenue-cost"
   ]
  },
  {
   "cell_type": "code",
   "execution_count": null,
   "id": "adjacent-kelly",
   "metadata": {},
   "outputs": [],
   "source": [
    "# initial findings\n",
    "\n",
    "profit_region1 = profit(y_val1, pred1, 200, revenue_per_unit, cost_per_well)\n",
    "profit_region2 = profit(y_val2, pred2, 200, revenue_per_unit, cost_per_well)\n",
    "profit_region3 = profit(y_val3, pred3, 200, revenue_per_unit, cost_per_well)\n",
    "\n",
    "print(profit_region1, profit_region2, profit_region3)"
   ]
  },
  {
   "cell_type": "code",
   "execution_count": null,
   "id": "incorporate-refund",
   "metadata": {},
   "outputs": [],
   "source": [
    "# boostrapping function\n",
    "\n",
    "def bootstrap(target, prediction):\n",
    "    state = np.random.RandomState(123)\n",
    "    \n",
    "    values=[]\n",
    "    for i in range(1000):\n",
    "        target_resample = target.sample(n=500, replace=True, random_state=state)\n",
    "        pred_resample = prediction[target_resample.index]\n",
    "        values.append(profit(target_resample, pred_resample, 200, revenue_per_unit, cost_per_well))\n",
    "        \n",
    "    values = pd.Series(values)\n",
    "    mean = values.mean()\n",
    "    lower = values.quantile(0.025)\n",
    "    upper = values.quantile(0.975)\n",
    "    \n",
    "    return mean, lower, upper"
   ]
  },
  {
   "cell_type": "code",
   "execution_count": null,
   "id": "after-economics",
   "metadata": {},
   "outputs": [],
   "source": [
    "# region 1\n",
    "\n",
    "mean1, lower1, upper1 = bootstrap(y_val1, pred1)\n",
    "mean2, lower2, upper2 = bootstrap(y_val2, pred2)\n",
    "mean3, lower3, upper3 = bootstrap(y_val3, pred3)\n",
    "\n",
    "print(f'For region1, average profit is: {mean1} | 95% conf interval lower is: {lower1} | 95% conf interval upper\\n is: {upper1}', '\\n')\n",
    "print(f'For region2, average profit is: {mean2} | 95% conf interval lower is: {lower2} | 95% conf interval upper\\n is: {upper2}', '\\n')\n",
    "print(f'For region3, average profit is: {mean3} | 95% conf interval lower is: {lower3} | 95% conf interval upper\\n is: {upper3}', '\\n')"
   ]
  }
 ],
 "metadata": {
  "kernelspec": {
   "display_name": "Python 3",
   "language": "python",
   "name": "python3"
  },
  "language_info": {
   "codemirror_mode": {
    "name": "ipython",
    "version": 3
   },
   "file_extension": ".py",
   "mimetype": "text/x-python",
   "name": "python",
   "nbconvert_exporter": "python",
   "pygments_lexer": "ipython3",
   "version": "3.8.5"
  }
 },
 "nbformat": 4,
 "nbformat_minor": 5
}
