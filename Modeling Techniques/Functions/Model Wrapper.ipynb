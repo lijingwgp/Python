{
 "cells": [
  {
   "cell_type": "code",
   "execution_count": null,
   "id": "starting-accreditation",
   "metadata": {},
   "outputs": [],
   "source": [
    "class CatboostWrapper(object):\n",
    "    def __init__(self, estimator, seed=0, cat_features=None, params=None, metric=None):\n",
    "        params['random_seed'] = seed\n",
    "        params['eval_metric'] = metric\n",
    "        self.estimator = estimator(**params)\n",
    "        self.cat_features = cat_features\n",
    "\n",
    "    def train(self, x_train, y_train, x_val, y_val):\n",
    "        train_pool = Pool(x_train, y_train, cat_features=self.cat_features)\n",
    "        val_pool = Pool(x_val, y_val, cat_features=self.cat_features) \n",
    "        self.estimator.fit(train_pool, eval_set=val_pool, early_stopping_rounds=30, verbose=50)\n",
    "\n",
    "    def predict(self, x):\n",
    "        test_pool = Pool(x, cat_features=self.cat_features)\n",
    "        return self.estimator.predict(x)\n",
    "        \n",
    "        \n",
    "class LightGBMWrapper(object):\n",
    "    def __init__(self, estimator, seed=0, cat_features=None, params=None, metric=None):\n",
    "        params['random_state'] = seed\n",
    "        self.estimator = estimator(**params, num_threads=-1)\n",
    "        self.metric = metric\n",
    "        self.cat_features = cat_features\n",
    "\n",
    "    def train(self, x_train, y_train, x_val, y_val):\n",
    "        self.estimator.fit(x_train, y_train, eval_set = [(x_train, y_train), (x_val, y_val)],\n",
    "                           eval_metric= self.metric, early_stopping_rounds=30, verbose=50, categorical_feature=self.cat_features)\n",
    "\n",
    "    def predict(self, x):\n",
    "        return self.estimator.predict(x)\n",
    "    \n",
    "\n",
    "class XgbWrapper(object):\n",
    "    def __init__(self, estimator, seed=0, params=None, metric=None):\n",
    "        params['random_state'] = seed\n",
    "        self.estimator = estimator(**params)\n",
    "        self.metric = metric\n",
    "\n",
    "    def train(self, x_train, y_train, x_val, y_val):\n",
    "        self.estimator.fit(x_train, y_train, eval_set = [(x_train, y_train), (x_val, y_val)],\n",
    "                           eval_metric= self.metric, early_stopping_rounds=30, verbose=50)\n",
    "\n",
    "    def predict(self, x):\n",
    "        return self.estimator.predict(x)"
   ]
  },
  {
   "cell_type": "code",
   "execution_count": null,
   "id": "pursuant-brother",
   "metadata": {},
   "outputs": [],
   "source": [
    "# fix number of iterations, then use default values for the rest parameters of each model\n",
    "\n",
    "lightgbm_params = {'n_estimators':500}\n",
    "xgb_params = {'n_estimators':500}\n",
    "cat_params = {'iterations':500}"
   ]
  },
  {
   "cell_type": "code",
   "execution_count": null,
   "id": "complex-yacht",
   "metadata": {},
   "outputs": [],
   "source": [
    "%%time\n",
    "SEED=123\n",
    "cat_vars = [var for var in data.columns if data[var].dtypes == 'O']\n",
    "lg = LightGBMWrapper(LGBMRegressor, SEED, cat_vars, lightgbm_params, 'rmse')\n",
    "lg.train(train_x, train_y, val_x, val_y)"
   ]
  },
  {
   "cell_type": "code",
   "execution_count": null,
   "id": "convertible-credit",
   "metadata": {},
   "outputs": [],
   "source": [
    "%%time\n",
    "SEED=123\n",
    "xg = XgbWrapper(XGBRegressor, SEED, xgb_params, 'rmse')\n",
    "xg.train(train_x, train_y, val_x, val_y)"
   ]
  },
  {
   "cell_type": "code",
   "execution_count": null,
   "id": "weekly-graphics",
   "metadata": {},
   "outputs": [],
   "source": [
    "%%time\n",
    "SEED=123\n",
    "cat_vars = [var for var in data.columns if data[var].dtypes == 'O']\n",
    "cat = CatboostWrapper(CatBoostRegressor, SEED, cat_vars, cat_params, 'RMSE')\n",
    "cat.train(train_x, train_y, val_x, val_y)"
   ]
  },
  {
   "cell_type": "code",
   "execution_count": null,
   "id": "atomic-stability",
   "metadata": {},
   "outputs": [],
   "source": [
    "lg_pred = lg.predict(test_x)\n",
    "xg_pred = xg.predict(test_x)\n",
    "cat_pred = cat.predict(test_x)\n",
    "\n",
    "lg_result = np.sqrt(mean_squared_error(test_y, lg_pred))\n",
    "xg_result = np.sqrt(mean_squared_error(test_y, xg_pred))\n",
    "cat_result = np.sqrt(mean_squared_error(test_y, cat_pred))\n",
    "\n",
    "print('RMSE for LightGBM Regressor: %.3f' % lg_result)\n",
    "print('RMSE for XGB Regressor: %.3f' % xg_result)\n",
    "print('RMSE for CatBoost Regressor: %.3f' % cat_result)"
   ]
  }
 ],
 "metadata": {
  "kernelspec": {
   "display_name": "Python 3",
   "language": "python",
   "name": "python3"
  },
  "language_info": {
   "codemirror_mode": {
    "name": "ipython",
    "version": 3
   },
   "file_extension": ".py",
   "mimetype": "text/x-python",
   "name": "python",
   "nbconvert_exporter": "python",
   "pygments_lexer": "ipython3",
   "version": "3.8.5"
  }
 },
 "nbformat": 4,
 "nbformat_minor": 5
}
