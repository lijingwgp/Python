{
 "cells": [
  {
   "cell_type": "code",
   "execution_count": null,
   "id": "spread-signature",
   "metadata": {},
   "outputs": [],
   "source": [
    "lgb_space = {\n",
    "    'learning_rate': hp.loguniform('learning_rate', np.log(0.01), np.log(0.5)),\n",
    "    'max_depth': scope.int(hp.quniform('max_depth', 5, 20, 1)),\n",
    "    'n_estimators': scope.int(hp.quniform('n_estimators', 200, 600, 1)),\n",
    "    'num_leaves': scope.int(hp.quniform('num_leaves', 30, 100, 1)),\n",
    "    'colsample_bytree': hp.uniform('colsample_by_tree', 0.6, 1.0),\n",
    "    'bagging_fraction': hp.uniform('bagging_fraction', 0.6, 1.0),\n",
    "    'reg_alpha': hp.uniform('reg_alpha', 0.0, 20.0),\n",
    "    'reg_lambda': hp.uniform('reg_lambda', 0.0, 20.0),\n",
    "    'min_child_samples': scope.int(hp.quniform('min_child_samples', 20, 100, 5)),\n",
    "}\n",
    "\n",
    "xgb_space = {\n",
    "    'n_estimators': scope.int(hp.quniform('n_estimators', 200, 600, 1)),\n",
    "    'max_depth': scope.int(hp.quniform(\"max_depth\", 5, 20, 1)),\n",
    "    'learning_rate': hp.loguniform('learning_rate', np.log(0.01), np.log(0.5)),\n",
    "    'gamma': hp.uniform ('gamma', 1.0, 50.0),\n",
    "    'reg_alpha' : hp.uniform('reg_alpha', 0.0, 20.0),\n",
    "    'reg_lambda' : hp.uniform('reg_lambda', 0.0, 20.0),\n",
    "    'subsample': hp.uniform('subsample', 0.6, 1.0),\n",
    "    'colsample_bytree' : hp.uniform('colsample_bytree', 0.6, 1.0),\n",
    "    'min_child_weight' : scope.int(hp.quniform('min_child_weight', 1, 100, 1)),\n",
    "    }\n",
    "\n",
    "cat_space = {\n",
    "    'iterations': scope.int(hp.quniform('iterations', 200, 600, 1)),\n",
    "    'learning_rate': hp.loguniform('learning_rate', np.log(0.01), np.log(0.5)),\n",
    "    'depth': scope.int(hp.quniform(\"depth\", 5, 16, 1)),\n",
    "    'l2_leaf_reg': hp.uniform('l2_leaf_reg', 0.0, 20.0),\n",
    "    'subsample': hp.uniform('subsample', 0.6, 1.0),\n",
    "    'colsample_bylevel' : hp.uniform('colsample_bylevel', 0.6, 1.0),\n",
    "    #'min_child_samples': scope.int(hp.quniform('min_child_samples', 20, 100, 5)),\n",
    "    #'num_leaves': scope.int(hp.quniform('num_leaves', 30, 100, 1))\n",
    "}"
   ]
  }
 ],
 "metadata": {
  "kernelspec": {
   "display_name": "Python 3",
   "language": "python",
   "name": "python3"
  },
  "language_info": {
   "codemirror_mode": {
    "name": "ipython",
    "version": 3
   },
   "file_extension": ".py",
   "mimetype": "text/x-python",
   "name": "python",
   "nbconvert_exporter": "python",
   "pygments_lexer": "ipython3",
   "version": "3.8.5"
  }
 },
 "nbformat": 4,
 "nbformat_minor": 5
}
