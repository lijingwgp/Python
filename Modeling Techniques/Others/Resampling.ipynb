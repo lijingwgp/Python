{
 "cells": [
  {
   "cell_type": "code",
   "execution_count": null,
   "id": "given-tennis",
   "metadata": {},
   "outputs": [],
   "source": [
    "import numpy as np\n",
    "import pandas as pd\n",
    "import sklearn.metrics as metrics\n",
    "import itertools\n",
    "import operator\n",
    "import warnings\n",
    "import matplotlib.pyplot as plt\n",
    "\n",
    "from statistics import mean\n",
    "from sklearn.tree import DecisionTreeClassifier\n",
    "from sklearn.ensemble import RandomForestClassifier, GradientBoostingClassifier\n",
    "from sklearn.model_selection import cross_val_score, RepeatedStratifiedKFold, train_test_split, GridSearchCV\n",
    "from sklearn.model_selection import RandomizedSearchCV, cross_validate\n",
    "from sklearn.metrics import precision_score, confusion_matrix, f1_score\n",
    "from sklearn.metrics import roc_curve, precision_recall_curve, auc, make_scorer, roc_auc_score\n",
    "from sklearn.preprocessing import StandardScaler, OrdinalEncoder\n",
    "from sklearn.utils import resample, shuffle"
   ]
  },
  {
   "cell_type": "code",
   "execution_count": null,
   "id": "rolled-tokyo",
   "metadata": {},
   "outputs": [],
   "source": [
    "# setup the positives and negatives\n",
    "\n",
    "X = pd.concat([x, y], axis=1)\n",
    "neg = X[X.Exited==0]\n",
    "pos = X[X.Exited==1]"
   ]
  },
  {
   "cell_type": "code",
   "execution_count": null,
   "id": "described-delicious",
   "metadata": {},
   "outputs": [],
   "source": [
    "# upsampling\n",
    "\n",
    "pos_upsampled = resample(pos, replace=True, n_samples=np.ceil(len(neg)*perc).astype('int64'), random_state=123) \n",
    "        \n",
    "df_upsampled = pd.concat([neg, pos_upsampled])\n",
    "df_upsampled = shuffle(df_upsampled, random_state=123)\n",
    "\n",
    "y_train_sampled = df_upsampled.Exited\n",
    "x_train_sampled = df_upsampled.drop('Exited', axis=1)"
   ]
  },
  {
   "cell_type": "code",
   "execution_count": null,
   "id": "combined-karma",
   "metadata": {},
   "outputs": [],
   "source": [
    "# downsampling\n",
    "\n",
    "neg_downsampled = resample(neg, replace = False, n_samples = np.ceil(len(pos)*perc).astype('int64'), random_state = 123)\n",
    "        \n",
    "df_downsampled = pd.concat([neg_downsampled, pos])\n",
    "df_downsampled = shuffle(df_downsampled, random_state=123)\n",
    "\n",
    "y_train_sampled = df_downsampled.Exited\n",
    "x_train_sampled = df_downsampled.drop('Exited', axis=1)"
   ]
  },
  {
   "cell_type": "code",
   "execution_count": null,
   "id": "meaningful-isolation",
   "metadata": {},
   "outputs": [],
   "source": []
  }
 ],
 "metadata": {
  "kernelspec": {
   "display_name": "Python 3",
   "language": "python",
   "name": "python3"
  },
  "language_info": {
   "codemirror_mode": {
    "name": "ipython",
    "version": 3
   },
   "file_extension": ".py",
   "mimetype": "text/x-python",
   "name": "python",
   "nbconvert_exporter": "python",
   "pygments_lexer": "ipython3",
   "version": "3.8.5"
  }
 },
 "nbformat": 4,
 "nbformat_minor": 5
}
