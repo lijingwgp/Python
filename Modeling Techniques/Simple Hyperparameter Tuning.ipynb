{
 "cells": [
  {
   "cell_type": "code",
   "execution_count": null,
   "id": "structured-enterprise",
   "metadata": {},
   "outputs": [],
   "source": [
    "from sklearn.model_selection import RandomizedSearchCV\n",
    "from catboost import CatBoostRegressor, Pool"
   ]
  },
  {
   "cell_type": "markdown",
   "id": "moderate-ghana",
   "metadata": {},
   "source": [
    "### CatBoost"
   ]
  },
  {
   "cell_type": "code",
   "execution_count": null,
   "id": "surrounded-general",
   "metadata": {},
   "outputs": [],
   "source": [
    "cat_vars = [col for col in x_train.columns if x_train[col].dtypes=='O']\n",
    "\n",
    "cat = CatBoostRegressor(iterations=200)\n",
    "data = Pool(x_train, y_train, cat_features=cat_vars)\n",
    "\n",
    "params = {'l2_leaf_reg': list(np.linspace(1.0, 30.0, 50)),\n",
    "          'subsample': list(np.linspace(0.5, 1.0, 50)),\n",
    "          'depth': list(np.linspace(3, 16, 14)),\n",
    "          'colsample_bylevel': list(np.linspace(0.5, 1.0, 50))}"
   ]
  },
  {
   "cell_type": "code",
   "execution_count": null,
   "id": "renewable-movement",
   "metadata": {},
   "outputs": [],
   "source": [
    "# there is also cat.grid_search()\n",
    "cat_tuned = cat.randomized_search(params, data, cv=3, n_iter=5, plot=True)  "
   ]
  },
  {
   "cell_type": "markdown",
   "id": "damaged-judges",
   "metadata": {},
   "source": [
    "### Scikit-Learn"
   ]
  },
  {
   "cell_type": "code",
   "execution_count": null,
   "id": "civilian-population",
   "metadata": {},
   "outputs": [],
   "source": [
    "params = {'l2_leaf_reg': list(np.linspace(1.0, 30.0, 50)),\n",
    "          'subsample': list(np.linspace(0.5, 1.0, 50)),\n",
    "          'depth': list(np.linspace(3, 16, 14)),\n",
    "          'colsample_bylevel': list(np.linspace(0.5, 1.0, 50))}"
   ]
  },
  {
   "cell_type": "code",
   "execution_count": null,
   "id": "printable-excess",
   "metadata": {},
   "outputs": [],
   "source": [
    "lgb_tuned = RandomizedSearchCV(estimator=LGBRegressor(n_estimators=200), param_distributions=params, n_iter=10, \n",
    "                               scoring='neg_mean_squared_error', n_job=-1, cv=3)\n",
    "lgb_tuned.fit(x_train, y_trian)"
   ]
  },
  {
   "cell_type": "code",
   "execution_count": null,
   "id": "environmental-timing",
   "metadata": {},
   "outputs": [],
   "source": [
    "lg_tuned_result.best_params_, lg_tuned_result.best_score_"
   ]
  }
 ],
 "metadata": {
  "kernelspec": {
   "display_name": "Python 3",
   "language": "python",
   "name": "python3"
  },
  "language_info": {
   "codemirror_mode": {
    "name": "ipython",
    "version": 3
   },
   "file_extension": ".py",
   "mimetype": "text/x-python",
   "name": "python",
   "nbconvert_exporter": "python",
   "pygments_lexer": "ipython3",
   "version": "3.8.5"
  }
 },
 "nbformat": 4,
 "nbformat_minor": 5
}
