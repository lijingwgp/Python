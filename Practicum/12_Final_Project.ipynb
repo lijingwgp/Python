{
 "cells": [
  {
   "cell_type": "markdown",
   "metadata": {},
   "source": [
    "Hello, I am Dmitry, your team lead for this project. I will focus on checking your plan and your report. I may look through your code lightly if I need to link your plan/report back to the data.\n",
    "\n",
    "You will find my comments in the boxes like these\n",
    "\n",
    "<div class=\"alert alert-block alert-success\">\n",
    "<b>Success/Comment:</b> everything looks good, done correctly or it's just a generic comment.\n",
    "</div>\n",
    "\n",
    "<div class=\"alert alert-block alert-info\">\n",
    "<b>Improve: </b> warnings, non-critical issues; eliminating them can make your project better.\n",
    "</div>\n",
    "\n",
    "<div class=\"alert alert-block alert-danger\">\n",
    "<b>Needs fixing:</b> there is something critical which requires correction, a project is not accepted with open red comments.\n",
    "</div>\n",
    "\n",
    "</span>\n",
    "\n",
    "<font color='orange'>**2020-09-27 General Feedback on Plan**</font>\n",
    "\n",
    "Unfortunately, I have not found the plan. It looks like you know what you are doing so I am accepting your current work without the explicit plan but if you could please add it to the next iteration.\n",
    "\n",
    "I have looked through your code. I understand you are trying to engineer new set of feautures in a Machine Learning way, with PCA and Clustering. I believe this is not necessary for this project, it will likely consume a lot of time and do not lead to any significant improvemnet. Try to start with basic models and add complexity to them if required.\n",
    "\n",
    "I'll be waiting for your project with the plan and the report. Again, my advice is to start with the basic set of features to build a baseline. Components from PCA and clusters can be added later to check if they can bring any quality improvement over the baseline."
   ]
  },
  {
   "cell_type": "markdown",
   "metadata": {},
   "source": [
    "### Background Information\n",
    "\n",
    "In order to optimize production costs, the steel plant Steelproof decided to reduce their energy consumption at the steel processing stage. You'll have to develop a model that will be able to predict the temperature of the metal."
   ]
  },
  {
   "cell_type": "markdown",
   "metadata": {},
   "source": [
    "### Questions to answer\n",
    "\n",
    "- What are the row levels for each datasets? How to make each row represents only one line item?\n",
    "- How to identify features that contain only a small portion of information?\n",
    "- What are some of the steps taken for engineering new features?"
   ]
  },
  {
   "cell_type": "markdown",
   "metadata": {},
   "source": [
    "### Methodologies\n",
    "\n",
    "- Use the groupby method for resetting row levels\n",
    "- Identify unuseful features by determine unique values, missing value proportions, and collinearity\n",
    "- Extract hour/minute value from timstamps to form new featuture, use clustering results as new feature, \n",
    "- Filling in missing values use the mode value from the corrosponding features "
   ]
  },
  {
   "cell_type": "markdown",
   "metadata": {},
   "source": [
    "<div class=\"alert alert-block alert-success\">\n",
    "Just a slight correction. The 'groupby' operation (or method) is used to calculate aggregative values i.e. values aggregated over a group. The result is one value per group (several rows).\n",
    "</div>"
   ]
  },
  {
   "cell_type": "markdown",
   "metadata": {},
   "source": [
    "<div class=\"alert alert-block alert-info\">\n",
    "<p>Wow, that's a handy class! I have googled for it and it looks like it was borrowed from https://github.com/WillKoehrsen/feature-selector. Added to my booksmarks.</p>\n",
    "    \n",
    "However, for the purpose of education, it's better to not use such helping classes as they mask simple but important to understand logic.\n",
    "</div>"
   ]
  },
  {
   "cell_type": "markdown",
   "metadata": {},
   "source": [
    "# Code Review\n",
    "Hi, my name is Dmitry and I will be reviewing your project.\n",
    "\n",
    "You can find my comments in colored markdown cells:\n",
    "\n",
    "<div class=\"alert alert-success\">\n",
    "    If everything is done succesfully.\n",
    "</div>\n",
    "\n",
    "<div class=\"alert alert-warning\">\n",
    "    If I have some (optional) suggestions, or questions to think about, or general comments.\n",
    "</div>\n",
    "\n",
    "<div class=\"alert alert-danger\">\n",
    "    If a section requires some corrections. Work can't be accepted with red comments.\n",
    "</div>\n",
    "\n",
    "Thank you for turning in the project! You did a pretty good job overall! You did a very nice EDA and the model training section is not bad, but there are a couple of problems that need to be fixed before the project can be accepted. See my comments below for more information. Good luck!"
   ]
  },
  {
   "cell_type": "markdown",
   "metadata": {},
   "source": [
    "<div class=\"alert alert-danger\">\n",
    "    <s>Hi! I noticed one problem I seem to have missed the first time around: you evaluate your lightgbm model on test prior to selecting the features and hyperparameters, which kind of defeats the purpose of the test set: it should be the set that doesn't influence your decisions about the model at all and is left untouched until after you finish all the work on the model to evaluate its performance on new unseen data. This is what the validation set is for.</s>\n",
    "</div>"
   ]
  },
  {
   "cell_type": "markdown",
   "metadata": {},
   "source": [
    "<div class=\"alert alert-success\">\n",
    "    Hi! Now that you've fixed that problem, the project is accepted! Based on the test set MAE of your final model, you got 4 SP. Well done!\n",
    "</div>"
   ]
  },
  {
   "cell_type": "markdown",
   "metadata": {},
   "source": [
    "### Load Data"
   ]
  },
  {
   "cell_type": "code",
   "execution_count": 1,
   "metadata": {},
   "outputs": [],
   "source": [
    "# import libraries\n",
    "\n",
    "import pandas as pd\n",
    "import numpy as np\n",
    "\n",
    "from sklearn.decomposition import PCA\n",
    "from sklearn.cluster import KMeans\n",
    "from sklearn.model_selection import train_test_split, cross_val_score, learning_curve, ShuffleSplit\n",
    "from sklearn.preprocessing import StandardScaler, MinMaxScaler\n",
    "from sklearn.linear_model import ElasticNet\n",
    "from sklearn.metrics import mean_absolute_error\n",
    "\n",
    "from xgboost import XGBRegressor\n",
    "from catboost import CatBoostRegressor, Pool\n",
    "from lightgbm import LGBMRegressor, plotting\n",
    "\n",
    "import seaborn as sns\n",
    "import matplotlib.pyplot as plt\n",
    "\n",
    "import warnings\n",
    "warnings.filterwarnings('ignore')"
   ]
  },
  {
   "cell_type": "code",
   "execution_count": null,
   "metadata": {},
   "outputs": [],
   "source": [
    "# import datasets\n",
    "\n",
    "arc = pd.read_csv(r'C:\\Users\\607991\\Desktop\\final_steel_en\\data_arc_en.csv')\n",
    "bulk = pd.read_csv(r'C:\\Users\\607991\\Desktop\\final_steel_en\\data_bulk_en.csv')\n",
    "bulk_time = pd.read_csv(r'C:\\Users\\607991\\Desktop\\final_steel_en\\data_bulk_time_en.csv')\n",
    "gas = pd.read_csv(r'C:\\Users\\607991\\Desktop\\final_steel_en\\data_gas_en.csv')\n",
    "temp = pd.read_csv(r'C:\\Users\\607991\\Desktop\\final_steel_en\\data_temp_en.csv')\n",
    "wire = pd.read_csv(r'C:\\Users\\607991\\Desktop\\final_steel_en\\data_wire_en.csv')\n",
    "wire_time = pd.read_csv(r'C:\\Users\\607991\\Desktop\\final_steel_en\\data_wire_time_en.csv')"
   ]
  },
  {
   "cell_type": "code",
   "execution_count": null,
   "metadata": {},
   "outputs": [],
   "source": [
    "# since the 'key' column is used as the main differentiator in each dataset,\n",
    "# we will use this column to inspect row level for each dataset\n",
    "\n",
    "print('The arc dataset has', len(arc.query('key==1')), 'rows that are associated with key #1')\n",
    "print('The bulk dataset has', len(bulk.query('key==1')), 'rows that are associated with key #1')\n",
    "print('The bulk_time dataset has', len(bulk_time.query('key==1')), 'rows that are associated with key #1')\n",
    "print('The gas dataset has', len(gas.query('key==1')), 'rows that are associated with key #1')\n",
    "print('The temp dataset has', len(temp.query('key==1')), 'rows that are associated with key #1')\n",
    "print('The wire dataset has', len(wire.query('key==1')), 'rows that are associated with key #1')\n",
    "print('The wire_time dataset has', len(wire_time.query('key==1')), 'rows that are associated with key #1')"
   ]
  },
  {
   "cell_type": "markdown",
   "metadata": {},
   "source": [
    "### Exploratory Data Analysis"
   ]
  },
  {
   "cell_type": "code",
   "execution_count": 4,
   "metadata": {},
   "outputs": [],
   "source": [
    "# the missing values in data_temp.csv result from a failure in measurement, so all keys that contain only the \n",
    "# starting temperature must be removed\n",
    "\n",
    "temp_keys_with_zero = np.where(temp.Temperature.isnull(), temp.key, 0)\n",
    "temp_keys_with_zero = np.setdiff1d(temp_keys_with_zero, [0]).tolist()\n",
    "temp_keys_to_remove = temp.query('key==@temp_keys_with_zero').index\n",
    "temp.drop(temp_keys_to_remove, axis=0, inplace=True)\n",
    "\n",
    "# additional assignment #1: The duration between the first and last temperature measurement\n",
    "\n",
    "temp['Sampling time'] = pd.to_datetime(temp['Sampling time'], format='%Y-%m-%d %H:%M:%S')\n",
    "temp_df1 = []    # differences between the first and the last temperatures\n",
    "temp_df2 = []    # elapsed time measured in seconds\n",
    "\n",
    "for each in temp.key.unique():\n",
    "    temp_diff = temp.query('key==@each').iloc[len(temp.query('key==@each'))-1].Temperature - \\\n",
    "    temp.query('key==@each').iloc[0].Temperature\n",
    "    temp_df1.append(temp_diff)\n",
    "    \n",
    "    time_delta = temp.query('key==@each').iloc[len(temp.query('key==@each'))-1,1] - \\\n",
    "    temp.query('key==@each').iloc[0,1]\n",
    "    temp_df2.append(time_delta.seconds)\n",
    "\n",
    "temp_df1 = pd.DataFrame(data=temp_df1, index=temp.key.unique(), columns=['Temperature diff'])\n",
    "temp_df2 = pd.DataFrame(data=temp_df2, index=temp.key.unique(), columns=['Seconds elapsed'])\n",
    "\n",
    "# to fix the row level, we will only get the last recorded temperature as our target values\n",
    "\n",
    "temp_df3 = []\n",
    "\n",
    "for each in temp.key.unique():\n",
    "    temp_df3.append(temp.query('key==@each').iloc[len(temp.query('key==@each'))-1].Temperature)\n",
    "\n",
    "temp_df3 = pd.DataFrame(data=temp_df3, index=temp.key.unique(), columns=['Temperature'])\n",
    "\n",
    "# merge the previously created features with the chosen temperature column\n",
    "\n",
    "temp_df = temp_df3.join(temp_df2).join(temp_df1)"
   ]
  },
  {
   "cell_type": "code",
   "execution_count": 5,
   "metadata": {},
   "outputs": [],
   "source": [
    "# the next task is to preprocessing the arc dataset so that they have the same number of batches per key number\n",
    "\n",
    "# additional assignment #2: The total electrode heating time \n",
    "# (i.e. the sum of the values for all intervals between the electrode heating launches)\n",
    "#\n",
    "# additional assignment #3: The number of electrode heating launches\n",
    "\n",
    "arc['Arc heating start'] = pd.to_datetime(arc['Arc heating start'], format='%Y-%m-%d %H:%M:%S')\n",
    "arc['Arc heating end'] = pd.to_datetime(arc['Arc heating end'], format='%Y-%m-%d %H:%M:%S')\n",
    "\n",
    "arc_temp1 = []    # record total electrode heating time\n",
    "arc_temp2 = []    # record number of electrode heating launches\n",
    "\n",
    "for each in arc.key.unique():    \n",
    "    time_delta = arc.query('key==@each').iloc[len(arc.query('key==@each'))-1,2] - \\\n",
    "    arc.query('key==@each').iloc[0,1]\n",
    "    arc_temp1.append(time_delta.seconds)\n",
    "    arc_temp2.append(len(arc.query('key==@each'))*2)\n",
    "    \n",
    "arc_df1 = pd.DataFrame(data=arc_temp1, index=arc.key.unique(), columns=['Arc heating time elapsed'])\n",
    "arc_df2 = pd.DataFrame(data=arc_temp2, index=arc.key.unique(), columns=['Arc heating launches'])\n",
    "\n",
    "# create a new feature, combined power, then groupby each key value\n",
    "\n",
    "arc['Combined power'] = arc['Active power'] + arc['Reactive power']\n",
    "arc = pd.DataFrame(arc.groupby('key').sum()['Combined power'], index=arc.key.unique(), columns=['Combined power'])\n",
    "\n",
    "# merge the grouby arc dataset with the newly created arc datasets\n",
    "\n",
    "arc_df = arc.join(arc_df1).join(arc_df2)"
   ]
  },
  {
   "cell_type": "code",
   "execution_count": 6,
   "metadata": {},
   "outputs": [],
   "source": [
    "# join all the given datasets into one dataset before perform general data cleasing steps\n",
    "\n",
    "bulk.set_index('key', inplace=True)\n",
    "bulk_time.set_index('key', inplace=True)\n",
    "gas.set_index('key', inplace=True)\n",
    "wire.set_index('key', inplace=True)\n",
    "wire_time.set_index('key', inplace=True)\n",
    "\n",
    "df = temp_df.join(arc_df).join(gas).join(bulk).join(bulk_time, rsuffix='_time').join(wire).join(wire_time, rsuffix='_time')"
   ]
  },
  {
   "cell_type": "code",
   "execution_count": 7,
   "metadata": {},
   "outputs": [],
   "source": [
    "# begin data exploration \n",
    "\n",
    "from FeatureEngineering import FeatureSelector\n",
    "\n",
    "labels = df['Temperature']\n",
    "df = df.drop(columns = ['Temperature'])\n",
    "\n",
    "fs = FeatureSelector(data = df, labels=labels)# create the instance"
   ]
  },
  {
   "cell_type": "code",
   "execution_count": 8,
   "metadata": {},
   "outputs": [
    {
     "name": "stdout",
     "output_type": "stream",
     "text": [
      "2 features with greater than 1.00 missing values.\n",
      "\n"
     ]
    },
    {
     "data": {
      "text/html": [
       "<div>\n",
       "<style scoped>\n",
       "    .dataframe tbody tr th:only-of-type {\n",
       "        vertical-align: middle;\n",
       "    }\n",
       "\n",
       "    .dataframe tbody tr th {\n",
       "        vertical-align: top;\n",
       "    }\n",
       "\n",
       "    .dataframe thead th {\n",
       "        text-align: right;\n",
       "    }\n",
       "</style>\n",
       "<table border=\"1\" class=\"dataframe\">\n",
       "  <thead>\n",
       "    <tr style=\"text-align: right;\">\n",
       "      <th></th>\n",
       "      <th>missing_fraction</th>\n",
       "    </tr>\n",
       "  </thead>\n",
       "  <tbody>\n",
       "    <tr>\n",
       "      <th>Wire 5_time</th>\n",
       "      <td>1.000000</td>\n",
       "    </tr>\n",
       "    <tr>\n",
       "      <th>Wire 5</th>\n",
       "      <td>1.000000</td>\n",
       "    </tr>\n",
       "    <tr>\n",
       "      <th>Bulk 8_time</th>\n",
       "      <td>0.999596</td>\n",
       "    </tr>\n",
       "    <tr>\n",
       "      <th>Bulk 8</th>\n",
       "      <td>0.999596</td>\n",
       "    </tr>\n",
       "    <tr>\n",
       "      <th>Wire 7</th>\n",
       "      <td>0.998385</td>\n",
       "    </tr>\n",
       "    <tr>\n",
       "      <th>Wire 7_time</th>\n",
       "      <td>0.998385</td>\n",
       "    </tr>\n",
       "    <tr>\n",
       "      <th>Wire 4_time</th>\n",
       "      <td>0.995155</td>\n",
       "    </tr>\n",
       "    <tr>\n",
       "      <th>Wire 4</th>\n",
       "      <td>0.995155</td>\n",
       "    </tr>\n",
       "    <tr>\n",
       "      <th>Wire 8_time</th>\n",
       "      <td>0.994752</td>\n",
       "    </tr>\n",
       "    <tr>\n",
       "      <th>Bulk 2</th>\n",
       "      <td>0.994752</td>\n",
       "    </tr>\n",
       "  </tbody>\n",
       "</table>\n",
       "</div>"
      ],
      "text/plain": [
       "             missing_fraction\n",
       "Wire 5_time          1.000000\n",
       "Wire 5               1.000000\n",
       "Bulk 8_time          0.999596\n",
       "Bulk 8               0.999596\n",
       "Wire 7               0.998385\n",
       "Wire 7_time          0.998385\n",
       "Wire 4_time          0.995155\n",
       "Wire 4               0.995155\n",
       "Wire 8_time          0.994752\n",
       "Bulk 2               0.994752"
      ]
     },
     "execution_count": 8,
     "metadata": {},
     "output_type": "execute_result"
    },
    {
     "data": {
      "image/png": "[encoded data removed]",
      "text/plain": [
       "<Figure size 500x400 with 1 Axes>"
      ]
     },
     "metadata": {},
     "output_type": "display_data"
    }
   ],
   "source": [
    "# missing values\n",
    "\n",
    "fs.identify_missing(missing_threshold=.9999)    # features with large number missing values\n",
    "missing_features = fs.ops['missing']          # features identified for removal\n",
    "fs.plot_missing()                             # plot a histogram of the missing column fraction\n",
    "fs.missing_stats.head(10)                     # detailed information on missing fractions"
   ]
  },
  {
   "cell_type": "code",
   "execution_count": 9,
   "metadata": {
    "scrolled": false
   },
   "outputs": [
    {
     "name": "stdout",
     "output_type": "stream",
     "text": [
      "2 features with a single unique value.\n",
      "\n"
     ]
    },
    {
     "data": {
      "text/html": [
       "<div>\n",
       "<style scoped>\n",
       "    .dataframe tbody tr th:only-of-type {\n",
       "        vertical-align: middle;\n",
       "    }\n",
       "\n",
       "    .dataframe tbody tr th {\n",
       "        vertical-align: top;\n",
       "    }\n",
       "\n",
       "    .dataframe thead th {\n",
       "        text-align: right;\n",
       "    }\n",
       "</style>\n",
       "<table border=\"1\" class=\"dataframe\">\n",
       "  <thead>\n",
       "    <tr style=\"text-align: right;\">\n",
       "      <th></th>\n",
       "      <th>nunique</th>\n",
       "    </tr>\n",
       "  </thead>\n",
       "  <tbody>\n",
       "    <tr>\n",
       "      <th>Wire 5</th>\n",
       "      <td>0</td>\n",
       "    </tr>\n",
       "    <tr>\n",
       "      <th>Wire 5_time</th>\n",
       "      <td>0</td>\n",
       "    </tr>\n",
       "    <tr>\n",
       "      <th>Bulk 8_time</th>\n",
       "      <td>1</td>\n",
       "    </tr>\n",
       "    <tr>\n",
       "      <th>Bulk 8</th>\n",
       "      <td>1</td>\n",
       "    </tr>\n",
       "    <tr>\n",
       "      <th>Wire 7_time</th>\n",
       "      <td>4</td>\n",
       "    </tr>\n",
       "  </tbody>\n",
       "</table>\n",
       "</div>"
      ],
      "text/plain": [
       "             nunique\n",
       "Wire 5             0\n",
       "Wire 5_time        0\n",
       "Bulk 8_time        1\n",
       "Bulk 8             1\n",
       "Wire 7_time        4"
      ]
     },
     "execution_count": 9,
     "metadata": {},
     "output_type": "execute_result"
    },
    {
     "data": {
      "image/png": "[encoded data removed]",
      "text/plain": [
       "<Figure size 500x400 with 1 Axes>"
      ]
     },
     "metadata": {},
     "output_type": "display_data"
    }
   ],
   "source": [
    "# single unique value\n",
    "# find any features that have only a single unique value.\n",
    "# this does not one-hot encode variables.\n",
    "\n",
    "fs.identify_single_unique()\n",
    "single_unique = fs.ops['single_unique']\n",
    "fs.plot_unique()\n",
    "fs.unique_stats.head()"
   ]
  },
  {
   "cell_type": "code",
   "execution_count": 10,
   "metadata": {},
   "outputs": [],
   "source": [
    "# drop the unneccessary features\n",
    "\n",
    "vars_to_drop = single_unique + missing_features\n",
    "df.drop(columns=vars_to_drop, inplace=True)"
   ]
  },
  {
   "cell_type": "markdown",
   "metadata": {},
   "source": [
    "<div class=\"alert alert-danger\">\n",
    "    <s>Very nice EDA! The only problem is that the missing values in data_temp.csv result from a failure in measurement, so all keys that contain only the starting temperature must be removed.</s>\n",
    "</div>"
   ]
  },
  {
   "cell_type": "markdown",
   "metadata": {},
   "source": [
    "<div class=\"alert alert-success\">\n",
    "    Ok, fixed now!\n",
    "</div>"
   ]
  },
  {
   "cell_type": "markdown",
   "metadata": {},
   "source": [
    "### Data Processing"
   ]
  },
  {
   "cell_type": "code",
   "execution_count": 11,
   "metadata": {},
   "outputs": [],
   "source": [
    "# preparing the original set of features to be used in a baseline model\n",
    "# extract time related information to create new features\n",
    "\n",
    "vars_time = [col for col in df.columns if '_time' in col]\n",
    "\n",
    "for each in vars_time:\n",
    "    df[each] = pd.to_datetime(df[each], format='%Y-%m-%d %H:%M:%S')\n",
    "    \n",
    "for each in vars_time:\n",
    "    df[each +'_month'] = df[each].dt.month\n",
    "    df[each +'_day'] = df[each].dt.day\n",
    "    df[each +'_min'] = df[each].dt.round('1min').dt.minute\n",
    "    df[each +'_hour'] = df[each].dt.hour\n",
    "\n",
    "for each in vars_time:\n",
    "    df.drop(each, axis=1, inplace=True)"
   ]
  },
  {
   "cell_type": "code",
   "execution_count": 12,
   "metadata": {},
   "outputs": [],
   "source": [
    "# create train and test sets\n",
    "\n",
    "x_train, x_test, y_train, y_test = train_test_split(df, labels, test_size=0.15, random_state=123)\n",
    "x_train, x_val, y_train, y_val = train_test_split(x_train, y_train, test_size=0.15, random_state=123)\n",
    "\n",
    "# filling missing values for the val and test sets using the modes gathered from the train set\n",
    "\n",
    "vars_with_na = [var for var in df.columns if df[var].isnull().sum() > 0]\n",
    "for var in vars_with_na:\n",
    "    \n",
    "    # calculate the mode\n",
    "    mode_val = x_train[var].mode()[0]\n",
    "    \n",
    "    # replace missing values by the mode\n",
    "    x_train[var] = x_train[var].fillna(mode_val)\n",
    "    x_val[var] = x_val[var].fillna(mode_val)\n",
    "    x_test[var] = x_test[var].fillna(mode_val)"
   ]
  },
  {
   "cell_type": "code",
   "execution_count": 13,
   "metadata": {},
   "outputs": [],
   "source": [
    "# scaling\n",
    "\n",
    "cols = x_train.columns.tolist()\n",
    "scaler = MinMaxScaler()\n",
    "scaler.fit(x_train)\n",
    "\n",
    "x_train = scaler.transform(x_train)\n",
    "x_train = pd.DataFrame(data=x_train, columns=cols)\n",
    "\n",
    "x_val = scaler.transform(x_val)\n",
    "x_val = pd.DataFrame(data=x_val, columns=cols)\n",
    "\n",
    "x_test = scaler.transform(x_test)\n",
    "x_test = pd.DataFrame(data=x_test, columns=cols)"
   ]
  },
  {
   "cell_type": "code",
   "execution_count": 14,
   "metadata": {},
   "outputs": [
    {
     "name": "stdout",
     "output_type": "stream",
     "text": [
      "[]\n",
      "[]\n",
      "[]\n"
     ]
    }
   ],
   "source": [
    "# last check for missing values\n",
    "\n",
    "print([var for var in x_train.columns if x_train[var].isnull().sum() > 0])\n",
    "print([var for var in x_val.columns if x_val[var].isnull().sum() > 0])\n",
    "print([var for var in x_test.columns if x_test[var].isnull().sum() > 0])"
   ]
  },
  {
   "cell_type": "markdown",
   "metadata": {},
   "source": [
    "<div class=\"alert alert-danger\">\n",
    "    <s><ul>\n",
    "        <li>If you want to fill missing values not with something trivial (like 0), but using some statistics of the data (e.g. mode, mean, median, etc.), you need to calculate the statistics using only the train set. Otherwise you introduce knowledge about the test set into the train set, which kind of defeats the point of using a hold-out set to evaluate the model's performance on new unseen data.</li>\n",
    "        <li>The same applies to using MinMaxScaler or StandardScaler or anything similar. It has to be fit using only the train set, and then you can transform the validation and test sets. Note that tree-based models don't require scaling the data and will happily work with unscaled data.</li>\n",
    "        <li>For those reasons, k-fold cross-validation using cross_val_score on the scaled data with missing values filled will overestimate the performance of your models, but I guess it's not that big of a problem if you evaluate the final model on the unseen test set.</li>\n",
    "        </ul></s>\n",
    "</div>"
   ]
  },
  {
   "cell_type": "markdown",
   "metadata": {},
   "source": [
    "<div class=\"alert alert-warning\">\n",
    "    Ok, now it's better. But if you do cross-validation, you should really do all of this stuff inside something like <a href='https://scikit-learn.org/stable/modules/compose.html'>sklearn's Pipeline</a>\n",
    "</div>"
   ]
  },
  {
   "cell_type": "markdown",
   "metadata": {},
   "source": [
    "<div class=\"alert alert-warning\">\n",
    "    <ul>\n",
    "        <li>Would be nice if you included a list/summary of features you use for training the models.</li>\n",
    "        <li>It doesn't seem productive to use month/day/hour/minute features: the process should not depend on what time/day it is.</li>\n",
    "    </ul>\n",
    "</div>"
   ]
  },
  {
   "cell_type": "markdown",
   "metadata": {},
   "source": [
    "### Modeling\n",
    "\n",
    "The plan is to first use the original set of features in a predictive model to create a baseline. Then going through the following steps in the subsequent iterations to improve the baseline model.\n",
    "- Hyper-parameter tuning\n",
    "- Examining model's learning curve\n",
    "- Try using the new set of feature and determine their potential predictive usefulness"
   ]
  },
  {
   "cell_type": "code",
   "execution_count": 15,
   "metadata": {},
   "outputs": [
    {
     "name": "stdout",
     "output_type": "stream",
     "text": [
      "Baseline MAE from using ElasticNet is: -9.820\n"
     ]
    }
   ],
   "source": [
    "# create a baseline model using ElasticNet\n",
    "\n",
    "baseline = cross_val_score(ElasticNet(random_state=123, selection='random'), x_train, y_train, \n",
    "                           scoring='neg_mean_absolute_error', cv=5, n_jobs=-1, error_score='raise')\n",
    "\n",
    "print('Baseline MAE from using ElasticNet is: %.3f' % baseline.mean())"
   ]
  },
  {
   "cell_type": "code",
   "execution_count": 16,
   "metadata": {},
   "outputs": [
    {
     "name": "stdout",
     "output_type": "stream",
     "text": [
      "Training until validation scores don't improve for 30 rounds\n",
      "[20]\ttraining's l1: 6.2047\ttraining's l2: 77.7526\tvalid_1's l1: 8.06744\tvalid_1's l2: 135.122\n",
      "[40]\ttraining's l1: 4.97608\ttraining's l2: 49.0249\tvalid_1's l1: 7.76196\tvalid_1's l2: 122.56\n",
      "[60]\ttraining's l1: 4.21934\ttraining's l2: 34.9366\tvalid_1's l1: 7.69759\tvalid_1's l2: 118.23\n",
      "[80]\ttraining's l1: 3.62264\ttraining's l2: 25.6167\tvalid_1's l1: 7.6591\tvalid_1's l2: 115.518\n",
      "[100]\ttraining's l1: 3.16421\ttraining's l2: 19.5244\tvalid_1's l1: 7.68765\tvalid_1's l2: 115.54\n",
      "Did not meet early stopping. Best iteration is:\n",
      "[100]\ttraining's l1: 3.16421\ttraining's l2: 19.5244\tvalid_1's l1: 7.68765\tvalid_1's l2: 115.54\n",
      "Improved MAE from using LightGBM Regressor is: 7.688\n"
     ]
    }
   ],
   "source": [
    "# utilize potentially better modeling algorithms to be applied to the original dataset\n",
    "\n",
    "lgb = LGBMRegressor(random_state=123)\n",
    "lgb.fit(x_train, y_train, eval_set = [(x_train, y_train), (x_val, y_val)],\n",
    "         eval_metric= 'mae', early_stopping_rounds=30, verbose=20)\n",
    "\n",
    "y_pred = lgb.predict(x_val)\n",
    "print('Improved MAE from using LightGBM Regressor is: %.3f' % mean_absolute_error(y_val, y_pred))"
   ]
  },
  {
   "cell_type": "markdown",
   "metadata": {},
   "source": [
    "<div class=\"alert alert-danger\">\n",
    "    <s>You should evaluate your model on the test set only after selecting features/hyperparameters etc. using cross-validation</s>\n",
    "</div>"
   ]
  },
  {
   "cell_type": "code",
   "execution_count": 17,
   "metadata": {},
   "outputs": [
    {
     "name": "stdout",
     "output_type": "stream",
     "text": [
      "Training Gradient Boosting Model\n",
      "\n",
      "Training until validation scores don't improve for 100 rounds\n",
      "Early stopping, best iteration is:\n",
      "[106]\tvalid_0's l1: 7.42415\tvalid_0's l2: 104.104\n",
      "Training until validation scores don't improve for 100 rounds\n",
      "Early stopping, best iteration is:\n",
      "[104]\tvalid_0's l1: 6.89162\tvalid_0's l2: 84.8336\n",
      "Training until validation scores don't improve for 100 rounds\n",
      "Early stopping, best iteration is:\n",
      "[254]\tvalid_0's l1: 7.16631\tvalid_0's l2: 93.2415\n",
      "Training until validation scores don't improve for 100 rounds\n",
      "Early stopping, best iteration is:\n",
      "[67]\tvalid_0's l1: 7.16112\tvalid_0's l2: 107.735\n",
      "Training until validation scores don't improve for 100 rounds\n",
      "Early stopping, best iteration is:\n",
      "[100]\tvalid_0's l1: 7.49685\tvalid_0's l2: 115.49\n",
      "Training until validation scores don't improve for 100 rounds\n",
      "Early stopping, best iteration is:\n",
      "[141]\tvalid_0's l1: 7.27549\tvalid_0's l2: 102.224\n",
      "Training until validation scores don't improve for 100 rounds\n",
      "Early stopping, best iteration is:\n",
      "[66]\tvalid_0's l1: 7.41746\tvalid_0's l2: 110.77\n",
      "Training until validation scores don't improve for 100 rounds\n",
      "Early stopping, best iteration is:\n",
      "[77]\tvalid_0's l1: 6.49592\tvalid_0's l2: 81.0202\n",
      "Training until validation scores don't improve for 100 rounds\n",
      "Early stopping, best iteration is:\n",
      "[170]\tvalid_0's l1: 7.33961\tvalid_0's l2: 107.892\n",
      "Training until validation scores don't improve for 100 rounds\n",
      "Early stopping, best iteration is:\n",
      "[54]\tvalid_0's l1: 7.51395\tvalid_0's l2: 109.646\n",
      "\n",
      "41 features with zero importance after one-hot encoding.\n",
      "\n"
     ]
    },
    {
     "data": {
      "image/png": "[encoded data removed]",
      "text/plain": [
       "<Figure size 1000x600 with 1 Axes>"
      ]
     },
     "metadata": {},
     "output_type": "display_data"
    },
    {
     "data": {
      "image/png": "[encoded data removed]",
      "text/plain": [
       "<Figure size 600x400 with 1 Axes>"
      ]
     },
     "metadata": {},
     "output_type": "display_data"
    },
    {
     "name": "stdout",
     "output_type": "stream",
     "text": [
      "63 features required for 0.99 of cumulative importance\n"
     ]
    }
   ],
   "source": [
    "# examine feature importance\n",
    "\n",
    "fs.identify_zero_importance(task = 'regression', eval_metric = 'mae', n_iterations = 10, early_stopping = True)\n",
    "zero_importance_features = fs.ops['zero_importance']\n",
    "fs.plot_feature_importances(threshold = 0.99, plot_n = 12)"
   ]
  },
  {
   "cell_type": "code",
   "execution_count": 18,
   "metadata": {},
   "outputs": [
    {
     "name": "stdout",
     "output_type": "stream",
     "text": [
      "Training until validation scores don't improve for 30 rounds\n",
      "[20]\ttraining's l1: 6.2047\ttraining's l2: 77.7526\tvalid_1's l1: 8.06744\tvalid_1's l2: 135.122\n",
      "[40]\ttraining's l1: 4.97608\ttraining's l2: 49.0249\tvalid_1's l1: 7.76196\tvalid_1's l2: 122.56\n",
      "[60]\ttraining's l1: 4.21934\ttraining's l2: 34.9366\tvalid_1's l1: 7.69759\tvalid_1's l2: 118.23\n",
      "[80]\ttraining's l1: 3.62264\ttraining's l2: 25.6167\tvalid_1's l1: 7.6591\tvalid_1's l2: 115.518\n",
      "[100]\ttraining's l1: 3.16421\ttraining's l2: 19.5244\tvalid_1's l1: 7.68765\tvalid_1's l2: 115.54\n",
      "Did not meet early stopping. Best iteration is:\n",
      "[100]\ttraining's l1: 3.16421\ttraining's l2: 19.5244\tvalid_1's l1: 7.68765\tvalid_1's l2: 115.54\n",
      "After feature selection, improved MAE from using LightGBM Regressor is: 7.688\n"
     ]
    }
   ],
   "source": [
    "# eliminate zero importance features\n",
    "\n",
    "x_train_new = x_train.drop(zero_importance_features, axis=1)\n",
    "x_val_new = x_val.drop(zero_importance_features, axis=1)\n",
    "x_test_new = x_test.drop(zero_importance_features, axis=1)\n",
    "\n",
    "lgb = LGBMRegressor(random_state=123)\n",
    "lgb.fit(x_train_new, y_train, eval_set = [(x_train_new, y_train), (x_val_new, y_val)],\n",
    "         eval_metric= 'mae', early_stopping_rounds=30, verbose=20)\n",
    "\n",
    "y_pred_new = lgb.predict(x_val_new)\n",
    "print('After feature selection, improved MAE from using LightGBM Regressor is: %.3f' % mean_absolute_error(y_val, y_pred_new))"
   ]
  },
  {
   "cell_type": "markdown",
   "metadata": {},
   "source": [
    "<div class=\"alert alert-danger\">\n",
    "    <s>You should evaluate your model on the test set only after selecting features/hyperparameters etc. using cross-validation</s>\n",
    "</div>"
   ]
  },
  {
   "cell_type": "code",
   "execution_count": 19,
   "metadata": {},
   "outputs": [],
   "source": [
    "# hyperparameter search space\n",
    "\n",
    "import time\n",
    "from hyperopt.pyll import scope\n",
    "from hyperopt import fmin, tpe, hp, STATUS_OK, Trials\n",
    "\n",
    "lgb_space = {\n",
    "    'learning_rate': hp.loguniform('learning_rate', np.log(0.01), np.log(0.5)),\n",
    "    'max_depth': scope.int(hp.quniform('max_depth', 3, 20, 1)),\n",
    "    'n_estimators': scope.int(hp.quniform('n_estimators', 100, 500, 1)),\n",
    "    'num_leaves': scope.int(hp.quniform('num_leaves', 2, 100, 1)),\n",
    "    'colsample_bytree': hp.uniform('colsample_by_tree', 0.6, 1.0),\n",
    "    'bagging_fraction': hp.uniform('bagging_fraction', 0.6, 1.0),\n",
    "    'reg_alpha': hp.uniform('reg_alpha', 0.0, 100.0),\n",
    "    'reg_lambda': hp.uniform('reg_lambda', 0.0, 100.0),\n",
    "    'min_child_samples': scope.int(hp.quniform('min_child_samples', 2, 100, 5)),\n",
    "}"
   ]
  },
  {
   "cell_type": "code",
   "execution_count": 20,
   "metadata": {},
   "outputs": [],
   "source": [
    "def hyperopt(estimator, param_space, X_train, y_train, X_test, y_test, num_eval, eval_metric=None):\n",
    "    \n",
    "    start = time.time()\n",
    "    \n",
    "    def objective_function(params):\n",
    "        model = estimator(**params)\n",
    "        score = cross_val_score(model, X_train, y_train, cv=3, scoring=eval_metric).mean()\n",
    "        return {'loss': -score, 'status': STATUS_OK}\n",
    "\n",
    "    \n",
    "    trials = Trials()\n",
    "    best_param = fmin(objective_function, \n",
    "                      param_space, \n",
    "                      algo=tpe.suggest, \n",
    "                      max_evals=num_eval, \n",
    "                      trials=trials,\n",
    "                      rstate= np.random.RandomState(1))\n",
    "    loss = [x['result']['loss'] for x in trials.trials]\n",
    "    \n",
    "    \n",
    "    if str(estimator) == \"<class 'lightgbm.sklearn.LGBMRegressor'>\":\n",
    "        \n",
    "        for each in ['num_leaves','max_depth','n_estimators','min_child_samples']:\n",
    "            best_param[each] = int(best_param[each])\n",
    "        \n",
    "        model_best = estimator(**best_param)     \n",
    "        model_best.fit(X_train, y_train)\n",
    "        y_pred = model_best.predict(X_test)\n",
    "        \n",
    "    \n",
    "    if str(estimator) == \"<class 'xgboost.sklearn.XGBRegressor'>\":\n",
    "         \n",
    "        for each in ['n_estimators','max_depth','min_child_weight']:\n",
    "            best_param[each] = int(best_param[each])\n",
    "                \n",
    "        model_best = estimator(**best_param)     \n",
    "        model_best.fit(X_train, y_train)\n",
    "        y_pred = model_best.predict(X_test)\n",
    "        \n",
    "    \n",
    "    if str(estimator) == \"<class 'catboost.core.CatBoostRegressor'>\":\n",
    "         \n",
    "        for each in ['iterations','depth']:#,'min_child_samples','num_leaves']:\n",
    "            best_param[each] = int(best_param[each])\n",
    "                \n",
    "        model_best = estimator(**best_param)     \n",
    "        model_best.fit(X_train, y_train)\n",
    "        test_pool = Pool(X_test)\n",
    "        y_pred = model_best.predict(test_pool)\n",
    "\n",
    "    \n",
    "    print(\"\")\n",
    "    print(\"##### Results #####\")\n",
    "    print(\"Score best parameters: \", min(loss)*-1)\n",
    "    print(\"Best parameters: \", best_param)\n",
    "    print(\"Test Score: \", mean_absolute_error(y_test, y_pred))\n",
    "    print(\"Time elapsed: \", time.time() - start)\n",
    "    print(\"Parameter combinations evaluated: \", num_eval)\n",
    "    \n",
    "    \n",
    "    return trials"
   ]
  },
  {
   "cell_type": "code",
   "execution_count": 21,
   "metadata": {},
   "outputs": [
    {
     "name": "stdout",
     "output_type": "stream",
     "text": [
      "100%|███████████████████████████████████████████████████| 50/50 [00:49<00:00,  1.01it/s, best loss: 7.6102080754008865]\n",
      "\n",
      "##### Results #####\n",
      "Score best parameters:  -7.6102080754008865\n",
      "Best parameters:  {'bagging_fraction': 0.8613654380678865, 'colsample_by_tree': 0.6449337553495736, 'learning_rate': 0.0167064368361553, 'max_depth': 7, 'min_child_samples': 0, 'n_estimators': 408, 'num_leaves': 34, 'reg_alpha': 25.08191511651788, 'reg_lambda': 6.9947748624493356}\n",
      "Test Score:  7.555574666272897\n",
      "Time elapsed:  50.24963855743408\n",
      "Parameter combinations evaluated:  50\n"
     ]
    }
   ],
   "source": [
    "num_eval=50\n",
    "eval_metric = 'neg_mean_absolute_error'\n",
    "lgb_hyperopt = hyperopt(LGBMRegressor, lgb_space, x_train_new, y_train, x_val_new, y_val, num_eval, eval_metric)"
   ]
  },
  {
   "cell_type": "code",
   "execution_count": 22,
   "metadata": {},
   "outputs": [],
   "source": [
    "# unpack the selected parameters\n",
    "\n",
    "unpack_function = lambda l: [item for sublist in l for item in sublist]\n",
    "unpack_all = lgb_hyperopt.best_trial['misc']['vals']\n",
    "unpack_values = [i for i in unpack_all.values()]\n",
    "values = unpack_function(unpack_values)\n",
    "keys = [i for i in unpack_all.keys()]\n",
    "best_param = {keys[i]: values[i] for i in range(len(keys))} \n",
    "\n",
    "for each in ['num_leaves','max_depth','n_estimators','min_child_samples']:\n",
    "    best_param[each] = int(best_param[each])"
   ]
  },
  {
   "cell_type": "code",
   "execution_count": 23,
   "metadata": {},
   "outputs": [
    {
     "name": "stdout",
     "output_type": "stream",
     "text": [
      "Training until validation scores don't improve for 30 rounds\n",
      "[20]\ttraining's l1: 8.74627\ttraining's l2: 170.134\tvalid_1's l1: 9.88856\tvalid_1's l2: 235.459\n",
      "[40]\ttraining's l1: 7.99826\ttraining's l2: 133.758\tvalid_1's l1: 9.26404\tvalid_1's l2: 191.642\n",
      "[60]\ttraining's l1: 7.45192\ttraining's l2: 110.547\tvalid_1's l1: 8.83808\tvalid_1's l2: 164.359\n",
      "[80]\ttraining's l1: 7.00419\ttraining's l2: 95.123\tvalid_1's l1: 8.54224\tvalid_1's l2: 147.153\n",
      "[100]\ttraining's l1: 6.62354\ttraining's l2: 84.0205\tvalid_1's l1: 8.31545\tvalid_1's l2: 136.071\n",
      "[120]\ttraining's l1: 6.30809\ttraining's l2: 75.8499\tvalid_1's l1: 8.13908\tvalid_1's l2: 129.743\n",
      "[140]\ttraining's l1: 6.05569\ttraining's l2: 69.8641\tvalid_1's l1: 7.99481\tvalid_1's l2: 125.78\n",
      "[160]\ttraining's l1: 5.85167\ttraining's l2: 65.1363\tvalid_1's l1: 7.88079\tvalid_1's l2: 122.9\n",
      "[180]\ttraining's l1: 5.67014\ttraining's l2: 61.1681\tvalid_1's l1: 7.81152\tvalid_1's l2: 120.932\n",
      "[200]\ttraining's l1: 5.55673\ttraining's l2: 58.5783\tvalid_1's l1: 7.77198\tvalid_1's l2: 119.636\n",
      "[220]\ttraining's l1: 5.43294\ttraining's l2: 55.9497\tvalid_1's l1: 7.72625\tvalid_1's l2: 118.305\n",
      "[240]\ttraining's l1: 5.32539\ttraining's l2: 53.733\tvalid_1's l1: 7.68981\tvalid_1's l2: 117.134\n",
      "[260]\ttraining's l1: 5.21833\ttraining's l2: 51.5601\tvalid_1's l1: 7.65751\tvalid_1's l2: 115.972\n",
      "[280]\ttraining's l1: 5.11555\ttraining's l2: 49.5503\tvalid_1's l1: 7.62713\tvalid_1's l2: 115.025\n",
      "[300]\ttraining's l1: 5.01794\ttraining's l2: 47.7514\tvalid_1's l1: 7.60648\tvalid_1's l2: 114.23\n",
      "[320]\ttraining's l1: 4.92358\ttraining's l2: 46.0783\tvalid_1's l1: 7.59399\tvalid_1's l2: 113.473\n",
      "[340]\ttraining's l1: 4.83649\ttraining's l2: 44.5957\tvalid_1's l1: 7.59273\tvalid_1's l2: 113.063\n",
      "[360]\ttraining's l1: 4.74497\ttraining's l2: 43.0282\tvalid_1's l1: 7.57959\tvalid_1's l2: 112.532\n",
      "[380]\ttraining's l1: 4.65471\ttraining's l2: 41.5007\tvalid_1's l1: 7.56283\tvalid_1's l2: 112.027\n",
      "[400]\ttraining's l1: 4.56769\ttraining's l2: 40.0801\tvalid_1's l1: 7.55623\tvalid_1's l2: 111.629\n",
      "Did not meet early stopping. Best iteration is:\n",
      "[408]\ttraining's l1: 4.53383\ttraining's l2: 39.5137\tvalid_1's l1: 7.55557\tvalid_1's l2: 111.413\n",
      "Final MAE from using LightGBM Regressor is: 8.442\n"
     ]
    }
   ],
   "source": [
    "# final model performance assessment\n",
    "\n",
    "lgb = LGBMRegressor(**best_param)\n",
    "lgb.fit(x_train_new, y_train, eval_set = [(x_train_new, y_train), (x_val_new, y_val)],\n",
    "         eval_metric= 'mae', early_stopping_rounds=30, verbose=20)\n",
    "\n",
    "y_pred_final = lgb.predict(x_test_new)\n",
    "print('Final MAE from using LightGBM Regressor is: %.3f' % mean_absolute_error(y_test, y_pred_final))"
   ]
  },
  {
   "cell_type": "code",
   "execution_count": 24,
   "metadata": {},
   "outputs": [],
   "source": [
    "# examine model learning curve\n",
    "\n",
    "def learning_curve_graph(model, x, y, scorer, tune_params, tune_result, title, x_label, y_label):\n",
    "\n",
    "    # Initialize a learning curve figure\n",
    "\n",
    "    fig, axes = plt.subplots(1, 1, figsize=(8, 7))\n",
    "    axes.set_title(title)\n",
    "    axes.set_ylim(tune_result[0], tune_result[1])\n",
    "    axes.set_xlabel(x_label)\n",
    "    axes.set_ylabel(y_label)\n",
    "\n",
    "    # learning curve calculations\n",
    "\n",
    "    cv = ShuffleSplit(n_splits=100, test_size=0.2, random_state=0)\n",
    "    train_sizes, train_scores, test_scores = \\\n",
    "    learning_curve(model(**tune_params), \n",
    "                   x, y, scoring=scorer,\n",
    "                   cv=cv, n_jobs=-1, train_sizes=np.linspace(.1, 1.0, 5))\n",
    "    train_scores_mean = np.mean(train_scores, axis=1)\n",
    "    train_scores_std = np.std(train_scores, axis=1)\n",
    "    test_scores_mean = np.mean(test_scores, axis=1)\n",
    "    test_scores_std = np.std(test_scores, axis=1)\n",
    "\n",
    "    # Plot the curve\n",
    "\n",
    "    axes.grid()\n",
    "    axes.fill_between(train_sizes, train_scores_mean - train_scores_std, train_scores_mean + train_scores_std, alpha=0.1,\n",
    "                      color=\"r\")\n",
    "    axes.fill_between(train_sizes, test_scores_mean - test_scores_std, test_scores_mean + test_scores_std, alpha=0.1,\n",
    "                      color=\"g\")\n",
    "    axes.plot(train_sizes, train_scores_mean, 'o-', color=\"r\", label=\"Training score\")\n",
    "    axes.plot(train_sizes, test_scores_mean, 'o-', color=\"b\", label=\"Cross-validation score\")\n",
    "    axes.legend(loc=\"best\")"
   ]
  },
  {
   "cell_type": "code",
   "execution_count": 25,
   "metadata": {},
   "outputs": [
    {
     "data": {
      "image/png": "[encoded data removed]",
      "text/plain": [
       "<Figure size 800x700 with 1 Axes>"
      ]
     },
     "metadata": {},
     "output_type": "display_data"
    }
   ],
   "source": [
    "model = LGBMRegressor\n",
    "x = x_train_new\n",
    "y = y_train\n",
    "scorer = 'neg_mean_absolute_error'\n",
    "tune_params = best_param\n",
    "tune_result = [-17, 7]\n",
    "title = \"Learning Curves (LGBMRegressor)\"\n",
    "x_label = \"Training examples\"\n",
    "y_label = \"MAE\"\n",
    "\n",
    "learning_curve_graph(model, x, y, scorer, tune_params, tune_result, title, x_label, y_label)"
   ]
  },
  {
   "cell_type": "markdown",
   "metadata": {},
   "source": [
    "- Final model's performance is justified by examing its learning curve\n",
    "- It is highly suspected that the modeling error could be further reduced to MAE 5 when more data is introduced. "
   ]
  },
  {
   "cell_type": "markdown",
   "metadata": {},
   "source": [
    "<div class=\"alert alert-danger\">\n",
    "    <s>The model training section is very nice! You tried a couple of models, tuned LGBM's hyperparameters using cross-validation and reached a pretty good score. It's great that you looked at feature importances and learning curves! That's a nice way to gain insight into your model. Unfortunately due to problems with the data you'll have to revisit the conclusions of this section after correcting the data processing.</s>\n",
    "</div>"
   ]
  },
  {
   "cell_type": "markdown",
   "metadata": {},
   "source": [
    "<div class=\"alert alert-success\">\n",
    "    Fixed! Good job!\n",
    "</div>"
   ]
  },
  {
   "cell_type": "markdown",
   "metadata": {},
   "source": [
    "### Report\n",
    "\n",
    "Questions to be answered:\n",
    "- What steps of the plan were performed and what steps were skipped (explain why)?\n",
    "- What difficulties did you encounter and how did you manage to solve them?\n",
    "- What were some of the key steps to solving the task?\n",
    "- What is your final model and what quality score does it have?"
   ]
  },
  {
   "cell_type": "markdown",
   "metadata": {},
   "source": [
    "1. After loading the data, the first step taken was to fix the row levels of the arc and the temperature dataset. Additional requirements given in the description were met (3 out of 4) during this process. As a result, new features were created. Then all dataset were joined together using the 'key' column as the reference. The resulted dataset is being used as the first version of the finalized data which is to be used in the data cleaning and modeling process. \n",
    "\n",
    "    During the data cleaning process, 2 features were identified as having large proportion of missing values, while another 2 features were identified as having only 1 value throughout the entire dataset. Lastly, a number of steps were taken during the modeling process namely feature selection, hyperparameter tuning and learning curve. Once features are finalized and the chosen model is tuned, we will used the final test set to determine the performance of the final model."
   ]
  },
  {
   "cell_type": "markdown",
   "metadata": {},
   "source": [
    "2. The main challenge encounterd was to remove the rows from the temperature dataset that has missing values. To solve this challenge, we first identified the associated key values then looked at the row index of these key values. After locating through the row index, we are ready to remove these rows.\n",
    "\n",
    "    The second challenge faced was to fix the row levels presented in the arc and temperature dataset. For example, there are multiple rows all assigned to the same key value. Groupby sum method was used in the arc dataset to aggregate for each key value, while the last temperature of each key value was recorded as the target values. "
   ]
  },
  {
   "cell_type": "markdown",
   "metadata": {},
   "source": [
    "3. Some of the key steps I took to solve the task include estalishing a baseline performance by using a linear regressor. Then choose a tree-based modeling method to compare the performance and choose the one that shows greater potential. Feature selection and hyperparameter tuning is perform after a modeling framework is chosen. Lastly, final model's learning curve is examined to make sure that the model does not over/under fit."
   ]
  },
  {
   "cell_type": "markdown",
   "metadata": {},
   "source": [
    "4. The final model is a LightGBM regressor with a test MAE of 8.4"
   ]
  }
 ],
 "metadata": {
  "kernelspec": {
   "display_name": "Python 3",
   "language": "python",
   "name": "python3"
  },
  "language_info": {
   "codemirror_mode": {
    "name": "ipython",
    "version": 3
   },
   "file_extension": ".py",
   "mimetype": "text/x-python",
   "name": "python",
   "nbconvert_exporter": "python",
   "pygments_lexer": "ipython3",
   "version": "3.7.8"
  },
  "toc": {
   "base_numbering": 1,
   "nav_menu": {},
   "number_sections": true,
   "sideBar": true,
   "skip_h1_title": true,
   "title_cell": "Table of Contents",
   "title_sidebar": "Contents",
   "toc_cell": false,
   "toc_position": {},
   "toc_section_display": true,
   "toc_window_display": false
  }
 },
 "nbformat": 4,
 "nbformat_minor": 4
}
