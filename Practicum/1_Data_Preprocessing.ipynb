{
 "cells": [
  {
   "cell_type": "markdown",
   "metadata": {},
   "source": [
    "## Commets from reviewer\n",
    "\n",
    "<span style=\"color:green\"> Hi! Congratulations on your first project :)You did a great job! Very nice and deep project. You definitely know your data and methods. Seems like you already have experience in DS. I truly enjoyed your project. I just left a tiny comment about categorization) Please find my comment in the Markdown cell with green text. Good luck with the next project! :) </span> "
   ]
  },
  {
   "cell_type": "markdown",
   "metadata": {},
   "source": [
    "## Analyzing borrowers’ risk of defaulting\n",
    "\n",
    "Your project is to prepare a report for a bank’s loan division. You’ll need to find out if a customer’s marital status and number of children has an impact on whether they will default on a loan. The bank already has some data on customers’ credit worthiness.\n",
    "\n",
    "Your report will be considered when building a **credit scoring** of a potential customer. A ** credit scoring ** is used to evaluate the ability of a potential borrower to repay their loan."
   ]
  },
  {
   "cell_type": "markdown",
   "metadata": {},
   "source": [
    "### Step 1. Open the data file and have a look at the general information. "
   ]
  },
  {
   "cell_type": "code",
   "execution_count": 1,
   "metadata": {},
   "outputs": [
    {
     "name": "stdout",
     "output_type": "stream",
     "text": [
      "<class 'pandas.core.frame.DataFrame'>\n",
      "RangeIndex: 21525 entries, 0 to 21524\n",
      "Data columns (total 12 columns):\n",
      "children            21525 non-null int64\n",
      "days_employed       19351 non-null float64\n",
      "dob_years           21525 non-null int64\n",
      "education           21525 non-null object\n",
      "education_id        21525 non-null int64\n",
      "family_status       21525 non-null object\n",
      "family_status_id    21525 non-null int64\n",
      "gender              21525 non-null object\n",
      "income_type         21525 non-null object\n",
      "debt                21525 non-null int64\n",
      "total_income        19351 non-null float64\n",
      "purpose             21525 non-null object\n",
      "dtypes: float64(2), int64(5), object(5)\n",
      "memory usage: 2.0+ MB\n",
      "None\n"
     ]
    }
   ],
   "source": [
    "# import pandas library and dataset\n",
    "\n",
    "import pandas as pd\n",
    "data = pd.read_csv('/datasets/credit_scoring_eng.csv')\n",
    "\n",
    "# have a look at basic information about the data\n",
    "\n",
    "print(data.info())"
   ]
  },
  {
   "cell_type": "markdown",
   "metadata": {},
   "source": [
    "### Conclusion"
   ]
  },
  {
   "cell_type": "markdown",
   "metadata": {},
   "source": [
    "The imported dataset has 21525 entries and 12 columns. By a first glance, there are missing values in the days_employed and total_income columns. The two columns have the same number of total missing values."
   ]
  },
  {
   "cell_type": "markdown",
   "metadata": {},
   "source": [
    "### Step 2. Data preprocessing"
   ]
  },
  {
   "cell_type": "markdown",
   "metadata": {},
   "source": [
    "### Processing missing values"
   ]
  },
  {
   "cell_type": "code",
   "execution_count": 2,
   "metadata": {},
   "outputs": [
    {
     "name": "stdout",
     "output_type": "stream",
     "text": [
      "The total number of missing values in the selected fields are 2174\n",
      "After filling in missing fields with the corrosponding median value, there are total of 0 missing values\n"
     ]
    }
   ],
   "source": [
    "# Identify total number of missing values in the selected fields\n",
    "# Note that df.isna().sum() and df.isnull().sum() will yield the same results here\n",
    "\n",
    "print('The total number of missing values in the selected fields are', data['days_employed'].isna().sum())\n",
    "\n",
    "# Replace these missing fields with the median value.\n",
    "\n",
    "data['total_income'].fillna(value = data['total_income'].median(), inplace=True)\n",
    "data['days_employed'].fillna(value = data['days_employed'].median(), inplace=True)\n",
    "\n",
    "# Make sure that all fields from these two fields are populated\n",
    "\n",
    "print('After filling in missing fields with the corrosponding median value, there are total of', data['total_income'].isna().sum(), 'missing values')"
   ]
  },
  {
   "cell_type": "markdown",
   "metadata": {},
   "source": [
    "### Conclusion"
   ]
  },
  {
   "cell_type": "markdown",
   "metadata": {},
   "source": [
    "Question: \n",
    "- Which missing values you identified\n",
    "- Possible reasons these missing values were present\n",
    "- Which method you used to fill in missing values\n",
    "\n",
    "Answer: \n",
    "- The columns that have missing values are days_employed, and total_income. There are a total of 2174 missing values present in each column.\n",
    "- Since the two fields have identify total number of missing values, it is highly suspected that these two fields are somewhat related. For example, whenever there is a missing value in one column the corrosponding field in the other column also has a missing value.\n",
    "- This type observation occurs potentially because a person's income and status of employment is highly correlated. If unemployment is reflected in days_employed (as missing values), then the corrosponding total income for that person also could be reflected as missing values. \n",
    "- I used the fillna() method to fill in missing values from days_employed column and total_income column with median values from the their respective columns."
   ]
  },
  {
   "cell_type": "markdown",
   "metadata": {},
   "source": [
    "<span style=\"color:green\">Nice approach)Take a closer look at days_employed? Do they look realistic to you? Also, what about dob_years? </span>"
   ]
  },
  {
   "cell_type": "markdown",
   "metadata": {},
   "source": [
    "### Data type replacement"
   ]
  },
  {
   "cell_type": "code",
   "execution_count": 3,
   "metadata": {},
   "outputs": [
    {
     "name": "stdout",
     "output_type": "stream",
     "text": [
      "children             int64\n",
      "days_employed        int64\n",
      "dob_years            int64\n",
      "education           object\n",
      "education_id         int64\n",
      "family_status       object\n",
      "family_status_id     int64\n",
      "gender              object\n",
      "income_type         object\n",
      "debt                 int64\n",
      "total_income         int64\n",
      "purpose             object\n",
      "dtype: object\n"
     ]
    }
   ],
   "source": [
    "# Replace the real-number data type with the integer type\n",
    "\n",
    "data['days_employed'] = data['days_employed'].astype('int')\n",
    "data['total_income'] = data['total_income'].astype('int')\n",
    "\n",
    "# Check the data types again\n",
    "\n",
    "print(data.dtypes)"
   ]
  },
  {
   "cell_type": "markdown",
   "metadata": {},
   "source": [
    "### Conclusion"
   ]
  },
  {
   "cell_type": "markdown",
   "metadata": {},
   "source": [
    "Questions:\n",
    "- Which method you used to change the data type and why\n",
    "\n",
    "Answers:\n",
    "- There are only two fields are float data type, they are days_employed and total_income. All other fields are either object or integer.\n",
    "- I used astype() method to change the data type because the to_numeric() method would only convert data to float64, and our desired data type is integer here."
   ]
  },
  {
   "cell_type": "markdown",
   "metadata": {},
   "source": [
    "<span style=\"color:green\">I really like how you explain your methods here :)"
   ]
  },
  {
   "cell_type": "markdown",
   "metadata": {},
   "source": [
    "### Processing duplicates"
   ]
  },
  {
   "cell_type": "code",
   "execution_count": 4,
   "metadata": {},
   "outputs": [
    {
     "name": "stdout",
     "output_type": "stream",
     "text": [
      "       children  days_employed  dob_years            education  education_id  \\\n",
      "2849          0          -1203         41  secondary education             1   \n",
      "4182          1          -1203         34       MASTERS DEGREE             0   \n",
      "4851          0          -1203         60  secondary education             1   \n",
      "5557          0          -1203         58  secondary education             1   \n",
      "7808          0          -1203         57  secondary education             1   \n",
      "8583          0          -1203         58       masters degree             0   \n",
      "9238          2          -1203         34  secondary education             1   \n",
      "9528          0          -1203         66  secondary education             1   \n",
      "9627          0          -1203         56  secondary education             1   \n",
      "10462         0          -1203         62  secondary education             1   \n",
      "\n",
      "           family_status  family_status_id gender income_type  debt  \\\n",
      "2849             married                 0      F    employee     0   \n",
      "4182   civil partnership                 1      F    employee     0   \n",
      "4851   civil partnership                 1      F     retiree     0   \n",
      "5557   civil partnership                 1      F     retiree     0   \n",
      "7808   civil partnership                 1      F     retiree     0   \n",
      "8583           unmarried                 4      F     retiree     0   \n",
      "9238             married                 0      F    employee     0   \n",
      "9528     widow / widower                 2      F     retiree     0   \n",
      "9627             married                 0      F     retiree     0   \n",
      "10462            married                 0      F     retiree     0   \n",
      "\n",
      "       total_income                              purpose  \n",
      "2849         145017  purchase of the house for my family  \n",
      "4182         145017                     wedding ceremony  \n",
      "4851         145017                     wedding ceremony  \n",
      "5557         145017                    to have a wedding  \n",
      "7808         145017                     having a wedding  \n",
      "8583         145017              supplementary education  \n",
      "9238         145017      buying property for renting out  \n",
      "9528         145017     transactions with my real estate  \n",
      "9627         145017     transactions with my real estate  \n",
      "10462        145017           buy commercial real estate   \n",
      "\n",
      "The days_employed column only has a unique value of [-1203]\n",
      "The total_income column only has a unique value of [145017] \n",
      "\n",
      "The total number of duplicates is 54\n",
      "The total number of duplicates after deleting is 0\n"
     ]
    }
   ],
   "source": [
    "# First look at the duplicated data\n",
    "\n",
    "print(data[data.duplicated()].head(10), '\\n')\n",
    "\n",
    "# After inspecting, find which columns do the duplicated values come from\n",
    "\n",
    "print('The days_employed column only has a unique value of', data[data.duplicated()]['days_employed'].unique())\n",
    "print('The total_income column only has a unique value of', data[data.duplicated()]['total_income'].unique(), '\\n')\n",
    "\n",
    "# Find out how many duplicates are there in our data\n",
    "\n",
    "print('The total number of duplicates is', data.duplicated().sum())\n",
    "\n",
    "# Drop the duplicates \n",
    "\n",
    "data.drop_duplicates(inplace=True)\n",
    "\n",
    "# Check again\n",
    "\n",
    "print('The total number of duplicates after deleting is', data.duplicated().sum())"
   ]
  },
  {
   "cell_type": "markdown",
   "metadata": {},
   "source": [
    "### Conclusion"
   ]
  },
  {
   "cell_type": "markdown",
   "metadata": {},
   "source": [
    "Questions:\n",
    "- Which method you used to find and delete duplicate data and why\n",
    "- Possible reasons why duplicate data was present\n",
    "\n",
    "Answers:\n",
    "- After inspecting the duplicated data, we found that the days_employed and total_income columns only have one unique value, these two columns are the places where all duplicated data came from.\n",
    "- There are a total of 54 entries that are duplicates in the dataframe. I used the duplicated() method combined with the sum() to calcuate a the total number of duplicated entries.\n",
    "- It's observed that, from these duplicated data, total_income and days_employed both have only 1 values, this is the reason that there are 54 duplicated records."
   ]
  },
  {
   "cell_type": "markdown",
   "metadata": {},
   "source": [
    "### Lemmatization"
   ]
  },
  {
   "cell_type": "code",
   "execution_count": 5,
   "metadata": {},
   "outputs": [
    {
     "name": "stdout",
     "output_type": "stream",
     "text": [
      "Total number of unique values in the purpose column before lemmatization is 38\n",
      "Total number of unique values in the newly created lemmas column is 37\n"
     ]
    }
   ],
   "source": [
    "# Find lemmas for values in the column listing reasons for taking out a loan\n",
    "\n",
    "import nltk\n",
    "from nltk.stem import WordNetLemmatizer\n",
    "wordnet_lemma = WordNetLemmatizer()\n",
    "\n",
    "data['purpose_new'] = data['purpose'].apply(nltk.word_tokenize)\n",
    "data['lemmas'] = data['purpose_new'].apply(lambda x: ' '.join([wordnet_lemma.lemmatize(w, pos='n') for w in x]))\n",
    "\n",
    "# Inspect the results\n",
    "\n",
    "print('Total number of unique values in the purpose column before lemmatization is', len(data['purpose'].value_counts()))\n",
    "print('Total number of unique values in the newly created lemmas column is', len(data['lemmas'].value_counts()))"
   ]
  },
  {
   "cell_type": "markdown",
   "metadata": {},
   "source": [
    "### Conclusion"
   ]
  },
  {
   "cell_type": "markdown",
   "metadata": {},
   "source": [
    "Questions:\n",
    "- How you used lemmatization on the reasons for getting a loan\n",
    "- Which dictionaries you've selected for this data set and why\n",
    "\n",
    "Answers:\n",
    "- I first tokenized each value from the purpose column, then used WordNetLemmatizer() method because this method further reduces the inflected words properly ensuring that the root word belongs to the language.\n",
    "- By using the WordNetLemmatizer() method, tokenized messages will be automatically reduced to the lemmas that are valid in the same language.\n",
    "- I noticed that the total number of unique values in the original purpose column and the new lemmas column is different by 1. Although I would expect to see a much large difference since many purpose text (after tokenized) share the same root. My understanding of the use of lemmatization is that it reduces multiple different text to the same or similar lemmas, this will greatly reduce and simplify the both the content and number of unique text so that we could quickly extract the important key words by merely inspecting the lemmatized results. "
   ]
  },
  {
   "cell_type": "markdown",
   "metadata": {},
   "source": [
    "<span style=\"color:green\">Lemmatization step is correct :)"
   ]
  },
  {
   "cell_type": "markdown",
   "metadata": {},
   "source": [
    "### Categorizing Data"
   ]
  },
  {
   "cell_type": "code",
   "execution_count": 6,
   "metadata": {},
   "outputs": [
    {
     "name": "stdout",
     "output_type": "stream",
     "text": [
      "car                                             972\n",
      "wedding ceremony                                793\n",
      "having a wedding                                773\n",
      "to have a wedding                               769\n",
      "real estate transaction                         675\n",
      "buy commercial real estate                      662\n",
      "buying property for renting out                 652\n",
      "housing transaction                             652\n",
      "transaction with the residential real estate    650\n",
      "housing                                         646\n",
      "purchase of the house                           646\n",
      "purchase of the house for my family             638\n",
      "construction of own property                    635\n",
      "property                                        633\n",
      "transaction with my real estate                 627\n",
      "building a real estate                          625\n",
      "buy real estate                                 621\n",
      "purchase of my own house                        620\n",
      "building a property                             619\n",
      "property renovation                             607\n",
      "buy residential real estate                     606\n",
      "buying my own car                               505\n",
      "going to university                             496\n",
      "second-hand car purchase                        486\n",
      "to own a car                                    479\n",
      "buying a second-hand car                        478\n",
      "to buy a car                                    472\n",
      "car purchase                                    461\n",
      "supplementary education                         460\n",
      "purchase of a car                               455\n",
      "university education                            452\n",
      "education                                       447\n",
      "to get asupplementary education                 447\n",
      "getting an education                            442\n",
      "profile education                               436\n",
      "getting higher education                        426\n",
      "to become educated                              408\n",
      "Name: lemmas, dtype: int64 \n",
      "\n",
      "The total number of lemmas is 21471\n",
      "The number of encoded rows is 21471\n"
     ]
    }
   ],
   "source": [
    "# My intent here is to categorize the 'lemmas' column. In order to do that, I first need to inspect the lemmas of each purpose\n",
    "\n",
    "print(data['lemmas'].value_counts(), '\\n')\n",
    "\n",
    "# There are several key words we can extract from the lemmas\n",
    "\n",
    "key_words = ['car', 'wedding', 'real estate', 'property', 'house', 'housing', 'education', 'educated']\n",
    "\n",
    "# Create a function to encode the 'lemmas' with integers\n",
    "\n",
    "def categorize_lemmas(row):\n",
    "    lemma = row['lemmas']\n",
    "    \n",
    "    if lemma.find(key_words[0]) != -1:\n",
    "        return 1\n",
    "    if lemma.find(key_words[1]) != -1:\n",
    "        return 2\n",
    "    if lemma.find(key_words[2]) != -1:\n",
    "        return 3\n",
    "    if lemma.find(key_words[3]) != -1:\n",
    "        return 3\n",
    "    if lemma.find(key_words[4]) != -1:\n",
    "        return 3\n",
    "    if lemma.find(key_words[5]) != -1:\n",
    "        return 3\n",
    "    if lemma.find(key_words[6]) != -1:\n",
    "        return 4\n",
    "    if lemma.find(key_words[7]) != -1:\n",
    "        return 4\n",
    "    else:\n",
    "        return 5\n",
    "            \n",
    "data['lemmas_encoded'] = data.apply(categorize_lemmas, axis=1)\n",
    "\n",
    "# See if the total number of encoded values match with the total number of lemmas we originaly have\n",
    "\n",
    "print('The total number of lemmas is', data['lemmas'].value_counts().sum())\n",
    "print('The number of encoded rows is', data['lemmas_encoded'].value_counts().sum())"
   ]
  },
  {
   "cell_type": "markdown",
   "metadata": {},
   "source": [
    "### Conclusion"
   ]
  },
  {
   "cell_type": "markdown",
   "metadata": {},
   "source": [
    "I selected the lemmatized purpose column to categorize because this will extract the value out of the text data."
   ]
  },
  {
   "cell_type": "markdown",
   "metadata": {},
   "source": [
    "<span style=\"color:green\">Here for categorization of purposes, you may just check whether a purpose, for example 'car', is in your lemmatized parameter :) Here are some ways how you can check whether one string contains another.<br>\n",
    "https://www.educative.io/edpresso/how-to-check-if-python-string-contains-another-string\n",
    "Try to write a function that will look for categories in your lemmas_encoded. It may look smth like this: <br>\n",
    "    **if \"car\" in lemmas_encoded:**<br>\n",
    "        **$\\;\\;\\;\\;\\;\\;$return \"car\"**<br>\n",
    "  I believe it will help you a lot in the next projects)\n"
   ]
  },
  {
   "cell_type": "markdown",
   "metadata": {},
   "source": [
    "### Step 3. Answer these questions"
   ]
  },
  {
   "cell_type": "markdown",
   "metadata": {},
   "source": [
    "- Is there a relation between having kids and repaying a loan on time?"
   ]
  },
  {
   "cell_type": "code",
   "execution_count": 7,
   "metadata": {},
   "outputs": [
    {
     "name": "stdout",
     "output_type": "stream",
     "text": [
      "Value counts within the children column:\n",
      " 0     14107\n",
      " 1      4809\n",
      " 2      2052\n",
      " 3       330\n",
      " 20       76\n",
      "-1        47\n",
      " 4        41\n",
      " 5         9\n",
      "Name: children, dtype: int64 \n",
      "\n",
      "Value counts of the new column after categorize the children column:\n",
      "0    14154\n",
      "1     7317\n",
      "Name: children_new, dtype: int64 \n",
      "\n"
     ]
    },
    {
     "data": {
      "image/png": "[encoded data removed]",
      "text/plain": [
       "<Figure size 720x360 with 1 Axes>"
      ]
     },
     "metadata": {
      "needs_background": "light"
     },
     "output_type": "display_data"
    },
    {
     "name": "stdout",
     "output_type": "stream",
     "text": [
      "Contingency table:\n",
      "debt              0     1  perc_by_row\n",
      "children_new                          \n",
      "0             13090  1064     0.075173\n",
      "1              6640   677     0.092524\n"
     ]
    }
   ],
   "source": [
    "# 1\n",
    "# Inspect the children columns\n",
    "\n",
    "print('Value counts within the children column:')\n",
    "print(data['children'].value_counts(), '\\n')\n",
    "\n",
    "# There is -1 presents in the children column and since there are only 47 of them, which contributes a small number of\n",
    "# the total population, I wll convert the -1's to 0 for the purpose of this study.\n",
    "\n",
    "data.loc[data['children'] == -1, 'children'] = 0\n",
    "\n",
    "# 2\n",
    "# We need to categorize the children column in a way that 1 indicates if a customer has children at all and 0 otherwise. \n",
    "# This step is necessary for creating the contingency tables\n",
    "\n",
    "def categorize_children(children):\n",
    "    if children != 0:\n",
    "        return 1\n",
    "    else:\n",
    "        return 0\n",
    "\n",
    "data['children_new'] = data['children'].apply(categorize_children)\n",
    "\n",
    "print('Value counts of the new column after categorize the children column:')\n",
    "print(data['children_new'].value_counts(), '\\n')\n",
    "\n",
    "# 3\n",
    "# Visualize using bar chart based on the original children and debt columns\n",
    "\n",
    "import matplotlib.pyplot as plt\n",
    "import seaborn as sns\n",
    "\n",
    "plt.figure(figsize=(10,5))\n",
    "sns.countplot(x = 'children', hue = 'debt', data = data, palette = 'magma')\n",
    "plt.title('Children vs. Debt')\n",
    "plt.show()\n",
    "\n",
    "# 4\n",
    "# Contengency table with row percentage\n",
    "\n",
    "def row_perc(row):\n",
    "    temp1 = row[1]\n",
    "    temp2 = row.sum()\n",
    "    return temp1/temp2\n",
    "\n",
    "contengency_table_children = pd.crosstab(data['children_new'], data['debt'], margins=False)\n",
    "contengency_table_children['perc_by_row'] = contengency_table_children['perc_by_row'] = contengency_table_children.apply(row_perc, axis=1)\n",
    "\n",
    "print('Contingency table:')\n",
    "print(contengency_table_children)"
   ]
  },
  {
   "cell_type": "markdown",
   "metadata": {},
   "source": [
    "<span style=\"color:green\">You did a nice job with graphs! "
   ]
  },
  {
   "cell_type": "markdown",
   "metadata": {},
   "source": [
    "### Conclusion"
   ]
  },
  {
   "cell_type": "markdown",
   "metadata": {},
   "source": [
    "We will use bar chart and contingency tables to visualize the result. Note that since the debt column is categorical and the children column is discrete, it wouldn't be wise to calculate the correlation directly from the two columns. \n",
    "\n",
    "Summary:\n",
    "- First, inspect the values from the children column and see if there is anything that are uncommon. We found that there are -1's present in the column which we need to convert them to 0's\n",
    "- Second, categorize the children column for later analysis (contingency table)\n",
    "- Third, visualize the relation between the original children and debt columns by using bar chart\n",
    "- Fourth, creating a contingency table using the newly categorized children column then calculate row percentages\n",
    "\n",
    "Results:\n",
    "- From inspecting the bar chart, one may quickly conclude that the number of defaulted people in group 0 (families without children) is more than the number of defaulted people in other groups (families with 1 child, with 2 children, and so forth). Therefore, there is a mild negative association between number children and repaying loan on time. However, note that the base population in the group 0 is also a lot larger than all other groups.\n",
    "- Large population is easier to detect effect, does not mean such effect is significant nor having enough effect size and power.\n",
    "- Continue on by inspecting the contingency table, we found that the number of defaulted pople who don't have children is only 2% more than the number of defaulted people who have children, thus we conclude that there is no direct correlation between repaying loan on time and having children.\n",
    "- A further study on significance testing is needed to obtain an accurate answer."
   ]
  },
  {
   "cell_type": "markdown",
   "metadata": {},
   "source": [
    "- Is there a relation between marital status and repaying a loan on time?"
   ]
  },
  {
   "cell_type": "code",
   "execution_count": 8,
   "metadata": {},
   "outputs": [
    {
     "name": "stdout",
     "output_type": "stream",
     "text": [
      "Value counts within the family_status column:\n",
      "married              12344\n",
      "civil partnership     4163\n",
      "unmarried             2810\n",
      "divorced              1195\n",
      "widow / widower        959\n",
      "Name: family_status, dtype: int64 \n",
      "\n",
      "Value counts within the family_status_id column:\n",
      "0    12344\n",
      "1     4163\n",
      "4     2810\n",
      "3     1195\n",
      "2      959\n",
      "Name: family_status_id, dtype: int64\n"
     ]
    },
    {
     "data": {
      "image/png": "[encoded data removed]",
      "text/plain": [
       "<Figure size 1080x360 with 1 Axes>"
      ]
     },
     "metadata": {
      "needs_background": "light"
     },
     "output_type": "display_data"
    },
    {
     "name": "stdout",
     "output_type": "stream",
     "text": [
      "Contingency table:\n",
      "debt                   0    1  perc_by_row\n",
      "family_status                             \n",
      "civil partnership   3775  388     0.093202\n",
      "divorced            1110   85     0.071130\n",
      "married            11413  931     0.075421\n",
      "unmarried           2536  274     0.097509\n",
      "widow / widower      896   63     0.065693\n"
     ]
    }
   ],
   "source": [
    "# 1\n",
    "# Inspect the values from family_status column, look for values that are uncommon\n",
    "\n",
    "print('Value counts within the family_status column:')\n",
    "print(data['family_status'].value_counts(), '\\n')\n",
    "print('Value counts within the family_status_id column:')\n",
    "print(data['family_status_id'].value_counts())\n",
    "\n",
    "# 2\n",
    "# Bar chart\n",
    "\n",
    "plt.figure(figsize=(15,5))\n",
    "sns.countplot(x = 'family_status', hue = 'debt', data = data, palette = 'magma')\n",
    "plt.title('Family Status vs. Debt')\n",
    "plt.show()\n",
    "\n",
    "# 3\n",
    "# Contingency table\n",
    "\n",
    "contengency_table_family = pd.crosstab(data['family_status'], data['debt'], margins=False)\n",
    "contengency_table_family['perc_by_row'] = contengency_table_family.apply(row_perc, axis=1)\n",
    "\n",
    "print('Contingency table:')\n",
    "print(contengency_table_family)"
   ]
  },
  {
   "cell_type": "markdown",
   "metadata": {},
   "source": [
    "### Conclusion"
   ]
  },
  {
   "cell_type": "markdown",
   "metadata": {},
   "source": [
    "Summary:\n",
    "- First, inspect the values in the family_status and family_status_id columns and see if there is anything that are uncommon.\n",
    "- Second, visualize the relation between family_status and debt using bar chart\n",
    "- Third, create a contingency table\n",
    "\n",
    "Results:\n",
    "- From inspecting the contingency table, we found that the proportions of defaulted pople, acrossing all family_status categories, all have similar percentages. Thus I conclude that there is no direct relation between family status and repaying loan on time.\n",
    "- Note that the row percentage of widow/widower is 6.5%, I need to further investigate on significance to obtain an accurate answer."
   ]
  },
  {
   "cell_type": "markdown",
   "metadata": {},
   "source": [
    "- Is there a relation between income level and repaying a loan on time?"
   ]
  },
  {
   "cell_type": "code",
   "execution_count": 9,
   "metadata": {},
   "outputs": [
    {
     "data": {
      "image/png": "[encoded data removed]",
      "text/plain": [
       "<Figure size 1080x360 with 1 Axes>"
      ]
     },
     "metadata": {
      "needs_background": "light"
     },
     "output_type": "display_data"
    },
    {
     "name": "stdout",
     "output_type": "stream",
     "text": [
      "Contingency table:\n",
      "debt                 0    1  perc_by_row\n",
      "total_income_new                        \n",
      "high income       3923  384     0.089157\n",
      "low income        4941  427     0.079545\n",
      "medium income     5881  547     0.085096\n",
      "wealthy           4985  383     0.071349\n"
     ]
    }
   ],
   "source": [
    "# 1\n",
    "# Inspect the values from total_income column, then categorize it and create a new object column\n",
    "\n",
    "low = data['total_income'].describe()['25%']\n",
    "medium = data['total_income'].describe()['50%']\n",
    "high = data['total_income'].describe()['75%']\n",
    "\n",
    "def categorize_income(income):\n",
    "    if income <= low:\n",
    "        return 'low income'\n",
    "    if income <= medium:\n",
    "        return 'medium income'\n",
    "    if income <= high:\n",
    "        return 'high income'\n",
    "    else:\n",
    "        return 'wealthy'\n",
    "\n",
    "data['total_income_new'] = data['total_income'].apply(categorize_income)\n",
    "\n",
    "# 2\n",
    "# Bar Chart\n",
    "\n",
    "plt.figure(figsize=(15,5))\n",
    "sns.countplot(x = 'total_income_new', hue = 'debt', data = data, palette = 'magma')\n",
    "plt.title('Total Income vs. Debt')\n",
    "plt.show()\n",
    "\n",
    "# 3\n",
    "# Contingency table\n",
    "\n",
    "contengency_table_income = pd.crosstab(data['total_income_new'], data['debt'], margins=False)\n",
    "contengency_table_income['perc_by_row'] = contengency_table_income.apply(row_perc, axis=1)\n",
    "\n",
    "print('Contingency table:')\n",
    "print(contengency_table_income)"
   ]
  },
  {
   "cell_type": "markdown",
   "metadata": {},
   "source": [
    "### Conclusion"
   ]
  },
  {
   "cell_type": "markdown",
   "metadata": {},
   "source": [
    "Summary:\n",
    "- First, categorize total income\n",
    "- Second, visualize the relation between total income and debt using bar chart\n",
    "- Third, create a contingency table\n",
    "\n",
    "Results:\n",
    "- From inspecting the contingency table and the bar chart, I found that the proportions of defaulted pople, acrossing all income categories, all have similar row percentages. Thus I conclude that there is no direct relation between total income and repaying loan on time."
   ]
  },
  {
   "cell_type": "markdown",
   "metadata": {},
   "source": [
    "- How do different loan purposes affect on-time repayment of the loan?"
   ]
  },
  {
   "cell_type": "code",
   "execution_count": 10,
   "metadata": {},
   "outputs": [
    {
     "name": "stdout",
     "output_type": "stream",
     "text": [
      "Value counts from the encoded lemmas field:\n",
      "3    10814\n",
      "1     4308\n",
      "4     3518\n",
      "2     2335\n",
      "5      496\n",
      "Name: lemmas_encoded, dtype: int64 \n",
      "\n",
      "Value counts from the new key words field:\n",
      "property     10814\n",
      "car           4308\n",
      "education     3518\n",
      "wedding       2335\n",
      "unknown        496\n",
      "Name: key_words, dtype: int64\n"
     ]
    },
    {
     "data": {
      "image/png": "[encoded data removed]",
      "text/plain": [
       "<Figure size 1080x360 with 1 Axes>"
      ]
     },
     "metadata": {
      "needs_background": "light"
     },
     "output_type": "display_data"
    },
    {
     "name": "stdout",
     "output_type": "stream",
     "text": [
      "Contingency table:\n",
      "debt           0    1  perc_by_row\n",
      "key_words                         \n",
      "car         3905  403     0.093547\n",
      "education   3191  327     0.092951\n",
      "property   10032  782     0.072314\n",
      "unknown      453   43     0.086694\n",
      "wedding     2149  186     0.079657\n"
     ]
    }
   ],
   "source": [
    "# 1\n",
    "# Map the encoded lemmas to related key words\n",
    "\n",
    "key_words_reduced = ['car', 'wedding', 'property', 'education', 'unknown']\n",
    "key_words_reduced = {i:k for i, k in enumerate(key_words_reduced, 1)}\n",
    "data['key_words'] = data['lemmas_encoded'].map(key_words_reduced)\n",
    "\n",
    "print('Value counts from the encoded lemmas field:')\n",
    "print(data['lemmas_encoded'].value_counts(), '\\n')\n",
    "print('Value counts from the new key words field:')\n",
    "print(data['key_words'].value_counts())\n",
    "\n",
    "# 2\n",
    "# Bar chart\n",
    "\n",
    "plt.figure(figsize=(15,5))\n",
    "sns.countplot(x = 'key_words', hue = 'debt', data = data, palette = 'magma')\n",
    "plt.title('Loan Purposes vs. Debt')\n",
    "plt.show()\n",
    "\n",
    "# 3\n",
    "# Contingency table\n",
    "\n",
    "contengency_table_purpose = pd.crosstab(data['key_words'], data['debt'], margins=False)\n",
    "contengency_table_purpose['perc_by_row'] = contengency_table_purpose.apply(row_perc, axis=1)\n",
    "\n",
    "print('Contingency table:')\n",
    "print(contengency_table_purpose)"
   ]
  },
  {
   "cell_type": "markdown",
   "metadata": {},
   "source": [
    "### Conclusion"
   ]
  },
  {
   "cell_type": "markdown",
   "metadata": {},
   "source": [
    "Summary:\n",
    "- First, create a reduced key words list use for mapping the encoded lemmas\n",
    "- Second, visualize the relation between loan purpose and debt using bar chart\n",
    "- Third, create a contingency table\n",
    "\n",
    "Results:\n",
    "- From inspecting the contingency table and the bar chart, I found that the proportions of defaulted pople, acrossing all purpose categories, have similar row percentages. Thus I conclude that there is no direct relation between total income and repaying loan on time."
   ]
  },
  {
   "cell_type": "markdown",
   "metadata": {},
   "source": [
    "<span style=\"color:green\">This step is great! Good methods and very deep conclusions)"
   ]
  },
  {
   "cell_type": "markdown",
   "metadata": {},
   "source": [
    "### Step 4. General conclusion"
   ]
  },
  {
   "cell_type": "markdown",
   "metadata": {},
   "source": [
    "Throughout the process of completing task 2, our purpose has been determining if there is a direct association between repaying loan on time and a series of other features from our dataset (purpose, income, family status, having children). In short, there is no direct association betwen repaying loan on time and previously mentioned features. \n",
    "\n",
    "Such conclusion is made based on series observations from various bar charts and contingency tables. For example, one common observation is that, by inspecting the contingency tables, the proportion of peope who did not repay loan on time is not significantly higher than the proportion of people who did repay loan on time, regardless of whether such person has children, or married, or he/she is a high income, etc. \n",
    "\n",
    "In addition, bar charts and contingency tables are being used due to the fact that they both are very straightforward and they both accept category variables as input. Please recall that there are several features that are originally numerical features. Also recall that the debt feature (repaying on time) is a categorical with two levels. Thus, it is clear to me that using the debt feature as a grouping and apply it to the categorized numerical features (children_new, key_words, etc.) on the x-axis in a bar chart would produce straigthforward results that are easy to make conclusion on. \n",
    "\n",
    "A further study on proportion's significance is recommended due to fact that the proportion of people who repay loan on time is a lot larger than the proportion of people who did not repay on time. This would make more difficult to derive a conclusion based on merely inspecting the bar charts. Furthermore, chi-squre statistics would provide valuable justification on whether the conclude made from the contingency table is valid or not.  "
   ]
  },
  {
   "cell_type": "markdown",
   "metadata": {},
   "source": [
    "<span style=\"color:green\">Wow! Very detailed) Good insight for a future studies)"
   ]
  },
  {
   "cell_type": "markdown",
   "metadata": {},
   "source": [
    "### Project Readiness Checklist\n",
    "\n",
    "Put 'x' in the completed points. Then press Shift + Enter."
   ]
  },
  {
   "cell_type": "markdown",
   "metadata": {},
   "source": [
    "- [x]  file open;\n",
    "- [x]  file examined;\n",
    "- [x]  missing values defined;\n",
    "- [x]  missing values are filled;\n",
    "- [x]  an explanation of which missing value types were detected;\n",
    "- [x]  explanation for the possible causes of missing values;\n",
    "- [x]  an explanation of how the blanks are filled;\n",
    "- [x]  replaced the real data type with an integer;\n",
    "- [x]  an explanation of which method is used to change the data type and why;\n",
    "- [x]  duplicates deleted;\n",
    "- [x]  an explanation of which method is used to find and remove duplicates;\n",
    "- [x]  description of the possible reasons for the appearance of duplicates in the data;\n",
    "- [x]  highlighted lemmas in the values of the loan purpose column;\n",
    "- [x]  the lemmatization process is described;\n",
    "- [x]  data is categorized;\n",
    "- [x]  an explanation of the principle of data categorization;\n",
    "- [x]  an answer to the question \"Is there a relation between having kids and repaying a loan on time?\";\n",
    "- [x]  an answer to the question \" Is there a relation between marital status and repaying a loan on time?\";\n",
    "- [x]   an answer to the question \" Is there a relation between income level and repaying a loan on time?\";\n",
    "- [x]  an answer to the question \" How do different loan purposes affect on-time repayment of the loan?\"\n",
    "- [x]  conclusions are present on each stage;\n",
    "- [x]  a general conclusion is made."
   ]
  }
 ],
 "metadata": {
  "kernelspec": {
   "display_name": "Python 3",
   "language": "python",
   "name": "python3"
  },
  "language_info": {
   "codemirror_mode": {
    "name": "ipython",
    "version": 3
   },
   "file_extension": ".py",
   "mimetype": "text/x-python",
   "name": "python",
   "nbconvert_exporter": "python",
   "pygments_lexer": "ipython3",
   "version": "3.7.3"
  }
 },
 "nbformat": 4,
 "nbformat_minor": 2
}
