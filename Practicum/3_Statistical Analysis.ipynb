{
 "cells": [
  {
   "cell_type": "markdown",
   "metadata": {},
   "source": [
    "<div class=\"alert alert-block alert-info\">\n",
    "<h2> Comments </h2>\n",
    "</div>\n",
    "\n",
    "Hi Jing,\n",
    "\n",
    "I have checked you work and left comments in such cells. Cells are of two types:\n",
    "\n",
    "<div class=\"alert alert-block alert-danger\">\n",
    "<p> <strong> A red colored cell </strong> indicates that you need to improve or adjust part of the project above. </p>\n",
    "</div>\n",
    "<div class=\"alert alert-block alert-info\">\n",
    "<p> <strong> A blue colored cell </strong> indicates that no improvements are needed in the cells above. May include some suggestions and recommendations.</p>\n",
    "</div>\n",
    "\n",
    "Hope it all will be clear to you :)\n",
    "\n",
    "You did a good job 😀. You  understand what you are doing and why, also can make right conclusions - which is great 👍.\n",
    "\n",
    "Thank you for your explanations :)\n",
    "\n",
    "The project is accepted :)\n",
    "\n",
    "*Good luck!*\n",
    "\n",
    "------------"
   ]
  },
  {
   "cell_type": "markdown",
   "metadata": {},
   "source": [
    "# Background Information\n",
    "You work as an analyst for \"Megaline\", a state mobile operator. The company offers its clients two prepaid plans, Surf and Ultimate. The commercial department would like to know which of the plans is more profitable in order to adjust the advertising budget.\n",
    "\n",
    "You are going to carry out a preliminary analysis of the plans based on a relatively small client selection. You'll have the data on 500 \"Megaline\" clients, specifically, who the clients are, where they are from, which plan they use, the number of calls made and SMS they sent in 2018. You have to analyse clients' behavior and work out the most profitable prepaid plan."
   ]
  },
  {
   "cell_type": "markdown",
   "metadata": {},
   "source": [
    "### Prepaid Plans Description\n",
    "Surf\n",
    "1.\tMonthly charge: \\\\$20\n",
    "2.\t500 monthly minutes, 50 SMS and 15 GB of web traffic\n",
    "3.\tAfter exceeding the package limits: \n",
    "    1. 1 minute: 3 cents (\"Megaline\" always rounds up the minute and megabyte values. If the call lasted just one second, it will be counted as one minute); \n",
    "    2. SMS: 3 cents; \n",
    "    3. 1 GB of web traffic: \\\\$10.\n",
    "\n",
    "Ultimate\n",
    "1.\tMonthly charge: 70 dollar\n",
    "2.\t3000 monthly minutes, 1000 SMS and 30 GB of web traffic\n",
    "3.\tAfter exceeding the package limits: \n",
    "    1. 1 minute: 1 cent; \n",
    "    2. SMS: 1 cent; \n",
    "    3. 1 GB of web traffic: \\\\$7.\n",
    "\n"
   ]
  },
  {
   "cell_type": "markdown",
   "metadata": {},
   "source": [
    "# Step 1. Open the data file and study the general information"
   ]
  },
  {
   "cell_type": "code",
   "execution_count": 1,
   "metadata": {},
   "outputs": [],
   "source": [
    "# import libraries\n",
    "\n",
    "import re\n",
    "import pandas as pd\n",
    "import numpy as np\n",
    "import matplotlib.pyplot as plt\n",
    "import seaborn as sns\n",
    "from scipy import stats as st\n",
    "pd.pandas.set_option('display.max_columns', None)"
   ]
  },
  {
   "cell_type": "code",
   "execution_count": 2,
   "metadata": {},
   "outputs": [
    {
     "name": "stdout",
     "output_type": "stream",
     "text": [
      "(137735, 4)\n",
      "(104825, 4)\n",
      "(76051, 3)\n",
      "(2, 8)\n",
      "(500, 8)\n"
     ]
    }
   ],
   "source": [
    "# import datasets\n",
    "\n",
    "call = pd.read_csv('/datasets/megaline_calls.csv')\n",
    "internet = pd.read_csv('/datasets/megaline_internet.csv')\n",
    "sms = pd.read_csv('/datasets/megaline_messages.csv')\n",
    "plan = pd.read_csv('/datasets/megaline_tariffs.csv')\n",
    "user = pd.read_csv('/datasets/megaline_users.csv')\n",
    "\n",
    "print(call.shape)\n",
    "print(internet.shape)\n",
    "print(sms.shape)\n",
    "print(plan.shape)\n",
    "print(user.shape)"
   ]
  },
  {
   "cell_type": "markdown",
   "metadata": {},
   "source": [
    "### Prepare for a series of transactional datasets"
   ]
  },
  {
   "cell_type": "code",
   "execution_count": 3,
   "metadata": {},
   "outputs": [],
   "source": [
    "# use the 'user' dataset as our base table, and create a column to represent the days has passed since first registration\n",
    "\n",
    "user['current_date'] = pd.datetime.now().date()\n",
    "user['current_date'] = pd.to_datetime(user['current_date'], format='%Y-%m-%d')\n",
    "user['reg_date'] = pd.to_datetime(user['reg_date'], format='%Y-%m-%d')\n",
    "user['days_passed'] = (user['current_date'] - user['reg_date']).dt.days\n",
    "user.drop(columns=['current_date','reg_date'], inplace=True)\n",
    "\n",
    "# sms transactional dataset\n",
    "\n",
    "user_sms = user.merge(sms)\n",
    "user_sms['sms_id'] = user_sms['id']\n",
    "user_sms.drop(columns='id', inplace=True)\n",
    "\n",
    "# internet transactional dataset\n",
    "\n",
    "user_internet = user.merge(internet)\n",
    "user_internet['session_id'] = user_internet['id']\n",
    "user_internet.drop(columns='id', inplace=True)\n",
    "\n",
    "# calls transactional dataset\n",
    "\n",
    "user_call = user.merge(call)\n",
    "user_call['call_id'] = user_call['id']\n",
    "user_call.drop(columns='id', inplace=True)"
   ]
  },
  {
   "cell_type": "markdown",
   "metadata": {},
   "source": [
    "### Summary\n",
    "- Here I noticed that there are multiple dataset given and they store different aspects of the information (call, sms, internet).\n",
    "- Intuitively thinking, we would need to join them in certain way. However, having looked at the shape of all datasets, we are confident to say the datasets can not be joined directly since they all have different dimensions. \n",
    "- I decided to use the 'user' table as a base table table since it has the most tidy format. The approach I choose is to prepare trasaction datasets first, then aggregate them in certain way so that each line record represent one person.\n",
    "- Eventually, append these transactional dataset to the base table to expend the dimension of information that it captures.\n",
    "- Transactional dataset is good for intermediate analysis (ad-hoc), such as using it to create pivot tables to provide quick statistics. While an anlytical dataset would be ideal, because of it's tidy format, to study population's true charateristics. "
   ]
  },
  {
   "cell_type": "markdown",
   "metadata": {},
   "source": [
    "<div class=\"alert alert-block alert-info\">\n",
    "<h2> Comments </h2>\n",
    "</div>\n",
    "\n",
    "Great :)\n",
    "\n",
    "------------"
   ]
  },
  {
   "cell_type": "markdown",
   "metadata": {},
   "source": [
    "# Step 2. Prepare the data"
   ]
  },
  {
   "cell_type": "markdown",
   "metadata": {},
   "source": [
    "### Preprocessing\n",
    "- Convert the data to the necessary types\n",
    "- Find and remove the errors in the data"
   ]
  },
  {
   "cell_type": "code",
   "execution_count": 4,
   "metadata": {},
   "outputs": [],
   "source": [
    "# convert id columns for each transactional dataset to integer\n",
    "\n",
    "user_call['user_id'] = user_call['user_id'].astype('int')\n",
    "user_internet['user_id'] = user_internet['user_id'].astype('int')\n",
    "user_sms['user_id'] = user_sms['user_id'].astype('int')"
   ]
  },
  {
   "cell_type": "code",
   "execution_count": 5,
   "metadata": {},
   "outputs": [
    {
     "name": "stdout",
     "output_type": "stream",
     "text": [
      "26834\n",
      "13747\n",
      "[]\n",
      "[]\n",
      "[]\n"
     ]
    }
   ],
   "source": [
    "# investigate the important numerical fields for internet use and making phone calls\n",
    "\n",
    "print(len(user_call.query('duration == 0')))\n",
    "print(len(user_internet.query('mb_used == 0')))\n",
    "\n",
    "# fillin the 0 mb and 0 durations with medians\n",
    "\n",
    "user_call.loc[user_call['duration'] == 0, 'duration'] = user_call['duration'].median()\n",
    "user_internet.loc[user_internet['mb_used'] == 0, 'mb_used'] = user_internet['mb_used'].median()\n",
    "\n",
    "# check for NA's\n",
    "\n",
    "print([var for var in user_sms.drop(columns='churn_date').columns if user_sms[var].isnull().sum()>1])\n",
    "print([var for var in user_internet.drop(columns='churn_date').columns if user_internet[var].isnull().sum()>1])\n",
    "print([var for var in user_call.drop(columns='churn_date').columns if user_call[var].isnull().sum()>1])"
   ]
  },
  {
   "cell_type": "code",
   "execution_count": 6,
   "metadata": {},
   "outputs": [],
   "source": [
    "# preprocess time variables\n",
    "\n",
    "user_sms['sms_month'] = pd.to_datetime(user_sms['message_date'], format='%Y-%m-%d').dt.month\n",
    "user_internet['session_month'] = pd.to_datetime(user_internet['session_date'], format='%Y-%m-%d').dt.month\n",
    "user_call['call_month'] = pd.to_datetime(user_call['call_date'], format='%Y-%m-%d').dt.month"
   ]
  },
  {
   "cell_type": "code",
   "execution_count": 7,
   "metadata": {},
   "outputs": [
    {
     "name": "stdout",
     "output_type": "stream",
     "text": [
      "0\n",
      "0\n",
      "0\n"
     ]
    }
   ],
   "source": [
    "# look for duplicates\n",
    "\n",
    "print(user_call.duplicated().sum())\n",
    "print(user_internet.duplicated().sum())\n",
    "print(user_sms.duplicated().sum())"
   ]
  },
  {
   "cell_type": "markdown",
   "metadata": {},
   "source": [
    "### Summary\n",
    "- All datasets' identifier field are converted to integer.\n",
    "- New 'sms_month', 'call_month', etc. are created to represent the month that a user made each phone, sms and internet session, the month information will be needed when creating pivot tables.\n",
    "- It's found that there are 0 durations and 0 mbs in the call transaction data and internet transaction data. This does make sense because the representaion of a record in those datasets indicates that there is a phone call being made or a internet session started. If a user did not use any internet or make any phone calls, then that user id would not appear in the call/internet transaction data at all.\n",
    "- I replaced all the 0 call minutes and internet sessions with the median of each group.\n",
    "- There is no duplicated data and no missing values overall."
   ]
  },
  {
   "cell_type": "markdown",
   "metadata": {},
   "source": [
    "<div class=\"alert alert-block alert-info\">\n",
    "<h2> Comments </h2>\n",
    "</div>\n",
    "\n",
    "Okay :)\n",
    "\n",
    "\n",
    "Please keep in mind 2 things that skewed up your analysis:\n",
    "1. Zero duration calls can appear because, for example, client called but didn't get a respond from the other side. So, the length of the call results in zero. The same thing for internet. It may be that client connected to the internet but used just a few bytes that resulted in 0.00 Mbytes due to rounding. Thus, filling nulls with median values increases real profit of the company :(\n",
    "\n",
    "2. By changing data type from float to int you just get rid of the float part and stay with the integer part of the value. If you want to round value to the closest integer, for example, you need to use `round()` function. Here it is very important to round all values up, because it is company's policy and buy getting rid of the float part you just cut consumption and company's real profit.\n",
    "\n",
    "------------"
   ]
  },
  {
   "cell_type": "markdown",
   "metadata": {},
   "source": [
    "### Prepare for a analytical dataset\n",
    "For each user, find:\n",
    "- The number of calls made and minutes spent per month;\n",
    "- The number of SMS sent per month;\n",
    "- The volume of web traffic per month;\n",
    "- The monthly profit from each of the users (subtract free package limit from the total number of calls, SMS and web traffic; multiply the result by plan's additional charge; add monthly charge depending on the calling plan)."
   ]
  },
  {
   "cell_type": "code",
   "execution_count": 8,
   "metadata": {},
   "outputs": [],
   "source": [
    "# create pivot tables\n",
    "\n",
    "user_call_pivot = user_call.pivot_table(index=['user_id', 'call_month'], values='duration', aggfunc=['count', 'sum'])\n",
    "user_sms_pivot = user_sms.pivot_table(index=['user_id', 'sms_month'], values='sms_id', aggfunc='count')\n",
    "user_internet_pivot = user_internet.pivot_table(index=['user_id', 'session_month'], values='mb_used', aggfunc='sum')\n",
    "\n",
    "# change column names\n",
    "\n",
    "user_call_pivot.columns = ['num_calls', 'total_duration']\n",
    "user_sms_pivot.columns = ['total_sms']\n",
    "user_internet_pivot.columns = ['total_mb']\n",
    "\n",
    "# convert multi-index to columns\n",
    "\n",
    "user_call_pivot.reset_index(drop=False, inplace=True)\n",
    "user_sms_pivot.reset_index(drop=False, inplace=True)\n",
    "user_internet_pivot.reset_index(drop=False, inplace=True)\n",
    "\n",
    "# add plan info\n",
    "\n",
    "user_call_pivot = user_call_pivot.merge(user)\n",
    "user_sms_pivot = user_sms_pivot.merge(user)\n",
    "user_internet_pivot = user_internet_pivot.merge(user)"
   ]
  },
  {
   "cell_type": "code",
   "execution_count": 9,
   "metadata": {},
   "outputs": [
    {
     "name": "stdout",
     "output_type": "stream",
     "text": [
      "[]\n",
      "[]\n",
      "[]\n"
     ]
    }
   ],
   "source": [
    "# calculate profits for addtional call minutes (unit: dollar, level: monthly)\n",
    "\n",
    "def call_profit(row):\n",
    "    x = row['tariff']\n",
    "    y = row['duration_left']\n",
    "    if x == 'ultimate':\n",
    "        if y > 0:\n",
    "            return y*0.01\n",
    "        else:\n",
    "            return 0\n",
    "    if x == 'surf':\n",
    "        if y > 0:\n",
    "            return y*0.03\n",
    "        else:\n",
    "            return 0\n",
    "\n",
    "user_call_pivot['duration_left'] = np.ceil(user_call_pivot.query('tariff == \"ultimate\"')['total_duration'] - 3000)\n",
    "user_call_pivot.loc[user_call_pivot['duration_left'].isnull(), 'duration_left'] = np.ceil(user_call_pivot.query('tariff == \"surf\"')['total_duration'] - 500)\n",
    "user_call_pivot['call_profit'] = user_call_pivot.apply(call_profit, axis=1)\n",
    "print([var for var in user_call_pivot.drop(columns='churn_date').columns if user_call_pivot[var].isnull().sum()>1]) # check NA's\n",
    "\n",
    "# calculate profits for additional internet (unit: dollar, level: monthly)\n",
    "\n",
    "def gb_profit(row):\n",
    "    x = row['tariff']\n",
    "    y = row['gb_left']\n",
    "    if x == 'ultimate':\n",
    "        if y > 0:\n",
    "            return y*7\n",
    "        else:\n",
    "            return 0\n",
    "    if x == 'surf':\n",
    "        if y > 0:\n",
    "            return y*10\n",
    "        else:\n",
    "            return 0\n",
    "\n",
    "user_internet_pivot['mb_left'] = user_internet_pivot.query('tariff == \"ultimate\"')['total_mb'] - 30000\n",
    "user_internet_pivot.loc[user_internet_pivot['mb_left'].isnull(), 'mb_left'] = user_internet_pivot.query('tariff == \"surf\"')['total_mb'] - 15000\n",
    "user_internet_pivot['gb_left'] = user_internet_pivot['mb_left'] / 1000 # converts to gb\n",
    "user_internet_pivot['gb_profit'] = user_internet_pivot.apply(gb_profit, axis=1)\n",
    "print([var for var in user_internet_pivot.drop(columns='churn_date').columns if user_internet_pivot[var].isnull().sum()>1]) # check NA's\n",
    "\n",
    "# calculate profits for additional message (unit: dollar, level: monthly)\n",
    "\n",
    "def sms_profit(row):\n",
    "    x = row['tariff']\n",
    "    y = row['sms_left']\n",
    "    if x == 'ultimate':\n",
    "        if y > 0:\n",
    "            return y*0.01\n",
    "        else:\n",
    "            return 0\n",
    "    if x == 'surf':\n",
    "        if y > 0:\n",
    "            return y*0.03\n",
    "        else:\n",
    "            return 0\n",
    "\n",
    "user_sms_pivot['sms_left'] = user_sms_pivot.query('tariff == \"ultimate\"')['total_sms'] - 1000\n",
    "user_sms_pivot.loc[user_sms_pivot['sms_left'].isnull(), 'sms_left'] = user_sms_pivot.query('tariff == \"surf\"')['total_sms'] - 50\n",
    "user_sms_pivot['sms_profit'] = user_sms_pivot.apply(sms_profit, axis=1)\n",
    "print([var for var in user_sms_pivot.drop(columns='churn_date').columns if user_sms_pivot[var].isnull().sum()>1]) # check NA's"
   ]
  },
  {
   "cell_type": "code",
   "execution_count": 10,
   "metadata": {},
   "outputs": [
    {
     "name": "stdout",
     "output_type": "stream",
     "text": [
      "[]\n"
     ]
    }
   ],
   "source": [
    "# expend the 'user' dataset to include profit data\n",
    "# profit unit: dollar \n",
    "# profit level: annual, monthly\n",
    "\n",
    "temp1 = user_call_pivot.groupby('user_id')['call_profit'].sum()\n",
    "temp2 = user_internet_pivot.groupby('user_id')['gb_profit'].sum()\n",
    "temp3 = user_sms_pivot.groupby('user_id')['sms_profit'].sum()\n",
    "\n",
    "user = user.join(temp1, on='user_id')\n",
    "user = user.join(temp2, on='user_id')\n",
    "user = user.join(temp3, on='user_id')\n",
    "del temp1, temp2, temp3\n",
    "\n",
    "user['call_profit'].fillna(value = 0, inplace=True)\n",
    "user['gb_profit'].fillna(value = 0, inplace=True)\n",
    "user['sms_profit'].fillna(value = 0, inplace=True)\n",
    "\n",
    "user['annual_profit'] = user.query('tariff == \"ultimate\"')[['call_profit','gb_profit','sms_profit']].apply(sum, axis=1) + (70*12)\n",
    "user.loc[user['annual_profit'].isnull(), 'annual_profit'] = user.query('tariff == \"surf\"')[['call_profit','gb_profit','sms_profit']].apply(sum, axis=1) + (20*12)\n",
    "user['monthly_profit'] = user['annual_profit'] / 12\n",
    "\n",
    "print([var for var in user.drop(columns='churn_date').columns if user[var].isnull().sum()>1]) # check NA's"
   ]
  },
  {
   "cell_type": "code",
   "execution_count": 11,
   "metadata": {},
   "outputs": [
    {
     "name": "stdout",
     "output_type": "stream",
     "text": [
      "[]\n"
     ]
    }
   ],
   "source": [
    "# expend the 'user' dataset to include monthly data useage for each user\n",
    "\n",
    "temp1 = user_call_pivot.groupby('user_id')[['total_duration', 'num_calls']].sum()\n",
    "temp2 = user_internet_pivot.groupby('user_id')['total_mb'].sum()\n",
    "temp3 = user_sms_pivot.groupby('user_id')['total_sms'].sum()\n",
    "\n",
    "user = user.join(temp1, on='user_id')\n",
    "user = user.join(temp2, on='user_id')\n",
    "user = user.join(temp3, on='user_id')\n",
    "del temp1, temp2, temp3\n",
    "\n",
    "user['total_duration'].fillna(value = 0, inplace=True)\n",
    "user['num_calls'].fillna(value = 0, inplace=True)\n",
    "user['total_mb'].fillna(value = 0, inplace=True)\n",
    "user['total_sms'].fillna(value = 0, inplace=True)\n",
    "\n",
    "user['monthly_duration'] = user['total_duration'] / 12\n",
    "user['monthly_calls'] = user['num_calls'] / 12\n",
    "user['monthly_mb'] = user['total_mb'] / 12\n",
    "user['monthly_sms'] = user['total_sms'] / 12\n",
    "\n",
    "print([var for var in user.drop(columns='churn_date').columns if user[var].isnull().sum()>1]) # check NA's"
   ]
  },
  {
   "cell_type": "code",
   "execution_count": 12,
   "metadata": {},
   "outputs": [
    {
     "data": {
      "text/html": [
       "<div>\n",
       "<style scoped>\n",
       "    .dataframe tbody tr th:only-of-type {\n",
       "        vertical-align: middle;\n",
       "    }\n",
       "\n",
       "    .dataframe tbody tr th {\n",
       "        vertical-align: top;\n",
       "    }\n",
       "\n",
       "    .dataframe thead th {\n",
       "        text-align: right;\n",
       "    }\n",
       "</style>\n",
       "<table border=\"1\" class=\"dataframe\">\n",
       "  <thead>\n",
       "    <tr style=\"text-align: right;\">\n",
       "      <th></th>\n",
       "      <th>user_id</th>\n",
       "      <th>first_name</th>\n",
       "      <th>last_name</th>\n",
       "      <th>age</th>\n",
       "      <th>city</th>\n",
       "      <th>tariff</th>\n",
       "      <th>churn_date</th>\n",
       "      <th>days_passed</th>\n",
       "      <th>call_profit</th>\n",
       "      <th>gb_profit</th>\n",
       "      <th>sms_profit</th>\n",
       "      <th>annual_profit</th>\n",
       "      <th>monthly_profit</th>\n",
       "      <th>total_duration</th>\n",
       "      <th>num_calls</th>\n",
       "      <th>total_mb</th>\n",
       "      <th>total_sms</th>\n",
       "      <th>monthly_duration</th>\n",
       "      <th>monthly_calls</th>\n",
       "      <th>monthly_mb</th>\n",
       "      <th>monthly_sms</th>\n",
       "    </tr>\n",
       "  </thead>\n",
       "  <tbody>\n",
       "    <tr>\n",
       "      <td>0</td>\n",
       "      <td>1000</td>\n",
       "      <td>Anamaria</td>\n",
       "      <td>Bauer</td>\n",
       "      <td>45</td>\n",
       "      <td>Atlanta-Sandy Springs-Roswell, GA MSA</td>\n",
       "      <td>ultimate</td>\n",
       "      <td>NaN</td>\n",
       "      <td>448</td>\n",
       "      <td>0.00</td>\n",
       "      <td>0.0000</td>\n",
       "      <td>0.00</td>\n",
       "      <td>840.0000</td>\n",
       "      <td>70.000000</td>\n",
       "      <td>116.83</td>\n",
       "      <td>16.0</td>\n",
       "      <td>2245.45</td>\n",
       "      <td>11.0</td>\n",
       "      <td>9.735833</td>\n",
       "      <td>1.333333</td>\n",
       "      <td>187.120833</td>\n",
       "      <td>0.916667</td>\n",
       "    </tr>\n",
       "    <tr>\n",
       "      <td>1</td>\n",
       "      <td>1001</td>\n",
       "      <td>Mickey</td>\n",
       "      <td>Wilkerson</td>\n",
       "      <td>28</td>\n",
       "      <td>Seattle-Tacoma-Bellevue, WA MSA</td>\n",
       "      <td>surf</td>\n",
       "      <td>NaN</td>\n",
       "      <td>581</td>\n",
       "      <td>0.00</td>\n",
       "      <td>241.8217</td>\n",
       "      <td>0.09</td>\n",
       "      <td>481.9117</td>\n",
       "      <td>40.159308</td>\n",
       "      <td>1993.28</td>\n",
       "      <td>261.0</td>\n",
       "      <td>92477.24</td>\n",
       "      <td>207.0</td>\n",
       "      <td>166.106667</td>\n",
       "      <td>21.750000</td>\n",
       "      <td>7706.436667</td>\n",
       "      <td>17.250000</td>\n",
       "    </tr>\n",
       "    <tr>\n",
       "      <td>2</td>\n",
       "      <td>1002</td>\n",
       "      <td>Carlee</td>\n",
       "      <td>Hoffman</td>\n",
       "      <td>36</td>\n",
       "      <td>Las Vegas-Henderson-Paradise, NV MSA</td>\n",
       "      <td>surf</td>\n",
       "      <td>NaN</td>\n",
       "      <td>512</td>\n",
       "      <td>0.00</td>\n",
       "      <td>113.0888</td>\n",
       "      <td>0.00</td>\n",
       "      <td>353.0888</td>\n",
       "      <td>29.424067</td>\n",
       "      <td>890.75</td>\n",
       "      <td>113.0</td>\n",
       "      <td>49924.77</td>\n",
       "      <td>88.0</td>\n",
       "      <td>74.229167</td>\n",
       "      <td>9.416667</td>\n",
       "      <td>4160.397500</td>\n",
       "      <td>7.333333</td>\n",
       "    </tr>\n",
       "    <tr>\n",
       "      <td>3</td>\n",
       "      <td>1003</td>\n",
       "      <td>Reynaldo</td>\n",
       "      <td>Jenkins</td>\n",
       "      <td>52</td>\n",
       "      <td>Tulsa, OK MSA</td>\n",
       "      <td>surf</td>\n",
       "      <td>NaN</td>\n",
       "      <td>778</td>\n",
       "      <td>21.81</td>\n",
       "      <td>123.8812</td>\n",
       "      <td>0.00</td>\n",
       "      <td>385.6912</td>\n",
       "      <td>32.140933</td>\n",
       "      <td>1226.38</td>\n",
       "      <td>149.0</td>\n",
       "      <td>27388.12</td>\n",
       "      <td>50.0</td>\n",
       "      <td>102.198333</td>\n",
       "      <td>12.416667</td>\n",
       "      <td>2282.343333</td>\n",
       "      <td>4.166667</td>\n",
       "    </tr>\n",
       "    <tr>\n",
       "      <td>4</td>\n",
       "      <td>1004</td>\n",
       "      <td>Leonila</td>\n",
       "      <td>Thompson</td>\n",
       "      <td>40</td>\n",
       "      <td>Seattle-Tacoma-Bellevue, WA MSA</td>\n",
       "      <td>surf</td>\n",
       "      <td>NaN</td>\n",
       "      <td>663</td>\n",
       "      <td>0.21</td>\n",
       "      <td>651.0042</td>\n",
       "      <td>0.00</td>\n",
       "      <td>891.2142</td>\n",
       "      <td>74.267850</td>\n",
       "      <td>3001.67</td>\n",
       "      <td>370.0</td>\n",
       "      <td>177679.57</td>\n",
       "      <td>177.0</td>\n",
       "      <td>250.139167</td>\n",
       "      <td>30.833333</td>\n",
       "      <td>14806.630833</td>\n",
       "      <td>14.750000</td>\n",
       "    </tr>\n",
       "  </tbody>\n",
       "</table>\n",
       "</div>"
      ],
      "text/plain": [
       "   user_id first_name  last_name  age                                   city  \\\n",
       "0     1000   Anamaria      Bauer   45  Atlanta-Sandy Springs-Roswell, GA MSA   \n",
       "1     1001     Mickey  Wilkerson   28        Seattle-Tacoma-Bellevue, WA MSA   \n",
       "2     1002     Carlee    Hoffman   36   Las Vegas-Henderson-Paradise, NV MSA   \n",
       "3     1003   Reynaldo    Jenkins   52                          Tulsa, OK MSA   \n",
       "4     1004    Leonila   Thompson   40        Seattle-Tacoma-Bellevue, WA MSA   \n",
       "\n",
       "     tariff churn_date  days_passed  call_profit  gb_profit  sms_profit  \\\n",
       "0  ultimate        NaN          448         0.00     0.0000        0.00   \n",
       "1      surf        NaN          581         0.00   241.8217        0.09   \n",
       "2      surf        NaN          512         0.00   113.0888        0.00   \n",
       "3      surf        NaN          778        21.81   123.8812        0.00   \n",
       "4      surf        NaN          663         0.21   651.0042        0.00   \n",
       "\n",
       "   annual_profit  monthly_profit  total_duration  num_calls   total_mb  \\\n",
       "0       840.0000       70.000000          116.83       16.0    2245.45   \n",
       "1       481.9117       40.159308         1993.28      261.0   92477.24   \n",
       "2       353.0888       29.424067          890.75      113.0   49924.77   \n",
       "3       385.6912       32.140933         1226.38      149.0   27388.12   \n",
       "4       891.2142       74.267850         3001.67      370.0  177679.57   \n",
       "\n",
       "   total_sms  monthly_duration  monthly_calls    monthly_mb  monthly_sms  \n",
       "0       11.0          9.735833       1.333333    187.120833     0.916667  \n",
       "1      207.0        166.106667      21.750000   7706.436667    17.250000  \n",
       "2       88.0         74.229167       9.416667   4160.397500     7.333333  \n",
       "3       50.0        102.198333      12.416667   2282.343333     4.166667  \n",
       "4      177.0        250.139167      30.833333  14806.630833    14.750000  "
      ]
     },
     "execution_count": 12,
     "metadata": {},
     "output_type": "execute_result"
    }
   ],
   "source": [
    "user.head()"
   ]
  },
  {
   "cell_type": "code",
   "execution_count": 13,
   "metadata": {},
   "outputs": [
    {
     "data": {
      "text/html": [
       "<div>\n",
       "<style scoped>\n",
       "    .dataframe tbody tr th:only-of-type {\n",
       "        vertical-align: middle;\n",
       "    }\n",
       "\n",
       "    .dataframe tbody tr th {\n",
       "        vertical-align: top;\n",
       "    }\n",
       "\n",
       "    .dataframe thead th {\n",
       "        text-align: right;\n",
       "    }\n",
       "</style>\n",
       "<table border=\"1\" class=\"dataframe\">\n",
       "  <thead>\n",
       "    <tr style=\"text-align: right;\">\n",
       "      <th></th>\n",
       "      <th>user_id</th>\n",
       "      <th>age</th>\n",
       "      <th>days_passed</th>\n",
       "      <th>call_profit</th>\n",
       "      <th>gb_profit</th>\n",
       "      <th>sms_profit</th>\n",
       "      <th>annual_profit</th>\n",
       "      <th>monthly_profit</th>\n",
       "      <th>total_duration</th>\n",
       "      <th>num_calls</th>\n",
       "      <th>total_mb</th>\n",
       "      <th>total_sms</th>\n",
       "      <th>monthly_duration</th>\n",
       "      <th>monthly_calls</th>\n",
       "      <th>monthly_mb</th>\n",
       "      <th>monthly_sms</th>\n",
       "    </tr>\n",
       "  </thead>\n",
       "  <tbody>\n",
       "    <tr>\n",
       "      <td>count</td>\n",
       "      <td>500.000000</td>\n",
       "      <td>500.000000</td>\n",
       "      <td>500.000000</td>\n",
       "      <td>500.000000</td>\n",
       "      <td>500.000000</td>\n",
       "      <td>500.000000</td>\n",
       "      <td>500.000000</td>\n",
       "      <td>500.000000</td>\n",
       "      <td>500.00000</td>\n",
       "      <td>500.00000</td>\n",
       "      <td>500.000000</td>\n",
       "      <td>500.000000</td>\n",
       "      <td>500.000000</td>\n",
       "      <td>500.000000</td>\n",
       "      <td>500.000000</td>\n",
       "      <td>500.000000</td>\n",
       "    </tr>\n",
       "    <tr>\n",
       "      <td>mean</td>\n",
       "      <td>1249.500000</td>\n",
       "      <td>45.486000</td>\n",
       "      <td>630.312000</td>\n",
       "      <td>8.357460</td>\n",
       "      <td>178.581867</td>\n",
       "      <td>0.661860</td>\n",
       "      <td>620.801187</td>\n",
       "      <td>51.733432</td>\n",
       "      <td>2179.23516</td>\n",
       "      <td>275.47000</td>\n",
       "      <td>86338.913540</td>\n",
       "      <td>152.102000</td>\n",
       "      <td>181.602930</td>\n",
       "      <td>22.955833</td>\n",
       "      <td>7194.909462</td>\n",
       "      <td>12.675167</td>\n",
       "    </tr>\n",
       "    <tr>\n",
       "      <td>std</td>\n",
       "      <td>144.481833</td>\n",
       "      <td>16.972269</td>\n",
       "      <td>104.997427</td>\n",
       "      <td>20.050548</td>\n",
       "      <td>269.991645</td>\n",
       "      <td>2.316932</td>\n",
       "      <td>298.847517</td>\n",
       "      <td>24.903960</td>\n",
       "      <td>1901.56179</td>\n",
       "      <td>239.94608</td>\n",
       "      <td>68084.111413</td>\n",
       "      <td>187.988177</td>\n",
       "      <td>158.463482</td>\n",
       "      <td>19.995507</td>\n",
       "      <td>5673.675951</td>\n",
       "      <td>15.665681</td>\n",
       "    </tr>\n",
       "    <tr>\n",
       "      <td>min</td>\n",
       "      <td>1000.000000</td>\n",
       "      <td>18.000000</td>\n",
       "      <td>441.000000</td>\n",
       "      <td>0.000000</td>\n",
       "      <td>0.000000</td>\n",
       "      <td>0.000000</td>\n",
       "      <td>240.000000</td>\n",
       "      <td>20.000000</td>\n",
       "      <td>0.00000</td>\n",
       "      <td>0.00000</td>\n",
       "      <td>0.000000</td>\n",
       "      <td>0.000000</td>\n",
       "      <td>0.000000</td>\n",
       "      <td>0.000000</td>\n",
       "      <td>0.000000</td>\n",
       "      <td>0.000000</td>\n",
       "    </tr>\n",
       "    <tr>\n",
       "      <td>25%</td>\n",
       "      <td>1124.750000</td>\n",
       "      <td>30.000000</td>\n",
       "      <td>542.750000</td>\n",
       "      <td>0.000000</td>\n",
       "      <td>0.000000</td>\n",
       "      <td>0.000000</td>\n",
       "      <td>340.994150</td>\n",
       "      <td>28.416179</td>\n",
       "      <td>708.65750</td>\n",
       "      <td>91.50000</td>\n",
       "      <td>29149.770000</td>\n",
       "      <td>14.000000</td>\n",
       "      <td>59.054792</td>\n",
       "      <td>7.625000</td>\n",
       "      <td>2429.147500</td>\n",
       "      <td>1.166667</td>\n",
       "    </tr>\n",
       "    <tr>\n",
       "      <td>50%</td>\n",
       "      <td>1249.500000</td>\n",
       "      <td>46.000000</td>\n",
       "      <td>635.000000</td>\n",
       "      <td>0.000000</td>\n",
       "      <td>56.486295</td>\n",
       "      <td>0.000000</td>\n",
       "      <td>596.583450</td>\n",
       "      <td>49.715287</td>\n",
       "      <td>1627.54000</td>\n",
       "      <td>209.50000</td>\n",
       "      <td>69443.100000</td>\n",
       "      <td>87.000000</td>\n",
       "      <td>135.628333</td>\n",
       "      <td>17.458333</td>\n",
       "      <td>5786.925000</td>\n",
       "      <td>7.250000</td>\n",
       "    </tr>\n",
       "    <tr>\n",
       "      <td>75%</td>\n",
       "      <td>1374.250000</td>\n",
       "      <td>61.000000</td>\n",
       "      <td>721.250000</td>\n",
       "      <td>7.755000</td>\n",
       "      <td>263.098650</td>\n",
       "      <td>0.000000</td>\n",
       "      <td>840.000000</td>\n",
       "      <td>70.000000</td>\n",
       "      <td>3200.89750</td>\n",
       "      <td>407.25000</td>\n",
       "      <td>130664.547500</td>\n",
       "      <td>225.000000</td>\n",
       "      <td>266.741458</td>\n",
       "      <td>33.937500</td>\n",
       "      <td>10888.712292</td>\n",
       "      <td>18.750000</td>\n",
       "    </tr>\n",
       "    <tr>\n",
       "      <td>max</td>\n",
       "      <td>1499.000000</td>\n",
       "      <td>75.000000</td>\n",
       "      <td>805.000000</td>\n",
       "      <td>176.010000</td>\n",
       "      <td>1687.102800</td>\n",
       "      <td>24.360000</td>\n",
       "      <td>1947.292800</td>\n",
       "      <td>162.274400</td>\n",
       "      <td>10361.56000</td>\n",
       "      <td>1300.00000</td>\n",
       "      <td>399446.810000</td>\n",
       "      <td>1288.000000</td>\n",
       "      <td>863.463333</td>\n",
       "      <td>108.333333</td>\n",
       "      <td>33287.234167</td>\n",
       "      <td>107.333333</td>\n",
       "    </tr>\n",
       "  </tbody>\n",
       "</table>\n",
       "</div>"
      ],
      "text/plain": [
       "           user_id         age  days_passed  call_profit    gb_profit  \\\n",
       "count   500.000000  500.000000   500.000000   500.000000   500.000000   \n",
       "mean   1249.500000   45.486000   630.312000     8.357460   178.581867   \n",
       "std     144.481833   16.972269   104.997427    20.050548   269.991645   \n",
       "min    1000.000000   18.000000   441.000000     0.000000     0.000000   \n",
       "25%    1124.750000   30.000000   542.750000     0.000000     0.000000   \n",
       "50%    1249.500000   46.000000   635.000000     0.000000    56.486295   \n",
       "75%    1374.250000   61.000000   721.250000     7.755000   263.098650   \n",
       "max    1499.000000   75.000000   805.000000   176.010000  1687.102800   \n",
       "\n",
       "       sms_profit  annual_profit  monthly_profit  total_duration   num_calls  \\\n",
       "count  500.000000     500.000000      500.000000       500.00000   500.00000   \n",
       "mean     0.661860     620.801187       51.733432      2179.23516   275.47000   \n",
       "std      2.316932     298.847517       24.903960      1901.56179   239.94608   \n",
       "min      0.000000     240.000000       20.000000         0.00000     0.00000   \n",
       "25%      0.000000     340.994150       28.416179       708.65750    91.50000   \n",
       "50%      0.000000     596.583450       49.715287      1627.54000   209.50000   \n",
       "75%      0.000000     840.000000       70.000000      3200.89750   407.25000   \n",
       "max     24.360000    1947.292800      162.274400     10361.56000  1300.00000   \n",
       "\n",
       "            total_mb    total_sms  monthly_duration  monthly_calls  \\\n",
       "count     500.000000   500.000000        500.000000     500.000000   \n",
       "mean    86338.913540   152.102000        181.602930      22.955833   \n",
       "std     68084.111413   187.988177        158.463482      19.995507   \n",
       "min         0.000000     0.000000          0.000000       0.000000   \n",
       "25%     29149.770000    14.000000         59.054792       7.625000   \n",
       "50%     69443.100000    87.000000        135.628333      17.458333   \n",
       "75%    130664.547500   225.000000        266.741458      33.937500   \n",
       "max    399446.810000  1288.000000        863.463333     108.333333   \n",
       "\n",
       "         monthly_mb  monthly_sms  \n",
       "count    500.000000   500.000000  \n",
       "mean    7194.909462    12.675167  \n",
       "std     5673.675951    15.665681  \n",
       "min        0.000000     0.000000  \n",
       "25%     2429.147500     1.166667  \n",
       "50%     5786.925000     7.250000  \n",
       "75%    10888.712292    18.750000  \n",
       "max    33287.234167   107.333333  "
      ]
     },
     "execution_count": 13,
     "metadata": {},
     "output_type": "execute_result"
    }
   ],
   "source": [
    "user.describe()"
   ]
  },
  {
   "cell_type": "markdown",
   "metadata": {},
   "source": [
    "### Summary\n",
    "- First, create pivot tables for the users who did show up in our transactional dataset and calculate their total data usage for the month if they make any phone calls, sms, and/or internet sessions.\n",
    "- Next, determine whether their usage exceeds the monthly plan limits. Then calculate charges for their additional usage. \n",
    "- Lastly, append users' annual/monthly charges along with their montly data usage to the user table."
   ]
  },
  {
   "cell_type": "markdown",
   "metadata": {},
   "source": [
    "<div class=\"alert alert-block alert-info\">\n",
    "<h2> Comments </h2>\n",
    "</div>\n",
    "\n",
    "Great :)\n",
    "\n",
    "------------"
   ]
  },
  {
   "cell_type": "markdown",
   "metadata": {},
   "source": [
    "# Step 3. Analyze the data\n",
    "Describe the clients' behavior. For the users from each plans:\n",
    "- Find the number of minutes and SMS and the volume of web traffic they require per month. \n",
    "- Calculate the mean, dispersion and standard deviation. \n",
    "- Plot histograms. \n",
    "- Describe the distributions."
   ]
  },
  {
   "cell_type": "code",
   "execution_count": 14,
   "metadata": {},
   "outputs": [
    {
     "name": "stdout",
     "output_type": "stream",
     "text": [
      "For ultimate plan users, the monthly average call usage is: 178.0 minutes\n",
      "For ultimate plan users, the monthly average call usage is: 23.0 calls\n",
      "For ultimate plan users, the monthly average mb usage is: 7170.0 mb\n",
      "For ultimate plan users, the monthly average sms usage is: 14.0 sms \n",
      "\n",
      "For ultimate plan users, the call usage variance is: 24787.0 minutes\n",
      "For ultimate plan users, the call usage variance is: 398.0 calls\n",
      "For ultimate plan users, the mb usage variance is: 35667821.0 mb\n",
      "For ultimate plan users, the sms usage variance is: 272.0 sms \n",
      "\n",
      "For ultimate plan users, the call usage std is: 157.0 minutes\n",
      "For ultimate plan users, the call usage std is: 20.0 calls\n",
      "For ultimate plan users, the mb usage std is: 5972.0 mb\n",
      "For ultimate plan users, the sms usage std is: 16.0 sms \n",
      "\n",
      "For surf plan users, the monthly average call usage is: 183.0 minutes\n",
      "For surf plan users, the monthly average call usage is: 23.0 calls\n",
      "For surf plan users, the monthly average mb usage is: 7207.0 mb\n",
      "For surf plan users, the monthly average sms usage is: 12.0 sms \n",
      "\n",
      "For surf plan users, the call usage variance is: 25182.0 minutes\n",
      "For surf plan users, the call usage variance is: 400.0 calls\n",
      "For surf plan users, the mb usage variance is: 30443794.0 mb\n",
      "For surf plan users, the sms usage variance is: 231.0 sms \n",
      "\n",
      "For surf plan users, the call usage std is: 159.0 minutes\n",
      "For surf plan users, the call usage std is: 20.0 calls\n",
      "For surf plan users, the mb usage std is: 5518.0 mb\n",
      "For surf plan users, the sms usage std is: 15.0 sms\n"
     ]
    }
   ],
   "source": [
    "# for each population, calculate the mean, variance, and standard deviation from users' monthly usage data\n",
    "\n",
    "print('For ultimate plan users, the monthly average call usage is:', round(user.query('tariff == \"ultimate\"')['monthly_duration'].mean(),0),'minutes')\n",
    "print('For ultimate plan users, the monthly average call usage is:', round(user.query('tariff == \"ultimate\"')['monthly_calls'].mean(),0),'calls')\n",
    "print('For ultimate plan users, the monthly average mb usage is:', round(user.query('tariff == \"ultimate\"')['monthly_mb'].mean(),0),'mb')\n",
    "print('For ultimate plan users, the monthly average sms usage is:', round(user.query('tariff == \"ultimate\"')['monthly_sms'].mean(),0),'sms','\\n')\n",
    "\n",
    "print('For ultimate plan users, the call usage variance is:', round(np.var(user.query('tariff == \"ultimate\"')['monthly_duration']),0),'minutes')\n",
    "print('For ultimate plan users, the call usage variance is:', round(np.var(user.query('tariff == \"ultimate\"')['monthly_calls']),0),'calls')\n",
    "print('For ultimate plan users, the mb usage variance is:', round(np.var(user.query('tariff == \"ultimate\"')['monthly_mb']),0),'mb')\n",
    "print('For ultimate plan users, the sms usage variance is:', round(np.var(user.query('tariff == \"ultimate\"')['monthly_sms']),0),'sms','\\n')\n",
    "\n",
    "print('For ultimate plan users, the call usage std is:', round(np.std(user.query('tariff == \"ultimate\"')['monthly_duration']),0),'minutes')\n",
    "print('For ultimate plan users, the call usage std is:', round(np.std(user.query('tariff == \"ultimate\"')['monthly_calls']),0),'calls')\n",
    "print('For ultimate plan users, the mb usage std is:', round(np.std(user.query('tariff == \"ultimate\"')['monthly_mb']),0),'mb')\n",
    "print('For ultimate plan users, the sms usage std is:', round(np.std(user.query('tariff == \"ultimate\"')['monthly_sms']),0),'sms','\\n')\n",
    "\n",
    "print('For surf plan users, the monthly average call usage is:', round(user.query('tariff == \"surf\"')['monthly_duration'].mean(),0),'minutes')\n",
    "print('For surf plan users, the monthly average call usage is:', round(user.query('tariff == \"surf\"')['monthly_calls'].mean(),0),'calls')\n",
    "print('For surf plan users, the monthly average mb usage is:', round(user.query('tariff == \"surf\"')['monthly_mb'].mean(),0),'mb')\n",
    "print('For surf plan users, the monthly average sms usage is:', round(user.query('tariff == \"surf\"')['monthly_sms'].mean(),0),'sms', '\\n')\n",
    "\n",
    "print('For surf plan users, the call usage variance is:', round(np.var(user.query('tariff == \"surf\"')['monthly_duration']),0),'minutes')\n",
    "print('For surf plan users, the call usage variance is:', round(np.var(user.query('tariff == \"surf\"')['monthly_calls']),0),'calls')\n",
    "print('For surf plan users, the mb usage variance is:', round(np.var(user.query('tariff == \"surf\"')['monthly_mb']),0),'mb')\n",
    "print('For surf plan users, the sms usage variance is:', round(np.var(user.query('tariff == \"surf\"')['monthly_sms']),0),'sms','\\n')\n",
    "\n",
    "print('For surf plan users, the call usage std is:', round(np.std(user.query('tariff == \"surf\"')['monthly_duration']),0),'minutes')\n",
    "print('For surf plan users, the call usage std is:', round(np.std(user.query('tariff == \"surf\"')['monthly_calls']),0),'calls')\n",
    "print('For surf plan users, the mb usage std is:', round(np.std(user.query('tariff == \"surf\"')['monthly_mb']),0),'mb')\n",
    "print('For surf plan users, the sms usage std is:', round(np.std(user.query('tariff == \"surf\"')['monthly_sms']),0),'sms')"
   ]
  },
  {
   "cell_type": "code",
   "execution_count": 15,
   "metadata": {
    "scrolled": false
   },
   "outputs": [
    {
     "data": {
      "image/png": "[encoded data removed]",
      "text/plain": [
       "<Figure size 432x288 with 1 Axes>"
      ]
     },
     "metadata": {
      "needs_background": "light"
     },
     "output_type": "display_data"
    },
    {
     "data": {
      "image/png": "[encoded data removed]",
      "text/plain": [
       "<Figure size 432x288 with 1 Axes>"
      ]
     },
     "metadata": {
      "needs_background": "light"
     },
     "output_type": "display_data"
    },
    {
     "data": {
      "image/png": "[encoded data removed]",
      "text/plain": [
       "<Figure size 432x288 with 1 Axes>"
      ]
     },
     "metadata": {
      "needs_background": "light"
     },
     "output_type": "display_data"
    },
    {
     "data": {
      "image/png": "[encoded data removed]",
      "text/plain": [
       "<Figure size 432x288 with 1 Axes>"
      ]
     },
     "metadata": {
      "needs_background": "light"
     },
     "output_type": "display_data"
    },
    {
     "data": {
      "image/png": "[encoded data removed]",
      "text/plain": [
       "<Figure size 432x288 with 1 Axes>"
      ]
     },
     "metadata": {
      "needs_background": "light"
     },
     "output_type": "display_data"
    },
    {
     "data": {
      "image/png": "[encoded data removed]",
      "text/plain": [
       "<Figure size 432x288 with 1 Axes>"
      ]
     },
     "metadata": {
      "needs_background": "light"
     },
     "output_type": "display_data"
    },
    {
     "data": {
      "image/png": "[encoded data removed]",
      "text/plain": [
       "<Figure size 432x288 with 1 Axes>"
      ]
     },
     "metadata": {
      "needs_background": "light"
     },
     "output_type": "display_data"
    },
    {
     "data": {
      "image/png": "[encoded data removed]",
      "text/plain": [
       "<Figure size 432x288 with 1 Axes>"
      ]
     },
     "metadata": {
      "needs_background": "light"
     },
     "output_type": "display_data"
    }
   ],
   "source": [
    "# plot histograms for each population\n",
    "\n",
    "for name, group_data in user.groupby('tariff'):\n",
    "    for each in ['monthly_duration', 'monthly_calls', 'monthly_mb', 'monthly_sms']:\n",
    "        group_data.plot(y=each, title=each+'_'+name, kind='hist')"
   ]
  },
  {
   "cell_type": "markdown",
   "metadata": {},
   "source": [
    "### Summary\n",
    "- For the ultimate plan users:\n",
    "    - The average call duration is 178 minutes per month.\n",
    "    - The average number of call made is 23 calls per month.\n",
    "    - The average volume of internet traffic is 7170 mb per month.\n",
    "    - The average number of sms usage is 14 per month.\n",
    "- For the surf plan users:\n",
    "    - The average call duration is 183 minutes per month.\n",
    "    - The average call usage is 23.0 calls per month.\n",
    "    - The average mb usage is 7207.0 mb per month.\n",
    "    - The average sms usage is 12.0 sms per month.\n",
    "- If we look at the data usage distributions for each user:\n",
    "    - All distrubtions are Poisson distribution with a low lambda value\n",
    "    - For Poisson distribution, the lambda value equals to the corrosponding variable and also its variance."
   ]
  },
  {
   "cell_type": "markdown",
   "metadata": {},
   "source": [
    "<div class=\"alert alert-block alert-info\">\n",
    "<h2> Comments </h2>\n",
    "</div>\n",
    "\n",
    "Great :)\n",
    "\n",
    "It would be better to plot corresponding values for 2 plans on the same graph. It would make it easier to compare these plans. \n",
    "\n",
    "------------"
   ]
  },
  {
   "cell_type": "markdown",
   "metadata": {},
   "source": [
    "# Step 4. Test the hypotheses\n",
    "- The average profit from the users of Ultimate and Surf calling plans is different;\n",
    "- The average profit from the users in NY-NJ area is different from that of the users from other regions.\n",
    "- Explain how you formulated the null and alternative hypotheses;\n",
    "- Explain what criterion you used for testing the hypotheses and why."
   ]
  },
  {
   "cell_type": "code",
   "execution_count": 16,
   "metadata": {},
   "outputs": [
    {
     "name": "stdout",
     "output_type": "stream",
     "text": [
      "Have sufficient significance to reject the null hypothesis, hence Var(ultimate) != Var(surf) \n",
      "\n",
      "p-value: 1.733800040208871e-62\n",
      "Have sufficient significance to reject the null hypothesis, hence the avg profits for two population are different\n"
     ]
    }
   ],
   "source": [
    "# test for equal variance\n",
    "\n",
    "temp1 = user.query('tariff == \"ultimate\"')['monthly_profit']\n",
    "temp2 = user.query('tariff == \"surf\"')['monthly_profit']\n",
    "\n",
    "F = np.var(temp1) / np.var(temp2)\n",
    "df1,df2 = len(temp1) - 1, len(temp2) - 1\n",
    "p_value = st.f.cdf(F, df1, df2)\n",
    "alpha = 0.05\n",
    "\n",
    "if p_value > alpha:\n",
    "    print('Failed to reject the null hypothesis, hence Var(ultimate) == Var(surf)', '\\n')\n",
    "else:\n",
    "    print('Have sufficient significance to reject the null hypothesis, hence Var(ultimate) != Var(surf)', '\\n')\n",
    "\n",
    "# hpothesis testing - average profit (monthly) of all users from each plan\n",
    "\n",
    "results = st.ttest_ind(temp1, temp2, equal_var=False)\n",
    "print('p-value:', results.pvalue)\n",
    "if results.pvalue < alpha:\n",
    "      print('Have sufficient significance to reject the null hypothesis, hence the avg profits for two population are different')\n",
    "else:\n",
    "      print('Failed to reject the null hypothesis, hence the avg profits of two population is the same')\n",
    "del temp1, temp2"
   ]
  },
  {
   "cell_type": "code",
   "execution_count": 17,
   "metadata": {},
   "outputs": [],
   "source": [
    "# find NY-NJ area \n",
    "\n",
    "pattern = re.compile(r'\\b[A-Z]{2}\\b')\n",
    "state = []\n",
    "\n",
    "for each in user['city']:\n",
    "    temp = pattern.findall(each)\n",
    "    state.append(temp)\n",
    "\n",
    "temp = pd.DataFrame.from_records(state)\n",
    "user = pd.concat([user, temp], axis=1)\n",
    "user.rename(columns={0:'state1', 1:'state2', 2:'state3', 3:'state4'}, inplace=True)\n",
    "del temp"
   ]
  },
  {
   "cell_type": "code",
   "execution_count": 18,
   "metadata": {
    "scrolled": true
   },
   "outputs": [
    {
     "name": "stdout",
     "output_type": "stream",
     "text": [
      "Failed to reject the null hypothesis, hence Var(ultimate) == Var(surf) \n",
      "\n",
      "p-value: 0.8139507320977057\n",
      "Failed to reject the null hypothesis, hence the avg profits of two population is the same\n"
     ]
    }
   ],
   "source": [
    "# test for equal variance\n",
    "\n",
    "temp1 = user.query('state1 == \"NY\" and state2 == \"NJ\"')['monthly_profit']\n",
    "temp2 = user.loc[user.index.difference(temp1.index), 'monthly_profit']\n",
    "\n",
    "F = np.var(temp1) / np.var(temp2)\n",
    "df1,df2 = len(temp1) - 1, len(temp2) - 1\n",
    "p_value = st.f.cdf(F, df1, df2)\n",
    "alpha = 0.05\n",
    "\n",
    "if p_value > alpha:\n",
    "    print('Failed to reject the null hypothesis, hence Var(ultimate) == Var(surf)', '\\n')\n",
    "else:\n",
    "    print('Have sufficient significance to reject the null hypothesis, hence Var(ultimate) != Var(surf)', '\\n')\n",
    "    \n",
    "# hypothesis testing for equal avg profit \n",
    "\n",
    "results = st.ttest_ind(temp1, temp2, equal_var=True)\n",
    "print('p-value:', results.pvalue)\n",
    "if results.pvalue < alpha:\n",
    "      print('Have sufficient significance to reject the null hypothesis, hence the avg profits for two population are different')\n",
    "else:\n",
    "      print('Failed to reject the null hypothesis, hence the avg profits of two population is the same')\n",
    "del temp1, temp2"
   ]
  },
  {
   "cell_type": "markdown",
   "metadata": {},
   "source": [
    "<div class=\"alert alert-block alert-info\">\n",
    "<h2> Comments </h2>\n",
    "</div>\n",
    "\n",
    "Great :)\n",
    "\n",
    "It is really good that you checked equality of variances.\n",
    "\n",
    "You need to state null hypothesis :)\n",
    "\n",
    "------------"
   ]
  },
  {
   "cell_type": "markdown",
   "metadata": {},
   "source": [
    "### Summary\n",
    "- Ultimate plan customers vs. Surf plan customers\n",
    "    - Null: The average profit from the ultimate plan users and from surf plan users is the same;\n",
    "    - Alternative: The average profit from the ultimate plan users and from surf plan users is different.\n",
    "    - Significance level: 5%, meaning that we accept a 5% risk of of concluding that a difference exists when there is no actual difference.\n",
    "- NY-NJ customers vs. Other area customers\n",
    "    - Null: The average profit from the users in NY-NJ area is the same as that of the users from other regions.\n",
    "    - Alternative: The average profit from the users in NY-NJ area is different from that of the users from other regions.\n",
    "    - Significance level: 5%"
   ]
  },
  {
   "cell_type": "markdown",
   "metadata": {},
   "source": [
    "<div class=\"alert alert-block alert-info\">\n",
    "<h2> Comments </h2>\n",
    "</div>\n",
    "\n",
    "Great :)\n",
    "\n",
    "------------"
   ]
  }
 ],
 "metadata": {
  "kernelspec": {
   "display_name": "Python 3",
   "language": "python",
   "name": "python3"
  },
  "language_info": {
   "codemirror_mode": {
    "name": "ipython",
    "version": 3
   },
   "file_extension": ".py",
   "mimetype": "text/x-python",
   "name": "python",
   "nbconvert_exporter": "python",
   "pygments_lexer": "ipython3",
   "version": "3.7.4"
  }
 },
 "nbformat": 4,
 "nbformat_minor": 2
}
