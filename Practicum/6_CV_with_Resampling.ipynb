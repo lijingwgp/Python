{
 "cells": [
  {
   "cell_type": "markdown",
   "metadata": {},
   "source": [
    "## Review\n",
    "\n",
    "Hi Jing! Everything is great now. Thank you fo update. \n",
    "\n",
    "---"
   ]
  },
  {
   "cell_type": "markdown",
   "metadata": {},
   "source": [
    "## Review\n",
    "\n",
    "Hi Jing. This is Soslan again. I was reviewing your previous project. I've added all my comments to new cells with different coloring.\n",
    "\n",
    "<div class=\"alert alert-success\" role=\"alert\">\n",
    "  If you did something great I'm using green color for my comment\n",
    "</div>\n",
    "\n",
    "<div class=\"alert alert-warning\" role=\"alert\">\n",
    "If I want to give you advice or think that something can be improved, then I'll use yellow. This is an optional recommendation.\n",
    "</div>\n",
    "\n",
    "<div class=\"alert alert-danger\" role=\"alert\">\n",
    "  If the topic requires some extra work so I can accept it then the color will be red\n",
    "</div>\n",
    "\n",
    "You demonstrate in this project that you have a wide toolset. But there is one thing to fix - you were working with recall metric and by task have to use F1-score. I also write some concerns about using cross-validation with upsampling. It would be also great if you add to your project another technic - downsampling and/or balancing.\n",
    "\n",
    "---\n",
    "\n",
    "<div class=\"alert alert-info\" role=\"alert\">\n",
    "  Hi Soslan, thanks for reviewing my project. I've changed some of the previous code blocks and added new techniques. Thanks for sharing that article about CV and SMOTE, it's really helpful. \n",
    "</div>"
   ]
  },
  {
   "cell_type": "markdown",
   "metadata": {},
   "source": [
    "# Project Instructions\n",
    "1. Download and prepare the data. Explain the procedure.\n",
    "2. Examine the balance of classes. Train the model without taking into account the imbalance. Briefly describe your findings.\n",
    "3. Improve the quality of the model, taking into account the imbalance of classes. Train different models and find the best one. Briefly describe your findings.\n",
    "4. Perform the final testing."
   ]
  },
  {
   "cell_type": "markdown",
   "metadata": {},
   "source": [
    "# Step 1. Data Preparation\n",
    "- Import the data \n",
    "- Examine missing values\n",
    "- Feature engineering if needed\n",
    "- Feature scaling / encoding"
   ]
  },
  {
   "cell_type": "code",
   "execution_count": 1,
   "metadata": {},
   "outputs": [],
   "source": [
    "import numpy as np\n",
    "import pandas as pd\n",
    "import sklearn.metrics as metrics\n",
    "import itertools\n",
    "import operator\n",
    "import warnings\n",
    "import matplotlib.pyplot as plt\n",
    "\n",
    "from statistics import mean\n",
    "from sklearn.tree import DecisionTreeClassifier\n",
    "from sklearn.ensemble import RandomForestClassifier, GradientBoostingClassifier\n",
    "from sklearn.model_selection import cross_val_score, RepeatedStratifiedKFold, train_test_split, GridSearchCV\n",
    "from sklearn.model_selection import RandomizedSearchCV, cross_validate\n",
    "from sklearn.metrics import precision_score, confusion_matrix, f1_score\n",
    "from sklearn.metrics import roc_curve, precision_recall_curve, auc, make_scorer, roc_auc_score\n",
    "from sklearn.preprocessing import StandardScaler, OrdinalEncoder\n",
    "from sklearn.utils import resample, shuffle\n",
    "\n",
    "warnings.simplefilter(action='ignore', category=FutureWarning)\n",
    "pd.pandas.set_option('display.max_columns', None)"
   ]
  },
  {
   "cell_type": "code",
   "execution_count": 2,
   "metadata": {},
   "outputs": [
    {
     "data": {
      "text/html": [
       "<div>\n",
       "<style scoped>\n",
       "    .dataframe tbody tr th:only-of-type {\n",
       "        vertical-align: middle;\n",
       "    }\n",
       "\n",
       "    .dataframe tbody tr th {\n",
       "        vertical-align: top;\n",
       "    }\n",
       "\n",
       "    .dataframe thead th {\n",
       "        text-align: right;\n",
       "    }\n",
       "</style>\n",
       "<table border=\"1\" class=\"dataframe\">\n",
       "  <thead>\n",
       "    <tr style=\"text-align: right;\">\n",
       "      <th></th>\n",
       "      <th>RowNumber</th>\n",
       "      <th>CustomerId</th>\n",
       "      <th>Surname</th>\n",
       "      <th>CreditScore</th>\n",
       "      <th>Geography</th>\n",
       "      <th>Gender</th>\n",
       "      <th>Age</th>\n",
       "      <th>Tenure</th>\n",
       "      <th>Balance</th>\n",
       "      <th>NumOfProducts</th>\n",
       "      <th>HasCrCard</th>\n",
       "      <th>IsActiveMember</th>\n",
       "      <th>EstimatedSalary</th>\n",
       "      <th>Exited</th>\n",
       "    </tr>\n",
       "  </thead>\n",
       "  <tbody>\n",
       "    <tr>\n",
       "      <td>0</td>\n",
       "      <td>1</td>\n",
       "      <td>15634602</td>\n",
       "      <td>Hargrave</td>\n",
       "      <td>619</td>\n",
       "      <td>France</td>\n",
       "      <td>Female</td>\n",
       "      <td>42</td>\n",
       "      <td>2.0</td>\n",
       "      <td>0.00</td>\n",
       "      <td>1</td>\n",
       "      <td>1</td>\n",
       "      <td>1</td>\n",
       "      <td>101348.88</td>\n",
       "      <td>1</td>\n",
       "    </tr>\n",
       "    <tr>\n",
       "      <td>1</td>\n",
       "      <td>2</td>\n",
       "      <td>15647311</td>\n",
       "      <td>Hill</td>\n",
       "      <td>608</td>\n",
       "      <td>Spain</td>\n",
       "      <td>Female</td>\n",
       "      <td>41</td>\n",
       "      <td>1.0</td>\n",
       "      <td>83807.86</td>\n",
       "      <td>1</td>\n",
       "      <td>0</td>\n",
       "      <td>1</td>\n",
       "      <td>112542.58</td>\n",
       "      <td>0</td>\n",
       "    </tr>\n",
       "    <tr>\n",
       "      <td>2</td>\n",
       "      <td>3</td>\n",
       "      <td>15619304</td>\n",
       "      <td>Onio</td>\n",
       "      <td>502</td>\n",
       "      <td>France</td>\n",
       "      <td>Female</td>\n",
       "      <td>42</td>\n",
       "      <td>8.0</td>\n",
       "      <td>159660.80</td>\n",
       "      <td>3</td>\n",
       "      <td>1</td>\n",
       "      <td>0</td>\n",
       "      <td>113931.57</td>\n",
       "      <td>1</td>\n",
       "    </tr>\n",
       "    <tr>\n",
       "      <td>3</td>\n",
       "      <td>4</td>\n",
       "      <td>15701354</td>\n",
       "      <td>Boni</td>\n",
       "      <td>699</td>\n",
       "      <td>France</td>\n",
       "      <td>Female</td>\n",
       "      <td>39</td>\n",
       "      <td>1.0</td>\n",
       "      <td>0.00</td>\n",
       "      <td>2</td>\n",
       "      <td>0</td>\n",
       "      <td>0</td>\n",
       "      <td>93826.63</td>\n",
       "      <td>0</td>\n",
       "    </tr>\n",
       "    <tr>\n",
       "      <td>4</td>\n",
       "      <td>5</td>\n",
       "      <td>15737888</td>\n",
       "      <td>Mitchell</td>\n",
       "      <td>850</td>\n",
       "      <td>Spain</td>\n",
       "      <td>Female</td>\n",
       "      <td>43</td>\n",
       "      <td>2.0</td>\n",
       "      <td>125510.82</td>\n",
       "      <td>1</td>\n",
       "      <td>1</td>\n",
       "      <td>1</td>\n",
       "      <td>79084.10</td>\n",
       "      <td>0</td>\n",
       "    </tr>\n",
       "  </tbody>\n",
       "</table>\n",
       "</div>"
      ],
      "text/plain": [
       "   RowNumber  CustomerId   Surname  CreditScore Geography  Gender  Age  \\\n",
       "0          1    15634602  Hargrave          619    France  Female   42   \n",
       "1          2    15647311      Hill          608     Spain  Female   41   \n",
       "2          3    15619304      Onio          502    France  Female   42   \n",
       "3          4    15701354      Boni          699    France  Female   39   \n",
       "4          5    15737888  Mitchell          850     Spain  Female   43   \n",
       "\n",
       "   Tenure    Balance  NumOfProducts  HasCrCard  IsActiveMember  \\\n",
       "0     2.0       0.00              1          1               1   \n",
       "1     1.0   83807.86              1          0               1   \n",
       "2     8.0  159660.80              3          1               0   \n",
       "3     1.0       0.00              2          0               0   \n",
       "4     2.0  125510.82              1          1               1   \n",
       "\n",
       "   EstimatedSalary  Exited  \n",
       "0        101348.88       1  \n",
       "1        112542.58       0  \n",
       "2        113931.57       1  \n",
       "3         93826.63       0  \n",
       "4         79084.10       0  "
      ]
     },
     "execution_count": 2,
     "metadata": {},
     "output_type": "execute_result"
    }
   ],
   "source": [
    "raw = pd.read_csv('/datasets/Churn.csv')\n",
    "raw.head()"
   ]
  },
  {
   "cell_type": "code",
   "execution_count": 3,
   "metadata": {},
   "outputs": [
    {
     "data": {
      "text/html": [
       "<div>\n",
       "<style scoped>\n",
       "    .dataframe tbody tr th:only-of-type {\n",
       "        vertical-align: middle;\n",
       "    }\n",
       "\n",
       "    .dataframe tbody tr th {\n",
       "        vertical-align: top;\n",
       "    }\n",
       "\n",
       "    .dataframe thead th {\n",
       "        text-align: right;\n",
       "    }\n",
       "</style>\n",
       "<table border=\"1\" class=\"dataframe\">\n",
       "  <thead>\n",
       "    <tr style=\"text-align: right;\">\n",
       "      <th></th>\n",
       "      <th>CreditScore</th>\n",
       "      <th>Geography</th>\n",
       "      <th>Gender</th>\n",
       "      <th>Age</th>\n",
       "      <th>Tenure</th>\n",
       "      <th>Balance</th>\n",
       "      <th>NumOfProducts</th>\n",
       "      <th>HasCrCard</th>\n",
       "      <th>IsActiveMember</th>\n",
       "      <th>EstimatedSalary</th>\n",
       "      <th>Exited</th>\n",
       "    </tr>\n",
       "  </thead>\n",
       "  <tbody>\n",
       "    <tr>\n",
       "      <td>0</td>\n",
       "      <td>619</td>\n",
       "      <td>France</td>\n",
       "      <td>Female</td>\n",
       "      <td>42</td>\n",
       "      <td>2.0</td>\n",
       "      <td>0.00</td>\n",
       "      <td>1</td>\n",
       "      <td>1</td>\n",
       "      <td>1</td>\n",
       "      <td>101348.88</td>\n",
       "      <td>1</td>\n",
       "    </tr>\n",
       "    <tr>\n",
       "      <td>1</td>\n",
       "      <td>608</td>\n",
       "      <td>Spain</td>\n",
       "      <td>Female</td>\n",
       "      <td>41</td>\n",
       "      <td>1.0</td>\n",
       "      <td>83807.86</td>\n",
       "      <td>1</td>\n",
       "      <td>0</td>\n",
       "      <td>1</td>\n",
       "      <td>112542.58</td>\n",
       "      <td>0</td>\n",
       "    </tr>\n",
       "    <tr>\n",
       "      <td>2</td>\n",
       "      <td>502</td>\n",
       "      <td>France</td>\n",
       "      <td>Female</td>\n",
       "      <td>42</td>\n",
       "      <td>8.0</td>\n",
       "      <td>159660.80</td>\n",
       "      <td>3</td>\n",
       "      <td>1</td>\n",
       "      <td>0</td>\n",
       "      <td>113931.57</td>\n",
       "      <td>1</td>\n",
       "    </tr>\n",
       "    <tr>\n",
       "      <td>3</td>\n",
       "      <td>699</td>\n",
       "      <td>France</td>\n",
       "      <td>Female</td>\n",
       "      <td>39</td>\n",
       "      <td>1.0</td>\n",
       "      <td>0.00</td>\n",
       "      <td>2</td>\n",
       "      <td>0</td>\n",
       "      <td>0</td>\n",
       "      <td>93826.63</td>\n",
       "      <td>0</td>\n",
       "    </tr>\n",
       "    <tr>\n",
       "      <td>4</td>\n",
       "      <td>850</td>\n",
       "      <td>Spain</td>\n",
       "      <td>Female</td>\n",
       "      <td>43</td>\n",
       "      <td>2.0</td>\n",
       "      <td>125510.82</td>\n",
       "      <td>1</td>\n",
       "      <td>1</td>\n",
       "      <td>1</td>\n",
       "      <td>79084.10</td>\n",
       "      <td>0</td>\n",
       "    </tr>\n",
       "  </tbody>\n",
       "</table>\n",
       "</div>"
      ],
      "text/plain": [
       "   CreditScore Geography  Gender  Age  Tenure    Balance  NumOfProducts  \\\n",
       "0          619    France  Female   42     2.0       0.00              1   \n",
       "1          608     Spain  Female   41     1.0   83807.86              1   \n",
       "2          502    France  Female   42     8.0  159660.80              3   \n",
       "3          699    France  Female   39     1.0       0.00              2   \n",
       "4          850     Spain  Female   43     2.0  125510.82              1   \n",
       "\n",
       "   HasCrCard  IsActiveMember  EstimatedSalary  Exited  \n",
       "0          1               1        101348.88       1  \n",
       "1          0               1        112542.58       0  \n",
       "2          1               0        113931.57       1  \n",
       "3          0               0         93826.63       0  \n",
       "4          1               1         79084.10       0  "
      ]
     },
     "execution_count": 3,
     "metadata": {},
     "output_type": "execute_result"
    }
   ],
   "source": [
    "# Right off the bat, we don't need RowNumber, CustomerId, and Surname because they will cause overfitting.\n",
    "# In other words, we want the model to learn the general principles behind the data not memorize which customer did left \n",
    "# as a result.\n",
    "\n",
    "df = raw.drop(['RowNumber', 'CustomerId', 'Surname'], axis=1)\n",
    "df.head()"
   ]
  },
  {
   "cell_type": "code",
   "execution_count": 4,
   "metadata": {},
   "outputs": [
    {
     "data": {
      "text/plain": [
       "Tenure    0.0909\n",
       "dtype: float64"
      ]
     },
     "execution_count": 4,
     "metadata": {},
     "output_type": "execute_result"
    }
   ],
   "source": [
    "# Make a list of the variables that contain missing values\n",
    "# Determine percentage of missing values\n",
    "\n",
    "vars_with_na = [var for var in df.columns if df[var].isnull().sum() > 0]\n",
    "df[vars_with_na].isnull().mean()"
   ]
  },
  {
   "cell_type": "code",
   "execution_count": 5,
   "metadata": {},
   "outputs": [
    {
     "data": {
      "image/png": "[encoded data removed]",
      "text/plain": [
       "<Figure size 432x288 with 1 Axes>"
      ]
     },
     "metadata": {
      "needs_background": "light"
     },
     "output_type": "display_data"
    }
   ],
   "source": [
    "# Before replacing missing values with median or mean, I want to experiment to see if we can just drop these 10% data\n",
    "\n",
    "temp = df.copy()\n",
    "temp.Tenure = np.where(temp.Tenure.isnull(), 1, 0)\n",
    "temp.groupby('Tenure')['Exited'].sum().plot.bar()\n",
    "plt.title('Tenure')\n",
    "plt.show()"
   ]
  },
  {
   "cell_type": "code",
   "execution_count": 6,
   "metadata": {},
   "outputs": [],
   "source": [
    "# So we have about 250 people that churned and their tenure information is missing\n",
    "# We will go ahead and just filling the missing values with median then\n",
    "\n",
    "df.Tenure.fillna(df['Tenure'].median(), inplace=True)"
   ]
  },
  {
   "cell_type": "code",
   "execution_count": 7,
   "metadata": {},
   "outputs": [],
   "source": [
    "# feature engineer the age column\n",
    "\n",
    "labels = [\"{0}-{1}\".format(i, i+9) for i in range(0,100,10)]\n",
    "df.Age = pd.cut(df.Age, range(0,101,10), right=False, labels=labels)\n",
    "df.Age = df.Age.astype('object')"
   ]
  },
  {
   "cell_type": "code",
   "execution_count": 8,
   "metadata": {},
   "outputs": [
    {
     "data": {
      "text/plain": [
       "CreditScore          int64\n",
       "Geography           object\n",
       "Gender              object\n",
       "Age                 object\n",
       "Tenure             float64\n",
       "Balance            float64\n",
       "NumOfProducts        int64\n",
       "HasCrCard            int64\n",
       "IsActiveMember       int64\n",
       "EstimatedSalary    float64\n",
       "Exited               int64\n",
       "dtype: object"
      ]
     },
     "execution_count": 8,
     "metadata": {},
     "output_type": "execute_result"
    }
   ],
   "source": [
    "# for reference\n",
    "\n",
    "df.dtypes"
   ]
  },
  {
   "cell_type": "code",
   "execution_count": 9,
   "metadata": {},
   "outputs": [],
   "source": [
    "# feature scaling\n",
    "\n",
    "scaler = StandardScaler()\n",
    "num_vars = [var for var in df.columns if df[var].dtypes != 'O']\n",
    "num_vars.remove('Exited')\n",
    "df[num_vars] = scaler.fit_transform(df[num_vars])"
   ]
  },
  {
   "cell_type": "code",
   "execution_count": 10,
   "metadata": {},
   "outputs": [],
   "source": [
    "# feature encoding\n",
    "\n",
    "encoder = OrdinalEncoder() \n",
    "cat_vars = [var for var in df.columns if df[var].dtypes == 'O']\n",
    "df[cat_vars] = encoder.fit_transform(df[cat_vars])"
   ]
  },
  {
   "cell_type": "code",
   "execution_count": 11,
   "metadata": {},
   "outputs": [
    {
     "data": {
      "text/html": [
       "<div>\n",
       "<style scoped>\n",
       "    .dataframe tbody tr th:only-of-type {\n",
       "        vertical-align: middle;\n",
       "    }\n",
       "\n",
       "    .dataframe tbody tr th {\n",
       "        vertical-align: top;\n",
       "    }\n",
       "\n",
       "    .dataframe thead th {\n",
       "        text-align: right;\n",
       "    }\n",
       "</style>\n",
       "<table border=\"1\" class=\"dataframe\">\n",
       "  <thead>\n",
       "    <tr style=\"text-align: right;\">\n",
       "      <th></th>\n",
       "      <th>CreditScore</th>\n",
       "      <th>Geography</th>\n",
       "      <th>Gender</th>\n",
       "      <th>Age</th>\n",
       "      <th>Tenure</th>\n",
       "      <th>Balance</th>\n",
       "      <th>NumOfProducts</th>\n",
       "      <th>HasCrCard</th>\n",
       "      <th>IsActiveMember</th>\n",
       "      <th>EstimatedSalary</th>\n",
       "      <th>Exited</th>\n",
       "    </tr>\n",
       "  </thead>\n",
       "  <tbody>\n",
       "    <tr>\n",
       "      <td>0</td>\n",
       "      <td>-0.326221</td>\n",
       "      <td>0.0</td>\n",
       "      <td>0.0</td>\n",
       "      <td>3.0</td>\n",
       "      <td>-1.086246</td>\n",
       "      <td>-1.225848</td>\n",
       "      <td>-0.911583</td>\n",
       "      <td>0.646092</td>\n",
       "      <td>0.970243</td>\n",
       "      <td>0.021886</td>\n",
       "      <td>1</td>\n",
       "    </tr>\n",
       "    <tr>\n",
       "      <td>1</td>\n",
       "      <td>-0.440036</td>\n",
       "      <td>2.0</td>\n",
       "      <td>0.0</td>\n",
       "      <td>3.0</td>\n",
       "      <td>-1.448581</td>\n",
       "      <td>0.117350</td>\n",
       "      <td>-0.911583</td>\n",
       "      <td>-1.547768</td>\n",
       "      <td>0.970243</td>\n",
       "      <td>0.216534</td>\n",
       "      <td>0</td>\n",
       "    </tr>\n",
       "    <tr>\n",
       "      <td>2</td>\n",
       "      <td>-1.536794</td>\n",
       "      <td>0.0</td>\n",
       "      <td>0.0</td>\n",
       "      <td>3.0</td>\n",
       "      <td>1.087768</td>\n",
       "      <td>1.333053</td>\n",
       "      <td>2.527057</td>\n",
       "      <td>0.646092</td>\n",
       "      <td>-1.030670</td>\n",
       "      <td>0.240687</td>\n",
       "      <td>1</td>\n",
       "    </tr>\n",
       "    <tr>\n",
       "      <td>3</td>\n",
       "      <td>0.501521</td>\n",
       "      <td>0.0</td>\n",
       "      <td>0.0</td>\n",
       "      <td>2.0</td>\n",
       "      <td>-1.448581</td>\n",
       "      <td>-1.225848</td>\n",
       "      <td>0.807737</td>\n",
       "      <td>-1.547768</td>\n",
       "      <td>-1.030670</td>\n",
       "      <td>-0.108918</td>\n",
       "      <td>0</td>\n",
       "    </tr>\n",
       "    <tr>\n",
       "      <td>4</td>\n",
       "      <td>2.063884</td>\n",
       "      <td>2.0</td>\n",
       "      <td>0.0</td>\n",
       "      <td>3.0</td>\n",
       "      <td>-1.086246</td>\n",
       "      <td>0.785728</td>\n",
       "      <td>-0.911583</td>\n",
       "      <td>0.646092</td>\n",
       "      <td>0.970243</td>\n",
       "      <td>-0.365276</td>\n",
       "      <td>0</td>\n",
       "    </tr>\n",
       "  </tbody>\n",
       "</table>\n",
       "</div>"
      ],
      "text/plain": [
       "   CreditScore  Geography  Gender  Age    Tenure   Balance  NumOfProducts  \\\n",
       "0    -0.326221        0.0     0.0  3.0 -1.086246 -1.225848      -0.911583   \n",
       "1    -0.440036        2.0     0.0  3.0 -1.448581  0.117350      -0.911583   \n",
       "2    -1.536794        0.0     0.0  3.0  1.087768  1.333053       2.527057   \n",
       "3     0.501521        0.0     0.0  2.0 -1.448581 -1.225848       0.807737   \n",
       "4     2.063884        2.0     0.0  3.0 -1.086246  0.785728      -0.911583   \n",
       "\n",
       "   HasCrCard  IsActiveMember  EstimatedSalary  Exited  \n",
       "0   0.646092        0.970243         0.021886       1  \n",
       "1  -1.547768        0.970243         0.216534       0  \n",
       "2   0.646092       -1.030670         0.240687       1  \n",
       "3  -1.547768       -1.030670        -0.108918       0  \n",
       "4   0.646092        0.970243        -0.365276       0  "
      ]
     },
     "execution_count": 11,
     "metadata": {},
     "output_type": "execute_result"
    }
   ],
   "source": [
    "df.head()"
   ]
  },
  {
   "cell_type": "markdown",
   "metadata": {},
   "source": [
    "### Conclusion\n",
    "- Tenure column has 9% of data that are missing values. Out of these 9%, about 250 positive targets are embeded. Median is used to replace missing values. \n",
    "- Age is grouped into bins to help the model better generalize patterns.\n",
    "- Standard scaler and ordinal encoder are used for feature scaling and categorical encoding."
   ]
  },
  {
   "cell_type": "markdown",
   "metadata": {},
   "source": [
    "<div class=\"alert alert-success\" role=\"alert\">\n",
    "Good start.\n",
    "</div>"
   ]
  },
  {
   "cell_type": "markdown",
   "metadata": {},
   "source": [
    "# Step 2. Baseline Performance\n",
    "In this section, we will examine both Decision Tree, Random Forest, and Gradient Boosting model's baseline performance. Please note the models will use the imbalanced dataset as is. \n",
    "- We will try the class_weight option for random forest and decision tree model."
   ]
  },
  {
   "cell_type": "code",
   "execution_count": 12,
   "metadata": {},
   "outputs": [],
   "source": [
    "# Stratified train test split / 80-20\n",
    "\n",
    "train, val = train_test_split(df, test_size=0.20, stratify=df.Exited, random_state=123)\n",
    "x_train, x_val = train.drop('Exited', axis=1), val.drop('Exited', axis=1)\n",
    "y_train, y_val = train['Exited'], val['Exited']"
   ]
  },
  {
   "cell_type": "code",
   "execution_count": 13,
   "metadata": {},
   "outputs": [
    {
     "name": "stdout",
     "output_type": "stream",
     "text": [
      "ROC AUC: 0.680 (0.019)\n",
      "F1 Score: 0.489 (0.030)\n"
     ]
    }
   ],
   "source": [
    "# Baseline performance using imbalanced train set - Decision Tree\n",
    "\n",
    "cv = RepeatedStratifiedKFold(n_splits=10, n_repeats=5, random_state=123)\n",
    "tree = cross_validate(DecisionTreeClassifier(), x_train, y_train, scoring=['roc_auc','f1'], cv=cv, n_jobs=-1, \n",
    "                      error_score='raise')\n",
    "print('ROC AUC: %.3f (%.3f)' % (tree['test_roc_auc'].mean(), tree['test_roc_auc'].std()))\n",
    "print('F1 Score: %.3f (%.3f)' % (tree['test_f1'].mean(), tree['test_f1'].std()))"
   ]
  },
  {
   "cell_type": "code",
   "execution_count": 14,
   "metadata": {},
   "outputs": [
    {
     "name": "stdout",
     "output_type": "stream",
     "text": [
      "ROC AUC: 0.677 (0.020)\n",
      "F1 Score: 0.485 (0.031)\n"
     ]
    }
   ],
   "source": [
    "# Decision Tree with class_weight option\n",
    "\n",
    "cv = RepeatedStratifiedKFold(n_splits=10, n_repeats=5, random_state=123)\n",
    "tree = cross_validate(DecisionTreeClassifier(class_weight='balanced'), x_train, y_train, scoring=['roc_auc','f1'], cv=cv, n_jobs=-1, \n",
    "                      error_score='raise')\n",
    "print('ROC AUC: %.3f (%.3f)' % (tree['test_roc_auc'].mean(), tree['test_roc_auc'].std()))\n",
    "print('F1 Score: %.3f (%.3f)' % (tree['test_f1'].mean(), tree['test_f1'].std()))"
   ]
  },
  {
   "cell_type": "code",
   "execution_count": 15,
   "metadata": {},
   "outputs": [
    {
     "name": "stdout",
     "output_type": "stream",
     "text": [
      "ROC AUC: 0.806 (0.022)\n",
      "F1 Score: 0.511 (0.039)\n"
     ]
    }
   ],
   "source": [
    "# Baseline performance using imbalanced train set - Random Forest\n",
    "\n",
    "cv = RepeatedStratifiedKFold(n_splits=10, n_repeats=5, random_state=123)\n",
    "rf = cross_validate(RandomForestClassifier(), x_train, y_train, scoring=['roc_auc','f1'], cv=cv, n_jobs=-1, \n",
    "                    error_score='raise')\n",
    "print('ROC AUC: %.3f (%.3f)' % (rf['test_roc_auc'].mean(), rf['test_roc_auc'].std()))\n",
    "print('F1 Score: %.3f (%.3f)' % (rf['test_f1'].mean(), rf['test_f1'].std()))"
   ]
  },
  {
   "cell_type": "code",
   "execution_count": 16,
   "metadata": {},
   "outputs": [
    {
     "name": "stdout",
     "output_type": "stream",
     "text": [
      "ROC AUC: 0.806 (0.021)\n",
      "F1 Score: 0.505 (0.041)\n"
     ]
    }
   ],
   "source": [
    "# Random Forest with class_weight option\n",
    "\n",
    "cv = RepeatedStratifiedKFold(n_splits=10, n_repeats=5, random_state=123)\n",
    "rf = cross_validate(RandomForestClassifier(class_weight='balanced'), x_train, y_train, scoring=['roc_auc','f1'], cv=cv, n_jobs=-1, \n",
    "                    error_score='raise')\n",
    "print('ROC AUC: %.3f (%.3f)' % (rf['test_roc_auc'].mean(), rf['test_roc_auc'].std()))\n",
    "print('F1 Score: %.3f (%.3f)' % (rf['test_f1'].mean(), rf['test_f1'].std()))"
   ]
  },
  {
   "cell_type": "code",
   "execution_count": 17,
   "metadata": {},
   "outputs": [
    {
     "name": "stdout",
     "output_type": "stream",
     "text": [
      "ROC AUC: 0.857 (0.017)\n",
      "F1 Score: 0.554 (0.033)\n"
     ]
    }
   ],
   "source": [
    "# Baseline performance using imbalanced train set - Gradient Boosting\n",
    "\n",
    "cv = RepeatedStratifiedKFold(n_splits=10, n_repeats=5, random_state=123)\n",
    "gb = cross_validate(GradientBoostingClassifier(), x_train, y_train, scoring=['roc_auc','f1'], cv=cv, n_jobs=-1, \n",
    "                    error_score='raise')\n",
    "print('ROC AUC: %.3f (%.3f)' % (gb['test_roc_auc'].mean(), gb['test_roc_auc'].std()))\n",
    "print('F1 Score: %.3f (%.3f)' % (gb['test_f1'].mean(), gb['test_f1'].std()))"
   ]
  },
  {
   "cell_type": "markdown",
   "metadata": {},
   "source": [
    "### Conclusion\n",
    "- When the original imbalanced train set is used, all three models performs somewhat similar to each other. Decision tree has the lowest f1 score. Gradient boosting model has the highest baseline performance in both roc auc and f1.\n",
    "- It's observed that even with the class_weight option, decision tree model and random forest model's performance did not surpass that of Gradient Boosting.\n",
    "- Since the Gradient Boosting model yields the best result, we will use f1 score 0.554 as our baseline performance."
   ]
  },
  {
   "cell_type": "markdown",
   "metadata": {},
   "source": [
    "# Step 3. Resampling\n",
    "Based on the previous observation, We will choose Gradient Boosting as the potential final model. All tuning and class balancing will be applied to this model only. In following, we will examine:\n",
    "- Assess cross validated train results using upsampled train set\n",
    "- Assess cross validated train results using downsampled train set"
   ]
  },
  {
   "cell_type": "code",
   "execution_count": 18,
   "metadata": {},
   "outputs": [
    {
     "data": {
      "text/plain": [
       "0    7963\n",
       "1    2037\n",
       "Name: Exited, dtype: int64"
      ]
     },
     "execution_count": 18,
     "metadata": {},
     "output_type": "execute_result"
    }
   ],
   "source": [
    "# Examine class ratios of the target column\n",
    "\n",
    "df.Exited.value_counts()"
   ]
  },
  {
   "cell_type": "code",
   "execution_count": 19,
   "metadata": {},
   "outputs": [],
   "source": [
    "def class_balance(x, y, perc, option='upsample'):\n",
    "    \"\"\"\n",
    "    resampling function, makes easy to be called in a customized CV function later\n",
    "    \"\"\"    \n",
    "    X = pd.concat([x, y], axis=1)\n",
    "    neg = X[X.Exited==0]\n",
    "    pos = X[X.Exited==1]\n",
    "    \n",
    "    if option is 'upsample':\n",
    "        \n",
    "        pos_upsampled = resample(pos, replace=True, n_samples=np.ceil(len(neg)*perc).astype('int64'), random_state=123) \n",
    "        \n",
    "        df_upsampled = pd.concat([neg, pos_upsampled])\n",
    "        df_upsampled = shuffle(df_upsampled, random_state=123)\n",
    "    \n",
    "        y_train_sampled = df_upsampled.Exited\n",
    "        x_train_sampled = df_upsampled.drop('Exited', axis=1)\n",
    "        \n",
    "    if option is 'downsample':\n",
    "        \n",
    "        neg_downsampled = resample(neg, replace = False, n_samples = np.ceil(len(pos)*perc).astype('int64'), random_state = 123)\n",
    "        \n",
    "        df_downsampled = pd.concat([neg_downsampled, pos])\n",
    "        df_downsampled = shuffle(df_downsampled, random_state=123)\n",
    "        \n",
    "        y_train_sampled = df_downsampled.Exited\n",
    "        x_train_sampled = df_downsampled.drop('Exited', axis=1)\n",
    "    \n",
    "    return x_train_sampled, y_train_sampled"
   ]
  },
  {
   "cell_type": "code",
   "execution_count": 20,
   "metadata": {},
   "outputs": [
    {
     "data": {
      "text/plain": [
       "0    6370\n",
       "1    5096\n",
       "Name: Exited, dtype: int64"
      ]
     },
     "execution_count": 20,
     "metadata": {},
     "output_type": "execute_result"
    }
   ],
   "source": [
    "# Upsampling\n",
    "\n",
    "x_train_upsampled, y_train_upsampled = class_balance(x_train, y_train, 0.8)\n",
    "y_train_upsampled.value_counts()"
   ]
  },
  {
   "cell_type": "code",
   "execution_count": 21,
   "metadata": {},
   "outputs": [
    {
     "data": {
      "text/plain": [
       "0    1956\n",
       "1    1630\n",
       "Name: Exited, dtype: int64"
      ]
     },
     "execution_count": 21,
     "metadata": {},
     "output_type": "execute_result"
    }
   ],
   "source": [
    "# Downsampling\n",
    "\n",
    "x_train_downsampled, y_train_downsampled = class_balance(x_train, y_train, 1.2, 'downsample')\n",
    "y_train_downsampled.value_counts()"
   ]
  },
  {
   "cell_type": "code",
   "execution_count": 22,
   "metadata": {},
   "outputs": [
    {
     "name": "stdout",
     "output_type": "stream",
     "text": [
      "ROC AUC: 0.874 (0.009)\n",
      "F1 Score: 0.755 (0.015)\n"
     ]
    }
   ],
   "source": [
    "# Gradient Boosting performance using upsampled train set\n",
    "\n",
    "cv = RepeatedStratifiedKFold(n_splits=10, n_repeats=5, random_state=123)\n",
    "gb = cross_validate(GradientBoostingClassifier(), x_train_upsampled, y_train_upsampled, scoring=['roc_auc','f1'], cv=cv, \n",
    "                    n_jobs=-1, error_score='raise')\n",
    "print('ROC AUC: %.3f (%.3f)' % (gb['test_roc_auc'].mean(), gb['test_roc_auc'].std()))\n",
    "print('F1 Score: %.3f (%.3f)' % (gb['test_f1'].mean(), gb['test_f1'].std()))"
   ]
  },
  {
   "cell_type": "code",
   "execution_count": 23,
   "metadata": {},
   "outputs": [
    {
     "name": "stdout",
     "output_type": "stream",
     "text": [
      "ROC AUC: 0.859 (0.014)\n",
      "F1 Score: 0.749 (0.024)\n"
     ]
    }
   ],
   "source": [
    "# Gradient Boosting performance using downsampled train set\n",
    "\n",
    "cv = RepeatedStratifiedKFold(n_splits=10, n_repeats=5, random_state=123)\n",
    "gb = cross_validate(GradientBoostingClassifier(), x_train_downsampled, y_train_downsampled, scoring=['roc_auc','f1'], cv=cv, \n",
    "                    n_jobs=-1, error_score='raise')\n",
    "print('ROC AUC: %.3f (%.3f)' % (gb['test_roc_auc'].mean(), gb['test_roc_auc'].std()))\n",
    "print('F1 Score: %.3f (%.3f)' % (gb['test_f1'].mean(), gb['test_f1'].std()))"
   ]
  },
  {
   "cell_type": "markdown",
   "metadata": {},
   "source": [
    "### Conclusion\n",
    "- We see that the model performance is better when using the upsampled train set. But please note that these are cross validated train results. To see more realistic results, we need to use these up or downsampled sets to train the model and then use the model to predict on the original valiation set. \n",
    "- For the remaining portion of this project, I will try to incorporate upsampling with cross validation. The reason that I choose upsampling is that downsampled data depth is significantly shallower than the original data set, thus we would risk losing information that could benefit the model while training."
   ]
  },
  {
   "cell_type": "markdown",
   "metadata": {},
   "source": [
    "<div class=\"alert alert-warning\" role=\"alert\">\n",
    "As you correctly notice you didn't upsample the validation set. But when you use cross-validation with upsampling the validation set inside CV is also balanced. And that could be theoretically a problem especially when you use RandomizedSearchCV and make decisions about the best parameters. So I think it is better to use some custom CV or even try the classical \"train-validation-test\" approach.\n",
    "</div>\n",
    "\n",
    "Here an intersting article about how to use CV with upsampling: https://kiwidamien.github.io/how-to-do-cross-validation-when-upsampling-data.html\n",
    "\n",
    "---"
   ]
  },
  {
   "cell_type": "markdown",
   "metadata": {},
   "source": [
    "# Step 4. Model Optimization\n",
    "The goal of this section is to optimize the Gradient Boosting model using upsampled train set. Then, we will visualize how recall and precision respond to various threshold setting.\n",
    "- Incorporate randomized grid search into CV\n",
    "- Examine various probability threshold setting"
   ]
  },
  {
   "cell_type": "code",
   "execution_count": 24,
   "metadata": {},
   "outputs": [],
   "source": [
    "params = {'learning_rate':[0.5,0.3,0.2,0.1,0.095,0.085,0.055,0.045,0.035,0.025,0.05], \n",
    "          'n_estimators': [50, 100, 150, 200, 250, 300, 350, 400, 500],\n",
    "          'max_depth':[3,5,7,9,11,13,15], \n",
    "          'min_samples_split':[2,4,6,8,10,12,14,16,20,40,60], \n",
    "          'min_samples_leaf':[1,3,5,7,9,11],\n",
    "          'subsample':[0.5,0.55,0.6,0.65,0.7,0.75,0.8,0.85,0.9,0.95,1]\n",
    "         }"
   ]
  },
  {
   "cell_type": "code",
   "execution_count": 26,
   "metadata": {},
   "outputs": [],
   "source": [
    "# Customized RandomizedSearchCV\n",
    "\n",
    "def classifier_cv_with_sampling(model, params, n_iters, folds, scoring, option=\"upsample\"):\n",
    "    \"\"\"\n",
    "    Creates folds manually, and upsamples or downsamples within each fold.\n",
    "    Returns an array of validation scores\n",
    "    \"\"\"\n",
    "    results = {}\n",
    "    scores = []\n",
    "    cv = RepeatedStratifiedKFold(n_splits=folds, n_repeats=2, random_state=123)\n",
    "    \n",
    "    keys, values = zip(*params.items())\n",
    "    experiments = [dict(zip(keys, v)) for v in itertools.product(*values)]\n",
    "    experiments = shuffle(experiments, random_state=123)\n",
    "    \n",
    "    for i in range(n_iters):    \n",
    "        \n",
    "        for train_fold_index, val_fold_index in cv.split(x_train, y_train):\n",
    "\n",
    "            x_train_fold, y_train_fold = x_train.iloc[train_fold_index], y_train.iloc[train_fold_index]\n",
    "            x_val_fold, y_val_fold = x_train.iloc[val_fold_index], y_train.iloc[val_fold_index]\n",
    "\n",
    "            if option is \"upsample\":\n",
    "                x_train_sampled, y_train_sampled = class_balance(x_train_fold, y_train_fold, 0.8)\n",
    "\n",
    "            if option is \"downsample\":\n",
    "                x_train_sampled, y_train_sampled = class_balance(x_train_fold, y_train_fold, 1.2, 'downsample')\n",
    "\n",
    "            model_obj = model(**experiments[i], validation_fraction=0.1, n_iter_no_change=20).fit(x_train_sampled, y_train_sampled)\n",
    "            temp = scoring(y_val_fold, model_obj.predict(x_val_fold))\n",
    "            scores.append(temp)\n",
    "                        \n",
    "        results['test_%s' % scoring.__name__] = np.mean(np.array(scores).reshape(-1, folds*2), axis=1)\n",
    "        index, value = max(enumerate(results['test_%s' % scoring.__name__]), key=operator.itemgetter(1))\n",
    "        results['best_%s' % scoring.__name__] = value\n",
    "        results['best_params'] = experiments[index]\n",
    "    \n",
    "    return results"
   ]
  },
  {
   "cell_type": "code",
   "execution_count": 27,
   "metadata": {},
   "outputs": [
    {
     "data": {
      "text/plain": [
       "{'test_f1_score': array([0.5922208 , 0.60201856, 0.60231709, 0.55678625, 0.58043765,\n",
       "        0.59953826, 0.56943355, 0.60321509, 0.54401098, 0.55322087,\n",
       "        0.59601494, 0.5950525 , 0.6008611 , 0.55821038, 0.60089328,\n",
       "        0.60389686, 0.60028312, 0.55936801, 0.56217809, 0.56658413,\n",
       "        0.59008914, 0.5932987 , 0.5626713 , 0.58527589, 0.56380886,\n",
       "        0.59801696, 0.55843418, 0.60391687, 0.57602537, 0.543821  ]),\n",
       " 'best_f1_score': 0.6039168697622479,\n",
       " 'best_params': {'learning_rate': 0.025,\n",
       "  'n_estimators': 250,\n",
       "  'max_depth': 7,\n",
       "  'min_samples_split': 10,\n",
       "  'min_samples_leaf': 7,\n",
       "  'subsample': 0.55}}"
      ]
     },
     "execution_count": 27,
     "metadata": {},
     "output_type": "execute_result"
    }
   ],
   "source": [
    "results = classifier_cv_with_sampling(GradientBoostingClassifier, params, 30, 3, f1_score, 'upsample')\n",
    "results"
   ]
  },
  {
   "cell_type": "code",
   "execution_count": 28,
   "metadata": {},
   "outputs": [],
   "source": [
    "# visualize recall vs. precision trend at various probability threshold settings.\n",
    "\n",
    "def plot_precision_recall_vs_threshold(precisions, recalls, thresholds):\n",
    "    plt.figure(figsize=(8, 8))\n",
    "    plt.title(\"Precision and Recall Scores as a function of the decision threshold\")\n",
    "    plt.plot(thresholds, precisions[:-1], \"b--\", label=\"Precision\")\n",
    "    plt.plot(thresholds, recalls[:-1], \"g-\", label=\"Recall\")\n",
    "    plt.ylabel(\"Score\")\n",
    "    plt.xlabel(\"Decision Threshold\")\n",
    "    plt.legend(loc='best')"
   ]
  },
  {
   "cell_type": "code",
   "execution_count": 29,
   "metadata": {},
   "outputs": [
    {
     "data": {
      "image/png": "[encoded data removed]",
      "text/plain": [
       "<Figure size 576x576 with 1 Axes>"
      ]
     },
     "metadata": {
      "needs_background": "light"
     },
     "output_type": "display_data"
    }
   ],
   "source": [
    "gb = GradientBoostingClassifier(**results['best_params'], validation_fraction=0.1, \n",
    "                                n_iter_no_change=20).fit(x_train_upsampled, y_train_upsampled)\n",
    "y_prob = gb.predict_proba(x_val)[:, 1]\n",
    "p, r, thresholds = precision_recall_curve(y_val, y_prob)\n",
    "plot_precision_recall_vs_threshold(p, r, thresholds)"
   ]
  },
  {
   "cell_type": "code",
   "execution_count": 31,
   "metadata": {},
   "outputs": [
    {
     "name": "stdout",
     "output_type": "stream",
     "text": [
      "ROC AUC (0.5 threshold): 0.759\n",
      "F1 Score (0.5 threshold): 0.610 \n",
      "\n",
      "ROC AUC (0.56 threshold): 0.756\n",
      "F1 Score (0.56 threshold): 0.618\n"
     ]
    }
   ],
   "source": [
    "y_pred = gb.predict(x_val)\n",
    "print('ROC AUC (0.5 threshold): %.3f' % (roc_auc_score(y_val, y_pred)))\n",
    "print('F1 Score (0.5 threshold): %.3f' % (f1_score(y_val, y_pred)), '\\n')\n",
    "\n",
    "y_pred_adjusted = (y_prob > 0.56).astype(bool)\n",
    "print('ROC AUC (0.56 threshold): %.3f' % (roc_auc_score(y_val, y_pred_adjusted)))\n",
    "print('F1 Score (0.56 threshold): %.3f' % (f1_score(y_val, y_pred_adjusted)))"
   ]
  },
  {
   "cell_type": "markdown",
   "metadata": {},
   "source": [
    "### Conclusion\n",
    "- The cross validated test f1 score is 0.61 which is better than our baseline score 0.554.\n",
    "- It is observed that the optimal probability threshold is actually 0.5. This proves that the upsampling technique appears to be working in the CV and random search process. The model was able to learn from those oversampled instances and made similar decision on the valiation set. Even though the validation set is not resampled, the model performs well using the default threshold."
   ]
  },
  {
   "cell_type": "markdown",
   "metadata": {},
   "source": [
    "# Step 5. Model Refitting and Performance Assessing"
   ]
  },
  {
   "cell_type": "code",
   "execution_count": 32,
   "metadata": {},
   "outputs": [],
   "source": [
    "# Confusion matrix plot\n",
    "\n",
    "def plot_confusion_matrix(cm, classes, normalize=False):\n",
    "    \"\"\"\n",
    "    This function prints and plots the confusion matrix.\n",
    "    Normalization can be applied by setting `normalize=True`.\n",
    "    \"\"\"\n",
    "    \n",
    "    cmap = plt.cm.Blues\n",
    "    title = \"Confusion Matrix\"\n",
    "    if normalize:\n",
    "        cm = cm.astype('float') / cm.sum(axis=1)[:, np.newaxis]\n",
    "        cm = np.around(cm, decimals=3)\n",
    "\n",
    "    plt.imshow(cm, interpolation='nearest', cmap=cmap)\n",
    "    plt.title(title)\n",
    "    plt.colorbar()\n",
    "    tick_marks = np.arange(len(classes))\n",
    "    plt.xticks(tick_marks, classes, rotation=45)\n",
    "    plt.yticks(tick_marks, classes)\n",
    "\n",
    "    thresh = cm.max() / 2.\n",
    "    for i, j in itertools.product(range(cm.shape[0]), range(cm.shape[1])):\n",
    "        plt.text(j, i, cm[i, j],\n",
    "                 horizontalalignment=\"center\",\n",
    "                 color=\"white\" if cm[i, j] > thresh else \"black\")\n",
    "\n",
    "    plt.tight_layout()\n",
    "    plt.ylabel('True label')\n",
    "    plt.xlabel('Predicted label')"
   ]
  },
  {
   "cell_type": "code",
   "execution_count": 33,
   "metadata": {},
   "outputs": [
    {
     "data": {
      "image/png": "[encoded data removed]",
      "text/plain": [
       "<Figure size 720x432 with 2 Axes>"
      ]
     },
     "metadata": {
      "needs_background": "light"
     },
     "output_type": "display_data"
    }
   ],
   "source": [
    "cfm = confusion_matrix(y_val, y_pred, labels=[0, 1])\n",
    "plt.figure(figsize=(10,6))\n",
    "plot_confusion_matrix(cfm, classes=[\"not churn\", \"churn\"], normalize=True)"
   ]
  },
  {
   "cell_type": "code",
   "execution_count": 34,
   "metadata": {
    "scrolled": false
   },
   "outputs": [
    {
     "data": {
      "image/png": "[encoded data removed]",
      "text/plain": [
       "<Figure size 432x288 with 1 Axes>"
      ]
     },
     "metadata": {
      "needs_background": "light"
     },
     "output_type": "display_data"
    }
   ],
   "source": [
    "# calculate the fpr and tpr for all thresholds of the classification\n",
    "\n",
    "probs = gb.predict_proba(x_val)[:,1]\n",
    "fpr, tpr, threshold = metrics.roc_curve(y_val, y_pred)\n",
    "roc_auc = auc(fpr, tpr)\n",
    "\n",
    "plt.title('Receiver Operating Characteristic')\n",
    "plt.plot(fpr, tpr, 'b', label = 'AUC = %0.2f' % roc_auc)\n",
    "plt.legend(loc = 'lower right')\n",
    "plt.plot([0, 1], [0, 1],'r--')\n",
    "plt.xlim([0, 1])\n",
    "plt.ylim([0, 1])\n",
    "plt.ylabel('True Positive Rate')\n",
    "plt.xlabel('False Positive Rate')\n",
    "plt.show()"
   ]
  },
  {
   "cell_type": "markdown",
   "metadata": {},
   "source": [
    "### Conclusion\n",
    "- We are able to increase 0.05 on f1 score after incorporate the resampling and randomsearch together. This sure is a good exercise for me. Thank you for the help and time to review my project."
   ]
  }
 ],
 "metadata": {
  "kernelspec": {
   "display_name": "Python 3",
   "language": "python",
   "name": "python3"
  },
  "language_info": {
   "codemirror_mode": {
    "name": "ipython",
    "version": 3
   },
   "file_extension": ".py",
   "mimetype": "text/x-python",
   "name": "python",
   "nbconvert_exporter": "python",
   "pygments_lexer": "ipython3",
   "version": "3.7.4"
  }
 },
 "nbformat": 4,
 "nbformat_minor": 2
}
