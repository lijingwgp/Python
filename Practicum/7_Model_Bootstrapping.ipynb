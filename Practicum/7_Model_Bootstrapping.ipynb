{
 "cells": [
  {
   "cell_type": "markdown",
   "metadata": {},
   "source": [
    "----------\n",
    "## Review\n",
    "\n",
    "Hi, my name is Daria! I'm reviewing your project. \n",
    "\n",
    "You can find my comments under the heading «Review». \n",
    "I’m using __<font color='green'>green</font>__ color if everything is done perfectly. Recommendations and remarks are highlighted in __<font color='blue'>blue</font>__. \n",
    "If the topic requires some extra work, the color will be  __<font color='red'>red</font>__. \n",
    "\n",
    "You did an outstanding work! Project is accepted, good luck in future learning :)\n",
    "\n",
    "\n",
    "---------\n"
   ]
  },
  {
   "cell_type": "markdown",
   "metadata": {},
   "source": [
    "# Background Information\n",
    "You work for the OilyGiant mining company. Your task is to find the best place for a new well. Steps to choose the location:\n",
    "- Collect the oil well parameters in the selected region: oil quality and volume of reserves;\n",
    "- Build a model for predicting the volume of reserves in the new wells;\n",
    "- Pick the oil wells with the highest estimated values;\n",
    "- Pick the region with the highest total profit for the selected oil wells.\n",
    "\n",
    "You have data on oil samples from three regions. Parameters of each oil well in the region are already known. Build a model that will help to pick the region with the highest profit margin. Analyze potential profit and risks using the Bootstrap technique."
   ]
  },
  {
   "cell_type": "markdown",
   "metadata": {},
   "source": [
    "# Step 1. Data Preparation\n",
    "Download and prepare the data. Explain the procedure."
   ]
  },
  {
   "cell_type": "code",
   "execution_count": 1,
   "metadata": {},
   "outputs": [],
   "source": [
    "# set up libraries\n",
    "\n",
    "import os\n",
    "import io\n",
    "import itertools\n",
    "import operator\n",
    "import warnings\n",
    "\n",
    "import numpy as np\n",
    "import pandas as pd\n",
    "from math import sqrt\n",
    "from sklearn.linear_model import LinearRegression\n",
    "from sklearn.model_selection import cross_val_score, cross_validate, RepeatedStratifiedKFold, train_test_split\n",
    "from sklearn.metrics import mean_squared_error\n",
    "from sklearn.preprocessing import StandardScaler, OrdinalEncoder\n",
    "from sklearn.utils import resample, shuffle\n",
    "import matplotlib.pyplot as plt\n",
    "import seaborn as sns\n",
    "\n",
    "warnings.simplefilter(action='ignore', category=FutureWarning)\n",
    "warnings.filterwarnings(\"ignore\")\n",
    "pd.pandas.set_option('display.max_columns', None)"
   ]
  },
  {
   "cell_type": "code",
   "execution_count": 2,
   "metadata": {},
   "outputs": [
    {
     "data": {
      "text/plain": [
       "(100000, 5)"
      ]
     },
     "metadata": {},
     "output_type": "display_data"
    },
    {
     "data": {
      "text/plain": [
       "(100000, 5)"
      ]
     },
     "metadata": {},
     "output_type": "display_data"
    },
    {
     "data": {
      "text/plain": [
       "(100000, 5)"
      ]
     },
     "metadata": {},
     "output_type": "display_data"
    }
   ],
   "source": [
    "# Import data and examine shape\n",
    "\n",
    "geo1 = pd.read_csv('/datasets/geo_data_0.csv')\n",
    "geo2 = pd.read_csv('/datasets/geo_data_1.csv')\n",
    "geo3 = pd.read_csv('/datasets/geo_data_2.csv')\n",
    "\n",
    "display(geo1.shape)\n",
    "display(geo2.shape)\n",
    "display(geo3.shape)"
   ]
  },
  {
   "cell_type": "markdown",
   "metadata": {},
   "source": [
    "So this tells us that we have the exactly same oil well parameters acrossing the three selected regions. "
   ]
  },
  {
   "cell_type": "code",
   "execution_count": 3,
   "metadata": {},
   "outputs": [
    {
     "data": {
      "text/html": [
       "<div>\n",
       "<style scoped>\n",
       "    .dataframe tbody tr th:only-of-type {\n",
       "        vertical-align: middle;\n",
       "    }\n",
       "\n",
       "    .dataframe tbody tr th {\n",
       "        vertical-align: top;\n",
       "    }\n",
       "\n",
       "    .dataframe thead th {\n",
       "        text-align: right;\n",
       "    }\n",
       "</style>\n",
       "<table border=\"1\" class=\"dataframe\">\n",
       "  <thead>\n",
       "    <tr style=\"text-align: right;\">\n",
       "      <th></th>\n",
       "      <th>id</th>\n",
       "      <th>f0</th>\n",
       "      <th>f1</th>\n",
       "      <th>f2</th>\n",
       "      <th>product</th>\n",
       "    </tr>\n",
       "  </thead>\n",
       "  <tbody>\n",
       "    <tr>\n",
       "      <td>0</td>\n",
       "      <td>txEyH</td>\n",
       "      <td>0.705745</td>\n",
       "      <td>-0.497823</td>\n",
       "      <td>1.221170</td>\n",
       "      <td>105.280062</td>\n",
       "    </tr>\n",
       "    <tr>\n",
       "      <td>1</td>\n",
       "      <td>2acmU</td>\n",
       "      <td>1.334711</td>\n",
       "      <td>-0.340164</td>\n",
       "      <td>4.365080</td>\n",
       "      <td>73.037750</td>\n",
       "    </tr>\n",
       "    <tr>\n",
       "      <td>2</td>\n",
       "      <td>409Wp</td>\n",
       "      <td>1.022732</td>\n",
       "      <td>0.151990</td>\n",
       "      <td>1.419926</td>\n",
       "      <td>85.265647</td>\n",
       "    </tr>\n",
       "    <tr>\n",
       "      <td>3</td>\n",
       "      <td>iJLyR</td>\n",
       "      <td>-0.032172</td>\n",
       "      <td>0.139033</td>\n",
       "      <td>2.978566</td>\n",
       "      <td>168.620776</td>\n",
       "    </tr>\n",
       "    <tr>\n",
       "      <td>4</td>\n",
       "      <td>Xdl7t</td>\n",
       "      <td>1.988431</td>\n",
       "      <td>0.155413</td>\n",
       "      <td>4.751769</td>\n",
       "      <td>154.036647</td>\n",
       "    </tr>\n",
       "  </tbody>\n",
       "</table>\n",
       "</div>"
      ],
      "text/plain": [
       "      id        f0        f1        f2     product\n",
       "0  txEyH  0.705745 -0.497823  1.221170  105.280062\n",
       "1  2acmU  1.334711 -0.340164  4.365080   73.037750\n",
       "2  409Wp  1.022732  0.151990  1.419926   85.265647\n",
       "3  iJLyR -0.032172  0.139033  2.978566  168.620776\n",
       "4  Xdl7t  1.988431  0.155413  4.751769  154.036647"
      ]
     },
     "metadata": {},
     "output_type": "display_data"
    },
    {
     "data": {
      "text/html": [
       "<div>\n",
       "<style scoped>\n",
       "    .dataframe tbody tr th:only-of-type {\n",
       "        vertical-align: middle;\n",
       "    }\n",
       "\n",
       "    .dataframe tbody tr th {\n",
       "        vertical-align: top;\n",
       "    }\n",
       "\n",
       "    .dataframe thead th {\n",
       "        text-align: right;\n",
       "    }\n",
       "</style>\n",
       "<table border=\"1\" class=\"dataframe\">\n",
       "  <thead>\n",
       "    <tr style=\"text-align: right;\">\n",
       "      <th></th>\n",
       "      <th>id</th>\n",
       "      <th>f0</th>\n",
       "      <th>f1</th>\n",
       "      <th>f2</th>\n",
       "      <th>product</th>\n",
       "    </tr>\n",
       "  </thead>\n",
       "  <tbody>\n",
       "    <tr>\n",
       "      <td>0</td>\n",
       "      <td>kBEdx</td>\n",
       "      <td>-15.001348</td>\n",
       "      <td>-8.276000</td>\n",
       "      <td>-0.005876</td>\n",
       "      <td>3.179103</td>\n",
       "    </tr>\n",
       "    <tr>\n",
       "      <td>1</td>\n",
       "      <td>62mP7</td>\n",
       "      <td>14.272088</td>\n",
       "      <td>-3.475083</td>\n",
       "      <td>0.999183</td>\n",
       "      <td>26.953261</td>\n",
       "    </tr>\n",
       "    <tr>\n",
       "      <td>2</td>\n",
       "      <td>vyE1P</td>\n",
       "      <td>6.263187</td>\n",
       "      <td>-5.948386</td>\n",
       "      <td>5.001160</td>\n",
       "      <td>134.766305</td>\n",
       "    </tr>\n",
       "    <tr>\n",
       "      <td>3</td>\n",
       "      <td>KcrkZ</td>\n",
       "      <td>-13.081196</td>\n",
       "      <td>-11.506057</td>\n",
       "      <td>4.999415</td>\n",
       "      <td>137.945408</td>\n",
       "    </tr>\n",
       "    <tr>\n",
       "      <td>4</td>\n",
       "      <td>AHL4O</td>\n",
       "      <td>12.702195</td>\n",
       "      <td>-8.147433</td>\n",
       "      <td>5.004363</td>\n",
       "      <td>134.766305</td>\n",
       "    </tr>\n",
       "  </tbody>\n",
       "</table>\n",
       "</div>"
      ],
      "text/plain": [
       "      id         f0         f1        f2     product\n",
       "0  kBEdx -15.001348  -8.276000 -0.005876    3.179103\n",
       "1  62mP7  14.272088  -3.475083  0.999183   26.953261\n",
       "2  vyE1P   6.263187  -5.948386  5.001160  134.766305\n",
       "3  KcrkZ -13.081196 -11.506057  4.999415  137.945408\n",
       "4  AHL4O  12.702195  -8.147433  5.004363  134.766305"
      ]
     },
     "metadata": {},
     "output_type": "display_data"
    },
    {
     "data": {
      "text/html": [
       "<div>\n",
       "<style scoped>\n",
       "    .dataframe tbody tr th:only-of-type {\n",
       "        vertical-align: middle;\n",
       "    }\n",
       "\n",
       "    .dataframe tbody tr th {\n",
       "        vertical-align: top;\n",
       "    }\n",
       "\n",
       "    .dataframe thead th {\n",
       "        text-align: right;\n",
       "    }\n",
       "</style>\n",
       "<table border=\"1\" class=\"dataframe\">\n",
       "  <thead>\n",
       "    <tr style=\"text-align: right;\">\n",
       "      <th></th>\n",
       "      <th>id</th>\n",
       "      <th>f0</th>\n",
       "      <th>f1</th>\n",
       "      <th>f2</th>\n",
       "      <th>product</th>\n",
       "    </tr>\n",
       "  </thead>\n",
       "  <tbody>\n",
       "    <tr>\n",
       "      <td>0</td>\n",
       "      <td>fwXo0</td>\n",
       "      <td>-1.146987</td>\n",
       "      <td>0.963328</td>\n",
       "      <td>-0.828965</td>\n",
       "      <td>27.758673</td>\n",
       "    </tr>\n",
       "    <tr>\n",
       "      <td>1</td>\n",
       "      <td>WJtFt</td>\n",
       "      <td>0.262778</td>\n",
       "      <td>0.269839</td>\n",
       "      <td>-2.530187</td>\n",
       "      <td>56.069697</td>\n",
       "    </tr>\n",
       "    <tr>\n",
       "      <td>2</td>\n",
       "      <td>ovLUW</td>\n",
       "      <td>0.194587</td>\n",
       "      <td>0.289035</td>\n",
       "      <td>-5.586433</td>\n",
       "      <td>62.871910</td>\n",
       "    </tr>\n",
       "    <tr>\n",
       "      <td>3</td>\n",
       "      <td>q6cA6</td>\n",
       "      <td>2.236060</td>\n",
       "      <td>-0.553760</td>\n",
       "      <td>0.930038</td>\n",
       "      <td>114.572842</td>\n",
       "    </tr>\n",
       "    <tr>\n",
       "      <td>4</td>\n",
       "      <td>WPMUX</td>\n",
       "      <td>-0.515993</td>\n",
       "      <td>1.716266</td>\n",
       "      <td>5.899011</td>\n",
       "      <td>149.600746</td>\n",
       "    </tr>\n",
       "  </tbody>\n",
       "</table>\n",
       "</div>"
      ],
      "text/plain": [
       "      id        f0        f1        f2     product\n",
       "0  fwXo0 -1.146987  0.963328 -0.828965   27.758673\n",
       "1  WJtFt  0.262778  0.269839 -2.530187   56.069697\n",
       "2  ovLUW  0.194587  0.289035 -5.586433   62.871910\n",
       "3  q6cA6  2.236060 -0.553760  0.930038  114.572842\n",
       "4  WPMUX -0.515993  1.716266  5.899011  149.600746"
      ]
     },
     "metadata": {},
     "output_type": "display_data"
    }
   ],
   "source": [
    "# Having a look at the data initially\n",
    "\n",
    "display(geo1.head())\n",
    "display(geo2.head())\n",
    "display(geo3.head())"
   ]
  },
  {
   "cell_type": "code",
   "execution_count": 4,
   "metadata": {},
   "outputs": [],
   "source": [
    "# Removing unneccessary columns\n",
    "\n",
    "geo1 = geo1.drop('id', axis=1)\n",
    "geo2 = geo2.drop('id', axis=1)\n",
    "geo3 = geo3.drop('id', axis=1)"
   ]
  },
  {
   "cell_type": "code",
   "execution_count": 5,
   "metadata": {},
   "outputs": [],
   "source": [
    "# Function for a first glance of the data\n",
    "\n",
    "def summary(df): \n",
    "    eda_df = {}\n",
    "    eda_df['null_sum'] = df.isnull().sum()\n",
    "    eda_df['null_perc'] = df.isnull().mean()\n",
    "    eda_df['dtypes'] = df.dtypes\n",
    "    eda_df['count'] = df.count()\n",
    "    eda_df['mean'] = df.mean()\n",
    "    eda_df['median'] = df.median()\n",
    "    eda_df['min'] = df.min()\n",
    "    eda_df['max'] = df.max()\n",
    "    return pd.DataFrame(eda_df)"
   ]
  },
  {
   "cell_type": "code",
   "execution_count": 6,
   "metadata": {},
   "outputs": [
    {
     "data": {
      "text/html": [
       "<div>\n",
       "<style scoped>\n",
       "    .dataframe tbody tr th:only-of-type {\n",
       "        vertical-align: middle;\n",
       "    }\n",
       "\n",
       "    .dataframe tbody tr th {\n",
       "        vertical-align: top;\n",
       "    }\n",
       "\n",
       "    .dataframe thead th {\n",
       "        text-align: right;\n",
       "    }\n",
       "</style>\n",
       "<table border=\"1\" class=\"dataframe\">\n",
       "  <thead>\n",
       "    <tr style=\"text-align: right;\">\n",
       "      <th></th>\n",
       "      <th>null_sum</th>\n",
       "      <th>null_perc</th>\n",
       "      <th>dtypes</th>\n",
       "      <th>count</th>\n",
       "      <th>mean</th>\n",
       "      <th>median</th>\n",
       "      <th>min</th>\n",
       "      <th>max</th>\n",
       "    </tr>\n",
       "  </thead>\n",
       "  <tbody>\n",
       "    <tr>\n",
       "      <td>f0</td>\n",
       "      <td>0</td>\n",
       "      <td>0.0</td>\n",
       "      <td>float64</td>\n",
       "      <td>100000</td>\n",
       "      <td>0.500419</td>\n",
       "      <td>0.502360</td>\n",
       "      <td>-1.408605</td>\n",
       "      <td>2.362331</td>\n",
       "    </tr>\n",
       "    <tr>\n",
       "      <td>f1</td>\n",
       "      <td>0</td>\n",
       "      <td>0.0</td>\n",
       "      <td>float64</td>\n",
       "      <td>100000</td>\n",
       "      <td>0.250143</td>\n",
       "      <td>0.250252</td>\n",
       "      <td>-0.848218</td>\n",
       "      <td>1.343769</td>\n",
       "    </tr>\n",
       "    <tr>\n",
       "      <td>f2</td>\n",
       "      <td>0</td>\n",
       "      <td>0.0</td>\n",
       "      <td>float64</td>\n",
       "      <td>100000</td>\n",
       "      <td>2.502647</td>\n",
       "      <td>2.515969</td>\n",
       "      <td>-12.088328</td>\n",
       "      <td>16.003790</td>\n",
       "    </tr>\n",
       "    <tr>\n",
       "      <td>product</td>\n",
       "      <td>0</td>\n",
       "      <td>0.0</td>\n",
       "      <td>float64</td>\n",
       "      <td>100000</td>\n",
       "      <td>92.500000</td>\n",
       "      <td>91.849972</td>\n",
       "      <td>0.000000</td>\n",
       "      <td>185.364347</td>\n",
       "    </tr>\n",
       "  </tbody>\n",
       "</table>\n",
       "</div>"
      ],
      "text/plain": [
       "         null_sum  null_perc   dtypes   count       mean     median  \\\n",
       "f0              0        0.0  float64  100000   0.500419   0.502360   \n",
       "f1              0        0.0  float64  100000   0.250143   0.250252   \n",
       "f2              0        0.0  float64  100000   2.502647   2.515969   \n",
       "product         0        0.0  float64  100000  92.500000  91.849972   \n",
       "\n",
       "               min         max  \n",
       "f0       -1.408605    2.362331  \n",
       "f1       -0.848218    1.343769  \n",
       "f2      -12.088328   16.003790  \n",
       "product   0.000000  185.364347  "
      ]
     },
     "metadata": {},
     "output_type": "display_data"
    },
    {
     "data": {
      "text/html": [
       "<div>\n",
       "<style scoped>\n",
       "    .dataframe tbody tr th:only-of-type {\n",
       "        vertical-align: middle;\n",
       "    }\n",
       "\n",
       "    .dataframe tbody tr th {\n",
       "        vertical-align: top;\n",
       "    }\n",
       "\n",
       "    .dataframe thead th {\n",
       "        text-align: right;\n",
       "    }\n",
       "</style>\n",
       "<table border=\"1\" class=\"dataframe\">\n",
       "  <thead>\n",
       "    <tr style=\"text-align: right;\">\n",
       "      <th></th>\n",
       "      <th>null_sum</th>\n",
       "      <th>null_perc</th>\n",
       "      <th>dtypes</th>\n",
       "      <th>count</th>\n",
       "      <th>mean</th>\n",
       "      <th>median</th>\n",
       "      <th>min</th>\n",
       "      <th>max</th>\n",
       "    </tr>\n",
       "  </thead>\n",
       "  <tbody>\n",
       "    <tr>\n",
       "      <td>f0</td>\n",
       "      <td>0</td>\n",
       "      <td>0.0</td>\n",
       "      <td>float64</td>\n",
       "      <td>100000</td>\n",
       "      <td>1.141296</td>\n",
       "      <td>1.153055</td>\n",
       "      <td>-31.609576</td>\n",
       "      <td>29.421755</td>\n",
       "    </tr>\n",
       "    <tr>\n",
       "      <td>f1</td>\n",
       "      <td>0</td>\n",
       "      <td>0.0</td>\n",
       "      <td>float64</td>\n",
       "      <td>100000</td>\n",
       "      <td>-4.796579</td>\n",
       "      <td>-4.813172</td>\n",
       "      <td>-26.358598</td>\n",
       "      <td>18.734063</td>\n",
       "    </tr>\n",
       "    <tr>\n",
       "      <td>f2</td>\n",
       "      <td>0</td>\n",
       "      <td>0.0</td>\n",
       "      <td>float64</td>\n",
       "      <td>100000</td>\n",
       "      <td>2.494541</td>\n",
       "      <td>2.011479</td>\n",
       "      <td>-0.018144</td>\n",
       "      <td>5.019721</td>\n",
       "    </tr>\n",
       "    <tr>\n",
       "      <td>product</td>\n",
       "      <td>0</td>\n",
       "      <td>0.0</td>\n",
       "      <td>float64</td>\n",
       "      <td>100000</td>\n",
       "      <td>68.825000</td>\n",
       "      <td>57.085625</td>\n",
       "      <td>0.000000</td>\n",
       "      <td>137.945408</td>\n",
       "    </tr>\n",
       "  </tbody>\n",
       "</table>\n",
       "</div>"
      ],
      "text/plain": [
       "         null_sum  null_perc   dtypes   count       mean     median  \\\n",
       "f0              0        0.0  float64  100000   1.141296   1.153055   \n",
       "f1              0        0.0  float64  100000  -4.796579  -4.813172   \n",
       "f2              0        0.0  float64  100000   2.494541   2.011479   \n",
       "product         0        0.0  float64  100000  68.825000  57.085625   \n",
       "\n",
       "               min         max  \n",
       "f0      -31.609576   29.421755  \n",
       "f1      -26.358598   18.734063  \n",
       "f2       -0.018144    5.019721  \n",
       "product   0.000000  137.945408  "
      ]
     },
     "metadata": {},
     "output_type": "display_data"
    },
    {
     "data": {
      "text/html": [
       "<div>\n",
       "<style scoped>\n",
       "    .dataframe tbody tr th:only-of-type {\n",
       "        vertical-align: middle;\n",
       "    }\n",
       "\n",
       "    .dataframe tbody tr th {\n",
       "        vertical-align: top;\n",
       "    }\n",
       "\n",
       "    .dataframe thead th {\n",
       "        text-align: right;\n",
       "    }\n",
       "</style>\n",
       "<table border=\"1\" class=\"dataframe\">\n",
       "  <thead>\n",
       "    <tr style=\"text-align: right;\">\n",
       "      <th></th>\n",
       "      <th>null_sum</th>\n",
       "      <th>null_perc</th>\n",
       "      <th>dtypes</th>\n",
       "      <th>count</th>\n",
       "      <th>mean</th>\n",
       "      <th>median</th>\n",
       "      <th>min</th>\n",
       "      <th>max</th>\n",
       "    </tr>\n",
       "  </thead>\n",
       "  <tbody>\n",
       "    <tr>\n",
       "      <td>f0</td>\n",
       "      <td>0</td>\n",
       "      <td>0.0</td>\n",
       "      <td>float64</td>\n",
       "      <td>100000</td>\n",
       "      <td>0.002023</td>\n",
       "      <td>0.009424</td>\n",
       "      <td>-8.760004</td>\n",
       "      <td>7.238262</td>\n",
       "    </tr>\n",
       "    <tr>\n",
       "      <td>f1</td>\n",
       "      <td>0</td>\n",
       "      <td>0.0</td>\n",
       "      <td>float64</td>\n",
       "      <td>100000</td>\n",
       "      <td>-0.002081</td>\n",
       "      <td>-0.009482</td>\n",
       "      <td>-7.084020</td>\n",
       "      <td>7.844801</td>\n",
       "    </tr>\n",
       "    <tr>\n",
       "      <td>f2</td>\n",
       "      <td>0</td>\n",
       "      <td>0.0</td>\n",
       "      <td>float64</td>\n",
       "      <td>100000</td>\n",
       "      <td>2.495128</td>\n",
       "      <td>2.484236</td>\n",
       "      <td>-11.970335</td>\n",
       "      <td>16.739402</td>\n",
       "    </tr>\n",
       "    <tr>\n",
       "      <td>product</td>\n",
       "      <td>0</td>\n",
       "      <td>0.0</td>\n",
       "      <td>float64</td>\n",
       "      <td>100000</td>\n",
       "      <td>95.000000</td>\n",
       "      <td>94.925613</td>\n",
       "      <td>0.000000</td>\n",
       "      <td>190.029838</td>\n",
       "    </tr>\n",
       "  </tbody>\n",
       "</table>\n",
       "</div>"
      ],
      "text/plain": [
       "         null_sum  null_perc   dtypes   count       mean     median  \\\n",
       "f0              0        0.0  float64  100000   0.002023   0.009424   \n",
       "f1              0        0.0  float64  100000  -0.002081  -0.009482   \n",
       "f2              0        0.0  float64  100000   2.495128   2.484236   \n",
       "product         0        0.0  float64  100000  95.000000  94.925613   \n",
       "\n",
       "               min         max  \n",
       "f0       -8.760004    7.238262  \n",
       "f1       -7.084020    7.844801  \n",
       "f2      -11.970335   16.739402  \n",
       "product   0.000000  190.029838  "
      ]
     },
     "metadata": {},
     "output_type": "display_data"
    }
   ],
   "source": [
    "# Numerical summary of the three datasets\n",
    "\n",
    "display(summary(geo1))\n",
    "display(summary(geo2))\n",
    "display(summary(geo3))"
   ]
  },
  {
   "cell_type": "markdown",
   "metadata": {},
   "source": [
    "It looks like we don't have categorical variables and all varialbes from the datasets have similar scale. There is no null values as well."
   ]
  },
  {
   "cell_type": "markdown",
   "metadata": {},
   "source": [
    "----------\n",
    "<font color='green'>\n",
    "\n",
    "## Review\n",
    "\n",
    "A very detailed data analysis :)   \n",
    "    \n",
    "</font>\n",
    "\n",
    "---------"
   ]
  },
  {
   "cell_type": "markdown",
   "metadata": {},
   "source": [
    "### Conclusion"
   ]
  },
  {
   "cell_type": "markdown",
   "metadata": {},
   "source": [
    "# Step 2. Baseline Performance Assessment\n",
    "Train and test model for each region:\n",
    "1. Split the data into a training set and validation set at a ratio of 75:25.\n",
    "2. Train the model and make predictions for the validation set.\n",
    "3. Save the predictions and correct answers for the validation set.\n",
    "4. Print the average volume of predicted reserves and model RMSE.\n",
    "5. Analyze the results."
   ]
  },
  {
   "cell_type": "code",
   "execution_count": 7,
   "metadata": {},
   "outputs": [],
   "source": [
    "# train-test split / 75-25\n",
    "\n",
    "train1, val1 = train_test_split(geo1, test_size=0.25, random_state=123)\n",
    "train2, val2 = train_test_split(geo2, test_size=0.25, random_state=123)\n",
    "train3, val3 = train_test_split(geo3, test_size=0.25, random_state=123)\n",
    "\n",
    "x_train1, x_val1 = train1.drop('product', axis=1), val1.drop('product', axis=1)\n",
    "x_train2, x_val2 = train2.drop('product', axis=1), val2.drop('product', axis=1)\n",
    "x_train3, x_val3 = train3.drop('product', axis=1), val3.drop('product', axis=1)\n",
    "\n",
    "y_train1, y_val1 = train1['product'], val1['product']\n",
    "y_train2, y_val2 = train2['product'], val2['product']\n",
    "y_train3, y_val3 = train3['product'], val3['product']"
   ]
  },
  {
   "cell_type": "code",
   "execution_count": 8,
   "metadata": {},
   "outputs": [],
   "source": [
    "# train three models separatly for each region then make predictions using the val set\n",
    "\n",
    "m1 = LinearRegression()\n",
    "m2 = LinearRegression()\n",
    "m3 = LinearRegression()\n",
    "\n",
    "m1.fit(x_train1, y_train1)\n",
    "m2.fit(x_train2, y_train2)\n",
    "m3.fit(x_train3, y_train3)\n",
    "\n",
    "pred1 = m1.predict(x_val1)\n",
    "pred2 = m2.predict(x_val2)\n",
    "pred3 = m3.predict(x_val3)"
   ]
  },
  {
   "cell_type": "code",
   "execution_count": 9,
   "metadata": {},
   "outputs": [
    {
     "name": "stdout",
     "output_type": "stream",
     "text": [
      "average of true volume1: 92.85062391123445 ---> average of predicted volume1: 92.54936189116309\n",
      "average of true volume1: 69.27371236077902 ---> average of predicted volume1: 69.28001860653976\n",
      "average of true volume1: 94.87348818660215 ---> average of predicted volume1: 95.09859933591373 \n",
      "\n",
      "model1 RSME: 37.65\n",
      "model2 RSME: 0.90\n",
      "model3 RSME: 40.13\n"
     ]
    }
   ],
   "source": [
    "# print the average volume of predicted reserves and model RMSE\n",
    "\n",
    "print(f'average of true volume1: {y_val1.mean()} ---> average of predicted volume1: {pred1.mean()}') \n",
    "print(f'average of true volume1: {y_val2.mean()} ---> average of predicted volume1: {pred2.mean()}') \n",
    "print(f'average of true volume1: {y_val3.mean()} ---> average of predicted volume1: {pred3.mean()}','\\n') \n",
    "\n",
    "print('model1 RSME: %.2f' % (sqrt(mean_squared_error(y_val1, pred1))))\n",
    "print('model2 RSME: %.2f' % (sqrt(mean_squared_error(y_val2, pred2))))\n",
    "print('model3 RSME: %.2f' % (sqrt(mean_squared_error(y_val3, pred3))))"
   ]
  },
  {
   "cell_type": "markdown",
   "metadata": {},
   "source": [
    "### Conclusion\n",
    "RMSE represents the sample standard deviation of the differences between predicted values and observed values. So from a interpretation point of view, this metric may not be very easy to understood especially when comparing to MAE. However, one distinct advantage of the RMSE is that it penalizes the higher difference more than MAE does. \n",
    "\n",
    "Observing from our results, model2 clearly has the lowest RMSE which makes it a better model comparing aginist with the rest. But our goal for this part is not to choose the most accurate model but to choose the model that yields the highest predicted reserve volume. That said, model3 could be the potential model of our choice. Of cource we should analyze cost, risk and profits and then make further decisions.  "
   ]
  },
  {
   "cell_type": "markdown",
   "metadata": {},
   "source": [
    "----------\n",
    "<font color='green'>\n",
    "\n",
    "## Review\n",
    "\n",
    "Good job on training and testing models :) Interesting result for region2, you could try to find the reason for such a low RMSE by computing correlation coefficients between features and target.\n",
    "    \n",
    "</font><font color='blue'> But it would be better if you created a function or a loop instead of using the same code for different regions. It would make your code more readable and scalable :)\n",
    "    \n",
    "</font>\n",
    "\n",
    "---------"
   ]
  },
  {
   "cell_type": "markdown",
   "metadata": {},
   "source": [
    "# Step 3. Prepare for profit calculation\n",
    "1. Store all key values for calculations in separate variables.\n",
    "2. Calculate the volume of reserves sufficient for developing a new well without losses. Compare the obtained value with the average volume of reserves in each region.\n",
    "3. Provide the findings about the preparation for profit calculation step."
   ]
  },
  {
   "cell_type": "code",
   "execution_count": 10,
   "metadata": {},
   "outputs": [
    {
     "data": {
      "text/plain": [
       "111.11111111111111"
      ]
     },
     "execution_count": 10,
     "metadata": {},
     "output_type": "execute_result"
    }
   ],
   "source": [
    "# Store key values then calculate the volume of reserses needed for a new well\n",
    "\n",
    "budget = 100000000\n",
    "number_wells = 200\n",
    "cost_per_well = 500000\n",
    "revenue_per_unit = 4.5*1000\n",
    "expected_vol_per_reserve = cost_per_well / revenue_per_unit\n",
    "expected_vol_per_reserve"
   ]
  },
  {
   "cell_type": "markdown",
   "metadata": {},
   "source": [
    "### Conclusion\n",
    "- The logic used to calculate the expected volume of reserves for developing a new well without any losses is that we need to calculate the cost required for building one well. At that point, no losses would mean that the revenue generated from this well would be at least equal to or maybe even greater than such cost. In other words, the cost is our benchmark we want to achieve, and if we know how much revenue is generated from one unit of product, we can calculate the expected number of units of products. This number will be our estimated volume of the reserve.  \n",
    "- We see that 111.11 is the volume of reserves sufficient for developing a new well. This volume is bigger than the average predicted volumes and that gives motivation for use bootstrap for a more accurate choice of best region."
   ]
  },
  {
   "cell_type": "markdown",
   "metadata": {},
   "source": [
    "----------\n",
    "<font color='green'>\n",
    "\n",
    "## Review\n",
    "\n",
    "Your calculation is correct, as well as the conclusion :)\n",
    "    \n",
    "</font>\n",
    "\n",
    "---------"
   ]
  },
  {
   "cell_type": "markdown",
   "metadata": {},
   "source": [
    "# Step 4. Profit Functions\n",
    "1. Pick the wells with the highest values of predictions. The number of wells depends on the budget and cost of developing one oil well.\n",
    "2. Summarize the target volume of reserves in accordance with these predictions\n",
    "3. Provide findings: suggest a region for oil wells' development and justify the choice. Calculate the profit for the obtained volume of reserves."
   ]
  },
  {
   "cell_type": "code",
   "execution_count": 13,
   "metadata": {},
   "outputs": [],
   "source": [
    "def profit(target, predictions, count, revenue_per_unit, cost_per_well):\n",
    "    \n",
    "    # pick the wells with the highest predicted values\n",
    "    pred_sorted = pd.Series(predictions).sort_values(ascending=False)\n",
    "    target.reset_index(drop=True, inplace=True)\n",
    "    selected_wells = target[pred_sorted.index][:count]\n",
    "    \n",
    "    # summarize the target volume in accordance\n",
    "    total_region_vol = selected_wells.sum()\n",
    "    \n",
    "    revenue = total_region_vol * revenue_per_unit\n",
    "    cost = count * cost_per_well\n",
    "    \n",
    "    return revenue-cost"
   ]
  },
  {
   "cell_type": "code",
   "execution_count": 14,
   "metadata": {},
   "outputs": [
    {
     "name": "stdout",
     "output_type": "stream",
     "text": [
      "35346709.17261383 24150866.966815114 23703438.630213737\n"
     ]
    }
   ],
   "source": [
    "# initial findings\n",
    "\n",
    "profit_region1 = profit(y_val1, pred1, 200, revenue_per_unit, cost_per_well)\n",
    "profit_region2 = profit(y_val2, pred2, 200, revenue_per_unit, cost_per_well)\n",
    "profit_region3 = profit(y_val3, pred3, 200, revenue_per_unit, cost_per_well)\n",
    "\n",
    "print(profit_region1, profit_region2, profit_region3)"
   ]
  },
  {
   "cell_type": "markdown",
   "metadata": {},
   "source": [
    "### Conclusion\n",
    "- After calculating the potential profit for these three regions, region1 is suggested to be our choice of location to build next wells because the profit made from this location is the highest.\n",
    "- However, note that this is a one-time estimate which may be quite differ from what could really happened in real situations. To better get a understanding of the potential of each region, we need to compare profit distributions of the three region."
   ]
  },
  {
   "cell_type": "markdown",
   "metadata": {},
   "source": [
    "----------\n",
    "<font color='green'>\n",
    "\n",
    "## Review\n",
    "\n",
    "You are right, we need to know the probability of this outcome :)\n",
    "    \n",
    "</font>\n",
    "\n",
    "---------"
   ]
  },
  {
   "cell_type": "markdown",
   "metadata": {},
   "source": [
    "# Step 5. Calculate risks and profit for each region\n",
    "1. Use the bootstrap technique with 1000 samples to find the distribution of profit.\n",
    "2. Find average profit, 95% confidence interval and risk of losses. Loss is negative profit.\n",
    "3. Provide findings: suggest a region for development of oil wells and justify the choice."
   ]
  },
  {
   "cell_type": "code",
   "execution_count": 15,
   "metadata": {},
   "outputs": [],
   "source": [
    "# boostrapping function\n",
    "\n",
    "def bootstrap(target, prediction):\n",
    "    state = np.random.RandomState(123)\n",
    "    \n",
    "    values=[]\n",
    "    for i in range(1000):\n",
    "        target_resample = target.sample(n=500, replace=True, random_state=state)\n",
    "        pred_resample = prediction[target_resample.index]\n",
    "        values.append(profit(target_resample, pred_resample, 200, revenue_per_unit, cost_per_well))\n",
    "        \n",
    "    values = pd.Series(values)\n",
    "    mean = values.mean()\n",
    "    lower = values.quantile(0.025)\n",
    "    upper = values.quantile(0.975)\n",
    "    \n",
    "    return mean, lower, upper"
   ]
  },
  {
   "cell_type": "code",
   "execution_count": 18,
   "metadata": {},
   "outputs": [
    {
     "name": "stdout",
     "output_type": "stream",
     "text": [
      "For region1, average profit is: 4774168.242664123 | 95% conf interval lower is: -579939.1179927464 | 95% conf interval upper\n",
      " is: 9748220.147728719 \n",
      "\n",
      "For region2, average profit is: 4791901.613003321 | 95% conf interval lower is: 587268.775879572 | 95% conf interval upper\n",
      " is: 8744248.194881873 \n",
      "\n",
      "For region3, average profit is: 3434543.7658087574 | 95% conf interval lower is: -2313762.552278907 | 95% conf interval upper\n",
      " is: 8608406.698830131 \n",
      "\n"
     ]
    }
   ],
   "source": [
    "# region 1\n",
    "\n",
    "mean1, lower1, upper1 = bootstrap(y_val1, pred1)\n",
    "mean2, lower2, upper2 = bootstrap(y_val2, pred2)\n",
    "mean3, lower3, upper3 = bootstrap(y_val3, pred3)\n",
    "\n",
    "print(f'For region1, average profit is: {mean1} | 95% conf interval lower is: {lower1} | 95% conf interval upper\\n is: {upper1}', '\\n')\n",
    "print(f'For region2, average profit is: {mean2} | 95% conf interval lower is: {lower2} | 95% conf interval upper\\n is: {upper2}', '\\n')\n",
    "print(f'For region3, average profit is: {mean3} | 95% conf interval lower is: {lower3} | 95% conf interval upper\\n is: {upper3}', '\\n')"
   ]
  },
  {
   "cell_type": "markdown",
   "metadata": {},
   "source": [
    "### Conclusion\n",
    "- Based on comparing the profit distributions of the three regions, it is suggested that region2 would be the most profitable since it has the highest average profit which is simulated over 1000 times. \n",
    "- Both region1 and region3 risks losses because its lower bound of 95% confidence interval is negative."
   ]
  },
  {
   "cell_type": "markdown",
   "metadata": {},
   "source": [
    "----------\n",
    "<font color='green'>\n",
    "\n",
    "## Review\n",
    "\n",
    "Great, your implementation of bootstrap is correct, and your conclusion could be really useful for business :)\n",
    "    \n",
    "</font>\n",
    "\n",
    "---------\n"
   ]
  }
 ],
 "metadata": {
  "kernelspec": {
   "display_name": "Python 3",
   "language": "python",
   "name": "python3"
  },
  "language_info": {
   "codemirror_mode": {
    "name": "ipython",
    "version": 3
   },
   "file_extension": ".py",
   "mimetype": "text/x-python",
   "name": "python",
   "nbconvert_exporter": "python",
   "pygments_lexer": "ipython3",
   "version": "3.7.4"
  }
 },
 "nbformat": 4,
 "nbformat_minor": 2
}
