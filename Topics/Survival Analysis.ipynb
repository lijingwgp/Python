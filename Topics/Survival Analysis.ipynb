{
 "cells": [
  {
   "cell_type": "code",
   "execution_count": 2,
   "metadata": {},
   "outputs": [],
   "source": [
    "import lifelines\n",
    "import numpy as np\n",
    "import pandas as pd\n",
    "import matplotlib.pyplot as plt\n",
    "plt.style.use('seaborn')"
   ]
  },
  {
   "cell_type": "markdown",
   "metadata": {},
   "source": [
    "# Overview"
   ]
  },
  {
   "cell_type": "markdown",
   "metadata": {},
   "source": [
    "Survival analysis is to analyze the effec of different risk factors and use them to predict the duration of time between one event (birth) and another (death). It was first developed to predict how long individuals would survive. However, it has expanded into many different applications.\n",
    "\n",
    "In the general sense, it can be thought of as a way to model anything with a finite duration - retention, churn, completion...\n",
    "Here are the definition of \"birth\" and \"death\" and a few examples:\n",
    "\n",
    "    - birth are events that marks the beginning of the time period for observation.\n",
    "    - death are the occurring of the event of interest, which marks the end of the observation period.\n",
    "    \n",
    "    Example: customer churn      Birth Event: customer subscribes to a service      Death Event: customer leaves\n",
    "             employee retention               employee is hired                                  employee quits\n",
    "             part reliability                 part is in use                                     part fails\n",
    "             program completion               begins PhD program                                 earns PhD\n",
    "             response time                    call is made                                       police arrive\n",
    "             "
   ]
  },
  {
   "cell_type": "markdown",
   "metadata": {},
   "source": [
    "# Censorship in Data"
   ]
  },
  {
   "cell_type": "markdown",
   "metadata": {},
   "source": [
    "When we havn't observe the \"death\" event for some subject, these observations are said to be censored. Suppose a new cancer treatment is developed. Researchers select 50 individuals for the study to undergo treatment and participate in post-treatment observation. During the study:\n",
    "\n",
    "    1. Some subjects die during the course of study which would trigering their death event.\n",
    "    2. Some subjects drop out, or the researchers lose contact with them. The researchers have their data up until some point,        but they don't have a death event to record.\n",
    "    3. Some participants are still alive at the end of the observation period. So again, researchers have their data up until          some point, but there is no death event to record.\n",
    "\n",
    "We could deal with censored data in two ways:\n",
    "\n",
    "    1. We could just treat the end of the observtion period as the time of the death event.\n",
    "    2. We could drop the censored data using the rationale that we have \"incomplete data\" for those observations\n",
    "\n",
    "But, both will underestimate survival rates. "
   ]
  },
  {
   "cell_type": "markdown",
   "metadata": {},
   "source": [
    "# Hazard Function"
   ]
  },
  {
   "cell_type": "markdown",
   "metadata": {},
   "source": [
    "The hazard function represents the instantaneous likelihood of failure. It can be treated as a PDF, and with real-world data, it comes in three typical shapes:\n",
    "\n",
    "    - increasing failure rate\n",
    "    - bathtub shaped\n",
    "    - decreasing failure rate\n",
    "    \n",
    "Increasing and decreasing failure rate are fairly intuitive - the bathtub shaped is the most surprising. What the \"bathtub\" means is that - threats are highest at youth, but then decrease and stabilize at maturity, only to eventually re-emerge in old age. "
   ]
  },
  {
   "cell_type": "markdown",
   "metadata": {},
   "source": [
    "# Survival Function"
   ]
  },
  {
   "attachments": {},
   "cell_type": "markdown",
   "metadata": {},
   "source": [
    "As you can see they all start at 1 for time 0 - at the beginning, all things are alive. Then they all move down over time to eventually approach and converge to 0.\n",
    "\n",
    "Key components for survival analysis:\n",
    "\n",
    "    - Kaplan Meier Estimator\n",
    "    - Nelson Aalen Estimator\n",
    "    - Proportional Hazards (Cox Model, integrates covariate)\n",
    "    - Additive Hazards Model (Aalen's Additive Model, when covariates are time-dependent)\n",
    "    \n",
    "Note that we can use any Pandas DataFrame with lifelines, but we must have features for:\n",
    "\n",
    "    - a duration of time for the observation\n",
    "    - a binary column regarding censorthip (1 if the death event was observed, 0 if the death event was not observed)\n",
    "    \n",
    "Sometimes, we will have to engineer these features. How might we go about that?"
   ]
  },
  {
   "cell_type": "markdown",
   "metadata": {},
   "source": [
    "# Example 1: Leukemia"
   ]
  },
  {
   "cell_type": "markdown",
   "metadata": {},
   "source": [
    "lifelines comes with some datasets to get us started. Most of the datasets are cleaned-up versions of real datasets. Here we will use the Leukemia dataset comparing 2 different treatments."
   ]
  },
  {
   "cell_type": "code",
   "execution_count": 3,
   "metadata": {},
   "outputs": [
    {
     "data": {
      "text/html": [
       "<div>\n",
       "<style scoped>\n",
       "    .dataframe tbody tr th:only-of-type {\n",
       "        vertical-align: middle;\n",
       "    }\n",
       "\n",
       "    .dataframe tbody tr th {\n",
       "        vertical-align: top;\n",
       "    }\n",
       "\n",
       "    .dataframe thead th {\n",
       "        text-align: right;\n",
       "    }\n",
       "</style>\n",
       "<table border=\"1\" class=\"dataframe\">\n",
       "  <thead>\n",
       "    <tr style=\"text-align: right;\">\n",
       "      <th></th>\n",
       "      <th>t</th>\n",
       "      <th>status</th>\n",
       "      <th>sex</th>\n",
       "      <th>logWBC</th>\n",
       "      <th>Rx</th>\n",
       "    </tr>\n",
       "  </thead>\n",
       "  <tbody>\n",
       "    <tr>\n",
       "      <th>0</th>\n",
       "      <td>35</td>\n",
       "      <td>0</td>\n",
       "      <td>1</td>\n",
       "      <td>1.45</td>\n",
       "      <td>0</td>\n",
       "    </tr>\n",
       "    <tr>\n",
       "      <th>1</th>\n",
       "      <td>34</td>\n",
       "      <td>0</td>\n",
       "      <td>1</td>\n",
       "      <td>1.47</td>\n",
       "      <td>0</td>\n",
       "    </tr>\n",
       "    <tr>\n",
       "      <th>2</th>\n",
       "      <td>32</td>\n",
       "      <td>0</td>\n",
       "      <td>1</td>\n",
       "      <td>2.20</td>\n",
       "      <td>0</td>\n",
       "    </tr>\n",
       "    <tr>\n",
       "      <th>3</th>\n",
       "      <td>32</td>\n",
       "      <td>0</td>\n",
       "      <td>1</td>\n",
       "      <td>2.53</td>\n",
       "      <td>0</td>\n",
       "    </tr>\n",
       "    <tr>\n",
       "      <th>4</th>\n",
       "      <td>25</td>\n",
       "      <td>0</td>\n",
       "      <td>1</td>\n",
       "      <td>1.78</td>\n",
       "      <td>0</td>\n",
       "    </tr>\n",
       "  </tbody>\n",
       "</table>\n",
       "</div>"
      ],
      "text/plain": [
       "    t  status  sex  logWBC  Rx\n",
       "0  35       0    1    1.45   0\n",
       "1  34       0    1    1.47   0\n",
       "2  32       0    1    2.20   0\n",
       "3  32       0    1    2.53   0\n",
       "4  25       0    1    1.78   0"
      ]
     },
     "execution_count": 3,
     "metadata": {},
     "output_type": "execute_result"
    }
   ],
   "source": [
    "from lifelines.datasets import load_leukemia\n",
    "\n",
    "leukemia = load_leukemia()\n",
    "leukemia.head()"
   ]
  },
  {
   "cell_type": "code",
   "execution_count": 4,
   "metadata": {},
   "outputs": [
    {
     "name": "stdout",
     "output_type": "stream",
     "text": [
      "<class 'pandas.core.frame.DataFrame'>\n",
      "RangeIndex: 42 entries, 0 to 41\n",
      "Data columns (total 5 columns):\n",
      "t         42 non-null int64\n",
      "status    42 non-null int64\n",
      "sex       42 non-null int64\n",
      "logWBC    42 non-null float64\n",
      "Rx        42 non-null int64\n",
      "dtypes: float64(1), int64(4)\n",
      "memory usage: 1.7 KB\n"
     ]
    }
   ],
   "source": [
    "leukemia.info()"
   ]
  },
  {
   "cell_type": "code",
   "execution_count": 5,
   "metadata": {},
   "outputs": [
    {
     "data": {
      "text/html": [
       "<div>\n",
       "<style scoped>\n",
       "    .dataframe tbody tr th:only-of-type {\n",
       "        vertical-align: middle;\n",
       "    }\n",
       "\n",
       "    .dataframe tbody tr th {\n",
       "        vertical-align: top;\n",
       "    }\n",
       "\n",
       "    .dataframe thead th {\n",
       "        text-align: right;\n",
       "    }\n",
       "</style>\n",
       "<table border=\"1\" class=\"dataframe\">\n",
       "  <thead>\n",
       "    <tr style=\"text-align: right;\">\n",
       "      <th></th>\n",
       "      <th>t</th>\n",
       "      <th>status</th>\n",
       "      <th>sex</th>\n",
       "      <th>logWBC</th>\n",
       "      <th>Rx</th>\n",
       "    </tr>\n",
       "  </thead>\n",
       "  <tbody>\n",
       "    <tr>\n",
       "      <th>count</th>\n",
       "      <td>42.000000</td>\n",
       "      <td>42.000000</td>\n",
       "      <td>42.000000</td>\n",
       "      <td>42.000000</td>\n",
       "      <td>42.000000</td>\n",
       "    </tr>\n",
       "    <tr>\n",
       "      <th>mean</th>\n",
       "      <td>12.880952</td>\n",
       "      <td>0.714286</td>\n",
       "      <td>0.476190</td>\n",
       "      <td>2.930238</td>\n",
       "      <td>0.500000</td>\n",
       "    </tr>\n",
       "    <tr>\n",
       "      <th>std</th>\n",
       "      <td>9.347498</td>\n",
       "      <td>0.457230</td>\n",
       "      <td>0.505487</td>\n",
       "      <td>0.917522</td>\n",
       "      <td>0.506061</td>\n",
       "    </tr>\n",
       "    <tr>\n",
       "      <th>min</th>\n",
       "      <td>1.000000</td>\n",
       "      <td>0.000000</td>\n",
       "      <td>0.000000</td>\n",
       "      <td>1.450000</td>\n",
       "      <td>0.000000</td>\n",
       "    </tr>\n",
       "    <tr>\n",
       "      <th>25%</th>\n",
       "      <td>6.000000</td>\n",
       "      <td>0.000000</td>\n",
       "      <td>0.000000</td>\n",
       "      <td>2.302500</td>\n",
       "      <td>0.000000</td>\n",
       "    </tr>\n",
       "    <tr>\n",
       "      <th>50%</th>\n",
       "      <td>10.500000</td>\n",
       "      <td>1.000000</td>\n",
       "      <td>0.000000</td>\n",
       "      <td>2.800000</td>\n",
       "      <td>0.500000</td>\n",
       "    </tr>\n",
       "    <tr>\n",
       "      <th>75%</th>\n",
       "      <td>18.500000</td>\n",
       "      <td>1.000000</td>\n",
       "      <td>1.000000</td>\n",
       "      <td>3.490000</td>\n",
       "      <td>1.000000</td>\n",
       "    </tr>\n",
       "    <tr>\n",
       "      <th>max</th>\n",
       "      <td>35.000000</td>\n",
       "      <td>1.000000</td>\n",
       "      <td>1.000000</td>\n",
       "      <td>5.000000</td>\n",
       "      <td>1.000000</td>\n",
       "    </tr>\n",
       "  </tbody>\n",
       "</table>\n",
       "</div>"
      ],
      "text/plain": [
       "               t     status        sex     logWBC         Rx\n",
       "count  42.000000  42.000000  42.000000  42.000000  42.000000\n",
       "mean   12.880952   0.714286   0.476190   2.930238   0.500000\n",
       "std     9.347498   0.457230   0.505487   0.917522   0.506061\n",
       "min     1.000000   0.000000   0.000000   1.450000   0.000000\n",
       "25%     6.000000   0.000000   0.000000   2.302500   0.000000\n",
       "50%    10.500000   1.000000   0.000000   2.800000   0.500000\n",
       "75%    18.500000   1.000000   1.000000   3.490000   1.000000\n",
       "max    35.000000   1.000000   1.000000   5.000000   1.000000"
      ]
     },
     "execution_count": 5,
     "metadata": {},
     "output_type": "execute_result"
    }
   ],
   "source": [
    "leukemia.describe()"
   ]
  },
  {
   "cell_type": "code",
   "execution_count": 6,
   "metadata": {},
   "outputs": [
    {
     "data": {
      "image/png": "[encoded data removed]",
      "text/plain": [
       "<Figure size 576x396 with 1 Axes>"
      ]
     },
     "metadata": {},
     "output_type": "display_data"
    }
   ],
   "source": [
    "durations = leukemia.t.values\n",
    "events = leukemia.status.values\n",
    "\n",
    "ax = lifelines.plotting.plot_lifetimes(durations=durations,event_observed=events)\n",
    "ax.set_xlim(0, 40)\n",
    "ax.grid(axis='x')\n",
    "ax.set_xlabel(\"Time in Months\")\n",
    "ax.set_title(\"Lifelines for Survival of Leukemia Patients\");\n",
    "plt.plot();"
   ]
  },
  {
   "cell_type": "code",
   "execution_count": 10,
   "metadata": {},
   "outputs": [
    {
     "data": {
      "text/plain": [
       "0     35\n",
       "1     34\n",
       "2     32\n",
       "3     32\n",
       "4     25\n",
       "5     23\n",
       "6     22\n",
       "7     20\n",
       "8     19\n",
       "9     17\n",
       "10    16\n",
       "11    13\n",
       "12    11\n",
       "13    10\n",
       "14    10\n",
       "15     9\n",
       "16     7\n",
       "17     6\n",
       "18     6\n",
       "19     6\n",
       "20     6\n",
       "21    23\n",
       "22    22\n",
       "23    17\n",
       "24    15\n",
       "25    12\n",
       "26    12\n",
       "27    11\n",
       "28    11\n",
       "29     8\n",
       "30     8\n",
       "31     8\n",
       "32     8\n",
       "33     5\n",
       "34     5\n",
       "35     4\n",
       "36     4\n",
       "37     3\n",
       "38     2\n",
       "39     2\n",
       "40     1\n",
       "41     1\n",
       "Name: t, dtype: int64"
      ]
     },
     "execution_count": 10,
     "metadata": {},
     "output_type": "execute_result"
    }
   ],
   "source": [
    "leukemia.status\n",
    "leukemia.t"
   ]
  },
  {
   "cell_type": "markdown",
   "metadata": {},
   "source": [
    "# Kaplan-Meier survival estimate"
   ]
  },
  {
   "cell_type": "markdown",
   "metadata": {},
   "source": [
    "The Kaplan-Meier method estimates survival probability from observed survival times. It results in a step function that changes value only at the time of each event, and confidence intervals can be computed for the survival probabilities.\n",
    "\n",
    "The KM survival curve, a plot of KM survival probability against time, provide a useful summary of the data. It can be used to estimate measures such as median survival time.\n",
    "\n",
    "It cannot account for risk factors and is not regression. It is non-parametric (does not involve parameters).\n",
    "\n",
    "However, it is a good way to visualize a survival dataset, and can be useful to compare the effects of a single catgorical variable."
   ]
  },
  {
   "cell_type": "code",
   "execution_count": 12,
   "metadata": {},
   "outputs": [
    {
     "name": "stdout",
     "output_type": "stream",
     "text": [
      "Median Survival: 12.0 months after treatment\n"
     ]
    },
    {
     "data": {
      "image/png": "[encoded data removed]",
      "text/plain": [
       "<Figure size 576x396 with 1 Axes>"
      ]
     },
     "metadata": {},
     "output_type": "display_data"
    }
   ],
   "source": [
    "kmf = lifelines.KaplanMeierFitter()\n",
    "kmf.fit(durations, events)\n",
    "\n",
    "kmf.survival_function_.plot.line()\n",
    "#kmf.survival_function_.plot()\n",
    "plt.title('KM Survival Function: Leukemia Patients');\n",
    "print(f'Median Survival: {kmf.median_} months after treatment')"
   ]
  },
  {
   "cell_type": "code",
   "execution_count": 13,
   "metadata": {},
   "outputs": [
    {
     "name": "stdout",
     "output_type": "stream",
     "text": [
      "Median survival time with Treatment 1: 8.0 months\n",
      "Median survival time with Treatment 0: 23.0 months\n"
     ]
    },
    {
     "data": {
      "image/png": "[encoded data removed]",
      "text/plain": [
       "<Figure size 576x396 with 1 Axes>"
      ]
     },
     "metadata": {},
     "output_type": "display_data"
    }
   ],
   "source": [
    "# compare the effects of a single categorical variable, RX\n",
    "ax = plt.subplot(111)\n",
    "\n",
    "treatment = (leukemia['Rx'] == 1)\n",
    "kmf.fit(durations[treatment],events[treatment],label=\"Treatment 1\")\n",
    "kmf.plot(ax=ax)\n",
    "print(f'Median survival time with Treatment 1: {kmf.median_} months')\n",
    "\n",
    "kmf.fit(durations[~treatment],events[~treatment],label=\"Treatment 0\")\n",
    "kmf.plot(ax=ax)\n",
    "print(f'Median survival time with Treatment 0: {kmf.median_} months')\n",
    "\n",
    "plt.ylim(0, 1);\n",
    "plt.title(\"Survival Times for Leukemia Treatments\");"
   ]
  },
  {
   "cell_type": "markdown",
   "metadata": {},
   "source": [
    "# Cox Proportional Hazards Model -- Survival Regression"
   ]
  },
  {
   "cell_type": "code",
   "execution_count": null,
   "metadata": {},
   "outputs": [],
   "source": []
  }
 ],
 "metadata": {
  "kernelspec": {
   "display_name": "Python 3",
   "language": "python",
   "name": "python3"
  },
  "language_info": {
   "codemirror_mode": {
    "name": "ipython",
    "version": 3
   },
   "file_extension": ".py",
   "mimetype": "text/x-python",
   "name": "python",
   "nbconvert_exporter": "python",
   "pygments_lexer": "ipython3",
   "version": "3.6.6"
  }
 },
 "nbformat": 4,
 "nbformat_minor": 2
}
